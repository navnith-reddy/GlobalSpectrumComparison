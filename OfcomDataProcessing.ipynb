{
 "cells": [
  {
   "cell_type": "markdown",
   "metadata": {},
   "source": [
    "# Filtering Ofcom Wireless Telegraphy Register\n",
    "\n",
    "The Wireless Telegraphy Register (WTR) is a publicly available database containing all of the UK's licencing information. The WTR contains information such as licence number, issue date, coordinates and licence holder among many others. The scope of the WTR is much larger than is required to visualise released spectrum in for Wireless Broad Access and will require extensive filtering and conditional formatting.\n",
    "\n",
    "The WTR contains every licence, over all of the UK's spectrum. Filters must be developed to isolate mid-band licences used exclusively for WBA and must exclude extraneous information such as antenna specifications and device location.\n",
    "\n",
    "## WTR Complications\n",
    "\n",
    "This notebook will not compile with the source WTR.csv file which is available on the Ofcom website. In order to compile this notebook on a local machine, be sure to download the source data and place it in the project folder.\n",
    "\n",
    "Unlike the RRL, the required data exists in a single CSV file, however, there aren't any Ofcom classifications for WBA licences which means that filter criteria need developed very carefully to ensure all non-WBA licences are excluded.\n",
    "\n",
    "> After further investigating, the WTR does not contain complete information of the UKs WBA allocation. The appropriate information can be found in UK Spectrum Map table."
   ]
  },
  {
   "cell_type": "code",
   "execution_count": 69,
   "metadata": {},
   "outputs": [
    {
     "data": {
      "text/html": [
       "<div>\n",
       "<style scoped>\n",
       "    .dataframe tbody tr th:only-of-type {\n",
       "        vertical-align: middle;\n",
       "    }\n",
       "\n",
       "    .dataframe tbody tr th {\n",
       "        vertical-align: top;\n",
       "    }\n",
       "\n",
       "    .dataframe thead th {\n",
       "        text-align: right;\n",
       "    }\n",
       "</style>\n",
       "<table border=\"1\" class=\"dataframe\">\n",
       "  <thead>\n",
       "    <tr style=\"text-align: right;\">\n",
       "      <th></th>\n",
       "      <th>LICENCE_NO</th>\n",
       "      <th>FREQUENCY</th>\n",
       "      <th>STATION_TYPE</th>\n",
       "      <th>BW</th>\n",
       "      <th>CATEGORY</th>\n",
       "    </tr>\n",
       "  </thead>\n",
       "  <tbody>\n",
       "    <tr>\n",
       "      <th>0</th>\n",
       "      <td>0926980/1</td>\n",
       "      <td>1164.0</td>\n",
       "      <td>T</td>\n",
       "      <td>NaN</td>\n",
       "      <td>GNSS Repeater</td>\n",
       "    </tr>\n",
       "    <tr>\n",
       "      <th>1</th>\n",
       "      <td>0926980/1</td>\n",
       "      <td>1164.0</td>\n",
       "      <td>T</td>\n",
       "      <td>NaN</td>\n",
       "      <td>GNSS Repeater</td>\n",
       "    </tr>\n",
       "    <tr>\n",
       "      <th>2</th>\n",
       "      <td>0926980/1</td>\n",
       "      <td>1164.0</td>\n",
       "      <td>T</td>\n",
       "      <td>NaN</td>\n",
       "      <td>GNSS Repeater</td>\n",
       "    </tr>\n",
       "    <tr>\n",
       "      <th>3</th>\n",
       "      <td>0929062/1</td>\n",
       "      <td>1164.0</td>\n",
       "      <td>T</td>\n",
       "      <td>NaN</td>\n",
       "      <td>GNSS Repeater</td>\n",
       "    </tr>\n",
       "    <tr>\n",
       "      <th>4</th>\n",
       "      <td>0929080/1</td>\n",
       "      <td>1164.0</td>\n",
       "      <td>T</td>\n",
       "      <td>NaN</td>\n",
       "      <td>GNSS Repeater</td>\n",
       "    </tr>\n",
       "    <tr>\n",
       "      <th>...</th>\n",
       "      <td>...</td>\n",
       "      <td>...</td>\n",
       "      <td>...</td>\n",
       "      <td>...</td>\n",
       "      <td>...</td>\n",
       "    </tr>\n",
       "    <tr>\n",
       "      <th>8716</th>\n",
       "      <td>1245331/3</td>\n",
       "      <td>6980.0</td>\n",
       "      <td>R</td>\n",
       "      <td>30.0</td>\n",
       "      <td>Fixed Links</td>\n",
       "    </tr>\n",
       "    <tr>\n",
       "      <th>8717</th>\n",
       "      <td>1256067/1</td>\n",
       "      <td>6980.0</td>\n",
       "      <td>R</td>\n",
       "      <td>30.0</td>\n",
       "      <td>Fixed Links</td>\n",
       "    </tr>\n",
       "    <tr>\n",
       "      <th>8718</th>\n",
       "      <td>1256067/1</td>\n",
       "      <td>6980.0</td>\n",
       "      <td>T</td>\n",
       "      <td>30.0</td>\n",
       "      <td>Fixed Links</td>\n",
       "    </tr>\n",
       "    <tr>\n",
       "      <th>8719</th>\n",
       "      <td>1270272/1</td>\n",
       "      <td>6980.0</td>\n",
       "      <td>R</td>\n",
       "      <td>30.0</td>\n",
       "      <td>Fixed Links</td>\n",
       "    </tr>\n",
       "    <tr>\n",
       "      <th>8720</th>\n",
       "      <td>1270272/1</td>\n",
       "      <td>6980.0</td>\n",
       "      <td>T</td>\n",
       "      <td>30.0</td>\n",
       "      <td>Fixed Links</td>\n",
       "    </tr>\n",
       "  </tbody>\n",
       "</table>\n",
       "<p>8721 rows × 5 columns</p>\n",
       "</div>"
      ],
      "text/plain": [
       "     LICENCE_NO  FREQUENCY STATION_TYPE    BW       CATEGORY\n",
       "0     0926980/1     1164.0            T   NaN  GNSS Repeater\n",
       "1     0926980/1     1164.0            T   NaN  GNSS Repeater\n",
       "2     0926980/1     1164.0            T   NaN  GNSS Repeater\n",
       "3     0929062/1     1164.0            T   NaN  GNSS Repeater\n",
       "4     0929080/1     1164.0            T   NaN  GNSS Repeater\n",
       "...         ...        ...          ...   ...            ...\n",
       "8716  1245331/3     6980.0            R  30.0    Fixed Links\n",
       "8717  1256067/1     6980.0            R  30.0    Fixed Links\n",
       "8718  1256067/1     6980.0            T  30.0    Fixed Links\n",
       "8719  1270272/1     6980.0            R  30.0    Fixed Links\n",
       "8720  1270272/1     6980.0            T  30.0    Fixed Links\n",
       "\n",
       "[8721 rows x 5 columns]"
      ]
     },
     "execution_count": 69,
     "metadata": {},
     "output_type": "execute_result"
    }
   ],
   "source": [
    "import pandas as pd\n",
    "import numpy as np\n",
    "\n",
    "wtr = pd.read_csv('WTR.csv')\n",
    "\n",
    "# Remove unnecessary columns\n",
    "wtr = wtr[['Licence Number', \n",
    "    'Frequency (Hz)', \n",
    "    'Station Type', \n",
    "    'Channel Width (Hz)', \n",
    "    'Product Description']]\n",
    "\n",
    "# Convert Hz to MHz\n",
    "wtr['Frequency (Hz)'] = (wtr['Frequency (Hz)'] / 1000000).round(5)\n",
    "wtr['Channel Width (Hz)'] = (wtr['Channel Width (Hz)'] / 1000000).round(5)\n",
    "\n",
    "# Change column names\n",
    "wtr.rename(columns={'Frequency (Hz)' : 'FREQUENCY',\n",
    "    'Channel Width (Hz)' : 'BW',\n",
    "    'Licence Number' : 'LICENCE_NO',\n",
    "    'Station Type' : 'STATION_TYPE',\n",
    "    'Product Description' : 'CATEGORY'}, inplace=True)\n",
    "\n",
    "# Isolate mid-band frequencies\n",
    "wtr = wtr[wtr['FREQUENCY'] < 7000]\n",
    "wtr = wtr[wtr['FREQUENCY'] > 700]\n",
    "wtr.sort_values(by=['FREQUENCY','LICENCE_NO'], inplace=True)\n",
    "wtr.reset_index(drop=True, inplace=True)\n",
    "\n",
    "# Save dataset to CSV\n",
    "wtr.to_csv('Ofcom Datasets/spectrumLicences.csv', index=False)\n",
    "wtr"
   ]
  },
  {
   "cell_type": "markdown",
   "metadata": {},
   "source": [
    "## UK Spectrum Map Dataset\n",
    "\n",
    "Ofcom provides a spectrum map on their website which has access to a database of spectrum licences which include WBA licences that are not found in the WTR. The spectrum source data has been downloaded but requires filtering to remove all licences which are not WBA.\n",
    "\n",
    "> NOTE: There are two WBA licence categories in the spectrum map, 'Mobile and Wireless Broadband' (capital B) has been excluded due extensive overlap.\n",
    "\n",
    "### Acquiring Spectrum Map Source Data\n",
    "\n",
    "The Spectrum Map source can be found at:\n",
    "\n",
    "http://static.ofcom.org.uk/static/spectrum/map.html\n",
    "\n",
    "Scroll down to the bottom left of the page and click on the 'Download Source Data' prompt. The page will then load a JSON file containing all relevant licences. Be sure to remove the 'terms_of_use' and 'date_updated' attributes so that JSON to CSV conversion will not be negatively impacted.\n",
    "\n",
    "The resulting JSON file can be converted to CSV at:\n",
    "\n",
    "https://www.convertcsv.com/json-to-csv.htm\n",
    "\n",
    "Be sure to name the resulting csv file 'spectrumMap.csv' and place it in the project folder. Failing to do so will prevent the notebook from compiling correctly."
   ]
  },
  {
   "cell_type": "code",
   "execution_count": 89,
   "metadata": {},
   "outputs": [
    {
     "data": {
      "text/html": [
       "<div>\n",
       "<style scoped>\n",
       "    .dataframe tbody tr th:only-of-type {\n",
       "        vertical-align: middle;\n",
       "    }\n",
       "\n",
       "    .dataframe tbody tr th {\n",
       "        vertical-align: top;\n",
       "    }\n",
       "\n",
       "    .dataframe thead th {\n",
       "        text-align: right;\n",
       "    }\n",
       "</style>\n",
       "<table border=\"1\" class=\"dataframe\">\n",
       "  <thead>\n",
       "    <tr style=\"text-align: right;\">\n",
       "      <th></th>\n",
       "      <th>bands/lf</th>\n",
       "      <th>bands/uf</th>\n",
       "      <th>bands/s</th>\n",
       "      <th>bands/u</th>\n",
       "      <th>bands/v</th>\n",
       "      <th>bw</th>\n",
       "      <th>range</th>\n",
       "      <th>GHz</th>\n",
       "    </tr>\n",
       "  </thead>\n",
       "  <tbody>\n",
       "    <tr>\n",
       "      <th>0</th>\n",
       "      <td>703.0</td>\n",
       "      <td>713.0</td>\n",
       "      <td>Mobile and Wireless broadband</td>\n",
       "      <td>Spectrum Access Telefonica (Uplink)</td>\n",
       "      <td>1</td>\n",
       "      <td>10.0</td>\n",
       "      <td>700.0</td>\n",
       "      <td>1.0</td>\n",
       "    </tr>\n",
       "    <tr>\n",
       "      <th>1</th>\n",
       "      <td>713.0</td>\n",
       "      <td>723.0</td>\n",
       "      <td>Mobile and Wireless broadband</td>\n",
       "      <td>Spectrum Access Hutchison 3G (Uplink)</td>\n",
       "      <td>1</td>\n",
       "      <td>10.0</td>\n",
       "      <td>700.0</td>\n",
       "      <td>1.0</td>\n",
       "    </tr>\n",
       "    <tr>\n",
       "      <th>2</th>\n",
       "      <td>723.0</td>\n",
       "      <td>733.0</td>\n",
       "      <td>Mobile and Wireless broadband</td>\n",
       "      <td>Spectrum Access EE (Uplink)</td>\n",
       "      <td>1</td>\n",
       "      <td>10.0</td>\n",
       "      <td>700.0</td>\n",
       "      <td>1.0</td>\n",
       "    </tr>\n",
       "    <tr>\n",
       "      <th>3</th>\n",
       "      <td>758.0</td>\n",
       "      <td>768.0</td>\n",
       "      <td>Mobile and Wireless broadband</td>\n",
       "      <td>Spectrum Access Telefonica (Downlink)</td>\n",
       "      <td>1</td>\n",
       "      <td>10.0</td>\n",
       "      <td>700.0</td>\n",
       "      <td>1.0</td>\n",
       "    </tr>\n",
       "    <tr>\n",
       "      <th>4</th>\n",
       "      <td>778.0</td>\n",
       "      <td>788.0</td>\n",
       "      <td>Mobile and Wireless broadband</td>\n",
       "      <td>Spectrum Access EE (Downlink)</td>\n",
       "      <td>1</td>\n",
       "      <td>10.0</td>\n",
       "      <td>700.0</td>\n",
       "      <td>1.0</td>\n",
       "    </tr>\n",
       "    <tr>\n",
       "      <th>...</th>\n",
       "      <td>...</td>\n",
       "      <td>...</td>\n",
       "      <td>...</td>\n",
       "      <td>...</td>\n",
       "      <td>...</td>\n",
       "      <td>...</td>\n",
       "      <td>...</td>\n",
       "      <td>...</td>\n",
       "    </tr>\n",
       "    <tr>\n",
       "      <th>75</th>\n",
       "      <td>3760.0</td>\n",
       "      <td>3800.0</td>\n",
       "      <td>Mobile and Wireless broadband</td>\n",
       "      <td>Spectrum Access Telefonica</td>\n",
       "      <td>1</td>\n",
       "      <td>40.0</td>\n",
       "      <td>3700.0</td>\n",
       "      <td>4.0</td>\n",
       "    </tr>\n",
       "    <tr>\n",
       "      <th>76</th>\n",
       "      <td>3800.0</td>\n",
       "      <td>4200.0</td>\n",
       "      <td>Mobile and Wireless broadband</td>\n",
       "      <td>Shared Access (Low Power)</td>\n",
       "      <td>1</td>\n",
       "      <td>400.0</td>\n",
       "      <td>3800.0</td>\n",
       "      <td>4.0</td>\n",
       "    </tr>\n",
       "    <tr>\n",
       "      <th>77</th>\n",
       "      <td>3800.0</td>\n",
       "      <td>4200.0</td>\n",
       "      <td>Mobile and Wireless broadband</td>\n",
       "      <td>Shared Access (Medium Power)</td>\n",
       "      <td>1</td>\n",
       "      <td>400.0</td>\n",
       "      <td>3800.0</td>\n",
       "      <td>4.0</td>\n",
       "    </tr>\n",
       "    <tr>\n",
       "      <th>78</th>\n",
       "      <td>3925.0</td>\n",
       "      <td>4009.0</td>\n",
       "      <td>Mobile and Wireless broadband</td>\n",
       "      <td>Spectrum Access UK Broadband</td>\n",
       "      <td>1</td>\n",
       "      <td>84.0</td>\n",
       "      <td>3900.0</td>\n",
       "      <td>4.0</td>\n",
       "    </tr>\n",
       "    <tr>\n",
       "      <th>79</th>\n",
       "      <td>5725.0</td>\n",
       "      <td>5850.0</td>\n",
       "      <td>Mobile and Wireless broadband</td>\n",
       "      <td>Fixed Wireless Access (5.8 GHz band)</td>\n",
       "      <td>1</td>\n",
       "      <td>125.0</td>\n",
       "      <td>5700.0</td>\n",
       "      <td>6.0</td>\n",
       "    </tr>\n",
       "  </tbody>\n",
       "</table>\n",
       "<p>80 rows × 8 columns</p>\n",
       "</div>"
      ],
      "text/plain": [
       "    bands/lf  bands/uf                        bands/s  \\\n",
       "0      703.0     713.0  Mobile and Wireless broadband   \n",
       "1      713.0     723.0  Mobile and Wireless broadband   \n",
       "2      723.0     733.0  Mobile and Wireless broadband   \n",
       "3      758.0     768.0  Mobile and Wireless broadband   \n",
       "4      778.0     788.0  Mobile and Wireless broadband   \n",
       "..       ...       ...                            ...   \n",
       "75    3760.0    3800.0  Mobile and Wireless broadband   \n",
       "76    3800.0    4200.0  Mobile and Wireless broadband   \n",
       "77    3800.0    4200.0  Mobile and Wireless broadband   \n",
       "78    3925.0    4009.0  Mobile and Wireless broadband   \n",
       "79    5725.0    5850.0  Mobile and Wireless broadband   \n",
       "\n",
       "                                  bands/u  bands/v     bw   range  GHz  \n",
       "0     Spectrum Access Telefonica (Uplink)        1   10.0   700.0  1.0  \n",
       "1   Spectrum Access Hutchison 3G (Uplink)        1   10.0   700.0  1.0  \n",
       "2             Spectrum Access EE (Uplink)        1   10.0   700.0  1.0  \n",
       "3   Spectrum Access Telefonica (Downlink)        1   10.0   700.0  1.0  \n",
       "4           Spectrum Access EE (Downlink)        1   10.0   700.0  1.0  \n",
       "..                                    ...      ...    ...     ...  ...  \n",
       "75             Spectrum Access Telefonica        1   40.0  3700.0  4.0  \n",
       "76              Shared Access (Low Power)        1  400.0  3800.0  4.0  \n",
       "77           Shared Access (Medium Power)        1  400.0  3800.0  4.0  \n",
       "78           Spectrum Access UK Broadband        1   84.0  3900.0  4.0  \n",
       "79   Fixed Wireless Access (5.8 GHz band)        1  125.0  5700.0  6.0  \n",
       "\n",
       "[80 rows x 8 columns]"
      ]
     },
     "execution_count": 89,
     "metadata": {},
     "output_type": "execute_result"
    }
   ],
   "source": [
    "import numpy as np\n",
    "\n",
    "spectrumMap = pd.read_csv('spectrumMap.csv')\n",
    "\n",
    "# Isolate wireless broadband entries\n",
    "spectrumMap = spectrumMap[spectrumMap['bands/s'] == 'Mobile and Wireless broadband']\n",
    "spectrumMap = spectrumMap[spectrumMap['bands/s'] == 'Mobile and Wireless broadband']\n",
    "\n",
    "# Convert Hz to MHz\n",
    "spectrumMap['bands/lf'] = (spectrumMap['bands/lf'] / 1000000).round(5)\n",
    "spectrumMap['bands/uf'] = (spectrumMap['bands/uf'] / 1000000).round(5)\n",
    "spectrumMap['bw'] = spectrumMap['bands/uf'] - spectrumMap['bands/lf']\n",
    "\n",
    "# Isolate midband licences\n",
    "spectrumMap = spectrumMap[spectrumMap['bands/lf'] <= 7000]\n",
    "spectrumMap = spectrumMap[spectrumMap['bands/lf'] >= 700]\n",
    "\n",
    "# Create 100 MHz categories + GHz classifications\n",
    "spectrumMap['range'] = (np.trunc((spectrumMap['bands/lf'] / 100))*100)\n",
    "spectrumMap['GHz'] = (spectrumMap['range'] / 1000).round()\n",
    "\n",
    "# Create freq range column\n",
    "# spectrumMap['freq_range'] = str(spectrumMap['bands/lf']) + str(spectrumMap['bands/uf'])\n",
    "\n",
    "spectrumMap.sort_values(by=['bands/lf'])\n",
    "spectrumMap.reset_index(drop=True, inplace=True)\n",
    "spectrumMap.to_csv('Ofcom Datasets/spectrumMap.csv')\n",
    "spectrumMap"
   ]
  },
  {
   "cell_type": "markdown",
   "metadata": {},
   "source": [
    "### Unallocated function\n",
    "\n",
    "While the data in the tables are useful, it often doesn't easily represent the utilisation of certain frequency ranges. It is up to the viewer to infer whether or not spectrum is being used for WBA therefore, it is important to calculate an figure for the amount of spectrum that is unallocated for a given dataset."
   ]
  },
  {
   "cell_type": "code",
   "execution_count": 81,
   "metadata": {},
   "outputs": [
    {
     "data": {
      "text/html": [
       "<div>\n",
       "<style scoped>\n",
       "    .dataframe tbody tr th:only-of-type {\n",
       "        vertical-align: middle;\n",
       "    }\n",
       "\n",
       "    .dataframe tbody tr th {\n",
       "        vertical-align: top;\n",
       "    }\n",
       "\n",
       "    .dataframe thead th {\n",
       "        text-align: right;\n",
       "    }\n",
       "</style>\n",
       "<table border=\"1\" class=\"dataframe\">\n",
       "  <thead>\n",
       "    <tr style=\"text-align: right;\">\n",
       "      <th></th>\n",
       "      <th>bands/lf</th>\n",
       "      <th>bands/uf</th>\n",
       "      <th>bands/s</th>\n",
       "      <th>bands/u</th>\n",
       "      <th>bands/v</th>\n",
       "      <th>bw</th>\n",
       "      <th>range</th>\n",
       "    </tr>\n",
       "  </thead>\n",
       "  <tbody>\n",
       "    <tr>\n",
       "      <th>0</th>\n",
       "      <td>Unallocated</td>\n",
       "      <td>NaN</td>\n",
       "      <td>Unallocated</td>\n",
       "      <td>Unallocated</td>\n",
       "      <td>NaN</td>\n",
       "      <td>100.0</td>\n",
       "      <td>0.0</td>\n",
       "    </tr>\n",
       "    <tr>\n",
       "      <th>1</th>\n",
       "      <td>Unallocated</td>\n",
       "      <td>NaN</td>\n",
       "      <td>Unallocated</td>\n",
       "      <td>Unallocated</td>\n",
       "      <td>NaN</td>\n",
       "      <td>100.0</td>\n",
       "      <td>100.0</td>\n",
       "    </tr>\n",
       "    <tr>\n",
       "      <th>2</th>\n",
       "      <td>Unallocated</td>\n",
       "      <td>NaN</td>\n",
       "      <td>Unallocated</td>\n",
       "      <td>Unallocated</td>\n",
       "      <td>NaN</td>\n",
       "      <td>100.0</td>\n",
       "      <td>200.0</td>\n",
       "    </tr>\n",
       "    <tr>\n",
       "      <th>3</th>\n",
       "      <td>Unallocated</td>\n",
       "      <td>NaN</td>\n",
       "      <td>Unallocated</td>\n",
       "      <td>Unallocated</td>\n",
       "      <td>NaN</td>\n",
       "      <td>100.0</td>\n",
       "      <td>300.0</td>\n",
       "    </tr>\n",
       "    <tr>\n",
       "      <th>4</th>\n",
       "      <td>Unallocated</td>\n",
       "      <td>NaN</td>\n",
       "      <td>Unallocated</td>\n",
       "      <td>Unallocated</td>\n",
       "      <td>NaN</td>\n",
       "      <td>100.0</td>\n",
       "      <td>400.0</td>\n",
       "    </tr>\n",
       "    <tr>\n",
       "      <th>...</th>\n",
       "      <td>...</td>\n",
       "      <td>...</td>\n",
       "      <td>...</td>\n",
       "      <td>...</td>\n",
       "      <td>...</td>\n",
       "      <td>...</td>\n",
       "      <td>...</td>\n",
       "    </tr>\n",
       "    <tr>\n",
       "      <th>146</th>\n",
       "      <td>Unallocated</td>\n",
       "      <td>NaN</td>\n",
       "      <td>Unallocated</td>\n",
       "      <td>Unallocated</td>\n",
       "      <td>NaN</td>\n",
       "      <td>100.0</td>\n",
       "      <td>6600.0</td>\n",
       "    </tr>\n",
       "    <tr>\n",
       "      <th>147</th>\n",
       "      <td>Unallocated</td>\n",
       "      <td>NaN</td>\n",
       "      <td>Unallocated</td>\n",
       "      <td>Unallocated</td>\n",
       "      <td>NaN</td>\n",
       "      <td>100.0</td>\n",
       "      <td>6700.0</td>\n",
       "    </tr>\n",
       "    <tr>\n",
       "      <th>148</th>\n",
       "      <td>Unallocated</td>\n",
       "      <td>NaN</td>\n",
       "      <td>Unallocated</td>\n",
       "      <td>Unallocated</td>\n",
       "      <td>NaN</td>\n",
       "      <td>100.0</td>\n",
       "      <td>6800.0</td>\n",
       "    </tr>\n",
       "    <tr>\n",
       "      <th>149</th>\n",
       "      <td>Unallocated</td>\n",
       "      <td>NaN</td>\n",
       "      <td>Unallocated</td>\n",
       "      <td>Unallocated</td>\n",
       "      <td>NaN</td>\n",
       "      <td>100.0</td>\n",
       "      <td>6900.0</td>\n",
       "    </tr>\n",
       "    <tr>\n",
       "      <th>150</th>\n",
       "      <td>Unallocated</td>\n",
       "      <td>NaN</td>\n",
       "      <td>Unallocated</td>\n",
       "      <td>Unallocated</td>\n",
       "      <td>NaN</td>\n",
       "      <td>100.0</td>\n",
       "      <td>7000.0</td>\n",
       "    </tr>\n",
       "  </tbody>\n",
       "</table>\n",
       "<p>151 rows × 7 columns</p>\n",
       "</div>"
      ],
      "text/plain": [
       "        bands/lf bands/uf      bands/s      bands/u bands/v     bw   range\n",
       "0    Unallocated      NaN  Unallocated  Unallocated     NaN  100.0     0.0\n",
       "1    Unallocated      NaN  Unallocated  Unallocated     NaN  100.0   100.0\n",
       "2    Unallocated      NaN  Unallocated  Unallocated     NaN  100.0   200.0\n",
       "3    Unallocated      NaN  Unallocated  Unallocated     NaN  100.0   300.0\n",
       "4    Unallocated      NaN  Unallocated  Unallocated     NaN  100.0   400.0\n",
       "..           ...      ...          ...          ...     ...    ...     ...\n",
       "146  Unallocated      NaN  Unallocated  Unallocated     NaN  100.0  6600.0\n",
       "147  Unallocated      NaN  Unallocated  Unallocated     NaN  100.0  6700.0\n",
       "148  Unallocated      NaN  Unallocated  Unallocated     NaN  100.0  6800.0\n",
       "149  Unallocated      NaN  Unallocated  Unallocated     NaN  100.0  6900.0\n",
       "150  Unallocated      NaN  Unallocated  Unallocated     NaN  100.0  7000.0\n",
       "\n",
       "[151 rows x 7 columns]"
      ]
     },
     "execution_count": 81,
     "metadata": {},
     "output_type": "execute_result"
    }
   ],
   "source": [
    "# Unallocated requires a very specific dataset.\n",
    "# Columns must contain: lower freq, higher freq, bw, range\n",
    "# This function will adhere to column names for the UK Spectrum map dataset\n",
    "def calculateUnallocated (dataset, i):\n",
    "    # Select a single frequency graduation\n",
    "    graduated = dataset[dataset['range'] == i]\n",
    "\n",
    "    # Calculate sum\n",
    "    sum = graduated.sum(axis=0).to_frame().T\n",
    "    graduated = pd.concat([graduated, sum])\n",
    "\n",
    "    # Remove junk values\n",
    "    graduated.iloc[-1, graduated.columns.get_loc('bands/lf')] = np.nan\n",
    "    graduated.iloc[-1, graduated.columns.get_loc('bands/uf')] = np.nan\n",
    "    graduated.iloc[-1, graduated.columns.get_loc('bands/v')] = np.nan\n",
    "    graduated.iloc[-1, graduated.columns.get_loc('bands/u')] = np.nan\n",
    "    graduated.iloc[-1, graduated.columns.get_loc('range')] = np.nan\n",
    "\n",
    "    # Calculate unallocated spectrum from usage\n",
    "    usageBW = graduated.iloc[-1, graduated.columns.get_loc('bw')]\n",
    "    freeBW = 100 - usageBW\n",
    "    if freeBW < 0:\n",
    "        freeBW = 0 \n",
    "    graduated.iloc[-1, graduated.columns.get_loc('bw')] = freeBW\n",
    "\n",
    "    # Update classification and range\n",
    "    graduated.iloc[-1, graduated.columns.get_loc('bands/s')] = 'Unallocated'\n",
    "    graduated.iloc[-1, graduated.columns.get_loc('bands/u')] = 'Unallocated'\n",
    "    graduated.iloc[-1, graduated.columns.get_loc('bands/lf')] = 'Unallocated'\n",
    "    graduated.iloc[-1, graduated.columns.get_loc('range')] = float(i)\n",
    "\n",
    "    return graduated\n",
    "\n",
    "def unallocated (dataset):\n",
    "\n",
    "    # Loop through frequency graduations (100 MHz)\n",
    "    # between 0 - 7000 MHz\n",
    "    for i in range(0, 7100, 100):\n",
    "\n",
    "        if i == 0:\n",
    "            \n",
    "            usage = calculateUnallocated(dataset, i)\n",
    "        \n",
    "        else:\n",
    "\n",
    "            nextUsage = calculateUnallocated (dataset, i)\n",
    "            usage = pd.concat([usage, nextUsage])\n",
    "\n",
    "    # Reset index and save dataset\n",
    "    usage.reset_index(drop=True, inplace=True)  \n",
    "    usage.to_csv('Ofcom Datasets/UKSpecMapUsage.csv')     \n",
    "    return usage\n",
    "\n",
    "UKSpectrumMap = unallocated(spectrumMap)\n",
    "UKSpectrumMap\n",
    "\n",
    "        "
   ]
  },
  {
   "cell_type": "markdown",
   "metadata": {},
   "source": [
    "## User Generated Dataframe\n",
    "\n",
    "There is a user generated dataset containing 100 MHz frequency summaries for mid-band wireless broadband licences below 5 GHz.\n",
    "\n",
    "> NOTE: Using the transpose functions breaks indexing, ignore strange index name"
   ]
  },
  {
   "cell_type": "code",
   "execution_count": 72,
   "metadata": {},
   "outputs": [
    {
     "name": "stderr",
     "output_type": "stream",
     "text": [
      "C:\\Users\\Nav\\AppData\\Local\\Temp\\ipykernel_11908\\1481661842.py:17: SettingWithCopyWarning:\n",
      "\n",
      "\n",
      "A value is trying to be set on a copy of a slice from a DataFrame.\n",
      "Try using .loc[row_indexer,col_indexer] = value instead\n",
      "\n",
      "See the caveats in the documentation: https://pandas.pydata.org/pandas-docs/stable/user_guide/indexing.html#returning-a-view-versus-a-copy\n",
      "\n",
      "C:\\Users\\Nav\\AppData\\Local\\Temp\\ipykernel_11908\\1481661842.py:18: SettingWithCopyWarning:\n",
      "\n",
      "\n",
      "A value is trying to be set on a copy of a slice from a DataFrame\n",
      "\n",
      "See the caveats in the documentation: https://pandas.pydata.org/pandas-docs/stable/user_guide/indexing.html#returning-a-view-versus-a-copy\n",
      "\n",
      "C:\\Users\\Nav\\AppData\\Local\\Temp\\ipykernel_11908\\1481661842.py:21: SettingWithCopyWarning:\n",
      "\n",
      "\n",
      "A value is trying to be set on a copy of a slice from a DataFrame.\n",
      "Try using .loc[row_indexer,col_indexer] = value instead\n",
      "\n",
      "See the caveats in the documentation: https://pandas.pydata.org/pandas-docs/stable/user_guide/indexing.html#returning-a-view-versus-a-copy\n",
      "\n",
      "C:\\Users\\Nav\\AppData\\Local\\Temp\\ipykernel_11908\\1481661842.py:22: SettingWithCopyWarning:\n",
      "\n",
      "\n",
      "A value is trying to be set on a copy of a slice from a DataFrame\n",
      "\n",
      "See the caveats in the documentation: https://pandas.pydata.org/pandas-docs/stable/user_guide/indexing.html#returning-a-view-versus-a-copy\n",
      "\n",
      "C:\\Users\\Nav\\AppData\\Local\\Temp\\ipykernel_11908\\1481661842.py:25: SettingWithCopyWarning:\n",
      "\n",
      "\n",
      "A value is trying to be set on a copy of a slice from a DataFrame.\n",
      "Try using .loc[row_indexer,col_indexer] = value instead\n",
      "\n",
      "See the caveats in the documentation: https://pandas.pydata.org/pandas-docs/stable/user_guide/indexing.html#returning-a-view-versus-a-copy\n",
      "\n",
      "C:\\Users\\Nav\\AppData\\Local\\Temp\\ipykernel_11908\\1481661842.py:26: SettingWithCopyWarning:\n",
      "\n",
      "\n",
      "A value is trying to be set on a copy of a slice from a DataFrame\n",
      "\n",
      "See the caveats in the documentation: https://pandas.pydata.org/pandas-docs/stable/user_guide/indexing.html#returning-a-view-versus-a-copy\n",
      "\n",
      "C:\\Users\\Nav\\AppData\\Local\\Temp\\ipykernel_11908\\1481661842.py:33: SettingWithCopyWarning:\n",
      "\n",
      "\n",
      "A value is trying to be set on a copy of a slice from a DataFrame.\n",
      "Try using .loc[row_indexer,col_indexer] = value instead\n",
      "\n",
      "See the caveats in the documentation: https://pandas.pydata.org/pandas-docs/stable/user_guide/indexing.html#returning-a-view-versus-a-copy\n",
      "\n",
      "C:\\Users\\Nav\\AppData\\Local\\Temp\\ipykernel_11908\\1481661842.py:34: SettingWithCopyWarning:\n",
      "\n",
      "\n",
      "A value is trying to be set on a copy of a slice from a DataFrame.\n",
      "Try using .loc[row_indexer,col_indexer] = value instead\n",
      "\n",
      "See the caveats in the documentation: https://pandas.pydata.org/pandas-docs/stable/user_guide/indexing.html#returning-a-view-versus-a-copy\n",
      "\n",
      "C:\\Users\\Nav\\AppData\\Local\\Temp\\ipykernel_11908\\1481661842.py:35: SettingWithCopyWarning:\n",
      "\n",
      "\n",
      "A value is trying to be set on a copy of a slice from a DataFrame\n",
      "\n",
      "See the caveats in the documentation: https://pandas.pydata.org/pandas-docs/stable/user_guide/indexing.html#returning-a-view-versus-a-copy\n",
      "\n"
     ]
    },
    {
     "data": {
      "text/html": [
       "<div>\n",
       "<style scoped>\n",
       "    .dataframe tbody tr th:only-of-type {\n",
       "        vertical-align: middle;\n",
       "    }\n",
       "\n",
       "    .dataframe tbody tr th {\n",
       "        vertical-align: top;\n",
       "    }\n",
       "\n",
       "    .dataframe thead th {\n",
       "        text-align: right;\n",
       "    }\n",
       "</style>\n",
       "<table border=\"1\" class=\"dataframe\">\n",
       "  <thead>\n",
       "    <tr style=\"text-align: right;\">\n",
       "      <th>Frequency</th>\n",
       "      <th>FREQUENCY</th>\n",
       "      <th>BW</th>\n",
       "      <th>Licences</th>\n",
       "      <th>TYPE</th>\n",
       "    </tr>\n",
       "  </thead>\n",
       "  <tbody>\n",
       "    <tr>\n",
       "      <th>0</th>\n",
       "      <td>700</td>\n",
       "      <td>30.0</td>\n",
       "      <td>3.0</td>\n",
       "      <td>UPLINK</td>\n",
       "    </tr>\n",
       "    <tr>\n",
       "      <th>0</th>\n",
       "      <td>700</td>\n",
       "      <td>0.0</td>\n",
       "      <td>0.0</td>\n",
       "      <td>LINK</td>\n",
       "    </tr>\n",
       "    <tr>\n",
       "      <th>0</th>\n",
       "      <td>700</td>\n",
       "      <td>36.0</td>\n",
       "      <td>1.0</td>\n",
       "      <td>UNALLOCATED</td>\n",
       "    </tr>\n",
       "    <tr>\n",
       "      <th>0</th>\n",
       "      <td>700</td>\n",
       "      <td>34.0</td>\n",
       "      <td>5.0</td>\n",
       "      <td>DOWNLINK</td>\n",
       "    </tr>\n",
       "    <tr>\n",
       "      <th>1</th>\n",
       "      <td>800</td>\n",
       "      <td>49.9</td>\n",
       "      <td>7.0</td>\n",
       "      <td>UPLINK</td>\n",
       "    </tr>\n",
       "    <tr>\n",
       "      <th>...</th>\n",
       "      <td>...</td>\n",
       "      <td>...</td>\n",
       "      <td>...</td>\n",
       "      <td>...</td>\n",
       "    </tr>\n",
       "    <tr>\n",
       "      <th>42</th>\n",
       "      <td>4900</td>\n",
       "      <td>NaN</td>\n",
       "      <td>NaN</td>\n",
       "      <td>UPLINK</td>\n",
       "    </tr>\n",
       "    <tr>\n",
       "      <th>43</th>\n",
       "      <td>5000</td>\n",
       "      <td>NaN</td>\n",
       "      <td>NaN</td>\n",
       "      <td>DOWNLINK</td>\n",
       "    </tr>\n",
       "    <tr>\n",
       "      <th>43</th>\n",
       "      <td>5000</td>\n",
       "      <td>NaN</td>\n",
       "      <td>NaN</td>\n",
       "      <td>UPLINK</td>\n",
       "    </tr>\n",
       "    <tr>\n",
       "      <th>43</th>\n",
       "      <td>5000</td>\n",
       "      <td>NaN</td>\n",
       "      <td>NaN</td>\n",
       "      <td>LINK</td>\n",
       "    </tr>\n",
       "    <tr>\n",
       "      <th>43</th>\n",
       "      <td>5000</td>\n",
       "      <td>NaN</td>\n",
       "      <td>1.0</td>\n",
       "      <td>UNALLOCATED</td>\n",
       "    </tr>\n",
       "  </tbody>\n",
       "</table>\n",
       "<p>176 rows × 4 columns</p>\n",
       "</div>"
      ],
      "text/plain": [
       "Frequency  FREQUENCY    BW  Licences         TYPE\n",
       "0                700  30.0       3.0       UPLINK\n",
       "0                700   0.0       0.0         LINK\n",
       "0                700  36.0       1.0  UNALLOCATED\n",
       "0                700  34.0       5.0     DOWNLINK\n",
       "1                800  49.9       7.0       UPLINK\n",
       "..               ...   ...       ...          ...\n",
       "42              4900   NaN       NaN       UPLINK\n",
       "43              5000   NaN       NaN     DOWNLINK\n",
       "43              5000   NaN       NaN       UPLINK\n",
       "43              5000   NaN       NaN         LINK\n",
       "43              5000   NaN       1.0  UNALLOCATED\n",
       "\n",
       "[176 rows x 4 columns]"
      ]
     },
     "execution_count": 72,
     "metadata": {},
     "output_type": "execute_result"
    }
   ],
   "source": [
    "userGen = pd.read_csv('Ofcom Datasets/userGeneratedDataset.csv')\n",
    "userGen = userGen.set_index('Frequency').transpose()\n",
    "userGen.reset_index(inplace=True)\n",
    "\n",
    "# Rename Columns\n",
    "userGen = userGen.rename(columns={'index' : 'FREQUENCY',\n",
    "    'Usage (MHz)' : 'BW', \n",
    "    'Uplink Usage (MHz)' : 'UP_BW',\n",
    "    'Downlink Usage (MHz)' : 'LW_BW',\n",
    "    'Link Usage (MHz)' : 'L_BW'}, inplace=False)\n",
    "\n",
    "#userGen['BW'] = userGen['BW'].fillna(0)\n",
    "userGen['FREE'] = 100 - userGen['BW']\n",
    "\n",
    "# Separate Uplink, Downlink, Total and Free\n",
    "uplink = userGen[['FREQUENCY','UP_BW','Uplinks']]\n",
    "uplink['TYPE'] = 'UPLINK'\n",
    "uplink.rename(columns={'UP_BW':'BW','Uplinks':'Licences'}, inplace=True)\n",
    "\n",
    "downlink = userGen[['FREQUENCY', 'LW_BW', 'Downlinks']]\n",
    "downlink['TYPE'] = 'DOWNLINK'\n",
    "downlink.rename(columns={'LW_BW':'BW','Downlinks':'Licences'}, inplace=True)\n",
    "\n",
    "link = userGen[['FREQUENCY', 'L_BW', 'Links']]\n",
    "link['TYPE'] = 'LINK'\n",
    "link.rename(columns={'L_BW':'BW','Links':'Licences'}, inplace=True)\n",
    "\n",
    "#total = userGen[['FREQUENCY', 'BW', 'Complete Licences']]\n",
    "#total['TYPE'] = 'TOTAL'\n",
    "#total.rename(columns={'Complete Licences':'Licences'}, inplace=True)\n",
    "\n",
    "free = userGen[['FREQUENCY', 'FREE']]\n",
    "free['Licences'] = 1\n",
    "free['TYPE'] = 'UNALLOCATED'\n",
    "free.rename(columns={'FREE':'BW'}, inplace=True)\n",
    "\n",
    "userGenFreq = pd.concat([uplink, downlink, link, free], axis=0)\n",
    "userGenFreq = userGenFreq.astype({'FREQUENCY' : 'int64'})\n",
    "userGenFreq = userGenFreq.sort_values(by=['FREQUENCY'], inplace=False)\n",
    "\n",
    "userGenFreq.to_csv('Ofcom Datasets/userGenFreqList.csv', index=False)\n",
    "userGenFreq"
   ]
  },
  {
   "cell_type": "markdown",
   "metadata": {},
   "source": [
    "# DATA VISUALISATION"
   ]
  },
  {
   "cell_type": "markdown",
   "metadata": {},
   "source": [
    "## User Generated Frequency List"
   ]
  },
  {
   "cell_type": "code",
   "execution_count": 73,
   "metadata": {},
   "outputs": [
    {
     "name": "stderr",
     "output_type": "stream",
     "text": [
      "C:\\Users\\Nav\\AppData\\Local\\Programs\\Python\\Python310\\lib\\site-packages\\plotly\\express\\_core.py:1637: FutureWarning:\n",
      "\n",
      "The frame.append method is deprecated and will be removed from pandas in a future version. Use pandas.concat instead.\n",
      "\n",
      "C:\\Users\\Nav\\AppData\\Local\\Programs\\Python\\Python310\\lib\\site-packages\\plotly\\express\\_core.py:1637: FutureWarning:\n",
      "\n",
      "The frame.append method is deprecated and will be removed from pandas in a future version. Use pandas.concat instead.\n",
      "\n",
      "C:\\Users\\Nav\\AppData\\Local\\Programs\\Python\\Python310\\lib\\site-packages\\plotly\\express\\_core.py:1637: FutureWarning:\n",
      "\n",
      "The frame.append method is deprecated and will be removed from pandas in a future version. Use pandas.concat instead.\n",
      "\n"
     ]
    },
    {
     "data": {
      "application/vnd.plotly.v1+json": {
       "config": {
        "plotlyServerURL": "https://plot.ly"
       },
       "data": [
        {
         "branchvalues": "total",
         "customdata": [
          [
           "UNALLOCATED"
          ],
          [
           "DOWNLINK"
          ],
          [
           "UPLINK"
          ],
          [
           "DOWNLINK"
          ],
          [
           "UNALLOCATED"
          ],
          [
           "DOWNLINK"
          ],
          [
           "LINK"
          ],
          [
           "LINK"
          ],
          [
           "UPLINK"
          ],
          [
           "LINK"
          ],
          [
           "LINK"
          ],
          [
           "LINK"
          ],
          [
           "UPLINK"
          ],
          [
           "UNALLOCATED"
          ],
          [
           "LINK"
          ],
          [
           "UPLINK"
          ],
          [
           "LINK"
          ],
          [
           "UNALLOCATED"
          ],
          [
           "LINK"
          ],
          [
           "LINK"
          ],
          [
           "LINK"
          ],
          [
           "UNALLOCATED"
          ],
          [
           "LINK"
          ],
          [
           "UNALLOCATED"
          ],
          [
           "UPLINK"
          ],
          [
           "UPLINK"
          ],
          [
           "UNALLOCATED"
          ],
          [
           "UNALLOCATED"
          ],
          [
           "UNALLOCATED"
          ],
          [
           "DOWNLINK"
          ],
          [
           "UNALLOCATED"
          ],
          [
           "DOWNLINK"
          ],
          [
           "DOWNLINK"
          ],
          [
           "UPLINK"
          ],
          [
           "DOWNLINK"
          ],
          [
           "DOWNLINK"
          ],
          [
           "DOWNLINK"
          ],
          [
           "UNALLOCATED"
          ],
          [
           "UPLINK"
          ],
          [
           "UPLINK"
          ],
          [
           "UPLINK"
          ],
          [
           "UPLINK"
          ],
          [
           "DOWNLINK"
          ],
          [
           "DOWNLINK"
          ],
          [
           "LINK"
          ],
          [
           "UPLINK"
          ],
          [
           "UNALLOCATED"
          ],
          [
           "LINK"
          ],
          [
           "UPLINK"
          ],
          [
           "LINK"
          ],
          [
           "DOWNLINK"
          ],
          [
           "LINK"
          ],
          [
           "DOWNLINK"
          ],
          [
           "UNALLOCATED"
          ],
          [
           "LINK"
          ],
          [
           "UPLINK"
          ],
          [
           "UNALLOCATED"
          ],
          [
           "DOWNLINK"
          ],
          [
           "UNALLOCATED"
          ],
          [
           "UPLINK"
          ],
          [
           "UNALLOCATED"
          ],
          [
           "DOWNLINK"
          ],
          [
           "UPLINK"
          ],
          [
           "UPLINK"
          ],
          [
           "DOWNLINK"
          ],
          [
           "LINK"
          ],
          [
           "DOWNLINK"
          ],
          [
           "DOWNLINK"
          ],
          [
           "UPLINK"
          ],
          [
           "DOWNLINK"
          ],
          [
           "UPLINK"
          ],
          [
           "UNALLOCATED"
          ],
          [
           "DOWNLINK"
          ],
          [
           "UPLINK"
          ],
          [
           "UNALLOCATED"
          ],
          [
           "DOWNLINK"
          ],
          [
           "DOWNLINK"
          ],
          [
           "LINK"
          ],
          [
           "LINK"
          ],
          [
           "UPLINK"
          ],
          [
           "UNALLOCATED"
          ],
          [
           "LINK"
          ],
          [
           "LINK"
          ],
          [
           "UPLINK"
          ],
          [
           "UNALLOCATED"
          ],
          [
           "LINK"
          ],
          [
           "UNALLOCATED"
          ],
          [
           "UNALLOCATED"
          ],
          [
           "UNALLOCATED"
          ],
          [
           "UNALLOCATED"
          ],
          [
           "UPLINK"
          ],
          [
           "UNALLOCATED"
          ],
          [
           "UPLINK"
          ],
          [
           "UNALLOCATED"
          ],
          [
           "UPLINK"
          ],
          [
           "UNALLOCATED"
          ],
          [
           "UNALLOCATED"
          ],
          [
           "UPLINK"
          ],
          [
           "UNALLOCATED"
          ],
          [
           "UPLINK"
          ],
          [
           "LINK"
          ],
          [
           "UNALLOCATED"
          ],
          [
           "DOWNLINK"
          ],
          [
           "DOWNLINK"
          ],
          [
           "DOWNLINK"
          ],
          [
           "DOWNLINK"
          ],
          [
           "DOWNLINK"
          ],
          [
           "DOWNLINK"
          ],
          [
           "UPLINK"
          ],
          [
           "DOWNLINK"
          ],
          [
           "DOWNLINK"
          ],
          [
           "DOWNLINK"
          ],
          [
           "DOWNLINK"
          ],
          [
           "UPLINK"
          ],
          [
           "DOWNLINK"
          ],
          [
           "UPLINK"
          ],
          [
           "UNALLOCATED"
          ],
          [
           "LINK"
          ],
          [
           "LINK"
          ],
          [
           "UNALLOCATED"
          ],
          [
           "UNALLOCATED"
          ],
          [
           "LINK"
          ],
          [
           "UPLINK"
          ],
          [
           "LINK"
          ],
          [
           "LINK"
          ],
          [
           "LINK"
          ],
          [
           "UPLINK"
          ],
          [
           "LINK"
          ],
          [
           "LINK"
          ],
          [
           "LINK"
          ],
          [
           "LINK"
          ],
          [
           "UPLINK"
          ],
          [
           "UPLINK"
          ],
          [
           "UPLINK"
          ],
          [
           "UPLINK"
          ],
          [
           "UPLINK"
          ],
          [
           "UPLINK"
          ],
          [
           "UPLINK"
          ],
          [
           "UPLINK"
          ],
          [
           "UPLINK"
          ],
          [
           "UPLINK"
          ],
          [
           "DOWNLINK"
          ],
          [
           "UPLINK"
          ],
          [
           "DOWNLINK"
          ],
          [
           "DOWNLINK"
          ],
          [
           "DOWNLINK"
          ],
          [
           "DOWNLINK"
          ],
          [
           "DOWNLINK"
          ],
          [
           "DOWNLINK"
          ],
          [
           "DOWNLINK"
          ],
          [
           "DOWNLINK"
          ],
          [
           "DOWNLINK"
          ],
          [
           "DOWNLINK"
          ],
          [
           "LINK"
          ],
          [
           "LINK"
          ],
          [
           "LINK"
          ],
          [
           "LINK"
          ],
          [
           "LINK"
          ],
          [
           "LINK"
          ],
          [
           "LINK"
          ],
          [
           "UNALLOCATED"
          ],
          [
           "UNALLOCATED"
          ],
          [
           "UNALLOCATED"
          ],
          [
           "UNALLOCATED"
          ],
          [
           "UNALLOCATED"
          ],
          [
           "UNALLOCATED"
          ],
          [
           "UPLINK"
          ],
          [
           "UNALLOCATED"
          ],
          [
           "UNALLOCATED"
          ],
          [
           "UNALLOCATED"
          ],
          [
           "UNALLOCATED"
          ],
          [
           "LINK"
          ],
          [
           "LINK"
          ],
          [
           "LINK"
          ],
          [
           "UNALLOCATED"
          ],
          [
           "LINK"
          ],
          [
           "(?)"
          ],
          [
           "(?)"
          ],
          [
           "(?)"
          ],
          [
           "(?)"
          ],
          [
           "(?)"
          ],
          [
           "(?)"
          ],
          [
           "(?)"
          ],
          [
           "(?)"
          ],
          [
           "(?)"
          ],
          [
           "(?)"
          ],
          [
           "(?)"
          ],
          [
           "(?)"
          ],
          [
           "(?)"
          ],
          [
           "(?)"
          ],
          [
           "(?)"
          ],
          [
           "(?)"
          ],
          [
           "(?)"
          ],
          [
           "(?)"
          ],
          [
           "(?)"
          ],
          [
           "(?)"
          ],
          [
           "(?)"
          ],
          [
           "(?)"
          ],
          [
           "(?)"
          ],
          [
           "(?)"
          ],
          [
           "(?)"
          ],
          [
           "(?)"
          ],
          [
           "(?)"
          ],
          [
           "(?)"
          ],
          [
           "(?)"
          ],
          [
           "(?)"
          ],
          [
           "(?)"
          ],
          [
           "(?)"
          ],
          [
           "(?)"
          ],
          [
           "(?)"
          ],
          [
           "(?)"
          ],
          [
           "(?)"
          ],
          [
           "(?)"
          ],
          [
           "(?)"
          ],
          [
           "(?)"
          ],
          [
           "(?)"
          ],
          [
           "(?)"
          ],
          [
           "(?)"
          ],
          [
           "(?)"
          ],
          [
           "(?)"
          ],
          [
           "(?)"
          ]
         ],
         "domain": {
          "x": [
           0,
           1
          ],
          "y": [
           0,
           1
          ]
         },
         "hovertemplate": "labels=%{label}<br>BW=%{value}<br>parent=%{parent}<br>id=%{id}<br>TYPE=%{customdata[0]}<extra></extra>",
         "ids": [
          "1 - 5GHz/3700/UNALLOCATED",
          "1 - 5GHz/4100/DOWNLINK",
          "1 - 5GHz/1900/UPLINK",
          "1 - 5GHz/4300/DOWNLINK",
          "1 - 5GHz/4200/UNALLOCATED",
          "1 - 5GHz/4900/DOWNLINK",
          "1 - 5GHz/700/LINK",
          "1 - 5GHz/1300/LINK",
          "1 - 5GHz/3600/UPLINK",
          "1 - 5GHz/1700/LINK",
          "1 - 5GHz/2100/LINK",
          "1 - 5GHz/2500/LINK",
          "1 - 5GHz/3300/UPLINK",
          "1 - 5GHz/3100/UNALLOCATED",
          "1 - 5GHz/3000/LINK",
          "1 - 5GHz/1600/UPLINK",
          "1 - 5GHz/3400/LINK",
          "1 - 5GHz/2800/UNALLOCATED",
          "1 - 5GHz/3800/LINK",
          "1 - 5GHz/4200/LINK",
          "1 - 5GHz/4400/LINK",
          "1 - 5GHz/2500/UNALLOCATED",
          "1 - 5GHz/4800/LINK",
          "1 - 5GHz/800/UNALLOCATED",
          "1 - 5GHz/2800/UPLINK",
          "1 - 5GHz/2500/UPLINK",
          "1 - 5GHz/1300/UNALLOCATED",
          "1 - 5GHz/2000/UNALLOCATED",
          "1 - 5GHz/4500/UNALLOCATED",
          "1 - 5GHz/3800/DOWNLINK",
          "1 - 5GHz/1800/UNALLOCATED",
          "1 - 5GHz/2200/DOWNLINK",
          "1 - 5GHz/1700/DOWNLINK",
          "1 - 5GHz/4700/UPLINK",
          "1 - 5GHz/2600/DOWNLINK",
          "1 - 5GHz/1300/DOWNLINK",
          "1 - 5GHz/3100/DOWNLINK",
          "1 - 5GHz/5000/UNALLOCATED",
          "1 - 5GHz/1200/UPLINK",
          "1 - 5GHz/800/UPLINK",
          "1 - 5GHz/4500/UPLINK",
          "1 - 5GHz/4200/UPLINK",
          "1 - 5GHz/1000/DOWNLINK",
          "1 - 5GHz/2800/DOWNLINK",
          "1 - 5GHz/4000/LINK",
          "1 - 5GHz/900/UPLINK",
          "1 - 5GHz/3000/UNALLOCATED",
          "1 - 5GHz/3600/LINK",
          "1 - 5GHz/3200/UPLINK",
          "1 - 5GHz/3100/LINK",
          "1 - 5GHz/3600/DOWNLINK",
          "1 - 5GHz/4300/LINK",
          "1 - 5GHz/2100/DOWNLINK",
          "1 - 5GHz/2600/UNALLOCATED",
          "1 - 5GHz/4700/LINK",
          "1 - 5GHz/4900/UPLINK",
          "1 - 5GHz/700/UNALLOCATED",
          "1 - 5GHz/1200/DOWNLINK",
          "1 - 5GHz/1100/UNALLOCATED",
          "1 - 5GHz/1300/UPLINK",
          "1 - 5GHz/2100/UNALLOCATED",
          "1 - 5GHz/800/DOWNLINK",
          "1 - 5GHz/2600/UPLINK",
          "1 - 5GHz/3000/UPLINK",
          "1 - 5GHz/1500/DOWNLINK",
          "1 - 5GHz/2800/LINK",
          "1 - 5GHz/2300/DOWNLINK",
          "1 - 5GHz/4000/DOWNLINK",
          "1 - 5GHz/1800/UPLINK",
          "1 - 5GHz/3300/DOWNLINK",
          "1 - 5GHz/4300/UPLINK",
          "1 - 5GHz/4300/UNALLOCATED",
          "1 - 5GHz/4500/DOWNLINK",
          "1 - 5GHz/3900/UPLINK",
          "1 - 5GHz/4100/UNALLOCATED",
          "1 - 5GHz/3000/DOWNLINK",
          "1 - 5GHz/5000/DOWNLINK",
          "1 - 5GHz/1000/LINK",
          "1 - 5GHz/1100/LINK",
          "1 - 5GHz/2000/UPLINK",
          "1 - 5GHz/1700/UNALLOCATED",
          "1 - 5GHz/2400/LINK",
          "1 - 5GHz/2200/LINK",
          "1 - 5GHz/3500/UPLINK",
          "1 - 5GHz/3400/UNALLOCATED",
          "1 - 5GHz/1500/LINK",
          "1 - 5GHz/4900/UNALLOCATED",
          "1 - 5GHz/3600/UNALLOCATED",
          "1 - 5GHz/2700/UNALLOCATED",
          "1 - 5GHz/4800/UNALLOCATED",
          "1 - 5GHz/1000/UPLINK",
          "1 - 5GHz/3500/UNALLOCATED",
          "1 - 5GHz/2400/UPLINK",
          "1 - 5GHz/4000/UNALLOCATED",
          "1 - 5GHz/1100/UPLINK",
          "1 - 5GHz/4600/UNALLOCATED",
          "1 - 5GHz/3300/UNALLOCATED",
          "1 - 5GHz/2200/UPLINK",
          "1 - 5GHz/2400/UNALLOCATED",
          "1 - 5GHz/5000/UPLINK",
          "1 - 5GHz/3300/LINK",
          "1 - 5GHz/1500/UNALLOCATED",
          "1 - 5GHz/900/DOWNLINK",
          "1 - 5GHz/1400/DOWNLINK",
          "1 - 5GHz/1600/DOWNLINK",
          "1 - 5GHz/2000/DOWNLINK",
          "1 - 5GHz/2500/DOWNLINK",
          "1 - 5GHz/2700/DOWNLINK",
          "1 - 5GHz/4400/UPLINK",
          "1 - 5GHz/3400/DOWNLINK",
          "1 - 5GHz/3700/DOWNLINK",
          "1 - 5GHz/3900/DOWNLINK",
          "1 - 5GHz/4400/DOWNLINK",
          "1 - 5GHz/4000/UPLINK",
          "1 - 5GHz/4800/DOWNLINK",
          "1 - 5GHz/3800/UPLINK",
          "1 - 5GHz/1900/UNALLOCATED",
          "1 - 5GHz/900/LINK",
          "1 - 5GHz/3900/LINK",
          "1 - 5GHz/1200/UNALLOCATED",
          "1 - 5GHz/1000/UNALLOCATED",
          "1 - 5GHz/4900/LINK",
          "1 - 5GHz/2900/UPLINK",
          "1 - 5GHz/4500/LINK",
          "1 - 5GHz/1400/LINK",
          "1 - 5GHz/3700/LINK",
          "1 - 5GHz/1500/UPLINK",
          "1 - 5GHz/2900/LINK",
          "1 - 5GHz/2300/LINK",
          "1 - 5GHz/1900/LINK",
          "1 - 5GHz/1800/LINK",
          "1 - 5GHz/3100/UPLINK",
          "1 - 5GHz/2300/UPLINK",
          "1 - 5GHz/4100/UPLINK",
          "1 - 5GHz/3400/UPLINK",
          "1 - 5GHz/1700/UPLINK",
          "1 - 5GHz/4600/UPLINK",
          "1 - 5GHz/2100/UPLINK",
          "1 - 5GHz/4800/UPLINK",
          "1 - 5GHz/2700/UPLINK",
          "1 - 5GHz/3700/UPLINK",
          "1 - 5GHz/700/DOWNLINK",
          "1 - 5GHz/700/UPLINK",
          "1 - 5GHz/1100/DOWNLINK",
          "1 - 5GHz/1800/DOWNLINK",
          "1 - 5GHz/1900/DOWNLINK",
          "1 - 5GHz/2400/DOWNLINK",
          "1 - 5GHz/2900/DOWNLINK",
          "1 - 5GHz/3200/DOWNLINK",
          "1 - 5GHz/3500/DOWNLINK",
          "1 - 5GHz/4200/DOWNLINK",
          "1 - 5GHz/4600/DOWNLINK",
          "1 - 5GHz/4700/DOWNLINK",
          "1 - 5GHz/800/LINK",
          "1 - 5GHz/1200/LINK",
          "1 - 5GHz/1600/LINK",
          "1 - 5GHz/2000/LINK",
          "1 - 5GHz/2600/LINK",
          "1 - 5GHz/2700/LINK",
          "1 - 5GHz/3200/LINK",
          "1 - 5GHz/4700/UNALLOCATED",
          "1 - 5GHz/4400/UNALLOCATED",
          "1 - 5GHz/3900/UNALLOCATED",
          "1 - 5GHz/3800/UNALLOCATED",
          "1 - 5GHz/3200/UNALLOCATED",
          "1 - 5GHz/2900/UNALLOCATED",
          "1 - 5GHz/1400/UPLINK",
          "1 - 5GHz/2300/UNALLOCATED",
          "1 - 5GHz/1600/UNALLOCATED",
          "1 - 5GHz/1400/UNALLOCATED",
          "1 - 5GHz/900/UNALLOCATED",
          "1 - 5GHz/4600/LINK",
          "1 - 5GHz/4100/LINK",
          "1 - 5GHz/3500/LINK",
          "1 - 5GHz/2200/UNALLOCATED",
          "1 - 5GHz/5000/LINK",
          "1 - 5GHz/700",
          "1 - 5GHz/800",
          "1 - 5GHz/900",
          "1 - 5GHz/1000",
          "1 - 5GHz/1100",
          "1 - 5GHz/1200",
          "1 - 5GHz/1300",
          "1 - 5GHz/1400",
          "1 - 5GHz/1500",
          "1 - 5GHz/1600",
          "1 - 5GHz/1700",
          "1 - 5GHz/1800",
          "1 - 5GHz/1900",
          "1 - 5GHz/2000",
          "1 - 5GHz/2100",
          "1 - 5GHz/2200",
          "1 - 5GHz/2300",
          "1 - 5GHz/2400",
          "1 - 5GHz/2500",
          "1 - 5GHz/2600",
          "1 - 5GHz/2700",
          "1 - 5GHz/2800",
          "1 - 5GHz/2900",
          "1 - 5GHz/3000",
          "1 - 5GHz/3100",
          "1 - 5GHz/3200",
          "1 - 5GHz/3300",
          "1 - 5GHz/3400",
          "1 - 5GHz/3500",
          "1 - 5GHz/3600",
          "1 - 5GHz/3700",
          "1 - 5GHz/3800",
          "1 - 5GHz/3900",
          "1 - 5GHz/4000",
          "1 - 5GHz/4100",
          "1 - 5GHz/4200",
          "1 - 5GHz/4300",
          "1 - 5GHz/4400",
          "1 - 5GHz/4500",
          "1 - 5GHz/4600",
          "1 - 5GHz/4700",
          "1 - 5GHz/4800",
          "1 - 5GHz/4900",
          "1 - 5GHz/5000",
          "1 - 5GHz"
         ],
         "labels": [
          "UNALLOCATED",
          "DOWNLINK",
          "UPLINK",
          "DOWNLINK",
          "UNALLOCATED",
          "DOWNLINK",
          "LINK",
          "LINK",
          "UPLINK",
          "LINK",
          "LINK",
          "LINK",
          "UPLINK",
          "UNALLOCATED",
          "LINK",
          "UPLINK",
          "LINK",
          "UNALLOCATED",
          "LINK",
          "LINK",
          "LINK",
          "UNALLOCATED",
          "LINK",
          "UNALLOCATED",
          "UPLINK",
          "UPLINK",
          "UNALLOCATED",
          "UNALLOCATED",
          "UNALLOCATED",
          "DOWNLINK",
          "UNALLOCATED",
          "DOWNLINK",
          "DOWNLINK",
          "UPLINK",
          "DOWNLINK",
          "DOWNLINK",
          "DOWNLINK",
          "UNALLOCATED",
          "UPLINK",
          "UPLINK",
          "UPLINK",
          "UPLINK",
          "DOWNLINK",
          "DOWNLINK",
          "LINK",
          "UPLINK",
          "UNALLOCATED",
          "LINK",
          "UPLINK",
          "LINK",
          "DOWNLINK",
          "LINK",
          "DOWNLINK",
          "UNALLOCATED",
          "LINK",
          "UPLINK",
          "UNALLOCATED",
          "DOWNLINK",
          "UNALLOCATED",
          "UPLINK",
          "UNALLOCATED",
          "DOWNLINK",
          "UPLINK",
          "UPLINK",
          "DOWNLINK",
          "LINK",
          "DOWNLINK",
          "DOWNLINK",
          "UPLINK",
          "DOWNLINK",
          "UPLINK",
          "UNALLOCATED",
          "DOWNLINK",
          "UPLINK",
          "UNALLOCATED",
          "DOWNLINK",
          "DOWNLINK",
          "LINK",
          "LINK",
          "UPLINK",
          "UNALLOCATED",
          "LINK",
          "LINK",
          "UPLINK",
          "UNALLOCATED",
          "LINK",
          "UNALLOCATED",
          "UNALLOCATED",
          "UNALLOCATED",
          "UNALLOCATED",
          "UPLINK",
          "UNALLOCATED",
          "UPLINK",
          "UNALLOCATED",
          "UPLINK",
          "UNALLOCATED",
          "UNALLOCATED",
          "UPLINK",
          "UNALLOCATED",
          "UPLINK",
          "LINK",
          "UNALLOCATED",
          "DOWNLINK",
          "DOWNLINK",
          "DOWNLINK",
          "DOWNLINK",
          "DOWNLINK",
          "DOWNLINK",
          "UPLINK",
          "DOWNLINK",
          "DOWNLINK",
          "DOWNLINK",
          "DOWNLINK",
          "UPLINK",
          "DOWNLINK",
          "UPLINK",
          "UNALLOCATED",
          "LINK",
          "LINK",
          "UNALLOCATED",
          "UNALLOCATED",
          "LINK",
          "UPLINK",
          "LINK",
          "LINK",
          "LINK",
          "UPLINK",
          "LINK",
          "LINK",
          "LINK",
          "LINK",
          "UPLINK",
          "UPLINK",
          "UPLINK",
          "UPLINK",
          "UPLINK",
          "UPLINK",
          "UPLINK",
          "UPLINK",
          "UPLINK",
          "UPLINK",
          "DOWNLINK",
          "UPLINK",
          "DOWNLINK",
          "DOWNLINK",
          "DOWNLINK",
          "DOWNLINK",
          "DOWNLINK",
          "DOWNLINK",
          "DOWNLINK",
          "DOWNLINK",
          "DOWNLINK",
          "DOWNLINK",
          "LINK",
          "LINK",
          "LINK",
          "LINK",
          "LINK",
          "LINK",
          "LINK",
          "UNALLOCATED",
          "UNALLOCATED",
          "UNALLOCATED",
          "UNALLOCATED",
          "UNALLOCATED",
          "UNALLOCATED",
          "UPLINK",
          "UNALLOCATED",
          "UNALLOCATED",
          "UNALLOCATED",
          "UNALLOCATED",
          "LINK",
          "LINK",
          "LINK",
          "UNALLOCATED",
          "LINK",
          "700",
          "800",
          "900",
          "1000",
          "1100",
          "1200",
          "1300",
          "1400",
          "1500",
          "1600",
          "1700",
          "1800",
          "1900",
          "2000",
          "2100",
          "2200",
          "2300",
          "2400",
          "2500",
          "2600",
          "2700",
          "2800",
          "2900",
          "3000",
          "3100",
          "3200",
          "3300",
          "3400",
          "3500",
          "3600",
          "3700",
          "3800",
          "3900",
          "4000",
          "4100",
          "4200",
          "4300",
          "4400",
          "4500",
          "4600",
          "4700",
          "4800",
          "4900",
          "5000",
          "1 - 5GHz"
         ],
         "marker": {
          "colors": [
           "grey",
           "#00cc96",
           "#ab63fa",
           "#00cc96",
           "grey",
           "#00cc96",
           "#FFA15A",
           "#FFA15A",
           "#ab63fa",
           "#FFA15A",
           "#FFA15A",
           "#FFA15A",
           "#ab63fa",
           "grey",
           "#FFA15A",
           "#ab63fa",
           "#FFA15A",
           "grey",
           "#FFA15A",
           "#FFA15A",
           "#FFA15A",
           "grey",
           "#FFA15A",
           "grey",
           "#ab63fa",
           "#ab63fa",
           "grey",
           "grey",
           "grey",
           "#00cc96",
           "grey",
           "#00cc96",
           "#00cc96",
           "#ab63fa",
           "#00cc96",
           "#00cc96",
           "#00cc96",
           "grey",
           "#ab63fa",
           "#ab63fa",
           "#ab63fa",
           "#ab63fa",
           "#00cc96",
           "#00cc96",
           "#FFA15A",
           "#ab63fa",
           "grey",
           "#FFA15A",
           "#ab63fa",
           "#FFA15A",
           "#00cc96",
           "#FFA15A",
           "#00cc96",
           "grey",
           "#FFA15A",
           "#ab63fa",
           "grey",
           "#00cc96",
           "grey",
           "#ab63fa",
           "grey",
           "#00cc96",
           "#ab63fa",
           "#ab63fa",
           "#00cc96",
           "#FFA15A",
           "#00cc96",
           "#00cc96",
           "#ab63fa",
           "#00cc96",
           "#ab63fa",
           "grey",
           "#00cc96",
           "#ab63fa",
           "grey",
           "#00cc96",
           "#00cc96",
           "#FFA15A",
           "#FFA15A",
           "#ab63fa",
           "grey",
           "#FFA15A",
           "#FFA15A",
           "#ab63fa",
           "grey",
           "#FFA15A",
           "grey",
           "grey",
           "grey",
           "grey",
           "#ab63fa",
           "grey",
           "#ab63fa",
           "grey",
           "#ab63fa",
           "grey",
           "grey",
           "#ab63fa",
           "grey",
           "#ab63fa",
           "#FFA15A",
           "grey",
           "#00cc96",
           "#00cc96",
           "#00cc96",
           "#00cc96",
           "#00cc96",
           "#00cc96",
           "#ab63fa",
           "#00cc96",
           "#00cc96",
           "#00cc96",
           "#00cc96",
           "#ab63fa",
           "#00cc96",
           "#ab63fa",
           "grey",
           "#FFA15A",
           "#FFA15A",
           "grey",
           "grey",
           "#FFA15A",
           "#ab63fa",
           "#FFA15A",
           "#FFA15A",
           "#FFA15A",
           "#ab63fa",
           "#FFA15A",
           "#FFA15A",
           "#FFA15A",
           "#FFA15A",
           "#ab63fa",
           "#ab63fa",
           "#ab63fa",
           "#ab63fa",
           "#ab63fa",
           "#ab63fa",
           "#ab63fa",
           "#ab63fa",
           "#ab63fa",
           "#ab63fa",
           "#00cc96",
           "#ab63fa",
           "#00cc96",
           "#00cc96",
           "#00cc96",
           "#00cc96",
           "#00cc96",
           "#00cc96",
           "#00cc96",
           "#00cc96",
           "#00cc96",
           "#00cc96",
           "#FFA15A",
           "#FFA15A",
           "#FFA15A",
           "#FFA15A",
           "#FFA15A",
           "#FFA15A",
           "#FFA15A",
           "grey",
           "grey",
           "grey",
           "grey",
           "grey",
           "grey",
           "#ab63fa",
           "grey",
           "grey",
           "grey",
           "grey",
           "#FFA15A",
           "#FFA15A",
           "#FFA15A",
           "grey",
           "#FFA15A",
           "lightgrey",
           "lightgrey",
           "lightgrey",
           "lightgrey",
           "lightgrey",
           "lightgrey",
           "lightgrey",
           "lightgrey",
           "lightgrey",
           "lightgrey",
           "lightgrey",
           "lightgrey",
           "lightgrey",
           "lightgrey",
           "lightgrey",
           "lightgrey",
           "lightgrey",
           "lightgrey",
           "lightgrey",
           "lightgrey",
           "lightgrey",
           "lightgrey",
           "lightgrey",
           "lightgrey",
           "lightgrey",
           "lightgrey",
           "lightgrey",
           "lightgrey",
           "lightgrey",
           "lightgrey",
           "lightgrey",
           "lightgrey",
           "lightgrey",
           "lightgrey",
           "lightgrey",
           "lightgrey",
           "lightgrey",
           "lightgrey",
           "lightgrey",
           "lightgrey",
           "lightgrey",
           "lightgrey",
           "lightgrey",
           "lightgrey",
           "lightgrey"
          ]
         },
         "name": "",
         "parents": [
          "1 - 5GHz/3700",
          "1 - 5GHz/4100",
          "1 - 5GHz/1900",
          "1 - 5GHz/4300",
          "1 - 5GHz/4200",
          "1 - 5GHz/4900",
          "1 - 5GHz/700",
          "1 - 5GHz/1300",
          "1 - 5GHz/3600",
          "1 - 5GHz/1700",
          "1 - 5GHz/2100",
          "1 - 5GHz/2500",
          "1 - 5GHz/3300",
          "1 - 5GHz/3100",
          "1 - 5GHz/3000",
          "1 - 5GHz/1600",
          "1 - 5GHz/3400",
          "1 - 5GHz/2800",
          "1 - 5GHz/3800",
          "1 - 5GHz/4200",
          "1 - 5GHz/4400",
          "1 - 5GHz/2500",
          "1 - 5GHz/4800",
          "1 - 5GHz/800",
          "1 - 5GHz/2800",
          "1 - 5GHz/2500",
          "1 - 5GHz/1300",
          "1 - 5GHz/2000",
          "1 - 5GHz/4500",
          "1 - 5GHz/3800",
          "1 - 5GHz/1800",
          "1 - 5GHz/2200",
          "1 - 5GHz/1700",
          "1 - 5GHz/4700",
          "1 - 5GHz/2600",
          "1 - 5GHz/1300",
          "1 - 5GHz/3100",
          "1 - 5GHz/5000",
          "1 - 5GHz/1200",
          "1 - 5GHz/800",
          "1 - 5GHz/4500",
          "1 - 5GHz/4200",
          "1 - 5GHz/1000",
          "1 - 5GHz/2800",
          "1 - 5GHz/4000",
          "1 - 5GHz/900",
          "1 - 5GHz/3000",
          "1 - 5GHz/3600",
          "1 - 5GHz/3200",
          "1 - 5GHz/3100",
          "1 - 5GHz/3600",
          "1 - 5GHz/4300",
          "1 - 5GHz/2100",
          "1 - 5GHz/2600",
          "1 - 5GHz/4700",
          "1 - 5GHz/4900",
          "1 - 5GHz/700",
          "1 - 5GHz/1200",
          "1 - 5GHz/1100",
          "1 - 5GHz/1300",
          "1 - 5GHz/2100",
          "1 - 5GHz/800",
          "1 - 5GHz/2600",
          "1 - 5GHz/3000",
          "1 - 5GHz/1500",
          "1 - 5GHz/2800",
          "1 - 5GHz/2300",
          "1 - 5GHz/4000",
          "1 - 5GHz/1800",
          "1 - 5GHz/3300",
          "1 - 5GHz/4300",
          "1 - 5GHz/4300",
          "1 - 5GHz/4500",
          "1 - 5GHz/3900",
          "1 - 5GHz/4100",
          "1 - 5GHz/3000",
          "1 - 5GHz/5000",
          "1 - 5GHz/1000",
          "1 - 5GHz/1100",
          "1 - 5GHz/2000",
          "1 - 5GHz/1700",
          "1 - 5GHz/2400",
          "1 - 5GHz/2200",
          "1 - 5GHz/3500",
          "1 - 5GHz/3400",
          "1 - 5GHz/1500",
          "1 - 5GHz/4900",
          "1 - 5GHz/3600",
          "1 - 5GHz/2700",
          "1 - 5GHz/4800",
          "1 - 5GHz/1000",
          "1 - 5GHz/3500",
          "1 - 5GHz/2400",
          "1 - 5GHz/4000",
          "1 - 5GHz/1100",
          "1 - 5GHz/4600",
          "1 - 5GHz/3300",
          "1 - 5GHz/2200",
          "1 - 5GHz/2400",
          "1 - 5GHz/5000",
          "1 - 5GHz/3300",
          "1 - 5GHz/1500",
          "1 - 5GHz/900",
          "1 - 5GHz/1400",
          "1 - 5GHz/1600",
          "1 - 5GHz/2000",
          "1 - 5GHz/2500",
          "1 - 5GHz/2700",
          "1 - 5GHz/4400",
          "1 - 5GHz/3400",
          "1 - 5GHz/3700",
          "1 - 5GHz/3900",
          "1 - 5GHz/4400",
          "1 - 5GHz/4000",
          "1 - 5GHz/4800",
          "1 - 5GHz/3800",
          "1 - 5GHz/1900",
          "1 - 5GHz/900",
          "1 - 5GHz/3900",
          "1 - 5GHz/1200",
          "1 - 5GHz/1000",
          "1 - 5GHz/4900",
          "1 - 5GHz/2900",
          "1 - 5GHz/4500",
          "1 - 5GHz/1400",
          "1 - 5GHz/3700",
          "1 - 5GHz/1500",
          "1 - 5GHz/2900",
          "1 - 5GHz/2300",
          "1 - 5GHz/1900",
          "1 - 5GHz/1800",
          "1 - 5GHz/3100",
          "1 - 5GHz/2300",
          "1 - 5GHz/4100",
          "1 - 5GHz/3400",
          "1 - 5GHz/1700",
          "1 - 5GHz/4600",
          "1 - 5GHz/2100",
          "1 - 5GHz/4800",
          "1 - 5GHz/2700",
          "1 - 5GHz/3700",
          "1 - 5GHz/700",
          "1 - 5GHz/700",
          "1 - 5GHz/1100",
          "1 - 5GHz/1800",
          "1 - 5GHz/1900",
          "1 - 5GHz/2400",
          "1 - 5GHz/2900",
          "1 - 5GHz/3200",
          "1 - 5GHz/3500",
          "1 - 5GHz/4200",
          "1 - 5GHz/4600",
          "1 - 5GHz/4700",
          "1 - 5GHz/800",
          "1 - 5GHz/1200",
          "1 - 5GHz/1600",
          "1 - 5GHz/2000",
          "1 - 5GHz/2600",
          "1 - 5GHz/2700",
          "1 - 5GHz/3200",
          "1 - 5GHz/4700",
          "1 - 5GHz/4400",
          "1 - 5GHz/3900",
          "1 - 5GHz/3800",
          "1 - 5GHz/3200",
          "1 - 5GHz/2900",
          "1 - 5GHz/1400",
          "1 - 5GHz/2300",
          "1 - 5GHz/1600",
          "1 - 5GHz/1400",
          "1 - 5GHz/900",
          "1 - 5GHz/4600",
          "1 - 5GHz/4100",
          "1 - 5GHz/3500",
          "1 - 5GHz/2200",
          "1 - 5GHz/5000",
          "1 - 5GHz",
          "1 - 5GHz",
          "1 - 5GHz",
          "1 - 5GHz",
          "1 - 5GHz",
          "1 - 5GHz",
          "1 - 5GHz",
          "1 - 5GHz",
          "1 - 5GHz",
          "1 - 5GHz",
          "1 - 5GHz",
          "1 - 5GHz",
          "1 - 5GHz",
          "1 - 5GHz",
          "1 - 5GHz",
          "1 - 5GHz",
          "1 - 5GHz",
          "1 - 5GHz",
          "1 - 5GHz",
          "1 - 5GHz",
          "1 - 5GHz",
          "1 - 5GHz",
          "1 - 5GHz",
          "1 - 5GHz",
          "1 - 5GHz",
          "1 - 5GHz",
          "1 - 5GHz",
          "1 - 5GHz",
          "1 - 5GHz",
          "1 - 5GHz",
          "1 - 5GHz",
          "1 - 5GHz",
          "1 - 5GHz",
          "1 - 5GHz",
          "1 - 5GHz",
          "1 - 5GHz",
          "1 - 5GHz",
          "1 - 5GHz",
          "1 - 5GHz",
          "1 - 5GHz",
          "1 - 5GHz",
          "1 - 5GHz",
          "1 - 5GHz",
          "1 - 5GHz",
          ""
         ],
         "root": {
          "color": "lightgrey"
         },
         "tiling": {
          "packing": "slice-dice"
         },
         "type": "treemap",
         "values": [
          0,
          0,
          59.7,
          0,
          0,
          0,
          0,
          0,
          0,
          0,
          0,
          30,
          0,
          0,
          0,
          0,
          90,
          0,
          0,
          0,
          0,
          0,
          0,
          29.099999999999994,
          0,
          70,
          0,
          0,
          0,
          0,
          5.099999999999994,
          0,
          0,
          0,
          70,
          0,
          0,
          0,
          0,
          49.9,
          0,
          0,
          0,
          0,
          9,
          14.9,
          0,
          100,
          0,
          0,
          0,
          0,
          59.4,
          10,
          0,
          0,
          36,
          0,
          0,
          0,
          40.6,
          21,
          0,
          0,
          0,
          0,
          0,
          0,
          0,
          0,
          0,
          0,
          0,
          0,
          0,
          0,
          0,
          0,
          0,
          0,
          25.099999999999994,
          0,
          0,
          0,
          10,
          0,
          0,
          0,
          0,
          0,
          0,
          0,
          0,
          91,
          0,
          0,
          0,
          0,
          0,
          0,
          0,
          0,
          34.8,
          40,
          0,
          0,
          0,
          0,
          0,
          0,
          0,
          0,
          0,
          0,
          0,
          0,
          20.200000000000003,
          0,
          75,
          0,
          0,
          0,
          0,
          0,
          0,
          100,
          0,
          0,
          40,
          20.1,
          20,
          0,
          0,
          0,
          0,
          74.9,
          0,
          0,
          0,
          0,
          0,
          34,
          30,
          0,
          74.9,
          0,
          0,
          0,
          0,
          0,
          0,
          0,
          0,
          0,
          0,
          0,
          0,
          20,
          0,
          0,
          0,
          0,
          25,
          0,
          0,
          0,
          0,
          60,
          0,
          60,
          50.3,
          0,
          0,
          100,
          0,
          0,
          100,
          100,
          100,
          0,
          0,
          0,
          0,
          100,
          0,
          0,
          100,
          100,
          100,
          0,
          100,
          0,
          100,
          0,
          100,
          100,
          0,
          0,
          0,
          0,
          0,
          0,
          0,
          100,
          100,
          100,
          100,
          0,
          100,
          100,
          0,
          0,
          0,
          0,
          0,
          0,
          0,
          0,
          0,
          0,
          1700
         ]
        }
       ],
       "layout": {
        "legend": {
         "tracegroupgap": 0
        },
        "margin": {
         "b": 25,
         "l": 25,
         "r": 25,
         "t": 50
        },
        "template": {
         "data": {
          "bar": [
           {
            "error_x": {
             "color": "#2a3f5f"
            },
            "error_y": {
             "color": "#2a3f5f"
            },
            "marker": {
             "line": {
              "color": "#E5ECF6",
              "width": 0.5
             },
             "pattern": {
              "fillmode": "overlay",
              "size": 10,
              "solidity": 0.2
             }
            },
            "type": "bar"
           }
          ],
          "barpolar": [
           {
            "marker": {
             "line": {
              "color": "#E5ECF6",
              "width": 0.5
             },
             "pattern": {
              "fillmode": "overlay",
              "size": 10,
              "solidity": 0.2
             }
            },
            "type": "barpolar"
           }
          ],
          "carpet": [
           {
            "aaxis": {
             "endlinecolor": "#2a3f5f",
             "gridcolor": "white",
             "linecolor": "white",
             "minorgridcolor": "white",
             "startlinecolor": "#2a3f5f"
            },
            "baxis": {
             "endlinecolor": "#2a3f5f",
             "gridcolor": "white",
             "linecolor": "white",
             "minorgridcolor": "white",
             "startlinecolor": "#2a3f5f"
            },
            "type": "carpet"
           }
          ],
          "choropleth": [
           {
            "colorbar": {
             "outlinewidth": 0,
             "ticks": ""
            },
            "type": "choropleth"
           }
          ],
          "contour": [
           {
            "colorbar": {
             "outlinewidth": 0,
             "ticks": ""
            },
            "colorscale": [
             [
              0,
              "#0d0887"
             ],
             [
              0.1111111111111111,
              "#46039f"
             ],
             [
              0.2222222222222222,
              "#7201a8"
             ],
             [
              0.3333333333333333,
              "#9c179e"
             ],
             [
              0.4444444444444444,
              "#bd3786"
             ],
             [
              0.5555555555555556,
              "#d8576b"
             ],
             [
              0.6666666666666666,
              "#ed7953"
             ],
             [
              0.7777777777777778,
              "#fb9f3a"
             ],
             [
              0.8888888888888888,
              "#fdca26"
             ],
             [
              1,
              "#f0f921"
             ]
            ],
            "type": "contour"
           }
          ],
          "contourcarpet": [
           {
            "colorbar": {
             "outlinewidth": 0,
             "ticks": ""
            },
            "type": "contourcarpet"
           }
          ],
          "heatmap": [
           {
            "colorbar": {
             "outlinewidth": 0,
             "ticks": ""
            },
            "colorscale": [
             [
              0,
              "#0d0887"
             ],
             [
              0.1111111111111111,
              "#46039f"
             ],
             [
              0.2222222222222222,
              "#7201a8"
             ],
             [
              0.3333333333333333,
              "#9c179e"
             ],
             [
              0.4444444444444444,
              "#bd3786"
             ],
             [
              0.5555555555555556,
              "#d8576b"
             ],
             [
              0.6666666666666666,
              "#ed7953"
             ],
             [
              0.7777777777777778,
              "#fb9f3a"
             ],
             [
              0.8888888888888888,
              "#fdca26"
             ],
             [
              1,
              "#f0f921"
             ]
            ],
            "type": "heatmap"
           }
          ],
          "heatmapgl": [
           {
            "colorbar": {
             "outlinewidth": 0,
             "ticks": ""
            },
            "colorscale": [
             [
              0,
              "#0d0887"
             ],
             [
              0.1111111111111111,
              "#46039f"
             ],
             [
              0.2222222222222222,
              "#7201a8"
             ],
             [
              0.3333333333333333,
              "#9c179e"
             ],
             [
              0.4444444444444444,
              "#bd3786"
             ],
             [
              0.5555555555555556,
              "#d8576b"
             ],
             [
              0.6666666666666666,
              "#ed7953"
             ],
             [
              0.7777777777777778,
              "#fb9f3a"
             ],
             [
              0.8888888888888888,
              "#fdca26"
             ],
             [
              1,
              "#f0f921"
             ]
            ],
            "type": "heatmapgl"
           }
          ],
          "histogram": [
           {
            "marker": {
             "pattern": {
              "fillmode": "overlay",
              "size": 10,
              "solidity": 0.2
             }
            },
            "type": "histogram"
           }
          ],
          "histogram2d": [
           {
            "colorbar": {
             "outlinewidth": 0,
             "ticks": ""
            },
            "colorscale": [
             [
              0,
              "#0d0887"
             ],
             [
              0.1111111111111111,
              "#46039f"
             ],
             [
              0.2222222222222222,
              "#7201a8"
             ],
             [
              0.3333333333333333,
              "#9c179e"
             ],
             [
              0.4444444444444444,
              "#bd3786"
             ],
             [
              0.5555555555555556,
              "#d8576b"
             ],
             [
              0.6666666666666666,
              "#ed7953"
             ],
             [
              0.7777777777777778,
              "#fb9f3a"
             ],
             [
              0.8888888888888888,
              "#fdca26"
             ],
             [
              1,
              "#f0f921"
             ]
            ],
            "type": "histogram2d"
           }
          ],
          "histogram2dcontour": [
           {
            "colorbar": {
             "outlinewidth": 0,
             "ticks": ""
            },
            "colorscale": [
             [
              0,
              "#0d0887"
             ],
             [
              0.1111111111111111,
              "#46039f"
             ],
             [
              0.2222222222222222,
              "#7201a8"
             ],
             [
              0.3333333333333333,
              "#9c179e"
             ],
             [
              0.4444444444444444,
              "#bd3786"
             ],
             [
              0.5555555555555556,
              "#d8576b"
             ],
             [
              0.6666666666666666,
              "#ed7953"
             ],
             [
              0.7777777777777778,
              "#fb9f3a"
             ],
             [
              0.8888888888888888,
              "#fdca26"
             ],
             [
              1,
              "#f0f921"
             ]
            ],
            "type": "histogram2dcontour"
           }
          ],
          "mesh3d": [
           {
            "colorbar": {
             "outlinewidth": 0,
             "ticks": ""
            },
            "type": "mesh3d"
           }
          ],
          "parcoords": [
           {
            "line": {
             "colorbar": {
              "outlinewidth": 0,
              "ticks": ""
             }
            },
            "type": "parcoords"
           }
          ],
          "pie": [
           {
            "automargin": true,
            "type": "pie"
           }
          ],
          "scatter": [
           {
            "marker": {
             "colorbar": {
              "outlinewidth": 0,
              "ticks": ""
             }
            },
            "type": "scatter"
           }
          ],
          "scatter3d": [
           {
            "line": {
             "colorbar": {
              "outlinewidth": 0,
              "ticks": ""
             }
            },
            "marker": {
             "colorbar": {
              "outlinewidth": 0,
              "ticks": ""
             }
            },
            "type": "scatter3d"
           }
          ],
          "scattercarpet": [
           {
            "marker": {
             "colorbar": {
              "outlinewidth": 0,
              "ticks": ""
             }
            },
            "type": "scattercarpet"
           }
          ],
          "scattergeo": [
           {
            "marker": {
             "colorbar": {
              "outlinewidth": 0,
              "ticks": ""
             }
            },
            "type": "scattergeo"
           }
          ],
          "scattergl": [
           {
            "marker": {
             "colorbar": {
              "outlinewidth": 0,
              "ticks": ""
             }
            },
            "type": "scattergl"
           }
          ],
          "scattermapbox": [
           {
            "marker": {
             "colorbar": {
              "outlinewidth": 0,
              "ticks": ""
             }
            },
            "type": "scattermapbox"
           }
          ],
          "scatterpolar": [
           {
            "marker": {
             "colorbar": {
              "outlinewidth": 0,
              "ticks": ""
             }
            },
            "type": "scatterpolar"
           }
          ],
          "scatterpolargl": [
           {
            "marker": {
             "colorbar": {
              "outlinewidth": 0,
              "ticks": ""
             }
            },
            "type": "scatterpolargl"
           }
          ],
          "scatterternary": [
           {
            "marker": {
             "colorbar": {
              "outlinewidth": 0,
              "ticks": ""
             }
            },
            "type": "scatterternary"
           }
          ],
          "surface": [
           {
            "colorbar": {
             "outlinewidth": 0,
             "ticks": ""
            },
            "colorscale": [
             [
              0,
              "#0d0887"
             ],
             [
              0.1111111111111111,
              "#46039f"
             ],
             [
              0.2222222222222222,
              "#7201a8"
             ],
             [
              0.3333333333333333,
              "#9c179e"
             ],
             [
              0.4444444444444444,
              "#bd3786"
             ],
             [
              0.5555555555555556,
              "#d8576b"
             ],
             [
              0.6666666666666666,
              "#ed7953"
             ],
             [
              0.7777777777777778,
              "#fb9f3a"
             ],
             [
              0.8888888888888888,
              "#fdca26"
             ],
             [
              1,
              "#f0f921"
             ]
            ],
            "type": "surface"
           }
          ],
          "table": [
           {
            "cells": {
             "fill": {
              "color": "#EBF0F8"
             },
             "line": {
              "color": "white"
             }
            },
            "header": {
             "fill": {
              "color": "#C8D4E3"
             },
             "line": {
              "color": "white"
             }
            },
            "type": "table"
           }
          ]
         },
         "layout": {
          "annotationdefaults": {
           "arrowcolor": "#2a3f5f",
           "arrowhead": 0,
           "arrowwidth": 1
          },
          "autotypenumbers": "strict",
          "coloraxis": {
           "colorbar": {
            "outlinewidth": 0,
            "ticks": ""
           }
          },
          "colorscale": {
           "diverging": [
            [
             0,
             "#8e0152"
            ],
            [
             0.1,
             "#c51b7d"
            ],
            [
             0.2,
             "#de77ae"
            ],
            [
             0.3,
             "#f1b6da"
            ],
            [
             0.4,
             "#fde0ef"
            ],
            [
             0.5,
             "#f7f7f7"
            ],
            [
             0.6,
             "#e6f5d0"
            ],
            [
             0.7,
             "#b8e186"
            ],
            [
             0.8,
             "#7fbc41"
            ],
            [
             0.9,
             "#4d9221"
            ],
            [
             1,
             "#276419"
            ]
           ],
           "sequential": [
            [
             0,
             "#0d0887"
            ],
            [
             0.1111111111111111,
             "#46039f"
            ],
            [
             0.2222222222222222,
             "#7201a8"
            ],
            [
             0.3333333333333333,
             "#9c179e"
            ],
            [
             0.4444444444444444,
             "#bd3786"
            ],
            [
             0.5555555555555556,
             "#d8576b"
            ],
            [
             0.6666666666666666,
             "#ed7953"
            ],
            [
             0.7777777777777778,
             "#fb9f3a"
            ],
            [
             0.8888888888888888,
             "#fdca26"
            ],
            [
             1,
             "#f0f921"
            ]
           ],
           "sequentialminus": [
            [
             0,
             "#0d0887"
            ],
            [
             0.1111111111111111,
             "#46039f"
            ],
            [
             0.2222222222222222,
             "#7201a8"
            ],
            [
             0.3333333333333333,
             "#9c179e"
            ],
            [
             0.4444444444444444,
             "#bd3786"
            ],
            [
             0.5555555555555556,
             "#d8576b"
            ],
            [
             0.6666666666666666,
             "#ed7953"
            ],
            [
             0.7777777777777778,
             "#fb9f3a"
            ],
            [
             0.8888888888888888,
             "#fdca26"
            ],
            [
             1,
             "#f0f921"
            ]
           ]
          },
          "colorway": [
           "#636efa",
           "#EF553B",
           "#00cc96",
           "#ab63fa",
           "#FFA15A",
           "#19d3f3",
           "#FF6692",
           "#B6E880",
           "#FF97FF",
           "#FECB52"
          ],
          "font": {
           "color": "#2a3f5f"
          },
          "geo": {
           "bgcolor": "white",
           "lakecolor": "white",
           "landcolor": "#E5ECF6",
           "showlakes": true,
           "showland": true,
           "subunitcolor": "white"
          },
          "hoverlabel": {
           "align": "left"
          },
          "hovermode": "closest",
          "mapbox": {
           "style": "light"
          },
          "paper_bgcolor": "white",
          "plot_bgcolor": "#E5ECF6",
          "polar": {
           "angularaxis": {
            "gridcolor": "white",
            "linecolor": "white",
            "ticks": ""
           },
           "bgcolor": "#E5ECF6",
           "radialaxis": {
            "gridcolor": "white",
            "linecolor": "white",
            "ticks": ""
           }
          },
          "scene": {
           "xaxis": {
            "backgroundcolor": "#E5ECF6",
            "gridcolor": "white",
            "gridwidth": 2,
            "linecolor": "white",
            "showbackground": true,
            "ticks": "",
            "zerolinecolor": "white"
           },
           "yaxis": {
            "backgroundcolor": "#E5ECF6",
            "gridcolor": "white",
            "gridwidth": 2,
            "linecolor": "white",
            "showbackground": true,
            "ticks": "",
            "zerolinecolor": "white"
           },
           "zaxis": {
            "backgroundcolor": "#E5ECF6",
            "gridcolor": "white",
            "gridwidth": 2,
            "linecolor": "white",
            "showbackground": true,
            "ticks": "",
            "zerolinecolor": "white"
           }
          },
          "shapedefaults": {
           "line": {
            "color": "#2a3f5f"
           }
          },
          "ternary": {
           "aaxis": {
            "gridcolor": "white",
            "linecolor": "white",
            "ticks": ""
           },
           "baxis": {
            "gridcolor": "white",
            "linecolor": "white",
            "ticks": ""
           },
           "bgcolor": "#E5ECF6",
           "caxis": {
            "gridcolor": "white",
            "linecolor": "white",
            "ticks": ""
           }
          },
          "title": {
           "x": 0.05
          },
          "xaxis": {
           "automargin": true,
           "gridcolor": "white",
           "linecolor": "white",
           "ticks": "",
           "title": {
            "standoff": 15
           },
           "zerolinecolor": "white",
           "zerolinewidth": 2
          },
          "yaxis": {
           "automargin": true,
           "gridcolor": "white",
           "linecolor": "white",
           "ticks": "",
           "title": {
            "standoff": 15
           },
           "zerolinecolor": "white",
           "zerolinewidth": 2
          }
         }
        }
       }
      }
     },
     "metadata": {},
     "output_type": "display_data"
    }
   ],
   "source": [
    "import plotly_express as px\n",
    "\n",
    "fig = px.treemap(userGenFreq, path=[px.Constant('1 - 5GHz'), 'FREQUENCY', 'TYPE'], \n",
    "    values='BW', color='TYPE',\n",
    "    color_discrete_map={'(?)':'lightgrey', 'UNALLOCATED' : 'grey'})\n",
    "fig.update_traces(root_color=\"lightgrey\")\n",
    "fig.update_layout(margin = dict(t=50, l=25, r=25, b=25))\n",
    "fig.update_traces(tiling_packing='slice-dice')\n",
    "fig.write_html('Ofcom Treemaps/userGenFreqTreemap.html')\n",
    "fig.show()"
   ]
  },
  {
   "cell_type": "markdown",
   "metadata": {},
   "source": [
    "## UK Spectrum Treemap Dataset\n",
    "\n",
    "The UK Spectrum treemap dataset contains a more granular visualisation of the wireless broadband access licences in the UK.\n",
    "\n",
    "> Displaying the entire dataset in treemap is not very useful because of the sheer number of 100MHz graduations. Use subplots to break dataset into GHz graduations."
   ]
  },
  {
   "cell_type": "code",
   "execution_count": 139,
   "metadata": {},
   "outputs": [
    {
     "name": "stderr",
     "output_type": "stream",
     "text": [
      "C:\\Users\\Nav\\AppData\\Local\\Programs\\Python\\Python310\\lib\\site-packages\\plotly\\express\\_core.py:1637: FutureWarning:\n",
      "\n",
      "The frame.append method is deprecated and will be removed from pandas in a future version. Use pandas.concat instead.\n",
      "\n",
      "C:\\Users\\Nav\\AppData\\Local\\Programs\\Python\\Python310\\lib\\site-packages\\plotly\\express\\_core.py:1637: FutureWarning:\n",
      "\n",
      "The frame.append method is deprecated and will be removed from pandas in a future version. Use pandas.concat instead.\n",
      "\n",
      "C:\\Users\\Nav\\AppData\\Local\\Programs\\Python\\Python310\\lib\\site-packages\\plotly\\express\\_core.py:1637: FutureWarning:\n",
      "\n",
      "The frame.append method is deprecated and will be removed from pandas in a future version. Use pandas.concat instead.\n",
      "\n",
      "C:\\Users\\Nav\\AppData\\Local\\Programs\\Python\\Python310\\lib\\site-packages\\plotly\\express\\_core.py:1637: FutureWarning:\n",
      "\n",
      "The frame.append method is deprecated and will be removed from pandas in a future version. Use pandas.concat instead.\n",
      "\n",
      "C:\\Users\\Nav\\AppData\\Local\\Programs\\Python\\Python310\\lib\\site-packages\\plotly\\express\\_core.py:1637: FutureWarning:\n",
      "\n",
      "The frame.append method is deprecated and will be removed from pandas in a future version. Use pandas.concat instead.\n",
      "\n",
      "C:\\Users\\Nav\\AppData\\Local\\Programs\\Python\\Python310\\lib\\site-packages\\plotly\\express\\_core.py:1637: FutureWarning:\n",
      "\n",
      "The frame.append method is deprecated and will be removed from pandas in a future version. Use pandas.concat instead.\n",
      "\n",
      "C:\\Users\\Nav\\AppData\\Local\\Programs\\Python\\Python310\\lib\\site-packages\\plotly\\express\\_core.py:1637: FutureWarning:\n",
      "\n",
      "The frame.append method is deprecated and will be removed from pandas in a future version. Use pandas.concat instead.\n",
      "\n",
      "C:\\Users\\Nav\\AppData\\Local\\Programs\\Python\\Python310\\lib\\site-packages\\plotly\\express\\_core.py:1637: FutureWarning:\n",
      "\n",
      "The frame.append method is deprecated and will be removed from pandas in a future version. Use pandas.concat instead.\n",
      "\n",
      "C:\\Users\\Nav\\AppData\\Local\\Programs\\Python\\Python310\\lib\\site-packages\\plotly\\express\\_core.py:1637: FutureWarning:\n",
      "\n",
      "The frame.append method is deprecated and will be removed from pandas in a future version. Use pandas.concat instead.\n",
      "\n",
      "C:\\Users\\Nav\\AppData\\Local\\Programs\\Python\\Python310\\lib\\site-packages\\plotly\\express\\_core.py:1637: FutureWarning:\n",
      "\n",
      "The frame.append method is deprecated and will be removed from pandas in a future version. Use pandas.concat instead.\n",
      "\n",
      "C:\\Users\\Nav\\AppData\\Local\\Programs\\Python\\Python310\\lib\\site-packages\\plotly\\express\\_core.py:1637: FutureWarning:\n",
      "\n",
      "The frame.append method is deprecated and will be removed from pandas in a future version. Use pandas.concat instead.\n",
      "\n",
      "C:\\Users\\Nav\\AppData\\Local\\Programs\\Python\\Python310\\lib\\site-packages\\plotly\\express\\_core.py:1637: FutureWarning:\n",
      "\n",
      "The frame.append method is deprecated and will be removed from pandas in a future version. Use pandas.concat instead.\n",
      "\n",
      "C:\\Users\\Nav\\AppData\\Local\\Programs\\Python\\Python310\\lib\\site-packages\\plotly\\express\\_core.py:1637: FutureWarning:\n",
      "\n",
      "The frame.append method is deprecated and will be removed from pandas in a future version. Use pandas.concat instead.\n",
      "\n",
      "C:\\Users\\Nav\\AppData\\Local\\Programs\\Python\\Python310\\lib\\site-packages\\plotly\\express\\_core.py:1637: FutureWarning:\n",
      "\n",
      "The frame.append method is deprecated and will be removed from pandas in a future version. Use pandas.concat instead.\n",
      "\n",
      "C:\\Users\\Nav\\AppData\\Local\\Programs\\Python\\Python310\\lib\\site-packages\\plotly\\express\\_core.py:1637: FutureWarning:\n",
      "\n",
      "The frame.append method is deprecated and will be removed from pandas in a future version. Use pandas.concat instead.\n",
      "\n",
      "C:\\Users\\Nav\\AppData\\Local\\Programs\\Python\\Python310\\lib\\site-packages\\plotly\\express\\_core.py:1637: FutureWarning:\n",
      "\n",
      "The frame.append method is deprecated and will be removed from pandas in a future version. Use pandas.concat instead.\n",
      "\n",
      "C:\\Users\\Nav\\AppData\\Local\\Programs\\Python\\Python310\\lib\\site-packages\\plotly\\express\\_core.py:1637: FutureWarning:\n",
      "\n",
      "The frame.append method is deprecated and will be removed from pandas in a future version. Use pandas.concat instead.\n",
      "\n",
      "C:\\Users\\Nav\\AppData\\Local\\Programs\\Python\\Python310\\lib\\site-packages\\plotly\\express\\_core.py:1637: FutureWarning:\n",
      "\n",
      "The frame.append method is deprecated and will be removed from pandas in a future version. Use pandas.concat instead.\n",
      "\n",
      "C:\\Users\\Nav\\AppData\\Local\\Programs\\Python\\Python310\\lib\\site-packages\\plotly\\express\\_core.py:1637: FutureWarning:\n",
      "\n",
      "The frame.append method is deprecated and will be removed from pandas in a future version. Use pandas.concat instead.\n",
      "\n",
      "C:\\Users\\Nav\\AppData\\Local\\Programs\\Python\\Python310\\lib\\site-packages\\plotly\\express\\_core.py:1637: FutureWarning:\n",
      "\n",
      "The frame.append method is deprecated and will be removed from pandas in a future version. Use pandas.concat instead.\n",
      "\n",
      "C:\\Users\\Nav\\AppData\\Local\\Programs\\Python\\Python310\\lib\\site-packages\\plotly\\express\\_core.py:1637: FutureWarning:\n",
      "\n",
      "The frame.append method is deprecated and will be removed from pandas in a future version. Use pandas.concat instead.\n",
      "\n",
      "C:\\Users\\Nav\\AppData\\Local\\Programs\\Python\\Python310\\lib\\site-packages\\plotly\\express\\_core.py:1637: FutureWarning:\n",
      "\n",
      "The frame.append method is deprecated and will be removed from pandas in a future version. Use pandas.concat instead.\n",
      "\n",
      "C:\\Users\\Nav\\AppData\\Local\\Programs\\Python\\Python310\\lib\\site-packages\\plotly\\express\\_core.py:1637: FutureWarning:\n",
      "\n",
      "The frame.append method is deprecated and will be removed from pandas in a future version. Use pandas.concat instead.\n",
      "\n",
      "C:\\Users\\Nav\\AppData\\Local\\Programs\\Python\\Python310\\lib\\site-packages\\plotly\\express\\_core.py:1637: FutureWarning:\n",
      "\n",
      "The frame.append method is deprecated and will be removed from pandas in a future version. Use pandas.concat instead.\n",
      "\n",
      "C:\\Users\\Nav\\AppData\\Local\\Programs\\Python\\Python310\\lib\\site-packages\\plotly\\express\\_core.py:1637: FutureWarning:\n",
      "\n",
      "The frame.append method is deprecated and will be removed from pandas in a future version. Use pandas.concat instead.\n",
      "\n",
      "C:\\Users\\Nav\\AppData\\Local\\Programs\\Python\\Python310\\lib\\site-packages\\plotly\\express\\_core.py:1637: FutureWarning:\n",
      "\n",
      "The frame.append method is deprecated and will be removed from pandas in a future version. Use pandas.concat instead.\n",
      "\n",
      "C:\\Users\\Nav\\AppData\\Local\\Programs\\Python\\Python310\\lib\\site-packages\\plotly\\express\\_core.py:1637: FutureWarning:\n",
      "\n",
      "The frame.append method is deprecated and will be removed from pandas in a future version. Use pandas.concat instead.\n",
      "\n",
      "C:\\Users\\Nav\\AppData\\Local\\Programs\\Python\\Python310\\lib\\site-packages\\plotly\\express\\_core.py:1637: FutureWarning:\n",
      "\n",
      "The frame.append method is deprecated and will be removed from pandas in a future version. Use pandas.concat instead.\n",
      "\n"
     ]
    },
    {
     "data": {
      "application/vnd.plotly.v1+json": {
       "config": {
        "plotlyServerURL": "https://plot.ly"
       },
       "data": [
        {
         "branchvalues": "total",
         "customdata": [
          [
           "Unallocated"
          ],
          [
           "Unallocated"
          ],
          [
           "Unallocated"
          ],
          [
           "Unallocated"
          ],
          [
           "Unallocated"
          ],
          [
           "Unallocated"
          ],
          [
           "Unallocated"
          ],
          [
           "Unallocated"
          ],
          [
           "Unallocated"
          ],
          [
           "Unallocated"
          ],
          [
           "Unallocated"
          ],
          [
           "Unallocated"
          ],
          [
           "Unallocated"
          ],
          [
           "Unallocated"
          ],
          [
           "Unallocated"
          ],
          [
           "Unallocated"
          ],
          [
           "Unallocated"
          ],
          [
           "Unallocated"
          ],
          [
           "Unallocated"
          ],
          [
           "Unallocated"
          ],
          [
           "Unallocated"
          ],
          [
           "Unallocated"
          ],
          [
           "Unallocated"
          ],
          [
           "Unallocated"
          ],
          [
           "Unallocated"
          ],
          [
           "Unallocated"
          ],
          [
           "Unallocated"
          ],
          [
           "Unallocated"
          ],
          [
           "Unallocated"
          ],
          [
           "Unallocated"
          ],
          [
           "Unallocated"
          ],
          [
           "Unallocated"
          ],
          [
           "Unallocated"
          ],
          [
           "Unallocated"
          ]
         ],
         "domain": {
          "x": [
           0,
           1
          ],
          "y": [
           0,
           1
          ]
         },
         "hovertemplate": "labels=%{label}<br>bw=%{value}<br>parent=%{parent}<br>id=%{id}<br>bands/lf=%{customdata[0]}<extra></extra>",
         "ids": [
          "7 GHz/6000.0/Unallocated/Unallocated",
          "7 GHz/6100.0/Unallocated/Unallocated",
          "7 GHz/6200.0/Unallocated/Unallocated",
          "7 GHz/6300.0/Unallocated/Unallocated",
          "7 GHz/6400.0/Unallocated/Unallocated",
          "7 GHz/6500.0/Unallocated/Unallocated",
          "7 GHz/6600.0/Unallocated/Unallocated",
          "7 GHz/6700.0/Unallocated/Unallocated",
          "7 GHz/6800.0/Unallocated/Unallocated",
          "7 GHz/6900.0/Unallocated/Unallocated",
          "7 GHz/7000.0/Unallocated/Unallocated",
          "7 GHz/6000.0/Unallocated",
          "7 GHz/6100.0/Unallocated",
          "7 GHz/6200.0/Unallocated",
          "7 GHz/6300.0/Unallocated",
          "7 GHz/6400.0/Unallocated",
          "7 GHz/6500.0/Unallocated",
          "7 GHz/6600.0/Unallocated",
          "7 GHz/6700.0/Unallocated",
          "7 GHz/6800.0/Unallocated",
          "7 GHz/6900.0/Unallocated",
          "7 GHz/7000.0/Unallocated",
          "7 GHz/6000.0",
          "7 GHz/6100.0",
          "7 GHz/6200.0",
          "7 GHz/6300.0",
          "7 GHz/6400.0",
          "7 GHz/6500.0",
          "7 GHz/6600.0",
          "7 GHz/6700.0",
          "7 GHz/6800.0",
          "7 GHz/6900.0",
          "7 GHz/7000.0",
          "7 GHz"
         ],
         "labels": [
          "Unallocated",
          "Unallocated",
          "Unallocated",
          "Unallocated",
          "Unallocated",
          "Unallocated",
          "Unallocated",
          "Unallocated",
          "Unallocated",
          "Unallocated",
          "Unallocated",
          "Unallocated",
          "Unallocated",
          "Unallocated",
          "Unallocated",
          "Unallocated",
          "Unallocated",
          "Unallocated",
          "Unallocated",
          "Unallocated",
          "Unallocated",
          "Unallocated",
          "6000.0",
          "6100.0",
          "6200.0",
          "6300.0",
          "6400.0",
          "6500.0",
          "6600.0",
          "6700.0",
          "6800.0",
          "6900.0",
          "7000.0",
          "7 GHz"
         ],
         "marker": {
          "colors": [
           "grey",
           "grey",
           "grey",
           "grey",
           "grey",
           "grey",
           "grey",
           "grey",
           "grey",
           "grey",
           "grey",
           "grey",
           "grey",
           "grey",
           "grey",
           "grey",
           "grey",
           "grey",
           "grey",
           "grey",
           "grey",
           "grey",
           "grey",
           "grey",
           "grey",
           "grey",
           "grey",
           "grey",
           "grey",
           "grey",
           "grey",
           "grey",
           "grey",
           "grey"
          ]
         },
         "name": "",
         "parents": [
          "7 GHz/6000.0/Unallocated",
          "7 GHz/6100.0/Unallocated",
          "7 GHz/6200.0/Unallocated",
          "7 GHz/6300.0/Unallocated",
          "7 GHz/6400.0/Unallocated",
          "7 GHz/6500.0/Unallocated",
          "7 GHz/6600.0/Unallocated",
          "7 GHz/6700.0/Unallocated",
          "7 GHz/6800.0/Unallocated",
          "7 GHz/6900.0/Unallocated",
          "7 GHz/7000.0/Unallocated",
          "7 GHz/6000.0",
          "7 GHz/6100.0",
          "7 GHz/6200.0",
          "7 GHz/6300.0",
          "7 GHz/6400.0",
          "7 GHz/6500.0",
          "7 GHz/6600.0",
          "7 GHz/6700.0",
          "7 GHz/6800.0",
          "7 GHz/6900.0",
          "7 GHz/7000.0",
          "7 GHz",
          "7 GHz",
          "7 GHz",
          "7 GHz",
          "7 GHz",
          "7 GHz",
          "7 GHz",
          "7 GHz",
          "7 GHz",
          "7 GHz",
          "7 GHz",
          ""
         ],
         "root": {
          "color": "lightgrey"
         },
         "tiling": {
          "packing": "slice-dice"
         },
         "type": "treemap",
         "values": [
          100,
          100,
          100,
          100,
          100,
          100,
          100,
          100,
          100,
          100,
          100,
          100,
          100,
          100,
          100,
          100,
          100,
          100,
          100,
          100,
          100,
          100,
          100,
          100,
          100,
          100,
          100,
          100,
          100,
          100,
          100,
          100,
          100,
          1100
         ]
        }
       ],
       "layout": {
        "legend": {
         "tracegroupgap": 0
        },
        "margin": {
         "t": 60
        },
        "template": {
         "data": {
          "bar": [
           {
            "error_x": {
             "color": "#2a3f5f"
            },
            "error_y": {
             "color": "#2a3f5f"
            },
            "marker": {
             "line": {
              "color": "#E5ECF6",
              "width": 0.5
             },
             "pattern": {
              "fillmode": "overlay",
              "size": 10,
              "solidity": 0.2
             }
            },
            "type": "bar"
           }
          ],
          "barpolar": [
           {
            "marker": {
             "line": {
              "color": "#E5ECF6",
              "width": 0.5
             },
             "pattern": {
              "fillmode": "overlay",
              "size": 10,
              "solidity": 0.2
             }
            },
            "type": "barpolar"
           }
          ],
          "carpet": [
           {
            "aaxis": {
             "endlinecolor": "#2a3f5f",
             "gridcolor": "white",
             "linecolor": "white",
             "minorgridcolor": "white",
             "startlinecolor": "#2a3f5f"
            },
            "baxis": {
             "endlinecolor": "#2a3f5f",
             "gridcolor": "white",
             "linecolor": "white",
             "minorgridcolor": "white",
             "startlinecolor": "#2a3f5f"
            },
            "type": "carpet"
           }
          ],
          "choropleth": [
           {
            "colorbar": {
             "outlinewidth": 0,
             "ticks": ""
            },
            "type": "choropleth"
           }
          ],
          "contour": [
           {
            "colorbar": {
             "outlinewidth": 0,
             "ticks": ""
            },
            "colorscale": [
             [
              0,
              "#0d0887"
             ],
             [
              0.1111111111111111,
              "#46039f"
             ],
             [
              0.2222222222222222,
              "#7201a8"
             ],
             [
              0.3333333333333333,
              "#9c179e"
             ],
             [
              0.4444444444444444,
              "#bd3786"
             ],
             [
              0.5555555555555556,
              "#d8576b"
             ],
             [
              0.6666666666666666,
              "#ed7953"
             ],
             [
              0.7777777777777778,
              "#fb9f3a"
             ],
             [
              0.8888888888888888,
              "#fdca26"
             ],
             [
              1,
              "#f0f921"
             ]
            ],
            "type": "contour"
           }
          ],
          "contourcarpet": [
           {
            "colorbar": {
             "outlinewidth": 0,
             "ticks": ""
            },
            "type": "contourcarpet"
           }
          ],
          "heatmap": [
           {
            "colorbar": {
             "outlinewidth": 0,
             "ticks": ""
            },
            "colorscale": [
             [
              0,
              "#0d0887"
             ],
             [
              0.1111111111111111,
              "#46039f"
             ],
             [
              0.2222222222222222,
              "#7201a8"
             ],
             [
              0.3333333333333333,
              "#9c179e"
             ],
             [
              0.4444444444444444,
              "#bd3786"
             ],
             [
              0.5555555555555556,
              "#d8576b"
             ],
             [
              0.6666666666666666,
              "#ed7953"
             ],
             [
              0.7777777777777778,
              "#fb9f3a"
             ],
             [
              0.8888888888888888,
              "#fdca26"
             ],
             [
              1,
              "#f0f921"
             ]
            ],
            "type": "heatmap"
           }
          ],
          "heatmapgl": [
           {
            "colorbar": {
             "outlinewidth": 0,
             "ticks": ""
            },
            "colorscale": [
             [
              0,
              "#0d0887"
             ],
             [
              0.1111111111111111,
              "#46039f"
             ],
             [
              0.2222222222222222,
              "#7201a8"
             ],
             [
              0.3333333333333333,
              "#9c179e"
             ],
             [
              0.4444444444444444,
              "#bd3786"
             ],
             [
              0.5555555555555556,
              "#d8576b"
             ],
             [
              0.6666666666666666,
              "#ed7953"
             ],
             [
              0.7777777777777778,
              "#fb9f3a"
             ],
             [
              0.8888888888888888,
              "#fdca26"
             ],
             [
              1,
              "#f0f921"
             ]
            ],
            "type": "heatmapgl"
           }
          ],
          "histogram": [
           {
            "marker": {
             "pattern": {
              "fillmode": "overlay",
              "size": 10,
              "solidity": 0.2
             }
            },
            "type": "histogram"
           }
          ],
          "histogram2d": [
           {
            "colorbar": {
             "outlinewidth": 0,
             "ticks": ""
            },
            "colorscale": [
             [
              0,
              "#0d0887"
             ],
             [
              0.1111111111111111,
              "#46039f"
             ],
             [
              0.2222222222222222,
              "#7201a8"
             ],
             [
              0.3333333333333333,
              "#9c179e"
             ],
             [
              0.4444444444444444,
              "#bd3786"
             ],
             [
              0.5555555555555556,
              "#d8576b"
             ],
             [
              0.6666666666666666,
              "#ed7953"
             ],
             [
              0.7777777777777778,
              "#fb9f3a"
             ],
             [
              0.8888888888888888,
              "#fdca26"
             ],
             [
              1,
              "#f0f921"
             ]
            ],
            "type": "histogram2d"
           }
          ],
          "histogram2dcontour": [
           {
            "colorbar": {
             "outlinewidth": 0,
             "ticks": ""
            },
            "colorscale": [
             [
              0,
              "#0d0887"
             ],
             [
              0.1111111111111111,
              "#46039f"
             ],
             [
              0.2222222222222222,
              "#7201a8"
             ],
             [
              0.3333333333333333,
              "#9c179e"
             ],
             [
              0.4444444444444444,
              "#bd3786"
             ],
             [
              0.5555555555555556,
              "#d8576b"
             ],
             [
              0.6666666666666666,
              "#ed7953"
             ],
             [
              0.7777777777777778,
              "#fb9f3a"
             ],
             [
              0.8888888888888888,
              "#fdca26"
             ],
             [
              1,
              "#f0f921"
             ]
            ],
            "type": "histogram2dcontour"
           }
          ],
          "mesh3d": [
           {
            "colorbar": {
             "outlinewidth": 0,
             "ticks": ""
            },
            "type": "mesh3d"
           }
          ],
          "parcoords": [
           {
            "line": {
             "colorbar": {
              "outlinewidth": 0,
              "ticks": ""
             }
            },
            "type": "parcoords"
           }
          ],
          "pie": [
           {
            "automargin": true,
            "type": "pie"
           }
          ],
          "scatter": [
           {
            "marker": {
             "colorbar": {
              "outlinewidth": 0,
              "ticks": ""
             }
            },
            "type": "scatter"
           }
          ],
          "scatter3d": [
           {
            "line": {
             "colorbar": {
              "outlinewidth": 0,
              "ticks": ""
             }
            },
            "marker": {
             "colorbar": {
              "outlinewidth": 0,
              "ticks": ""
             }
            },
            "type": "scatter3d"
           }
          ],
          "scattercarpet": [
           {
            "marker": {
             "colorbar": {
              "outlinewidth": 0,
              "ticks": ""
             }
            },
            "type": "scattercarpet"
           }
          ],
          "scattergeo": [
           {
            "marker": {
             "colorbar": {
              "outlinewidth": 0,
              "ticks": ""
             }
            },
            "type": "scattergeo"
           }
          ],
          "scattergl": [
           {
            "marker": {
             "colorbar": {
              "outlinewidth": 0,
              "ticks": ""
             }
            },
            "type": "scattergl"
           }
          ],
          "scattermapbox": [
           {
            "marker": {
             "colorbar": {
              "outlinewidth": 0,
              "ticks": ""
             }
            },
            "type": "scattermapbox"
           }
          ],
          "scatterpolar": [
           {
            "marker": {
             "colorbar": {
              "outlinewidth": 0,
              "ticks": ""
             }
            },
            "type": "scatterpolar"
           }
          ],
          "scatterpolargl": [
           {
            "marker": {
             "colorbar": {
              "outlinewidth": 0,
              "ticks": ""
             }
            },
            "type": "scatterpolargl"
           }
          ],
          "scatterternary": [
           {
            "marker": {
             "colorbar": {
              "outlinewidth": 0,
              "ticks": ""
             }
            },
            "type": "scatterternary"
           }
          ],
          "surface": [
           {
            "colorbar": {
             "outlinewidth": 0,
             "ticks": ""
            },
            "colorscale": [
             [
              0,
              "#0d0887"
             ],
             [
              0.1111111111111111,
              "#46039f"
             ],
             [
              0.2222222222222222,
              "#7201a8"
             ],
             [
              0.3333333333333333,
              "#9c179e"
             ],
             [
              0.4444444444444444,
              "#bd3786"
             ],
             [
              0.5555555555555556,
              "#d8576b"
             ],
             [
              0.6666666666666666,
              "#ed7953"
             ],
             [
              0.7777777777777778,
              "#fb9f3a"
             ],
             [
              0.8888888888888888,
              "#fdca26"
             ],
             [
              1,
              "#f0f921"
             ]
            ],
            "type": "surface"
           }
          ],
          "table": [
           {
            "cells": {
             "fill": {
              "color": "#EBF0F8"
             },
             "line": {
              "color": "white"
             }
            },
            "header": {
             "fill": {
              "color": "#C8D4E3"
             },
             "line": {
              "color": "white"
             }
            },
            "type": "table"
           }
          ]
         },
         "layout": {
          "annotationdefaults": {
           "arrowcolor": "#2a3f5f",
           "arrowhead": 0,
           "arrowwidth": 1
          },
          "autotypenumbers": "strict",
          "coloraxis": {
           "colorbar": {
            "outlinewidth": 0,
            "ticks": ""
           }
          },
          "colorscale": {
           "diverging": [
            [
             0,
             "#8e0152"
            ],
            [
             0.1,
             "#c51b7d"
            ],
            [
             0.2,
             "#de77ae"
            ],
            [
             0.3,
             "#f1b6da"
            ],
            [
             0.4,
             "#fde0ef"
            ],
            [
             0.5,
             "#f7f7f7"
            ],
            [
             0.6,
             "#e6f5d0"
            ],
            [
             0.7,
             "#b8e186"
            ],
            [
             0.8,
             "#7fbc41"
            ],
            [
             0.9,
             "#4d9221"
            ],
            [
             1,
             "#276419"
            ]
           ],
           "sequential": [
            [
             0,
             "#0d0887"
            ],
            [
             0.1111111111111111,
             "#46039f"
            ],
            [
             0.2222222222222222,
             "#7201a8"
            ],
            [
             0.3333333333333333,
             "#9c179e"
            ],
            [
             0.4444444444444444,
             "#bd3786"
            ],
            [
             0.5555555555555556,
             "#d8576b"
            ],
            [
             0.6666666666666666,
             "#ed7953"
            ],
            [
             0.7777777777777778,
             "#fb9f3a"
            ],
            [
             0.8888888888888888,
             "#fdca26"
            ],
            [
             1,
             "#f0f921"
            ]
           ],
           "sequentialminus": [
            [
             0,
             "#0d0887"
            ],
            [
             0.1111111111111111,
             "#46039f"
            ],
            [
             0.2222222222222222,
             "#7201a8"
            ],
            [
             0.3333333333333333,
             "#9c179e"
            ],
            [
             0.4444444444444444,
             "#bd3786"
            ],
            [
             0.5555555555555556,
             "#d8576b"
            ],
            [
             0.6666666666666666,
             "#ed7953"
            ],
            [
             0.7777777777777778,
             "#fb9f3a"
            ],
            [
             0.8888888888888888,
             "#fdca26"
            ],
            [
             1,
             "#f0f921"
            ]
           ]
          },
          "colorway": [
           "#636efa",
           "#EF553B",
           "#00cc96",
           "#ab63fa",
           "#FFA15A",
           "#19d3f3",
           "#FF6692",
           "#B6E880",
           "#FF97FF",
           "#FECB52"
          ],
          "font": {
           "color": "#2a3f5f"
          },
          "geo": {
           "bgcolor": "white",
           "lakecolor": "white",
           "landcolor": "#E5ECF6",
           "showlakes": true,
           "showland": true,
           "subunitcolor": "white"
          },
          "hoverlabel": {
           "align": "left"
          },
          "hovermode": "closest",
          "mapbox": {
           "style": "light"
          },
          "paper_bgcolor": "white",
          "plot_bgcolor": "#E5ECF6",
          "polar": {
           "angularaxis": {
            "gridcolor": "white",
            "linecolor": "white",
            "ticks": ""
           },
           "bgcolor": "#E5ECF6",
           "radialaxis": {
            "gridcolor": "white",
            "linecolor": "white",
            "ticks": ""
           }
          },
          "scene": {
           "xaxis": {
            "backgroundcolor": "#E5ECF6",
            "gridcolor": "white",
            "gridwidth": 2,
            "linecolor": "white",
            "showbackground": true,
            "ticks": "",
            "zerolinecolor": "white"
           },
           "yaxis": {
            "backgroundcolor": "#E5ECF6",
            "gridcolor": "white",
            "gridwidth": 2,
            "linecolor": "white",
            "showbackground": true,
            "ticks": "",
            "zerolinecolor": "white"
           },
           "zaxis": {
            "backgroundcolor": "#E5ECF6",
            "gridcolor": "white",
            "gridwidth": 2,
            "linecolor": "white",
            "showbackground": true,
            "ticks": "",
            "zerolinecolor": "white"
           }
          },
          "shapedefaults": {
           "line": {
            "color": "#2a3f5f"
           }
          },
          "ternary": {
           "aaxis": {
            "gridcolor": "white",
            "linecolor": "white",
            "ticks": ""
           },
           "baxis": {
            "gridcolor": "white",
            "linecolor": "white",
            "ticks": ""
           },
           "bgcolor": "#E5ECF6",
           "caxis": {
            "gridcolor": "white",
            "linecolor": "white",
            "ticks": ""
           }
          },
          "title": {
           "x": 0.05
          },
          "xaxis": {
           "automargin": true,
           "gridcolor": "white",
           "linecolor": "white",
           "ticks": "",
           "title": {
            "standoff": 15
           },
           "zerolinecolor": "white",
           "zerolinewidth": 2
          },
          "yaxis": {
           "automargin": true,
           "gridcolor": "white",
           "linecolor": "white",
           "ticks": "",
           "title": {
            "standoff": 15
           },
           "zerolinecolor": "white",
           "zerolinewidth": 2
          }
         }
        }
       }
      }
     },
     "metadata": {},
     "output_type": "display_data"
    }
   ],
   "source": [
    "UKSpectrumMap1 = UKSpectrumMap[UKSpectrumMap['range'] <= 1000]\n",
    "UKSpectrumMap2 = UKSpectrumMap[(UKSpectrumMap['range'] <= 2000) & (UKSpectrumMap['range'] >= 1000)]\n",
    "UKSpectrumMap3 = UKSpectrumMap[(UKSpectrumMap['range'] <= 3000) & (UKSpectrumMap['range'] >= 2000)]\n",
    "UKSpectrumMap4 = UKSpectrumMap[(UKSpectrumMap['range'] <= 4000) & (UKSpectrumMap['range'] >= 3000)]\n",
    "UKSpectrumMap5 = UKSpectrumMap[(UKSpectrumMap['range'] <= 5000) & (UKSpectrumMap['range'] >= 4000)]\n",
    "UKSpectrumMap6 = UKSpectrumMap[(UKSpectrumMap['range'] <= 6000) & (UKSpectrumMap['range'] >= 5000)]\n",
    "UKSpectrumMap7 = UKSpectrumMap[(UKSpectrumMap['range'] <= 7000) & (UKSpectrumMap['range'] >= 6000)]\n",
    "\n",
    "# 1 GHz Treemap\n",
    "fig = px.treemap(UKSpectrumMap1, path=[px.Constant('1 GHz'),\n",
    "    'range',\n",
    "    'bands/u', \n",
    "    'bands/lf'], \n",
    "    values='bw',\n",
    "    color='bands/lf',\n",
    "    color_discrete_map={'(?)':'lightgrey', 'Unallocated' : 'grey'})\n",
    "\n",
    "fig.update_traces(root_color=\"lightgrey\")\n",
    "fig.update_layout(margin_autoexpand=True)\n",
    "fig.update_traces(tiling_packing='slice-dice')\n",
    "fig.write_html('Ofcom Treemaps/UKSpectrumMapTreemap1.html')\n",
    "treemap1 = fig\n",
    "\n",
    "# 2 GHz Treemap\n",
    "fig = px.treemap(UKSpectrumMap2, path=[px.Constant('2 GHz'),\n",
    "    'range',\n",
    "    'bands/u', \n",
    "    'bands/lf'], \n",
    "    values='bw',\n",
    "    color='bands/lf',\n",
    "    color_discrete_map={'(?)':'lightgrey', 'Unallocated' : 'grey'})\n",
    "\n",
    "fig.update_traces(root_color=\"lightgrey\")\n",
    "fig.update_layout(margin = dict(t=50, l=25, r=25, b=25))\n",
    "fig.update_traces(tiling_packing='slice-dice')\n",
    "fig.write_html('Ofcom Treemaps/UKSpectrumMapTreemap2.html')\n",
    "treemap2 = fig\n",
    "\n",
    "# 3 GHz Treemap\n",
    "fig = px.treemap(UKSpectrumMap3, path=[px.Constant('3 GHz'),\n",
    "    'range',\n",
    "    'bands/u', \n",
    "    'bands/lf'], \n",
    "    values='bw',\n",
    "    color='bands/lf',\n",
    "    color_discrete_map={'(?)':'lightgrey', 'Unallocated' : 'grey'})\n",
    "\n",
    "fig.update_traces(root_color=\"lightgrey\")\n",
    "fig.update_layout(margin = dict(t=50, l=25, r=25, b=25))\n",
    "fig.update_traces(tiling_packing='slice-dice')\n",
    "fig.write_html('Ofcom Treemaps/UKSpectrumMapTreemap3.html')\n",
    "treemap3 = fig\n",
    "\n",
    "\n",
    "# 4 GHz Treemap\n",
    "fig = px.treemap(UKSpectrumMap4, path=[px.Constant('4 GHz'),\n",
    "    'range',\n",
    "    'bands/u', \n",
    "    'bands/lf'], \n",
    "    values='bw',\n",
    "    color='bands/lf',\n",
    "    color_discrete_map={'(?)':'lightgrey', 'Unallocated' : 'grey'})\n",
    "\n",
    "fig.update_traces(root_color=\"lightgrey\")\n",
    "fig.update_layout(margin = dict(t=50, l=25, r=25, b=25))\n",
    "fig.update_traces(tiling_packing='slice-dice')\n",
    "fig.write_html('Ofcom Treemaps/UKSpectrumMapTreemap4.html')\n",
    "treemap4 = fig\n",
    "\n",
    "\n",
    "# 5 GHz Treemap\n",
    "fig = px.treemap(UKSpectrumMap5, path=[px.Constant('5 GHz'),\n",
    "    'range',\n",
    "    'bands/u', \n",
    "    'bands/lf'], \n",
    "    values='bw',\n",
    "    color='bands/lf',\n",
    "    color_discrete_map={'(?)':'lightgrey', 'Unallocated' : 'grey'})\n",
    "\n",
    "fig.update_traces(root_color=\"lightgrey\")\n",
    "#fig.update_layout(margin = dict(t=50, l=25, r=25, b=25))\n",
    "fig.update_traces(tiling_packing='slice-dice')\n",
    "fig.write_html('Ofcom Treemaps/UKSpectrumMapTreemap5.html')\n",
    "treemap5 = fig\n",
    "\n",
    "\n",
    "# 6 GHz Treemap\n",
    "fig = px.treemap(UKSpectrumMap6, path=[px.Constant('6 GHz'),\n",
    "    'range',\n",
    "    'bands/u', \n",
    "    'bands/lf'], \n",
    "    values='bw',\n",
    "    color='bands/lf',\n",
    "    color_discrete_map={'(?)':'lightgrey', 'Unallocated' : 'grey'})\n",
    "\n",
    "fig.update_traces(root_color=\"lightgrey\")\n",
    "#fig.update_layout(margin = dict(t=50, l=25, r=25, b=25))\n",
    "fig.update_traces(tiling_packing='slice-dice')\n",
    "fig.write_html('Ofcom Treemaps/UKSpectrumMapTreemap6.html')\n",
    "treemap6 = fig\n",
    "\n",
    "\n",
    "# 7 GHz Treemap\n",
    "fig = px.treemap(UKSpectrumMap7, path=[px.Constant('7 GHz'),\n",
    "    'range',\n",
    "    'bands/u', \n",
    "    'bands/lf'], \n",
    "    values='bw',\n",
    "    color='bands/lf',\n",
    "    color_discrete_map={'(?)':'lightgrey', 'Unallocated' : 'grey'})\n",
    "\n",
    "fig.update_traces(root_color=\"lightgrey\")\n",
    "#fig.update_layout(margin = dict(t=50, l=25, r=25, b=25))\n",
    "fig.update_traces(tiling_packing='slice-dice')\n",
    "fig.write_html('Ofcom Treemaps/UKSpectrumMapTreemap7.html')\n",
    "treemap7 = fig\n",
    "\n",
    "fig.show()"
   ]
  },
  {
   "cell_type": "code",
   "execution_count": 153,
   "metadata": {},
   "outputs": [
    {
     "data": {
      "application/vnd.plotly.v1+json": {
       "config": {
        "plotlyServerURL": "https://plot.ly"
       },
       "data": [
        {
         "branchvalues": "total",
         "customdata": [
          [
           801
          ],
          [
           811
          ],
          [
           832
          ],
          [
           837
          ],
          [
           842
          ],
          [
           880.1
          ],
          [
           852
          ],
          [
           885.1
          ],
          [
           902.5
          ],
          [
           925.1
          ],
          [
           930.1
          ],
          [
           935.1
          ],
          [
           947.5
          ],
          [
           "Unallocated"
          ],
          [
           "Unallocated"
          ],
          [
           "Unallocated"
          ],
          [
           "Unallocated"
          ],
          [
           "Unallocated"
          ],
          [
           "Unallocated"
          ],
          [
           "Unallocated"
          ],
          [
           "Unallocated"
          ],
          [
           "Unallocated"
          ],
          [
           "Unallocated"
          ],
          [
           703
          ],
          [
           890.1
          ],
          [
           796
          ],
          [
           791
          ],
          [
           778
          ],
          [
           758
          ],
          [
           723
          ],
          [
           713
          ],
          [
           "Unallocated"
          ],
          [
           930.1
          ],
          [
           885.1
          ],
          [
           902.5
          ],
          [
           "(?)"
          ],
          [
           "(?)"
          ],
          [
           "(?)"
          ],
          [
           723
          ],
          [
           837
          ],
          [
           791
          ],
          [
           713
          ],
          [
           832
          ],
          [
           758
          ],
          [
           811
          ],
          [
           703
          ],
          [
           852
          ],
          [
           801
          ],
          [
           842
          ],
          [
           "Unallocated"
          ],
          [
           "Unallocated"
          ],
          [
           "Unallocated"
          ],
          [
           "Unallocated"
          ],
          [
           "Unallocated"
          ],
          [
           "Unallocated"
          ],
          [
           "Unallocated"
          ],
          [
           "Unallocated"
          ],
          [
           "Unallocated"
          ],
          [
           "Unallocated"
          ],
          [
           "Unallocated"
          ],
          [
           "Unallocated"
          ],
          [
           "Unallocated"
          ],
          [
           "Unallocated"
          ],
          [
           "Unallocated"
          ],
          [
           "Unallocated"
          ],
          [
           "Unallocated"
          ],
          [
           "Unallocated"
          ],
          [
           "(?)"
          ],
          [
           "(?)"
          ],
          [
           "(?)"
          ],
          [
           "Unallocated"
          ],
          [
           "(?)"
          ]
         ],
         "domain": {
          "x": [
           0,
           1
          ],
          "y": [
           0.8742857142857142,
           1
          ]
         },
         "hovertemplate": "labels=%{label}<br>bw=%{value}<br>parent=%{parent}<br>id=%{id}<br>bands/lf=%{customdata[0]}<extra></extra>",
         "ids": [
          "1 GHz/800.0/Spectrum Access Vodafone (Downlink)/801.0",
          "1 GHz/800.0/Spectrum Access Telefonica (Downlink)/811.0",
          "1 GHz/800.0/Spectrum Access Hutchison 3G (Uplink)/832.0",
          "1 GHz/800.0/Spectrum Access EE (Uplink)/837.0",
          "1 GHz/800.0/Spectrum Access Vodafone (Uplink)/842.0",
          "1 GHz/800.0/PWN Vodafone (Uplink)/880.1",
          "1 GHz/800.0/Spectrum Access Telefonica (Uplink)/852.0",
          "1 GHz/800.0/PWN Telefonica UK (Uplink)/885.1",
          "1 GHz/900.0/PWN Telefonica UK (Uplink)/902.5",
          "1 GHz/900.0/PWN Vodafone (Downlink)/925.1",
          "1 GHz/900.0/PWN Telefonica UK (Downlink)/930.1",
          "1 GHz/900.0/PWN Vodafone (Downlink)/935.1",
          "1 GHz/900.0/PWN Vodafone (Downlink)/947.5",
          "1 GHz/0.0/Unallocated/Unallocated",
          "1 GHz/100.0/Unallocated/Unallocated",
          "1 GHz/200.0/Unallocated/Unallocated",
          "1 GHz/300.0/Unallocated/Unallocated",
          "1 GHz/500.0/Unallocated/Unallocated",
          "1 GHz/600.0/Unallocated/Unallocated",
          "1 GHz/700.0/Unallocated/Unallocated",
          "1 GHz/800.0/Unallocated/Unallocated",
          "1 GHz/900.0/Unallocated/Unallocated",
          "1 GHz/400.0/Unallocated/Unallocated",
          "1 GHz/700.0/Spectrum Access Telefonica (Uplink)/703.0",
          "1 GHz/800.0/PWN Vodafone (Uplink)/890.1",
          "1 GHz/700.0/Spectrum Access EE (Downlink)/796.0",
          "1 GHz/700.0/Spectrum Access Hutchison 3G (Downlink)/791.0",
          "1 GHz/700.0/Spectrum Access EE (Downlink)/778.0",
          "1 GHz/700.0/Spectrum Access Telefonica (Downlink)/758.0",
          "1 GHz/700.0/Spectrum Access EE (Uplink)/723.0",
          "1 GHz/700.0/Spectrum Access Hutchison 3G (Uplink)/713.0",
          "1 GHz/1000.0/Unallocated/Unallocated",
          "1 GHz/900.0/PWN Telefonica UK (Downlink)",
          "1 GHz/800.0/PWN Telefonica UK (Uplink)",
          "1 GHz/900.0/PWN Telefonica UK (Uplink)",
          "1 GHz/900.0/PWN Vodafone (Downlink)",
          "1 GHz/800.0/PWN Vodafone (Uplink)",
          "1 GHz/700.0/Spectrum Access EE (Downlink)",
          "1 GHz/700.0/Spectrum Access EE (Uplink)",
          "1 GHz/800.0/Spectrum Access EE (Uplink)",
          "1 GHz/700.0/Spectrum Access Hutchison 3G (Downlink)",
          "1 GHz/700.0/Spectrum Access Hutchison 3G (Uplink)",
          "1 GHz/800.0/Spectrum Access Hutchison 3G (Uplink)",
          "1 GHz/700.0/Spectrum Access Telefonica (Downlink)",
          "1 GHz/800.0/Spectrum Access Telefonica (Downlink)",
          "1 GHz/700.0/Spectrum Access Telefonica (Uplink)",
          "1 GHz/800.0/Spectrum Access Telefonica (Uplink)",
          "1 GHz/800.0/Spectrum Access Vodafone (Downlink)",
          "1 GHz/800.0/Spectrum Access Vodafone (Uplink)",
          "1 GHz/0.0/Unallocated",
          "1 GHz/100.0/Unallocated",
          "1 GHz/200.0/Unallocated",
          "1 GHz/300.0/Unallocated",
          "1 GHz/400.0/Unallocated",
          "1 GHz/500.0/Unallocated",
          "1 GHz/600.0/Unallocated",
          "1 GHz/700.0/Unallocated",
          "1 GHz/800.0/Unallocated",
          "1 GHz/900.0/Unallocated",
          "1 GHz/1000.0/Unallocated",
          "1 GHz/0.0",
          "1 GHz/100.0",
          "1 GHz/200.0",
          "1 GHz/300.0",
          "1 GHz/400.0",
          "1 GHz/500.0",
          "1 GHz/600.0",
          "1 GHz/700.0",
          "1 GHz/800.0",
          "1 GHz/900.0",
          "1 GHz/1000.0",
          "1 GHz"
         ],
         "labels": [
          "801.0",
          "811.0",
          "832.0",
          "837.0",
          "842.0",
          "880.1",
          "852.0",
          "885.1",
          "902.5",
          "925.1",
          "930.1",
          "935.1",
          "947.5",
          "Unallocated",
          "Unallocated",
          "Unallocated",
          "Unallocated",
          "Unallocated",
          "Unallocated",
          "Unallocated",
          "Unallocated",
          "Unallocated",
          "Unallocated",
          "703.0",
          "890.1",
          "796.0",
          "791.0",
          "778.0",
          "758.0",
          "723.0",
          "713.0",
          "Unallocated",
          "PWN Telefonica UK (Downlink)",
          "PWN Telefonica UK (Uplink)",
          "PWN Telefonica UK (Uplink)",
          "PWN Vodafone (Downlink)",
          "PWN Vodafone (Uplink)",
          "Spectrum Access EE (Downlink)",
          "Spectrum Access EE (Uplink)",
          "Spectrum Access EE (Uplink)",
          "Spectrum Access Hutchison 3G (Downlink)",
          "Spectrum Access Hutchison 3G (Uplink)",
          "Spectrum Access Hutchison 3G (Uplink)",
          "Spectrum Access Telefonica (Downlink)",
          "Spectrum Access Telefonica (Downlink)",
          "Spectrum Access Telefonica (Uplink)",
          "Spectrum Access Telefonica (Uplink)",
          "Spectrum Access Vodafone (Downlink)",
          "Spectrum Access Vodafone (Uplink)",
          "Unallocated",
          "Unallocated",
          "Unallocated",
          "Unallocated",
          "Unallocated",
          "Unallocated",
          "Unallocated",
          "Unallocated",
          "Unallocated",
          "Unallocated",
          "Unallocated",
          "0.0",
          "100.0",
          "200.0",
          "300.0",
          "400.0",
          "500.0",
          "600.0",
          "700.0",
          "800.0",
          "900.0",
          "1000.0",
          "1 GHz"
         ],
         "marker": {
          "colors": [
           "#00cc96",
           "#ab63fa",
           "#FFA15A",
           "#19d3f3",
           "#FF6692",
           "#B6E880",
           "#FF97FF",
           "#FECB52",
           "#636efa",
           "#EF553B",
           "#00cc96",
           "#ab63fa",
           "#FFA15A",
           "grey",
           "grey",
           "grey",
           "grey",
           "grey",
           "grey",
           "grey",
           "grey",
           "grey",
           "grey",
           "#19d3f3",
           "#FF6692",
           "#B6E880",
           "#FF97FF",
           "#FECB52",
           "#636efa",
           "#EF553B",
           "#00cc96",
           "grey",
           "#00cc96",
           "#FECB52",
           "#636efa",
           "lightgrey",
           "lightgrey",
           "lightgrey",
           "#EF553B",
           "#19d3f3",
           "#FF97FF",
           "#00cc96",
           "#FFA15A",
           "#636efa",
           "#ab63fa",
           "#19d3f3",
           "#FF97FF",
           "#00cc96",
           "#FF6692",
           "grey",
           "grey",
           "grey",
           "grey",
           "grey",
           "grey",
           "grey",
           "grey",
           "grey",
           "grey",
           "grey",
           "grey",
           "grey",
           "grey",
           "grey",
           "grey",
           "grey",
           "grey",
           "lightgrey",
           "lightgrey",
           "lightgrey",
           "grey",
           "lightgrey"
          ]
         },
         "name": "",
         "parents": [
          "1 GHz/800.0/Spectrum Access Vodafone (Downlink)",
          "1 GHz/800.0/Spectrum Access Telefonica (Downlink)",
          "1 GHz/800.0/Spectrum Access Hutchison 3G (Uplink)",
          "1 GHz/800.0/Spectrum Access EE (Uplink)",
          "1 GHz/800.0/Spectrum Access Vodafone (Uplink)",
          "1 GHz/800.0/PWN Vodafone (Uplink)",
          "1 GHz/800.0/Spectrum Access Telefonica (Uplink)",
          "1 GHz/800.0/PWN Telefonica UK (Uplink)",
          "1 GHz/900.0/PWN Telefonica UK (Uplink)",
          "1 GHz/900.0/PWN Vodafone (Downlink)",
          "1 GHz/900.0/PWN Telefonica UK (Downlink)",
          "1 GHz/900.0/PWN Vodafone (Downlink)",
          "1 GHz/900.0/PWN Vodafone (Downlink)",
          "1 GHz/0.0/Unallocated",
          "1 GHz/100.0/Unallocated",
          "1 GHz/200.0/Unallocated",
          "1 GHz/300.0/Unallocated",
          "1 GHz/500.0/Unallocated",
          "1 GHz/600.0/Unallocated",
          "1 GHz/700.0/Unallocated",
          "1 GHz/800.0/Unallocated",
          "1 GHz/900.0/Unallocated",
          "1 GHz/400.0/Unallocated",
          "1 GHz/700.0/Spectrum Access Telefonica (Uplink)",
          "1 GHz/800.0/PWN Vodafone (Uplink)",
          "1 GHz/700.0/Spectrum Access EE (Downlink)",
          "1 GHz/700.0/Spectrum Access Hutchison 3G (Downlink)",
          "1 GHz/700.0/Spectrum Access EE (Downlink)",
          "1 GHz/700.0/Spectrum Access Telefonica (Downlink)",
          "1 GHz/700.0/Spectrum Access EE (Uplink)",
          "1 GHz/700.0/Spectrum Access Hutchison 3G (Uplink)",
          "1 GHz/1000.0/Unallocated",
          "1 GHz/900.0",
          "1 GHz/800.0",
          "1 GHz/900.0",
          "1 GHz/900.0",
          "1 GHz/800.0",
          "1 GHz/700.0",
          "1 GHz/700.0",
          "1 GHz/800.0",
          "1 GHz/700.0",
          "1 GHz/700.0",
          "1 GHz/800.0",
          "1 GHz/700.0",
          "1 GHz/800.0",
          "1 GHz/700.0",
          "1 GHz/800.0",
          "1 GHz/800.0",
          "1 GHz/800.0",
          "1 GHz/0.0",
          "1 GHz/100.0",
          "1 GHz/200.0",
          "1 GHz/300.0",
          "1 GHz/400.0",
          "1 GHz/500.0",
          "1 GHz/600.0",
          "1 GHz/700.0",
          "1 GHz/800.0",
          "1 GHz/900.0",
          "1 GHz/1000.0",
          "1 GHz",
          "1 GHz",
          "1 GHz",
          "1 GHz",
          "1 GHz",
          "1 GHz",
          "1 GHz",
          "1 GHz",
          "1 GHz",
          "1 GHz",
          "1 GHz",
          ""
         ],
         "root": {
          "color": "lightgrey"
         },
         "tiling": {
          "packing": "slice-dice"
         },
         "type": "treemap",
         "values": [
          10,
          10,
          5,
          5,
          10,
          5,
          10,
          5,
          12.399999999999977,
          5,
          5,
          12.399999999999977,
          7.600000000000023,
          100,
          100,
          100,
          100,
          100,
          100,
          35,
          27.600000000000023,
          57.60000000000002,
          100,
          10,
          12.399999999999977,
          5,
          10,
          10,
          10,
          10,
          10,
          100,
          5,
          5,
          12.399999999999977,
          25,
          17.399999999999977,
          15,
          10,
          5,
          10,
          10,
          5,
          10,
          10,
          10,
          10,
          10,
          10,
          100,
          100,
          100,
          100,
          100,
          100,
          100,
          35,
          27.600000000000023,
          57.60000000000002,
          100,
          100,
          100,
          100,
          100,
          100,
          100,
          100,
          100,
          100,
          100,
          100,
          1100
         ]
        },
        {
         "branchvalues": "total",
         "customdata": [
          [
           1721.7
          ],
          [
           1721.7
          ],
          [
           1781.7
          ],
          [
           1781.7
          ],
          [
           1805.1
          ],
          [
           1785
          ],
          [
           1810.9
          ],
          [
           1816.7
          ],
          [
           1816.7
          ],
          [
           1826.7
          ],
          [
           1826.7
          ],
          [
           1831.7
          ],
          [
           1876.7
          ],
          [
           1899.9
          ],
          [
           1909.9
          ],
          [
           1914.9
          ],
          [
           1920
          ],
          [
           1934.9
          ],
          [
           1944.9
          ],
          [
           1959.7
          ],
          [
           "Unallocated"
          ],
          [
           "Unallocated"
          ],
          [
           "Unallocated"
          ],
          [
           "Unallocated"
          ],
          [
           "Unallocated"
          ],
          [
           "Unallocated"
          ],
          [
           "Unallocated"
          ],
          [
           "Unallocated"
          ],
          [
           "Unallocated"
          ],
          [
           1452
          ],
          [
           1876.7
          ],
          [
           1736.7
          ],
          [
           1731.7
          ],
          [
           1731.7
          ],
          [
           1715.9
          ],
          [
           1710.1
          ],
          [
           1472
          ],
          [
           "Unallocated"
          ],
          [
           "Unallocated"
          ],
          [
           1785
          ],
          [
           "(?)"
          ],
          [
           "(?)"
          ],
          [
           "(?)"
          ],
          [
           "(?)"
          ],
          [
           1805.1
          ],
          [
           1710.1
          ],
          [
           1810.9
          ],
          [
           1715.9
          ],
          [
           1781.7
          ],
          [
           1876.7
          ],
          [
           1781.7
          ],
          [
           1876.7
          ],
          [
           1899.9
          ],
          [
           1959.7
          ],
          [
           1914.9
          ],
          [
           1472
          ],
          [
           1920
          ],
          [
           1909.9
          ],
          [
           1934.9
          ],
          [
           1452
          ],
          [
           1944.9
          ],
          [
           "Unallocated"
          ],
          [
           "Unallocated"
          ],
          [
           "Unallocated"
          ],
          [
           "Unallocated"
          ],
          [
           "Unallocated"
          ],
          [
           "Unallocated"
          ],
          [
           "Unallocated"
          ],
          [
           "Unallocated"
          ],
          [
           "Unallocated"
          ],
          [
           "Unallocated"
          ],
          [
           "Unallocated"
          ],
          [
           "Unallocated"
          ],
          [
           "Unallocated"
          ],
          [
           "Unallocated"
          ],
          [
           "Unallocated"
          ],
          [
           "(?)"
          ],
          [
           "Unallocated"
          ],
          [
           "Unallocated"
          ],
          [
           "(?)"
          ],
          [
           "(?)"
          ],
          [
           "(?)"
          ],
          [
           "Unallocated"
          ],
          [
           "(?)"
          ]
         ],
         "domain": {
          "x": [
           0,
           1
          ],
          "y": [
           0.7285714285714285,
           0.8542857142857143
          ]
         },
         "hovertemplate": "labels=%{label}<br>bw=%{value}<br>parent=%{parent}<br>id=%{id}<br>bands/lf=%{customdata[0]}<extra></extra>",
         "ids": [
          "2 GHz/1700.0/PWN EE (Uplink)/1721.7",
          "2 GHz/1700.0/PWN Hutchison 3G (Uplink)/1721.7",
          "2 GHz/1700.0/Shared Access (Low Power)/1781.7",
          "2 GHz/1700.0/Shared Access (Medium Power)/1781.7",
          "2 GHz/1800.0/PWN Telefonica UK (Downlink)/1805.1",
          "2 GHz/1700.0/1785-1805 MHz Northern Ireland Award/1785.0",
          "2 GHz/1800.0/PWN Vodafone (Downlink)/1810.9",
          "2 GHz/1800.0/PWN EE (Downlink)/1816.7",
          "2 GHz/1800.0/PWN Hutchison 3G (Downlink)/1816.7",
          "2 GHz/1800.0/PWN EE (Downlink)/1826.7",
          "2 GHz/1800.0/PWN Hutchison 3G (Downlink)/1826.7",
          "2 GHz/1800.0/PWN EE (Downlink)/1831.7",
          "2 GHz/1800.0/Shared Access (Medium Power)/1876.7",
          "2 GHz/1800.0/Spectrum Access EE/1899.9",
          "2 GHz/1900.0/Spectrum Access Telefonica/1909.9",
          "2 GHz/1900.0/Spectrum Access Hutchison 3G/1914.9",
          "2 GHz/1900.0/Spectrum Access Hutchison 3G (Uplink)/1920.0",
          "2 GHz/1900.0/Spectrum Access Telefonica (Uplink)/1934.9",
          "2 GHz/1900.0/Spectrum Access Vodafone (Uplink)/1944.9",
          "2 GHz/1900.0/Spectrum Access EE (Uplink)/1959.7",
          "2 GHz/1000.0/Unallocated/Unallocated",
          "2 GHz/1100.0/Unallocated/Unallocated",
          "2 GHz/1300.0/Unallocated/Unallocated",
          "2 GHz/1400.0/Unallocated/Unallocated",
          "2 GHz/1500.0/Unallocated/Unallocated",
          "2 GHz/1600.0/Unallocated/Unallocated",
          "2 GHz/1700.0/Unallocated/Unallocated",
          "2 GHz/1800.0/Unallocated/Unallocated",
          "2 GHz/1200.0/Unallocated/Unallocated",
          "2 GHz/1400.0/Spectrum Access Vodafone/1452.0",
          "2 GHz/1800.0/Shared Access (Low Power)/1876.7",
          "2 GHz/1700.0/PWN EE (Uplink)/1736.7",
          "2 GHz/1700.0/PWN Hutchison 3G (Uplink)/1731.7",
          "2 GHz/1700.0/PWN EE (Uplink)/1731.7",
          "2 GHz/1700.0/PWN Vodafone (Uplink)/1715.9",
          "2 GHz/1700.0/PWN Telefonica UK (Uplink)/1710.1",
          "2 GHz/1400.0/Spectrum Access Hutchison 3G (Uplink)/1472.0",
          "2 GHz/1900.0/Unallocated/Unallocated",
          "2 GHz/2000.0/Unallocated/Unallocated",
          "2 GHz/1700.0/1785-1805 MHz Northern Ireland Award",
          "2 GHz/1800.0/PWN EE (Downlink)",
          "2 GHz/1700.0/PWN EE (Uplink)",
          "2 GHz/1800.0/PWN Hutchison 3G (Downlink)",
          "2 GHz/1700.0/PWN Hutchison 3G (Uplink)",
          "2 GHz/1800.0/PWN Telefonica UK (Downlink)",
          "2 GHz/1700.0/PWN Telefonica UK (Uplink)",
          "2 GHz/1800.0/PWN Vodafone (Downlink)",
          "2 GHz/1700.0/PWN Vodafone (Uplink)",
          "2 GHz/1700.0/Shared Access (Low Power)",
          "2 GHz/1800.0/Shared Access (Low Power)",
          "2 GHz/1700.0/Shared Access (Medium Power)",
          "2 GHz/1800.0/Shared Access (Medium Power)",
          "2 GHz/1800.0/Spectrum Access EE",
          "2 GHz/1900.0/Spectrum Access EE (Uplink)",
          "2 GHz/1900.0/Spectrum Access Hutchison 3G",
          "2 GHz/1400.0/Spectrum Access Hutchison 3G (Uplink)",
          "2 GHz/1900.0/Spectrum Access Hutchison 3G (Uplink)",
          "2 GHz/1900.0/Spectrum Access Telefonica",
          "2 GHz/1900.0/Spectrum Access Telefonica (Uplink)",
          "2 GHz/1400.0/Spectrum Access Vodafone",
          "2 GHz/1900.0/Spectrum Access Vodafone (Uplink)",
          "2 GHz/1000.0/Unallocated",
          "2 GHz/1100.0/Unallocated",
          "2 GHz/1200.0/Unallocated",
          "2 GHz/1300.0/Unallocated",
          "2 GHz/1400.0/Unallocated",
          "2 GHz/1500.0/Unallocated",
          "2 GHz/1600.0/Unallocated",
          "2 GHz/1700.0/Unallocated",
          "2 GHz/1800.0/Unallocated",
          "2 GHz/1900.0/Unallocated",
          "2 GHz/2000.0/Unallocated",
          "2 GHz/1000.0",
          "2 GHz/1100.0",
          "2 GHz/1200.0",
          "2 GHz/1300.0",
          "2 GHz/1400.0",
          "2 GHz/1500.0",
          "2 GHz/1600.0",
          "2 GHz/1700.0",
          "2 GHz/1800.0",
          "2 GHz/1900.0",
          "2 GHz/2000.0",
          "2 GHz"
         ],
         "labels": [
          "1721.7",
          "1721.7",
          "1781.7",
          "1781.7",
          "1805.1",
          "1785.0",
          "1810.9",
          "1816.7",
          "1816.7",
          "1826.7",
          "1826.7",
          "1831.7",
          "1876.7",
          "1899.9",
          "1909.9",
          "1914.9",
          "1920.0",
          "1934.9",
          "1944.9",
          "1959.7",
          "Unallocated",
          "Unallocated",
          "Unallocated",
          "Unallocated",
          "Unallocated",
          "Unallocated",
          "Unallocated",
          "Unallocated",
          "Unallocated",
          "1452.0",
          "1876.7",
          "1736.7",
          "1731.7",
          "1731.7",
          "1715.9",
          "1710.1",
          "1472.0",
          "Unallocated",
          "Unallocated",
          "1785-1805 MHz Northern Ireland Award",
          "PWN EE (Downlink)",
          "PWN EE (Uplink)",
          "PWN Hutchison 3G (Downlink)",
          "PWN Hutchison 3G (Uplink)",
          "PWN Telefonica UK (Downlink)",
          "PWN Telefonica UK (Uplink)",
          "PWN Vodafone (Downlink)",
          "PWN Vodafone (Uplink)",
          "Shared Access (Low Power)",
          "Shared Access (Low Power)",
          "Shared Access (Medium Power)",
          "Shared Access (Medium Power)",
          "Spectrum Access EE",
          "Spectrum Access EE (Uplink)",
          "Spectrum Access Hutchison 3G",
          "Spectrum Access Hutchison 3G (Uplink)",
          "Spectrum Access Hutchison 3G (Uplink)",
          "Spectrum Access Telefonica",
          "Spectrum Access Telefonica (Uplink)",
          "Spectrum Access Vodafone",
          "Spectrum Access Vodafone (Uplink)",
          "Unallocated",
          "Unallocated",
          "Unallocated",
          "Unallocated",
          "Unallocated",
          "Unallocated",
          "Unallocated",
          "Unallocated",
          "Unallocated",
          "Unallocated",
          "Unallocated",
          "1000.0",
          "1100.0",
          "1200.0",
          "1300.0",
          "1400.0",
          "1500.0",
          "1600.0",
          "1700.0",
          "1800.0",
          "1900.0",
          "2000.0",
          "2 GHz"
         ],
         "marker": {
          "colors": [
           "#00cc96",
           "#00cc96",
           "#ab63fa",
           "#ab63fa",
           "#FFA15A",
           "#19d3f3",
           "#FF6692",
           "#B6E880",
           "#B6E880",
           "#FF97FF",
           "#FF97FF",
           "#FECB52",
           "#636efa",
           "#EF553B",
           "#00cc96",
           "#ab63fa",
           "#FFA15A",
           "#19d3f3",
           "#FF6692",
           "#B6E880",
           "grey",
           "grey",
           "grey",
           "grey",
           "grey",
           "grey",
           "grey",
           "grey",
           "grey",
           "#FF97FF",
           "#636efa",
           "#FECB52",
           "#636efa",
           "#636efa",
           "#EF553B",
           "#00cc96",
           "#ab63fa",
           "grey",
           "grey",
           "#19d3f3",
           "lightgrey",
           "lightgrey",
           "lightgrey",
           "lightgrey",
           "#FFA15A",
           "#00cc96",
           "#FF6692",
           "#EF553B",
           "#ab63fa",
           "#636efa",
           "#ab63fa",
           "#636efa",
           "#EF553B",
           "#B6E880",
           "#ab63fa",
           "#ab63fa",
           "#FFA15A",
           "#00cc96",
           "#19d3f3",
           "#FF97FF",
           "#FF6692",
           "grey",
           "grey",
           "grey",
           "grey",
           "grey",
           "grey",
           "grey",
           "grey",
           "grey",
           "grey",
           "grey",
           "grey",
           "grey",
           "grey",
           "grey",
           "lightgrey",
           "grey",
           "grey",
           "lightgrey",
           "lightgrey",
           "lightgrey",
           "grey",
           "lightgrey"
          ]
         },
         "name": "",
         "parents": [
          "2 GHz/1700.0/PWN EE (Uplink)",
          "2 GHz/1700.0/PWN Hutchison 3G (Uplink)",
          "2 GHz/1700.0/Shared Access (Low Power)",
          "2 GHz/1700.0/Shared Access (Medium Power)",
          "2 GHz/1800.0/PWN Telefonica UK (Downlink)",
          "2 GHz/1700.0/1785-1805 MHz Northern Ireland Award",
          "2 GHz/1800.0/PWN Vodafone (Downlink)",
          "2 GHz/1800.0/PWN EE (Downlink)",
          "2 GHz/1800.0/PWN Hutchison 3G (Downlink)",
          "2 GHz/1800.0/PWN EE (Downlink)",
          "2 GHz/1800.0/PWN Hutchison 3G (Downlink)",
          "2 GHz/1800.0/PWN EE (Downlink)",
          "2 GHz/1800.0/Shared Access (Medium Power)",
          "2 GHz/1800.0/Spectrum Access EE",
          "2 GHz/1900.0/Spectrum Access Telefonica",
          "2 GHz/1900.0/Spectrum Access Hutchison 3G",
          "2 GHz/1900.0/Spectrum Access Hutchison 3G (Uplink)",
          "2 GHz/1900.0/Spectrum Access Telefonica (Uplink)",
          "2 GHz/1900.0/Spectrum Access Vodafone (Uplink)",
          "2 GHz/1900.0/Spectrum Access EE (Uplink)",
          "2 GHz/1000.0/Unallocated",
          "2 GHz/1100.0/Unallocated",
          "2 GHz/1300.0/Unallocated",
          "2 GHz/1400.0/Unallocated",
          "2 GHz/1500.0/Unallocated",
          "2 GHz/1600.0/Unallocated",
          "2 GHz/1700.0/Unallocated",
          "2 GHz/1800.0/Unallocated",
          "2 GHz/1200.0/Unallocated",
          "2 GHz/1400.0/Spectrum Access Vodafone",
          "2 GHz/1800.0/Shared Access (Low Power)",
          "2 GHz/1700.0/PWN EE (Uplink)",
          "2 GHz/1700.0/PWN Hutchison 3G (Uplink)",
          "2 GHz/1700.0/PWN EE (Uplink)",
          "2 GHz/1700.0/PWN Vodafone (Uplink)",
          "2 GHz/1700.0/PWN Telefonica UK (Uplink)",
          "2 GHz/1400.0/Spectrum Access Hutchison 3G (Uplink)",
          "2 GHz/1900.0/Unallocated",
          "2 GHz/2000.0/Unallocated",
          "2 GHz/1700.0",
          "2 GHz/1800.0",
          "2 GHz/1700.0",
          "2 GHz/1800.0",
          "2 GHz/1700.0",
          "2 GHz/1800.0",
          "2 GHz/1700.0",
          "2 GHz/1800.0",
          "2 GHz/1700.0",
          "2 GHz/1700.0",
          "2 GHz/1800.0",
          "2 GHz/1700.0",
          "2 GHz/1800.0",
          "2 GHz/1800.0",
          "2 GHz/1900.0",
          "2 GHz/1900.0",
          "2 GHz/1400.0",
          "2 GHz/1900.0",
          "2 GHz/1900.0",
          "2 GHz/1900.0",
          "2 GHz/1400.0",
          "2 GHz/1900.0",
          "2 GHz/1000.0",
          "2 GHz/1100.0",
          "2 GHz/1200.0",
          "2 GHz/1300.0",
          "2 GHz/1400.0",
          "2 GHz/1500.0",
          "2 GHz/1600.0",
          "2 GHz/1700.0",
          "2 GHz/1800.0",
          "2 GHz/1900.0",
          "2 GHz/2000.0",
          "2 GHz",
          "2 GHz",
          "2 GHz",
          "2 GHz",
          "2 GHz",
          "2 GHz",
          "2 GHz",
          "2 GHz",
          "2 GHz",
          "2 GHz",
          "2 GHz",
          ""
         ],
         "root": {
          "color": "lightgrey"
         },
         "tiling": {
          "packing": "slice-dice"
         },
         "type": "treemap",
         "values": [
          10,
          10,
          3.2999999999999545,
          3.2999999999999545,
          5.800000000000182,
          20,
          5.7999999999999545,
          10,
          10,
          5,
          5,
          45,
          3.2999999999999545,
          10,
          5,
          5.099999999999909,
          14.900000000000091,
          10,
          14.799999999999955,
          20,
          100,
          100,
          100,
          60,
          100,
          100,
          0,
          0,
          100,
          20,
          3.2999999999999545,
          45,
          5,
          5,
          5.7999999999999545,
          5.800000000000182,
          20,
          30.200000000000045,
          100,
          20,
          60,
          60,
          15,
          15,
          5.800000000000182,
          5.800000000000182,
          5.7999999999999545,
          5.7999999999999545,
          3.2999999999999545,
          3.2999999999999545,
          3.2999999999999545,
          3.2999999999999545,
          10,
          20,
          5.099999999999909,
          20,
          14.900000000000091,
          5,
          10,
          20,
          14.799999999999955,
          100,
          100,
          100,
          100,
          60,
          100,
          100,
          0,
          0,
          30.200000000000045,
          100,
          100,
          100,
          100,
          100,
          100,
          100,
          100,
          113.20000000000005,
          103.20000000000005,
          100,
          100,
          1116.4
         ]
        },
        {
         "branchvalues": "total",
         "customdata": [
          [
           2124.9
          ],
          [
           2134.9
          ],
          [
           2149.7
          ],
          [
           2350
          ],
          [
           2500
          ],
          [
           2520
          ],
          [
           2535
          ],
          [
           2620
          ],
          [
           2640
          ],
          [
           2655
          ],
          [
           "Unallocated"
          ],
          [
           "Unallocated"
          ],
          [
           "Unallocated"
          ],
          [
           "Unallocated"
          ],
          [
           "Unallocated"
          ],
          [
           "Unallocated"
          ],
          [
           "Unallocated"
          ],
          [
           "Unallocated"
          ],
          [
           2110.3
          ],
          [
           "Unallocated"
          ],
          [
           2595
          ],
          [
           2570
          ],
          [
           2390
          ],
          [
           2390
          ],
          [
           "Unallocated"
          ],
          [
           "Unallocated"
          ],
          [
           2390
          ],
          [
           2390
          ],
          [
           2149.7
          ],
          [
           "(?)"
          ],
          [
           "(?)"
          ],
          [
           2110.3
          ],
          [
           2350
          ],
          [
           2595
          ],
          [
           2124.9
          ],
          [
           2570
          ],
          [
           2134.9
          ],
          [
           2620
          ],
          [
           2500
          ],
          [
           "Unallocated"
          ],
          [
           "Unallocated"
          ],
          [
           "Unallocated"
          ],
          [
           "Unallocated"
          ],
          [
           "Unallocated"
          ],
          [
           "Unallocated"
          ],
          [
           "Unallocated"
          ],
          [
           "Unallocated"
          ],
          [
           "Unallocated"
          ],
          [
           "Unallocated"
          ],
          [
           "Unallocated"
          ],
          [
           "Unallocated"
          ],
          [
           "(?)"
          ],
          [
           "Unallocated"
          ],
          [
           "(?)"
          ],
          [
           "Unallocated"
          ],
          [
           "(?)"
          ],
          [
           "(?)"
          ],
          [
           "Unallocated"
          ],
          [
           "Unallocated"
          ],
          [
           "Unallocated"
          ],
          [
           "Unallocated"
          ],
          [
           "(?)"
          ]
         ],
         "domain": {
          "x": [
           0,
           1
          ],
          "y": [
           0.5828571428571429,
           0.7085714285714286
          ]
         },
         "hovertemplate": "labels=%{label}<br>bw=%{value}<br>parent=%{parent}<br>id=%{id}<br>bands/lf=%{customdata[0]}<extra></extra>",
         "ids": [
          "3 GHz/2100.0/Spectrum Access Telefonica (Downlink)/2124.9",
          "3 GHz/2100.0/Spectrum Access Vodafone (Downlink)/2134.9",
          "3 GHz/2100.0/Spectrum Access EE (Downlink)/2149.7",
          "3 GHz/2300.0/Spectrum Access Telefonica/2350.0",
          "3 GHz/2500.0/Spectrum Access Vodafone (Uplink)/2500.0",
          "3 GHz/2500.0/Spectrum Access EE (Uplink)/2520.0",
          "3 GHz/2500.0/Spectrum Access EE (Uplink)/2535.0",
          "3 GHz/2600.0/Spectrum Access Vodafone (Downlink)/2620.0",
          "3 GHz/2600.0/Spectrum Access EE (Downlink)/2640.0",
          "3 GHz/2600.0/Spectrum Access EE (Downlink)/2655.0",
          "3 GHz/2000.0/Unallocated/Unallocated",
          "3 GHz/2100.0/Unallocated/Unallocated",
          "3 GHz/2300.0/Unallocated/Unallocated",
          "3 GHz/2400.0/Unallocated/Unallocated",
          "3 GHz/2500.0/Unallocated/Unallocated",
          "3 GHz/2800.0/Unallocated/Unallocated",
          "3 GHz/2600.0/Unallocated/Unallocated",
          "3 GHz/2700.0/Unallocated/Unallocated",
          "3 GHz/2100.0/Spectrum Access Hutchison 3G (Downlink)/2110.3",
          "3 GHz/2900.0/Unallocated/Unallocated",
          "3 GHz/2500.0/Spectrum Access Telefonica/2595.0",
          "3 GHz/2500.0/Spectrum Access Vodafone/2570.0",
          "3 GHz/2300.0/Shared Access (Medium Power)/2390.0",
          "3 GHz/2300.0/Shared Access (Low Power)/2390.0",
          "3 GHz/2200.0/Unallocated/Unallocated",
          "3 GHz/3000.0/Unallocated/Unallocated",
          "3 GHz/2300.0/Shared Access (Low Power)",
          "3 GHz/2300.0/Shared Access (Medium Power)",
          "3 GHz/2100.0/Spectrum Access EE (Downlink)",
          "3 GHz/2600.0/Spectrum Access EE (Downlink)",
          "3 GHz/2500.0/Spectrum Access EE (Uplink)",
          "3 GHz/2100.0/Spectrum Access Hutchison 3G (Downlink)",
          "3 GHz/2300.0/Spectrum Access Telefonica",
          "3 GHz/2500.0/Spectrum Access Telefonica",
          "3 GHz/2100.0/Spectrum Access Telefonica (Downlink)",
          "3 GHz/2500.0/Spectrum Access Vodafone",
          "3 GHz/2100.0/Spectrum Access Vodafone (Downlink)",
          "3 GHz/2600.0/Spectrum Access Vodafone (Downlink)",
          "3 GHz/2500.0/Spectrum Access Vodafone (Uplink)",
          "3 GHz/2000.0/Unallocated",
          "3 GHz/2100.0/Unallocated",
          "3 GHz/2200.0/Unallocated",
          "3 GHz/2300.0/Unallocated",
          "3 GHz/2400.0/Unallocated",
          "3 GHz/2500.0/Unallocated",
          "3 GHz/2600.0/Unallocated",
          "3 GHz/2700.0/Unallocated",
          "3 GHz/2800.0/Unallocated",
          "3 GHz/2900.0/Unallocated",
          "3 GHz/3000.0/Unallocated",
          "3 GHz/2000.0",
          "3 GHz/2100.0",
          "3 GHz/2200.0",
          "3 GHz/2300.0",
          "3 GHz/2400.0",
          "3 GHz/2500.0",
          "3 GHz/2600.0",
          "3 GHz/2700.0",
          "3 GHz/2800.0",
          "3 GHz/2900.0",
          "3 GHz/3000.0",
          "3 GHz"
         ],
         "labels": [
          "2124.9",
          "2134.9",
          "2149.7",
          "2350.0",
          "2500.0",
          "2520.0",
          "2535.0",
          "2620.0",
          "2640.0",
          "2655.0",
          "Unallocated",
          "Unallocated",
          "Unallocated",
          "Unallocated",
          "Unallocated",
          "Unallocated",
          "Unallocated",
          "Unallocated",
          "2110.3",
          "Unallocated",
          "2595.0",
          "2570.0",
          "2390.0",
          "2390.0",
          "Unallocated",
          "Unallocated",
          "Shared Access (Low Power)",
          "Shared Access (Medium Power)",
          "Spectrum Access EE (Downlink)",
          "Spectrum Access EE (Downlink)",
          "Spectrum Access EE (Uplink)",
          "Spectrum Access Hutchison 3G (Downlink)",
          "Spectrum Access Telefonica",
          "Spectrum Access Telefonica",
          "Spectrum Access Telefonica (Downlink)",
          "Spectrum Access Vodafone",
          "Spectrum Access Vodafone (Downlink)",
          "Spectrum Access Vodafone (Downlink)",
          "Spectrum Access Vodafone (Uplink)",
          "Unallocated",
          "Unallocated",
          "Unallocated",
          "Unallocated",
          "Unallocated",
          "Unallocated",
          "Unallocated",
          "Unallocated",
          "Unallocated",
          "Unallocated",
          "Unallocated",
          "2000.0",
          "2100.0",
          "2200.0",
          "2300.0",
          "2400.0",
          "2500.0",
          "2600.0",
          "2700.0",
          "2800.0",
          "2900.0",
          "3000.0",
          "3 GHz"
         ],
         "marker": {
          "colors": [
           "#00cc96",
           "#ab63fa",
           "#FFA15A",
           "#19d3f3",
           "#FF6692",
           "#B6E880",
           "#FF97FF",
           "#FECB52",
           "#636efa",
           "#EF553B",
           "grey",
           "grey",
           "grey",
           "grey",
           "grey",
           "grey",
           "grey",
           "grey",
           "#00cc96",
           "grey",
           "#ab63fa",
           "#FFA15A",
           "#19d3f3",
           "#19d3f3",
           "grey",
           "grey",
           "#19d3f3",
           "#19d3f3",
           "#FFA15A",
           "lightgrey",
           "lightgrey",
           "#00cc96",
           "#19d3f3",
           "#ab63fa",
           "#00cc96",
           "#FFA15A",
           "#ab63fa",
           "#FECB52",
           "#FF6692",
           "grey",
           "grey",
           "grey",
           "grey",
           "grey",
           "grey",
           "grey",
           "grey",
           "grey",
           "grey",
           "grey",
           "grey",
           "lightgrey",
           "grey",
           "lightgrey",
           "grey",
           "lightgrey",
           "lightgrey",
           "grey",
           "grey",
           "grey",
           "grey",
           "lightgrey"
          ]
         },
         "name": "",
         "parents": [
          "3 GHz/2100.0/Spectrum Access Telefonica (Downlink)",
          "3 GHz/2100.0/Spectrum Access Vodafone (Downlink)",
          "3 GHz/2100.0/Spectrum Access EE (Downlink)",
          "3 GHz/2300.0/Spectrum Access Telefonica",
          "3 GHz/2500.0/Spectrum Access Vodafone (Uplink)",
          "3 GHz/2500.0/Spectrum Access EE (Uplink)",
          "3 GHz/2500.0/Spectrum Access EE (Uplink)",
          "3 GHz/2600.0/Spectrum Access Vodafone (Downlink)",
          "3 GHz/2600.0/Spectrum Access EE (Downlink)",
          "3 GHz/2600.0/Spectrum Access EE (Downlink)",
          "3 GHz/2000.0/Unallocated",
          "3 GHz/2100.0/Unallocated",
          "3 GHz/2300.0/Unallocated",
          "3 GHz/2400.0/Unallocated",
          "3 GHz/2500.0/Unallocated",
          "3 GHz/2800.0/Unallocated",
          "3 GHz/2600.0/Unallocated",
          "3 GHz/2700.0/Unallocated",
          "3 GHz/2100.0/Spectrum Access Hutchison 3G (Downlink)",
          "3 GHz/2900.0/Unallocated",
          "3 GHz/2500.0/Spectrum Access Telefonica",
          "3 GHz/2500.0/Spectrum Access Vodafone",
          "3 GHz/2300.0/Shared Access (Medium Power)",
          "3 GHz/2300.0/Shared Access (Low Power)",
          "3 GHz/2200.0/Unallocated",
          "3 GHz/3000.0/Unallocated",
          "3 GHz/2300.0",
          "3 GHz/2300.0",
          "3 GHz/2100.0",
          "3 GHz/2600.0",
          "3 GHz/2500.0",
          "3 GHz/2100.0",
          "3 GHz/2300.0",
          "3 GHz/2500.0",
          "3 GHz/2100.0",
          "3 GHz/2500.0",
          "3 GHz/2100.0",
          "3 GHz/2600.0",
          "3 GHz/2500.0",
          "3 GHz/2000.0",
          "3 GHz/2100.0",
          "3 GHz/2200.0",
          "3 GHz/2300.0",
          "3 GHz/2400.0",
          "3 GHz/2500.0",
          "3 GHz/2600.0",
          "3 GHz/2700.0",
          "3 GHz/2800.0",
          "3 GHz/2900.0",
          "3 GHz/3000.0",
          "3 GHz",
          "3 GHz",
          "3 GHz",
          "3 GHz",
          "3 GHz",
          "3 GHz",
          "3 GHz",
          "3 GHz",
          "3 GHz",
          "3 GHz",
          "3 GHz",
          ""
         ],
         "root": {
          "color": "lightgrey"
         },
         "tiling": {
          "packing": "slice-dice"
         },
         "type": "treemap",
         "values": [
          10,
          14.799999999999727,
          20,
          40,
          20,
          15,
          35,
          20,
          15,
          35,
          100,
          40.600000000000364,
          40,
          100,
          0,
          100,
          30,
          100,
          14.599999999999909,
          100,
          25,
          25,
          10,
          10,
          100,
          100,
          10,
          10,
          20,
          50,
          50,
          14.599999999999909,
          40,
          25,
          10,
          25,
          14.799999999999727,
          20,
          20,
          100,
          40.600000000000364,
          100,
          40,
          100,
          0,
          30,
          100,
          100,
          100,
          100,
          100,
          100,
          100,
          100,
          100,
          120,
          100,
          100,
          100,
          100,
          100,
          1120
         ]
        },
        {
         "branchvalues": "total",
         "customdata": [
          [
           3540
          ],
          [
           3580
          ],
          [
           3600
          ],
          [
           3720
          ],
          [
           3720
          ],
          [
           3760
          ],
          [
           3800
          ],
          [
           3925
          ],
          [
           "Unallocated"
          ],
          [
           "Unallocated"
          ],
          [
           "Unallocated"
          ],
          [
           "Unallocated"
          ],
          [
           "Unallocated"
          ],
          [
           "Unallocated"
          ],
          [
           "Unallocated"
          ],
          [
           "Unallocated"
          ],
          [
           3410
          ],
          [
           "Unallocated"
          ],
          [
           3800
          ],
          [
           3680
          ],
          [
           3500
          ],
          [
           3480
          ],
          [
           3460
          ],
          [
           "Unallocated"
          ],
          [
           "Unallocated"
          ],
          [
           3800
          ],
          [
           3800
          ],
          [
           3540
          ],
          [
           3680
          ],
          [
           3460
          ],
          [
           3500
          ],
          [
           "(?)"
          ],
          [
           3480
          ],
          [
           3580
          ],
          [
           3600
          ],
          [
           3925
          ],
          [
           3410
          ],
          [
           3720
          ],
          [
           "Unallocated"
          ],
          [
           "Unallocated"
          ],
          [
           "Unallocated"
          ],
          [
           "Unallocated"
          ],
          [
           "Unallocated"
          ],
          [
           "Unallocated"
          ],
          [
           "Unallocated"
          ],
          [
           "Unallocated"
          ],
          [
           "Unallocated"
          ],
          [
           "Unallocated"
          ],
          [
           "Unallocated"
          ],
          [
           "Unallocated"
          ],
          [
           "Unallocated"
          ],
          [
           "Unallocated"
          ],
          [
           "Unallocated"
          ],
          [
           "(?)"
          ],
          [
           "(?)"
          ],
          [
           "(?)"
          ],
          [
           "(?)"
          ],
          [
           "(?)"
          ],
          [
           "(?)"
          ],
          [
           "Unallocated"
          ],
          [
           "(?)"
          ]
         ],
         "domain": {
          "x": [
           0,
           1
          ],
          "y": [
           0.43714285714285717,
           0.562857142857143
          ]
         },
         "hovertemplate": "labels=%{label}<br>bw=%{value}<br>parent=%{parent}<br>id=%{id}<br>bands/lf=%{customdata[0]}<extra></extra>",
         "ids": [
          "4 GHz/3500.0/Spectrum Access EE/3540.0",
          "4 GHz/3500.0/Spectrum Access UK Broadband/3580.0",
          "4 GHz/3600.0/Spectrum Access UK Broadband/3600.0",
          "4 GHz/3700.0/Spectrum Access Telefonica/3720.0",
          "4 GHz/3700.0/Spectrum Access Vodafone/3720.0",
          "4 GHz/3700.0/Spectrum Access Telefonica/3760.0",
          "4 GHz/3800.0/Shared Access (Medium Power)/3800.0",
          "4 GHz/3900.0/Spectrum Access UK Broadband/3925.0",
          "4 GHz/3200.0/Unallocated/Unallocated",
          "4 GHz/3100.0/Unallocated/Unallocated",
          "4 GHz/3300.0/Unallocated/Unallocated",
          "4 GHz/3600.0/Unallocated/Unallocated",
          "4 GHz/3500.0/Unallocated/Unallocated",
          "4 GHz/3800.0/Unallocated/Unallocated",
          "4 GHz/3700.0/Unallocated/Unallocated",
          "4 GHz/3400.0/Unallocated/Unallocated",
          "4 GHz/3400.0/Spectrum Access Vodafone/3410.0",
          "4 GHz/3900.0/Unallocated/Unallocated",
          "4 GHz/3800.0/Shared Access (Low Power)/3800.0",
          "4 GHz/3600.0/Spectrum Access EE/3680.0",
          "4 GHz/3500.0/Spectrum Access Telefonica/3500.0",
          "4 GHz/3400.0/Spectrum Access UK Broadband/3480.0",
          "4 GHz/3400.0/Spectrum Access Hutchison 3G/3460.0",
          "4 GHz/3000.0/Unallocated/Unallocated",
          "4 GHz/4000.0/Unallocated/Unallocated",
          "4 GHz/3800.0/Shared Access (Low Power)",
          "4 GHz/3800.0/Shared Access (Medium Power)",
          "4 GHz/3500.0/Spectrum Access EE",
          "4 GHz/3600.0/Spectrum Access EE",
          "4 GHz/3400.0/Spectrum Access Hutchison 3G",
          "4 GHz/3500.0/Spectrum Access Telefonica",
          "4 GHz/3700.0/Spectrum Access Telefonica",
          "4 GHz/3400.0/Spectrum Access UK Broadband",
          "4 GHz/3500.0/Spectrum Access UK Broadband",
          "4 GHz/3600.0/Spectrum Access UK Broadband",
          "4 GHz/3900.0/Spectrum Access UK Broadband",
          "4 GHz/3400.0/Spectrum Access Vodafone",
          "4 GHz/3700.0/Spectrum Access Vodafone",
          "4 GHz/3000.0/Unallocated",
          "4 GHz/3100.0/Unallocated",
          "4 GHz/3200.0/Unallocated",
          "4 GHz/3300.0/Unallocated",
          "4 GHz/3400.0/Unallocated",
          "4 GHz/3500.0/Unallocated",
          "4 GHz/3600.0/Unallocated",
          "4 GHz/3700.0/Unallocated",
          "4 GHz/3800.0/Unallocated",
          "4 GHz/3900.0/Unallocated",
          "4 GHz/4000.0/Unallocated",
          "4 GHz/3000.0",
          "4 GHz/3100.0",
          "4 GHz/3200.0",
          "4 GHz/3300.0",
          "4 GHz/3400.0",
          "4 GHz/3500.0",
          "4 GHz/3600.0",
          "4 GHz/3700.0",
          "4 GHz/3800.0",
          "4 GHz/3900.0",
          "4 GHz/4000.0",
          "4 GHz"
         ],
         "labels": [
          "3540.0",
          "3580.0",
          "3600.0",
          "3720.0",
          "3720.0",
          "3760.0",
          "3800.0",
          "3925.0",
          "Unallocated",
          "Unallocated",
          "Unallocated",
          "Unallocated",
          "Unallocated",
          "Unallocated",
          "Unallocated",
          "Unallocated",
          "3410.0",
          "Unallocated",
          "3800.0",
          "3680.0",
          "3500.0",
          "3480.0",
          "3460.0",
          "Unallocated",
          "Unallocated",
          "Shared Access (Low Power)",
          "Shared Access (Medium Power)",
          "Spectrum Access EE",
          "Spectrum Access EE",
          "Spectrum Access Hutchison 3G",
          "Spectrum Access Telefonica",
          "Spectrum Access Telefonica",
          "Spectrum Access UK Broadband",
          "Spectrum Access UK Broadband",
          "Spectrum Access UK Broadband",
          "Spectrum Access UK Broadband",
          "Spectrum Access Vodafone",
          "Spectrum Access Vodafone",
          "Unallocated",
          "Unallocated",
          "Unallocated",
          "Unallocated",
          "Unallocated",
          "Unallocated",
          "Unallocated",
          "Unallocated",
          "Unallocated",
          "Unallocated",
          "Unallocated",
          "3000.0",
          "3100.0",
          "3200.0",
          "3300.0",
          "3400.0",
          "3500.0",
          "3600.0",
          "3700.0",
          "3800.0",
          "3900.0",
          "4000.0",
          "4 GHz"
         ],
         "marker": {
          "colors": [
           "#00cc96",
           "#ab63fa",
           "#FFA15A",
           "#19d3f3",
           "#19d3f3",
           "#FF6692",
           "#B6E880",
           "#FF97FF",
           "grey",
           "grey",
           "grey",
           "grey",
           "grey",
           "grey",
           "grey",
           "grey",
           "#FECB52",
           "grey",
           "#B6E880",
           "#636efa",
           "#EF553B",
           "#00cc96",
           "#ab63fa",
           "grey",
           "grey",
           "#B6E880",
           "#B6E880",
           "#00cc96",
           "#636efa",
           "#ab63fa",
           "#EF553B",
           "lightgrey",
           "#00cc96",
           "#ab63fa",
           "#FFA15A",
           "#FF97FF",
           "#FECB52",
           "#19d3f3",
           "grey",
           "grey",
           "grey",
           "grey",
           "grey",
           "grey",
           "grey",
           "grey",
           "grey",
           "grey",
           "grey",
           "grey",
           "grey",
           "grey",
           "grey",
           "lightgrey",
           "lightgrey",
           "lightgrey",
           "lightgrey",
           "lightgrey",
           "lightgrey",
           "grey",
           "lightgrey"
          ]
         },
         "name": "",
         "parents": [
          "4 GHz/3500.0/Spectrum Access EE",
          "4 GHz/3500.0/Spectrum Access UK Broadband",
          "4 GHz/3600.0/Spectrum Access UK Broadband",
          "4 GHz/3700.0/Spectrum Access Telefonica",
          "4 GHz/3700.0/Spectrum Access Vodafone",
          "4 GHz/3700.0/Spectrum Access Telefonica",
          "4 GHz/3800.0/Shared Access (Medium Power)",
          "4 GHz/3900.0/Spectrum Access UK Broadband",
          "4 GHz/3200.0/Unallocated",
          "4 GHz/3100.0/Unallocated",
          "4 GHz/3300.0/Unallocated",
          "4 GHz/3600.0/Unallocated",
          "4 GHz/3500.0/Unallocated",
          "4 GHz/3800.0/Unallocated",
          "4 GHz/3700.0/Unallocated",
          "4 GHz/3400.0/Unallocated",
          "4 GHz/3400.0/Spectrum Access Vodafone",
          "4 GHz/3900.0/Unallocated",
          "4 GHz/3800.0/Shared Access (Low Power)",
          "4 GHz/3600.0/Spectrum Access EE",
          "4 GHz/3500.0/Spectrum Access Telefonica",
          "4 GHz/3400.0/Spectrum Access UK Broadband",
          "4 GHz/3400.0/Spectrum Access Hutchison 3G",
          "4 GHz/3000.0/Unallocated",
          "4 GHz/4000.0/Unallocated",
          "4 GHz/3800.0",
          "4 GHz/3800.0",
          "4 GHz/3500.0",
          "4 GHz/3600.0",
          "4 GHz/3400.0",
          "4 GHz/3500.0",
          "4 GHz/3700.0",
          "4 GHz/3400.0",
          "4 GHz/3500.0",
          "4 GHz/3600.0",
          "4 GHz/3900.0",
          "4 GHz/3400.0",
          "4 GHz/3700.0",
          "4 GHz/3000.0",
          "4 GHz/3100.0",
          "4 GHz/3200.0",
          "4 GHz/3300.0",
          "4 GHz/3400.0",
          "4 GHz/3500.0",
          "4 GHz/3600.0",
          "4 GHz/3700.0",
          "4 GHz/3800.0",
          "4 GHz/3900.0",
          "4 GHz/4000.0",
          "4 GHz",
          "4 GHz",
          "4 GHz",
          "4 GHz",
          "4 GHz",
          "4 GHz",
          "4 GHz",
          "4 GHz",
          "4 GHz",
          "4 GHz",
          "4 GHz",
          ""
         ],
         "root": {
          "color": "lightgrey"
         },
         "tiling": {
          "packing": "slice-dice"
         },
         "type": "treemap",
         "values": [
          40,
          20,
          80,
          40,
          40,
          40,
          400,
          84,
          100,
          100,
          100,
          0,
          0,
          0,
          0,
          10,
          50,
          16,
          400,
          40,
          40,
          20,
          20,
          100,
          100,
          400,
          400,
          40,
          40,
          20,
          40,
          80,
          20,
          20,
          80,
          84,
          50,
          40,
          100,
          100,
          100,
          100,
          10,
          0,
          0,
          0,
          0,
          16,
          100,
          100,
          100,
          100,
          100,
          100,
          100,
          120,
          120,
          800,
          100,
          100,
          1840
         ]
        },
        {
         "branchvalues": "total",
         "customdata": [
          [
           "Unallocated"
          ],
          [
           "Unallocated"
          ],
          [
           "Unallocated"
          ],
          [
           "Unallocated"
          ],
          [
           "Unallocated"
          ],
          [
           "Unallocated"
          ],
          [
           "Unallocated"
          ],
          [
           "Unallocated"
          ],
          [
           "Unallocated"
          ],
          [
           "Unallocated"
          ],
          [
           "Unallocated"
          ],
          [
           "Unallocated"
          ],
          [
           "Unallocated"
          ],
          [
           "Unallocated"
          ],
          [
           "Unallocated"
          ],
          [
           "Unallocated"
          ],
          [
           "Unallocated"
          ],
          [
           "Unallocated"
          ],
          [
           "Unallocated"
          ],
          [
           "Unallocated"
          ],
          [
           "Unallocated"
          ],
          [
           "Unallocated"
          ],
          [
           "Unallocated"
          ],
          [
           "Unallocated"
          ],
          [
           "Unallocated"
          ],
          [
           "Unallocated"
          ],
          [
           "Unallocated"
          ],
          [
           "Unallocated"
          ],
          [
           "Unallocated"
          ],
          [
           "Unallocated"
          ],
          [
           "Unallocated"
          ],
          [
           "Unallocated"
          ],
          [
           "Unallocated"
          ],
          [
           "Unallocated"
          ]
         ],
         "domain": {
          "x": [
           0,
           1
          ],
          "y": [
           0.2914285714285714,
           0.41714285714285715
          ]
         },
         "hovertemplate": "labels=%{label}<br>bw=%{value}<br>parent=%{parent}<br>id=%{id}<br>bands/lf=%{customdata[0]}<extra></extra>",
         "ids": [
          "5 GHz/4000.0/Unallocated/Unallocated",
          "5 GHz/4100.0/Unallocated/Unallocated",
          "5 GHz/4200.0/Unallocated/Unallocated",
          "5 GHz/4300.0/Unallocated/Unallocated",
          "5 GHz/4400.0/Unallocated/Unallocated",
          "5 GHz/4500.0/Unallocated/Unallocated",
          "5 GHz/4600.0/Unallocated/Unallocated",
          "5 GHz/4700.0/Unallocated/Unallocated",
          "5 GHz/4800.0/Unallocated/Unallocated",
          "5 GHz/4900.0/Unallocated/Unallocated",
          "5 GHz/5000.0/Unallocated/Unallocated",
          "5 GHz/4000.0/Unallocated",
          "5 GHz/4100.0/Unallocated",
          "5 GHz/4200.0/Unallocated",
          "5 GHz/4300.0/Unallocated",
          "5 GHz/4400.0/Unallocated",
          "5 GHz/4500.0/Unallocated",
          "5 GHz/4600.0/Unallocated",
          "5 GHz/4700.0/Unallocated",
          "5 GHz/4800.0/Unallocated",
          "5 GHz/4900.0/Unallocated",
          "5 GHz/5000.0/Unallocated",
          "5 GHz/4000.0",
          "5 GHz/4100.0",
          "5 GHz/4200.0",
          "5 GHz/4300.0",
          "5 GHz/4400.0",
          "5 GHz/4500.0",
          "5 GHz/4600.0",
          "5 GHz/4700.0",
          "5 GHz/4800.0",
          "5 GHz/4900.0",
          "5 GHz/5000.0",
          "5 GHz"
         ],
         "labels": [
          "Unallocated",
          "Unallocated",
          "Unallocated",
          "Unallocated",
          "Unallocated",
          "Unallocated",
          "Unallocated",
          "Unallocated",
          "Unallocated",
          "Unallocated",
          "Unallocated",
          "Unallocated",
          "Unallocated",
          "Unallocated",
          "Unallocated",
          "Unallocated",
          "Unallocated",
          "Unallocated",
          "Unallocated",
          "Unallocated",
          "Unallocated",
          "Unallocated",
          "4000.0",
          "4100.0",
          "4200.0",
          "4300.0",
          "4400.0",
          "4500.0",
          "4600.0",
          "4700.0",
          "4800.0",
          "4900.0",
          "5000.0",
          "5 GHz"
         ],
         "marker": {
          "colors": [
           "grey",
           "grey",
           "grey",
           "grey",
           "grey",
           "grey",
           "grey",
           "grey",
           "grey",
           "grey",
           "grey",
           "grey",
           "grey",
           "grey",
           "grey",
           "grey",
           "grey",
           "grey",
           "grey",
           "grey",
           "grey",
           "grey",
           "grey",
           "grey",
           "grey",
           "grey",
           "grey",
           "grey",
           "grey",
           "grey",
           "grey",
           "grey",
           "grey",
           "grey"
          ]
         },
         "name": "",
         "parents": [
          "5 GHz/4000.0/Unallocated",
          "5 GHz/4100.0/Unallocated",
          "5 GHz/4200.0/Unallocated",
          "5 GHz/4300.0/Unallocated",
          "5 GHz/4400.0/Unallocated",
          "5 GHz/4500.0/Unallocated",
          "5 GHz/4600.0/Unallocated",
          "5 GHz/4700.0/Unallocated",
          "5 GHz/4800.0/Unallocated",
          "5 GHz/4900.0/Unallocated",
          "5 GHz/5000.0/Unallocated",
          "5 GHz/4000.0",
          "5 GHz/4100.0",
          "5 GHz/4200.0",
          "5 GHz/4300.0",
          "5 GHz/4400.0",
          "5 GHz/4500.0",
          "5 GHz/4600.0",
          "5 GHz/4700.0",
          "5 GHz/4800.0",
          "5 GHz/4900.0",
          "5 GHz/5000.0",
          "5 GHz",
          "5 GHz",
          "5 GHz",
          "5 GHz",
          "5 GHz",
          "5 GHz",
          "5 GHz",
          "5 GHz",
          "5 GHz",
          "5 GHz",
          "5 GHz",
          ""
         ],
         "root": {
          "color": "lightgrey"
         },
         "tiling": {
          "packing": "slice-dice"
         },
         "type": "treemap",
         "values": [
          100,
          100,
          100,
          100,
          100,
          100,
          100,
          100,
          100,
          100,
          100,
          100,
          100,
          100,
          100,
          100,
          100,
          100,
          100,
          100,
          100,
          100,
          100,
          100,
          100,
          100,
          100,
          100,
          100,
          100,
          100,
          100,
          100,
          1100
         ]
        },
        {
         "branchvalues": "total",
         "customdata": [
          [
           "Unallocated"
          ],
          [
           5725
          ],
          [
           "Unallocated"
          ],
          [
           "Unallocated"
          ],
          [
           "Unallocated"
          ],
          [
           "Unallocated"
          ],
          [
           "Unallocated"
          ],
          [
           "Unallocated"
          ],
          [
           "Unallocated"
          ],
          [
           "Unallocated"
          ],
          [
           "Unallocated"
          ],
          [
           "Unallocated"
          ],
          [
           5725
          ],
          [
           "Unallocated"
          ],
          [
           "Unallocated"
          ],
          [
           "Unallocated"
          ],
          [
           "Unallocated"
          ],
          [
           "Unallocated"
          ],
          [
           "Unallocated"
          ],
          [
           "Unallocated"
          ],
          [
           "Unallocated"
          ],
          [
           "Unallocated"
          ],
          [
           "Unallocated"
          ],
          [
           "Unallocated"
          ],
          [
           "Unallocated"
          ],
          [
           "Unallocated"
          ],
          [
           "Unallocated"
          ],
          [
           "Unallocated"
          ],
          [
           "Unallocated"
          ],
          [
           "Unallocated"
          ],
          [
           "Unallocated"
          ],
          [
           "(?)"
          ],
          [
           "Unallocated"
          ],
          [
           "Unallocated"
          ],
          [
           "Unallocated"
          ],
          [
           "(?)"
          ]
         ],
         "domain": {
          "x": [
           0,
           1
          ],
          "y": [
           0.1457142857142857,
           0.27142857142857146
          ]
         },
         "hovertemplate": "labels=%{label}<br>bw=%{value}<br>parent=%{parent}<br>id=%{id}<br>bands/lf=%{customdata[0]}<extra></extra>",
         "ids": [
          "6 GHz/5600.0/Unallocated/Unallocated",
          "6 GHz/5700.0/Fixed Wireless Access (5.8 GHz band)/5725.0",
          "6 GHz/5000.0/Unallocated/Unallocated",
          "6 GHz/5100.0/Unallocated/Unallocated",
          "6 GHz/5200.0/Unallocated/Unallocated",
          "6 GHz/5300.0/Unallocated/Unallocated",
          "6 GHz/5400.0/Unallocated/Unallocated",
          "6 GHz/5500.0/Unallocated/Unallocated",
          "6 GHz/5700.0/Unallocated/Unallocated",
          "6 GHz/5800.0/Unallocated/Unallocated",
          "6 GHz/5900.0/Unallocated/Unallocated",
          "6 GHz/6000.0/Unallocated/Unallocated",
          "6 GHz/5700.0/Fixed Wireless Access (5.8 GHz band)",
          "6 GHz/5000.0/Unallocated",
          "6 GHz/5100.0/Unallocated",
          "6 GHz/5200.0/Unallocated",
          "6 GHz/5300.0/Unallocated",
          "6 GHz/5400.0/Unallocated",
          "6 GHz/5500.0/Unallocated",
          "6 GHz/5600.0/Unallocated",
          "6 GHz/5700.0/Unallocated",
          "6 GHz/5800.0/Unallocated",
          "6 GHz/5900.0/Unallocated",
          "6 GHz/6000.0/Unallocated",
          "6 GHz/5000.0",
          "6 GHz/5100.0",
          "6 GHz/5200.0",
          "6 GHz/5300.0",
          "6 GHz/5400.0",
          "6 GHz/5500.0",
          "6 GHz/5600.0",
          "6 GHz/5700.0",
          "6 GHz/5800.0",
          "6 GHz/5900.0",
          "6 GHz/6000.0",
          "6 GHz"
         ],
         "labels": [
          "Unallocated",
          "5725.0",
          "Unallocated",
          "Unallocated",
          "Unallocated",
          "Unallocated",
          "Unallocated",
          "Unallocated",
          "Unallocated",
          "Unallocated",
          "Unallocated",
          "Unallocated",
          "Fixed Wireless Access (5.8 GHz band)",
          "Unallocated",
          "Unallocated",
          "Unallocated",
          "Unallocated",
          "Unallocated",
          "Unallocated",
          "Unallocated",
          "Unallocated",
          "Unallocated",
          "Unallocated",
          "Unallocated",
          "5000.0",
          "5100.0",
          "5200.0",
          "5300.0",
          "5400.0",
          "5500.0",
          "5600.0",
          "5700.0",
          "5800.0",
          "5900.0",
          "6000.0",
          "6 GHz"
         ],
         "marker": {
          "colors": [
           "grey",
           "#00cc96",
           "grey",
           "grey",
           "grey",
           "grey",
           "grey",
           "grey",
           "grey",
           "grey",
           "grey",
           "grey",
           "#00cc96",
           "grey",
           "grey",
           "grey",
           "grey",
           "grey",
           "grey",
           "grey",
           "grey",
           "grey",
           "grey",
           "grey",
           "grey",
           "grey",
           "grey",
           "grey",
           "grey",
           "grey",
           "grey",
           "lightgrey",
           "grey",
           "grey",
           "grey",
           "lightgrey"
          ]
         },
         "name": "",
         "parents": [
          "6 GHz/5600.0/Unallocated",
          "6 GHz/5700.0/Fixed Wireless Access (5.8 GHz band)",
          "6 GHz/5000.0/Unallocated",
          "6 GHz/5100.0/Unallocated",
          "6 GHz/5200.0/Unallocated",
          "6 GHz/5300.0/Unallocated",
          "6 GHz/5400.0/Unallocated",
          "6 GHz/5500.0/Unallocated",
          "6 GHz/5700.0/Unallocated",
          "6 GHz/5800.0/Unallocated",
          "6 GHz/5900.0/Unallocated",
          "6 GHz/6000.0/Unallocated",
          "6 GHz/5700.0",
          "6 GHz/5000.0",
          "6 GHz/5100.0",
          "6 GHz/5200.0",
          "6 GHz/5300.0",
          "6 GHz/5400.0",
          "6 GHz/5500.0",
          "6 GHz/5600.0",
          "6 GHz/5700.0",
          "6 GHz/5800.0",
          "6 GHz/5900.0",
          "6 GHz/6000.0",
          "6 GHz",
          "6 GHz",
          "6 GHz",
          "6 GHz",
          "6 GHz",
          "6 GHz",
          "6 GHz",
          "6 GHz",
          "6 GHz",
          "6 GHz",
          "6 GHz",
          ""
         ],
         "root": {
          "color": "lightgrey"
         },
         "tiling": {
          "packing": "slice-dice"
         },
         "type": "treemap",
         "values": [
          100,
          125,
          100,
          100,
          100,
          100,
          100,
          100,
          0,
          100,
          100,
          100,
          125,
          100,
          100,
          100,
          100,
          100,
          100,
          100,
          0,
          100,
          100,
          100,
          100,
          100,
          100,
          100,
          100,
          100,
          100,
          125,
          100,
          100,
          100,
          1125
         ]
        },
        {
         "branchvalues": "total",
         "customdata": [
          [
           "Unallocated"
          ],
          [
           "Unallocated"
          ],
          [
           "Unallocated"
          ],
          [
           "Unallocated"
          ],
          [
           "Unallocated"
          ],
          [
           "Unallocated"
          ],
          [
           "Unallocated"
          ],
          [
           "Unallocated"
          ],
          [
           "Unallocated"
          ],
          [
           "Unallocated"
          ],
          [
           "Unallocated"
          ],
          [
           "Unallocated"
          ],
          [
           "Unallocated"
          ],
          [
           "Unallocated"
          ],
          [
           "Unallocated"
          ],
          [
           "Unallocated"
          ],
          [
           "Unallocated"
          ],
          [
           "Unallocated"
          ],
          [
           "Unallocated"
          ],
          [
           "Unallocated"
          ],
          [
           "Unallocated"
          ],
          [
           "Unallocated"
          ],
          [
           "Unallocated"
          ],
          [
           "Unallocated"
          ],
          [
           "Unallocated"
          ],
          [
           "Unallocated"
          ],
          [
           "Unallocated"
          ],
          [
           "Unallocated"
          ],
          [
           "Unallocated"
          ],
          [
           "Unallocated"
          ],
          [
           "Unallocated"
          ],
          [
           "Unallocated"
          ],
          [
           "Unallocated"
          ],
          [
           "Unallocated"
          ]
         ],
         "domain": {
          "x": [
           0,
           1
          ],
          "y": [
           0,
           0.12571428571428572
          ]
         },
         "hovertemplate": "labels=%{label}<br>bw=%{value}<br>parent=%{parent}<br>id=%{id}<br>bands/lf=%{customdata[0]}<extra></extra>",
         "ids": [
          "7 GHz/6000.0/Unallocated/Unallocated",
          "7 GHz/6100.0/Unallocated/Unallocated",
          "7 GHz/6200.0/Unallocated/Unallocated",
          "7 GHz/6300.0/Unallocated/Unallocated",
          "7 GHz/6400.0/Unallocated/Unallocated",
          "7 GHz/6500.0/Unallocated/Unallocated",
          "7 GHz/6600.0/Unallocated/Unallocated",
          "7 GHz/6700.0/Unallocated/Unallocated",
          "7 GHz/6800.0/Unallocated/Unallocated",
          "7 GHz/6900.0/Unallocated/Unallocated",
          "7 GHz/7000.0/Unallocated/Unallocated",
          "7 GHz/6000.0/Unallocated",
          "7 GHz/6100.0/Unallocated",
          "7 GHz/6200.0/Unallocated",
          "7 GHz/6300.0/Unallocated",
          "7 GHz/6400.0/Unallocated",
          "7 GHz/6500.0/Unallocated",
          "7 GHz/6600.0/Unallocated",
          "7 GHz/6700.0/Unallocated",
          "7 GHz/6800.0/Unallocated",
          "7 GHz/6900.0/Unallocated",
          "7 GHz/7000.0/Unallocated",
          "7 GHz/6000.0",
          "7 GHz/6100.0",
          "7 GHz/6200.0",
          "7 GHz/6300.0",
          "7 GHz/6400.0",
          "7 GHz/6500.0",
          "7 GHz/6600.0",
          "7 GHz/6700.0",
          "7 GHz/6800.0",
          "7 GHz/6900.0",
          "7 GHz/7000.0",
          "7 GHz"
         ],
         "labels": [
          "Unallocated",
          "Unallocated",
          "Unallocated",
          "Unallocated",
          "Unallocated",
          "Unallocated",
          "Unallocated",
          "Unallocated",
          "Unallocated",
          "Unallocated",
          "Unallocated",
          "Unallocated",
          "Unallocated",
          "Unallocated",
          "Unallocated",
          "Unallocated",
          "Unallocated",
          "Unallocated",
          "Unallocated",
          "Unallocated",
          "Unallocated",
          "Unallocated",
          "6000.0",
          "6100.0",
          "6200.0",
          "6300.0",
          "6400.0",
          "6500.0",
          "6600.0",
          "6700.0",
          "6800.0",
          "6900.0",
          "7000.0",
          "7 GHz"
         ],
         "marker": {
          "colors": [
           "grey",
           "grey",
           "grey",
           "grey",
           "grey",
           "grey",
           "grey",
           "grey",
           "grey",
           "grey",
           "grey",
           "grey",
           "grey",
           "grey",
           "grey",
           "grey",
           "grey",
           "grey",
           "grey",
           "grey",
           "grey",
           "grey",
           "grey",
           "grey",
           "grey",
           "grey",
           "grey",
           "grey",
           "grey",
           "grey",
           "grey",
           "grey",
           "grey",
           "grey"
          ]
         },
         "name": "",
         "parents": [
          "7 GHz/6000.0/Unallocated",
          "7 GHz/6100.0/Unallocated",
          "7 GHz/6200.0/Unallocated",
          "7 GHz/6300.0/Unallocated",
          "7 GHz/6400.0/Unallocated",
          "7 GHz/6500.0/Unallocated",
          "7 GHz/6600.0/Unallocated",
          "7 GHz/6700.0/Unallocated",
          "7 GHz/6800.0/Unallocated",
          "7 GHz/6900.0/Unallocated",
          "7 GHz/7000.0/Unallocated",
          "7 GHz/6000.0",
          "7 GHz/6100.0",
          "7 GHz/6200.0",
          "7 GHz/6300.0",
          "7 GHz/6400.0",
          "7 GHz/6500.0",
          "7 GHz/6600.0",
          "7 GHz/6700.0",
          "7 GHz/6800.0",
          "7 GHz/6900.0",
          "7 GHz/7000.0",
          "7 GHz",
          "7 GHz",
          "7 GHz",
          "7 GHz",
          "7 GHz",
          "7 GHz",
          "7 GHz",
          "7 GHz",
          "7 GHz",
          "7 GHz",
          "7 GHz",
          ""
         ],
         "root": {
          "color": "lightgrey"
         },
         "tiling": {
          "packing": "slice-dice"
         },
         "type": "treemap",
         "values": [
          100,
          100,
          100,
          100,
          100,
          100,
          100,
          100,
          100,
          100,
          100,
          100,
          100,
          100,
          100,
          100,
          100,
          100,
          100,
          100,
          100,
          100,
          100,
          100,
          100,
          100,
          100,
          100,
          100,
          100,
          100,
          100,
          100,
          1100
         ]
        }
       ],
       "layout": {
        "annotations": [
         {
          "font": {
           "size": 16
          },
          "showarrow": false,
          "text": "WBA Licences up to 1GHz",
          "x": 0.5,
          "xanchor": "center",
          "xref": "paper",
          "y": 1,
          "yanchor": "bottom",
          "yref": "paper"
         },
         {
          "font": {
           "size": 16
          },
          "showarrow": false,
          "text": "WBA Licences between 1 and 2GHz",
          "x": 0.5,
          "xanchor": "center",
          "xref": "paper",
          "y": 0.8542857142857143,
          "yanchor": "bottom",
          "yref": "paper"
         },
         {
          "font": {
           "size": 16
          },
          "showarrow": false,
          "text": "WBA Licences between 2 and 3GHz",
          "x": 0.5,
          "xanchor": "center",
          "xref": "paper",
          "y": 0.7085714285714286,
          "yanchor": "bottom",
          "yref": "paper"
         },
         {
          "font": {
           "size": 16
          },
          "showarrow": false,
          "text": "WBA Licences between 3 and 4GHz",
          "x": 0.5,
          "xanchor": "center",
          "xref": "paper",
          "y": 0.562857142857143,
          "yanchor": "bottom",
          "yref": "paper"
         },
         {
          "font": {
           "size": 16
          },
          "showarrow": false,
          "text": "WBA Licences between 4 and 5GHz",
          "x": 0.5,
          "xanchor": "center",
          "xref": "paper",
          "y": 0.41714285714285715,
          "yanchor": "bottom",
          "yref": "paper"
         },
         {
          "font": {
           "size": 16
          },
          "showarrow": false,
          "text": "WBA Licences between 5 and 6GHz",
          "x": 0.5,
          "xanchor": "center",
          "xref": "paper",
          "y": 0.27142857142857146,
          "yanchor": "bottom",
          "yref": "paper"
         },
         {
          "font": {
           "size": 16
          },
          "showarrow": false,
          "text": "WBA Licences between 6 and 7GHz",
          "x": 0.5,
          "xanchor": "center",
          "xref": "paper",
          "y": 0.12571428571428572,
          "yanchor": "bottom",
          "yref": "paper"
         }
        ],
        "height": 4000,
        "template": {
         "data": {
          "bar": [
           {
            "error_x": {
             "color": "#2a3f5f"
            },
            "error_y": {
             "color": "#2a3f5f"
            },
            "marker": {
             "line": {
              "color": "#E5ECF6",
              "width": 0.5
             },
             "pattern": {
              "fillmode": "overlay",
              "size": 10,
              "solidity": 0.2
             }
            },
            "type": "bar"
           }
          ],
          "barpolar": [
           {
            "marker": {
             "line": {
              "color": "#E5ECF6",
              "width": 0.5
             },
             "pattern": {
              "fillmode": "overlay",
              "size": 10,
              "solidity": 0.2
             }
            },
            "type": "barpolar"
           }
          ],
          "carpet": [
           {
            "aaxis": {
             "endlinecolor": "#2a3f5f",
             "gridcolor": "white",
             "linecolor": "white",
             "minorgridcolor": "white",
             "startlinecolor": "#2a3f5f"
            },
            "baxis": {
             "endlinecolor": "#2a3f5f",
             "gridcolor": "white",
             "linecolor": "white",
             "minorgridcolor": "white",
             "startlinecolor": "#2a3f5f"
            },
            "type": "carpet"
           }
          ],
          "choropleth": [
           {
            "colorbar": {
             "outlinewidth": 0,
             "ticks": ""
            },
            "type": "choropleth"
           }
          ],
          "contour": [
           {
            "colorbar": {
             "outlinewidth": 0,
             "ticks": ""
            },
            "colorscale": [
             [
              0,
              "#0d0887"
             ],
             [
              0.1111111111111111,
              "#46039f"
             ],
             [
              0.2222222222222222,
              "#7201a8"
             ],
             [
              0.3333333333333333,
              "#9c179e"
             ],
             [
              0.4444444444444444,
              "#bd3786"
             ],
             [
              0.5555555555555556,
              "#d8576b"
             ],
             [
              0.6666666666666666,
              "#ed7953"
             ],
             [
              0.7777777777777778,
              "#fb9f3a"
             ],
             [
              0.8888888888888888,
              "#fdca26"
             ],
             [
              1,
              "#f0f921"
             ]
            ],
            "type": "contour"
           }
          ],
          "contourcarpet": [
           {
            "colorbar": {
             "outlinewidth": 0,
             "ticks": ""
            },
            "type": "contourcarpet"
           }
          ],
          "heatmap": [
           {
            "colorbar": {
             "outlinewidth": 0,
             "ticks": ""
            },
            "colorscale": [
             [
              0,
              "#0d0887"
             ],
             [
              0.1111111111111111,
              "#46039f"
             ],
             [
              0.2222222222222222,
              "#7201a8"
             ],
             [
              0.3333333333333333,
              "#9c179e"
             ],
             [
              0.4444444444444444,
              "#bd3786"
             ],
             [
              0.5555555555555556,
              "#d8576b"
             ],
             [
              0.6666666666666666,
              "#ed7953"
             ],
             [
              0.7777777777777778,
              "#fb9f3a"
             ],
             [
              0.8888888888888888,
              "#fdca26"
             ],
             [
              1,
              "#f0f921"
             ]
            ],
            "type": "heatmap"
           }
          ],
          "heatmapgl": [
           {
            "colorbar": {
             "outlinewidth": 0,
             "ticks": ""
            },
            "colorscale": [
             [
              0,
              "#0d0887"
             ],
             [
              0.1111111111111111,
              "#46039f"
             ],
             [
              0.2222222222222222,
              "#7201a8"
             ],
             [
              0.3333333333333333,
              "#9c179e"
             ],
             [
              0.4444444444444444,
              "#bd3786"
             ],
             [
              0.5555555555555556,
              "#d8576b"
             ],
             [
              0.6666666666666666,
              "#ed7953"
             ],
             [
              0.7777777777777778,
              "#fb9f3a"
             ],
             [
              0.8888888888888888,
              "#fdca26"
             ],
             [
              1,
              "#f0f921"
             ]
            ],
            "type": "heatmapgl"
           }
          ],
          "histogram": [
           {
            "marker": {
             "pattern": {
              "fillmode": "overlay",
              "size": 10,
              "solidity": 0.2
             }
            },
            "type": "histogram"
           }
          ],
          "histogram2d": [
           {
            "colorbar": {
             "outlinewidth": 0,
             "ticks": ""
            },
            "colorscale": [
             [
              0,
              "#0d0887"
             ],
             [
              0.1111111111111111,
              "#46039f"
             ],
             [
              0.2222222222222222,
              "#7201a8"
             ],
             [
              0.3333333333333333,
              "#9c179e"
             ],
             [
              0.4444444444444444,
              "#bd3786"
             ],
             [
              0.5555555555555556,
              "#d8576b"
             ],
             [
              0.6666666666666666,
              "#ed7953"
             ],
             [
              0.7777777777777778,
              "#fb9f3a"
             ],
             [
              0.8888888888888888,
              "#fdca26"
             ],
             [
              1,
              "#f0f921"
             ]
            ],
            "type": "histogram2d"
           }
          ],
          "histogram2dcontour": [
           {
            "colorbar": {
             "outlinewidth": 0,
             "ticks": ""
            },
            "colorscale": [
             [
              0,
              "#0d0887"
             ],
             [
              0.1111111111111111,
              "#46039f"
             ],
             [
              0.2222222222222222,
              "#7201a8"
             ],
             [
              0.3333333333333333,
              "#9c179e"
             ],
             [
              0.4444444444444444,
              "#bd3786"
             ],
             [
              0.5555555555555556,
              "#d8576b"
             ],
             [
              0.6666666666666666,
              "#ed7953"
             ],
             [
              0.7777777777777778,
              "#fb9f3a"
             ],
             [
              0.8888888888888888,
              "#fdca26"
             ],
             [
              1,
              "#f0f921"
             ]
            ],
            "type": "histogram2dcontour"
           }
          ],
          "mesh3d": [
           {
            "colorbar": {
             "outlinewidth": 0,
             "ticks": ""
            },
            "type": "mesh3d"
           }
          ],
          "parcoords": [
           {
            "line": {
             "colorbar": {
              "outlinewidth": 0,
              "ticks": ""
             }
            },
            "type": "parcoords"
           }
          ],
          "pie": [
           {
            "automargin": true,
            "type": "pie"
           }
          ],
          "scatter": [
           {
            "marker": {
             "colorbar": {
              "outlinewidth": 0,
              "ticks": ""
             }
            },
            "type": "scatter"
           }
          ],
          "scatter3d": [
           {
            "line": {
             "colorbar": {
              "outlinewidth": 0,
              "ticks": ""
             }
            },
            "marker": {
             "colorbar": {
              "outlinewidth": 0,
              "ticks": ""
             }
            },
            "type": "scatter3d"
           }
          ],
          "scattercarpet": [
           {
            "marker": {
             "colorbar": {
              "outlinewidth": 0,
              "ticks": ""
             }
            },
            "type": "scattercarpet"
           }
          ],
          "scattergeo": [
           {
            "marker": {
             "colorbar": {
              "outlinewidth": 0,
              "ticks": ""
             }
            },
            "type": "scattergeo"
           }
          ],
          "scattergl": [
           {
            "marker": {
             "colorbar": {
              "outlinewidth": 0,
              "ticks": ""
             }
            },
            "type": "scattergl"
           }
          ],
          "scattermapbox": [
           {
            "marker": {
             "colorbar": {
              "outlinewidth": 0,
              "ticks": ""
             }
            },
            "type": "scattermapbox"
           }
          ],
          "scatterpolar": [
           {
            "marker": {
             "colorbar": {
              "outlinewidth": 0,
              "ticks": ""
             }
            },
            "type": "scatterpolar"
           }
          ],
          "scatterpolargl": [
           {
            "marker": {
             "colorbar": {
              "outlinewidth": 0,
              "ticks": ""
             }
            },
            "type": "scatterpolargl"
           }
          ],
          "scatterternary": [
           {
            "marker": {
             "colorbar": {
              "outlinewidth": 0,
              "ticks": ""
             }
            },
            "type": "scatterternary"
           }
          ],
          "surface": [
           {
            "colorbar": {
             "outlinewidth": 0,
             "ticks": ""
            },
            "colorscale": [
             [
              0,
              "#0d0887"
             ],
             [
              0.1111111111111111,
              "#46039f"
             ],
             [
              0.2222222222222222,
              "#7201a8"
             ],
             [
              0.3333333333333333,
              "#9c179e"
             ],
             [
              0.4444444444444444,
              "#bd3786"
             ],
             [
              0.5555555555555556,
              "#d8576b"
             ],
             [
              0.6666666666666666,
              "#ed7953"
             ],
             [
              0.7777777777777778,
              "#fb9f3a"
             ],
             [
              0.8888888888888888,
              "#fdca26"
             ],
             [
              1,
              "#f0f921"
             ]
            ],
            "type": "surface"
           }
          ],
          "table": [
           {
            "cells": {
             "fill": {
              "color": "#EBF0F8"
             },
             "line": {
              "color": "white"
             }
            },
            "header": {
             "fill": {
              "color": "#C8D4E3"
             },
             "line": {
              "color": "white"
             }
            },
            "type": "table"
           }
          ]
         },
         "layout": {
          "annotationdefaults": {
           "arrowcolor": "#2a3f5f",
           "arrowhead": 0,
           "arrowwidth": 1
          },
          "autotypenumbers": "strict",
          "coloraxis": {
           "colorbar": {
            "outlinewidth": 0,
            "ticks": ""
           }
          },
          "colorscale": {
           "diverging": [
            [
             0,
             "#8e0152"
            ],
            [
             0.1,
             "#c51b7d"
            ],
            [
             0.2,
             "#de77ae"
            ],
            [
             0.3,
             "#f1b6da"
            ],
            [
             0.4,
             "#fde0ef"
            ],
            [
             0.5,
             "#f7f7f7"
            ],
            [
             0.6,
             "#e6f5d0"
            ],
            [
             0.7,
             "#b8e186"
            ],
            [
             0.8,
             "#7fbc41"
            ],
            [
             0.9,
             "#4d9221"
            ],
            [
             1,
             "#276419"
            ]
           ],
           "sequential": [
            [
             0,
             "#0d0887"
            ],
            [
             0.1111111111111111,
             "#46039f"
            ],
            [
             0.2222222222222222,
             "#7201a8"
            ],
            [
             0.3333333333333333,
             "#9c179e"
            ],
            [
             0.4444444444444444,
             "#bd3786"
            ],
            [
             0.5555555555555556,
             "#d8576b"
            ],
            [
             0.6666666666666666,
             "#ed7953"
            ],
            [
             0.7777777777777778,
             "#fb9f3a"
            ],
            [
             0.8888888888888888,
             "#fdca26"
            ],
            [
             1,
             "#f0f921"
            ]
           ],
           "sequentialminus": [
            [
             0,
             "#0d0887"
            ],
            [
             0.1111111111111111,
             "#46039f"
            ],
            [
             0.2222222222222222,
             "#7201a8"
            ],
            [
             0.3333333333333333,
             "#9c179e"
            ],
            [
             0.4444444444444444,
             "#bd3786"
            ],
            [
             0.5555555555555556,
             "#d8576b"
            ],
            [
             0.6666666666666666,
             "#ed7953"
            ],
            [
             0.7777777777777778,
             "#fb9f3a"
            ],
            [
             0.8888888888888888,
             "#fdca26"
            ],
            [
             1,
             "#f0f921"
            ]
           ]
          },
          "colorway": [
           "#636efa",
           "#EF553B",
           "#00cc96",
           "#ab63fa",
           "#FFA15A",
           "#19d3f3",
           "#FF6692",
           "#B6E880",
           "#FF97FF",
           "#FECB52"
          ],
          "font": {
           "color": "#2a3f5f"
          },
          "geo": {
           "bgcolor": "white",
           "lakecolor": "white",
           "landcolor": "#E5ECF6",
           "showlakes": true,
           "showland": true,
           "subunitcolor": "white"
          },
          "hoverlabel": {
           "align": "left"
          },
          "hovermode": "closest",
          "mapbox": {
           "style": "light"
          },
          "paper_bgcolor": "white",
          "plot_bgcolor": "#E5ECF6",
          "polar": {
           "angularaxis": {
            "gridcolor": "white",
            "linecolor": "white",
            "ticks": ""
           },
           "bgcolor": "#E5ECF6",
           "radialaxis": {
            "gridcolor": "white",
            "linecolor": "white",
            "ticks": ""
           }
          },
          "scene": {
           "xaxis": {
            "backgroundcolor": "#E5ECF6",
            "gridcolor": "white",
            "gridwidth": 2,
            "linecolor": "white",
            "showbackground": true,
            "ticks": "",
            "zerolinecolor": "white"
           },
           "yaxis": {
            "backgroundcolor": "#E5ECF6",
            "gridcolor": "white",
            "gridwidth": 2,
            "linecolor": "white",
            "showbackground": true,
            "ticks": "",
            "zerolinecolor": "white"
           },
           "zaxis": {
            "backgroundcolor": "#E5ECF6",
            "gridcolor": "white",
            "gridwidth": 2,
            "linecolor": "white",
            "showbackground": true,
            "ticks": "",
            "zerolinecolor": "white"
           }
          },
          "shapedefaults": {
           "line": {
            "color": "#2a3f5f"
           }
          },
          "ternary": {
           "aaxis": {
            "gridcolor": "white",
            "linecolor": "white",
            "ticks": ""
           },
           "baxis": {
            "gridcolor": "white",
            "linecolor": "white",
            "ticks": ""
           },
           "bgcolor": "#E5ECF6",
           "caxis": {
            "gridcolor": "white",
            "linecolor": "white",
            "ticks": ""
           }
          },
          "title": {
           "x": 0.05
          },
          "xaxis": {
           "automargin": true,
           "gridcolor": "white",
           "linecolor": "white",
           "ticks": "",
           "title": {
            "standoff": 15
           },
           "zerolinecolor": "white",
           "zerolinewidth": 2
          },
          "yaxis": {
           "automargin": true,
           "gridcolor": "white",
           "linecolor": "white",
           "ticks": "",
           "title": {
            "standoff": 15
           },
           "zerolinecolor": "white",
           "zerolinewidth": 2
          }
         }
        }
       }
      }
     },
     "metadata": {},
     "output_type": "display_data"
    }
   ],
   "source": [
    "from plotly.subplots import make_subplots\n",
    "\n",
    "fig = make_subplots(\n",
    "    cols = 1, rows = 7,\n",
    "    subplot_titles = ('WBA Licences up to 1GHz', \n",
    "        'WBA Licences between 1 and 2GHz',\n",
    "        'WBA Licences between 2 and 3GHz',\n",
    "        'WBA Licences between 3 and 4GHz',\n",
    "        'WBA Licences between 4 and 5GHz',\n",
    "        'WBA Licences between 5 and 6GHz',\n",
    "        'WBA Licences between 6 and 7GHz'\n",
    "    ),\n",
    "    specs = [[{'type': 'treemap'}],\n",
    "        [{'type': 'treemap'}],\n",
    "        [{'type': 'treemap'}],\n",
    "        [{'type': 'treemap'}],\n",
    "        [{'type': 'treemap'}],\n",
    "        [{'type': 'treemap'}],\n",
    "        [{'type': 'treemap'}]\n",
    "    ], vertical_spacing=0.02\n",
    ")\n",
    "\n",
    "fig.add_trace(treemap1.data[0],row=1,col=1)\n",
    "fig.add_trace(treemap2.data[0],row=2,col=1)\n",
    "fig.add_trace(treemap3.data[0],row=3,col=1)\n",
    "fig.add_trace(treemap4.data[0],row=4,col=1)\n",
    "fig.add_trace(treemap5.data[0],row=5,col=1)\n",
    "fig.add_trace(treemap6.data[0],row=6,col=1)\n",
    "fig.add_trace(treemap7.data[0],row=7,col=1)\n",
    "fig.update_layout(height=4000)\n",
    "fig.write_html('Ofcom Treemaps/UKSpectrumMapTreemap0.html')\n",
    "fig.show()\n"
   ]
  },
  {
   "cell_type": "code",
   "execution_count": null,
   "metadata": {},
   "outputs": [],
   "source": []
  }
 ],
 "metadata": {
  "interpreter": {
   "hash": "cca67527604eeadd1b822e163783aa5673f145238baf20e2ba20176c0e708a3a"
  },
  "kernelspec": {
   "display_name": "Python 3.10.2 64-bit",
   "language": "python",
   "name": "python3"
  },
  "language_info": {
   "codemirror_mode": {
    "name": "ipython",
    "version": 3
   },
   "file_extension": ".py",
   "mimetype": "text/x-python",
   "name": "python",
   "nbconvert_exporter": "python",
   "pygments_lexer": "ipython3",
   "version": "3.10.2"
  },
  "orig_nbformat": 4
 },
 "nbformat": 4,
 "nbformat_minor": 2
}
