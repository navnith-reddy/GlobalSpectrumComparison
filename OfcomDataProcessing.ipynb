{
 "cells": [
  {
   "cell_type": "markdown",
   "metadata": {},
   "source": [
    "# Filtering Ofcom Wireless Telegraphy Register\n",
    "\n",
    "The Wireless Telegraphy Register (WTR) is a publicly available database containing all of the UK's licencing information. The WTR contains information such as licence number, issue date, coordinates and licence holder among many others. The scope of the WTR is much larger than is required to visualise released spectrum in for Wireless Broad Access and will require extensive filtering and conditional formatting.\n",
    "\n",
    "The WTR contains every licence, over all of the UK's spectrum. Filters must be developed to isolate mid-band licences used exclusively for WBA and must exclude extraneous information such as antenna specifications and device location.\n",
    "\n",
    "## WTR Complications\n",
    "\n",
    "Unlike the RRL, the required data exists in a single CSV file, however, there aren't any Ofcom classifications for WBA licences which means that filter criteria need developed very carefully to ensure all non-WBA licences are excluded."
   ]
  },
  {
   "cell_type": "code",
   "execution_count": 16,
   "metadata": {},
   "outputs": [
    {
     "data": {
      "text/html": [
       "<div>\n",
       "<style scoped>\n",
       "    .dataframe tbody tr th:only-of-type {\n",
       "        vertical-align: middle;\n",
       "    }\n",
       "\n",
       "    .dataframe tbody tr th {\n",
       "        vertical-align: top;\n",
       "    }\n",
       "\n",
       "    .dataframe thead th {\n",
       "        text-align: right;\n",
       "    }\n",
       "</style>\n",
       "<table border=\"1\" class=\"dataframe\">\n",
       "  <thead>\n",
       "    <tr style=\"text-align: right;\">\n",
       "      <th></th>\n",
       "      <th>LICENCE_NO</th>\n",
       "      <th>FREQUENCY</th>\n",
       "      <th>STATION_TYPE</th>\n",
       "      <th>BW</th>\n",
       "      <th>CATEGORY</th>\n",
       "    </tr>\n",
       "  </thead>\n",
       "  <tbody>\n",
       "    <tr>\n",
       "      <th>0</th>\n",
       "      <td>0000036/2</td>\n",
       "      <td>165.58750</td>\n",
       "      <td>T</td>\n",
       "      <td>0.0125</td>\n",
       "      <td>BR Tech Assigned</td>\n",
       "    </tr>\n",
       "    <tr>\n",
       "      <th>1</th>\n",
       "      <td>0000036/2</td>\n",
       "      <td>165.58750</td>\n",
       "      <td>R</td>\n",
       "      <td>0.0125</td>\n",
       "      <td>BR Tech Assigned</td>\n",
       "    </tr>\n",
       "    <tr>\n",
       "      <th>2</th>\n",
       "      <td>0000036/2</td>\n",
       "      <td>170.38750</td>\n",
       "      <td>R</td>\n",
       "      <td>0.0125</td>\n",
       "      <td>BR Tech Assigned</td>\n",
       "    </tr>\n",
       "    <tr>\n",
       "      <th>3</th>\n",
       "      <td>0000036/2</td>\n",
       "      <td>170.38750</td>\n",
       "      <td>T</td>\n",
       "      <td>0.0125</td>\n",
       "      <td>BR Tech Assigned</td>\n",
       "    </tr>\n",
       "    <tr>\n",
       "      <th>4</th>\n",
       "      <td>0000042/1</td>\n",
       "      <td>157.02500</td>\n",
       "      <td>T</td>\n",
       "      <td>0.0250</td>\n",
       "      <td>CSR Marina</td>\n",
       "    </tr>\n",
       "    <tr>\n",
       "      <th>...</th>\n",
       "      <td>...</td>\n",
       "      <td>...</td>\n",
       "      <td>...</td>\n",
       "      <td>...</td>\n",
       "      <td>...</td>\n",
       "    </tr>\n",
       "    <tr>\n",
       "      <th>159903</th>\n",
       "      <td>ES0089008/1</td>\n",
       "      <td>2106.40625</td>\n",
       "      <td>T</td>\n",
       "      <td>4.3000</td>\n",
       "      <td>Satellite (Non Fixed Satellite Earth Station)</td>\n",
       "    </tr>\n",
       "    <tr>\n",
       "      <th>159904</th>\n",
       "      <td>ES0089008/1</td>\n",
       "      <td>2216.00000</td>\n",
       "      <td>R</td>\n",
       "      <td>1.7600</td>\n",
       "      <td>Satellite (Non Fixed Satellite Earth Station)</td>\n",
       "    </tr>\n",
       "    <tr>\n",
       "      <th>159905</th>\n",
       "      <td>ES0089008/1</td>\n",
       "      <td>2216.00000</td>\n",
       "      <td>R</td>\n",
       "      <td>2.7300</td>\n",
       "      <td>Satellite (Non Fixed Satellite Earth Station)</td>\n",
       "    </tr>\n",
       "    <tr>\n",
       "      <th>159906</th>\n",
       "      <td>ES0089008/1</td>\n",
       "      <td>2232.50000</td>\n",
       "      <td>R</td>\n",
       "      <td>4.1400</td>\n",
       "      <td>Satellite (Non Fixed Satellite Earth Station)</td>\n",
       "    </tr>\n",
       "    <tr>\n",
       "      <th>159907</th>\n",
       "      <td>ES0089008/1</td>\n",
       "      <td>2272.50000</td>\n",
       "      <td>R</td>\n",
       "      <td>4.1400</td>\n",
       "      <td>Satellite (Non Fixed Satellite Earth Station)</td>\n",
       "    </tr>\n",
       "  </tbody>\n",
       "</table>\n",
       "<p>159908 rows × 5 columns</p>\n",
       "</div>"
      ],
      "text/plain": [
       "         LICENCE_NO   FREQUENCY STATION_TYPE      BW  \\\n",
       "0         0000036/2   165.58750            T  0.0125   \n",
       "1         0000036/2   165.58750            R  0.0125   \n",
       "2         0000036/2   170.38750            R  0.0125   \n",
       "3         0000036/2   170.38750            T  0.0125   \n",
       "4         0000042/1   157.02500            T  0.0250   \n",
       "...             ...         ...          ...     ...   \n",
       "159903  ES0089008/1  2106.40625            T  4.3000   \n",
       "159904  ES0089008/1  2216.00000            R  1.7600   \n",
       "159905  ES0089008/1  2216.00000            R  2.7300   \n",
       "159906  ES0089008/1  2232.50000            R  4.1400   \n",
       "159907  ES0089008/1  2272.50000            R  4.1400   \n",
       "\n",
       "                                             CATEGORY  \n",
       "0                                    BR Tech Assigned  \n",
       "1                                    BR Tech Assigned  \n",
       "2                                    BR Tech Assigned  \n",
       "3                                    BR Tech Assigned  \n",
       "4                                          CSR Marina  \n",
       "...                                               ...  \n",
       "159903  Satellite (Non Fixed Satellite Earth Station)  \n",
       "159904  Satellite (Non Fixed Satellite Earth Station)  \n",
       "159905  Satellite (Non Fixed Satellite Earth Station)  \n",
       "159906  Satellite (Non Fixed Satellite Earth Station)  \n",
       "159907  Satellite (Non Fixed Satellite Earth Station)  \n",
       "\n",
       "[159908 rows x 5 columns]"
      ]
     },
     "execution_count": 16,
     "metadata": {},
     "output_type": "execute_result"
    }
   ],
   "source": [
    "import pandas as pd\n",
    "import numpy as np\n",
    "\n",
    "wtr = pd.read_csv('WTR.csv')\n",
    "\n",
    "# Remove unnecessary columns\n",
    "wtr = wtr[['Licence Number', \n",
    "    'Frequency (Hz)', \n",
    "    'Station Type', \n",
    "    'Channel Width (Hz)', \n",
    "    'Product Description']]\n",
    "\n",
    "# Convert Hz to MHz\n",
    "wtr['Frequency (Hz)'] = (wtr['Frequency (Hz)'] / 1000000).round(5)\n",
    "wtr['Channel Width (Hz)'] = (wtr['Channel Width (Hz)'] / 1000000).round(5)\n",
    "\n",
    "# Change column names\n",
    "wtr.rename(columns={'Frequency (Hz)' : 'FREQUENCY',\n",
    "    'Channel Width (Hz)' : 'BW',\n",
    "    'Licence Number' : 'LICENCE_NO',\n",
    "    'Station Type' : 'STATION_TYPE',\n",
    "    'Product Description' : 'CATEGORY'}, inplace=True)\n",
    "\n",
    "# Isolate mid-band frequencies\n",
    "wtr = wtr[wtr['FREQUENCY'] < 7000]\n",
    "wtr.sort_values(by=['LICENCE_NO','FREQUENCY'], inplace=True)\n",
    "wtr.reset_index(drop=True, inplace=True)\n",
    "\n",
    "# Save dataset to CSV\n",
    "wtr.to_csv('Ofcom Datasets/spectrumLicences.csv', index=False)\n",
    "wtr"
   ]
  },
  {
   "cell_type": "markdown",
   "metadata": {},
   "source": [
    "## User Generated Dataframe\n",
    "\n",
    "There is a user generated dataset containing 100 MHz frequency summaries for mid-band wireless broadband licences below 5 GHz.\n",
    "\n",
    "> NOTE: Using the transpose functions breaks indexing, ignore strange index name"
   ]
  },
  {
   "cell_type": "code",
   "execution_count": 79,
   "metadata": {},
   "outputs": [
    {
     "name": "stderr",
     "output_type": "stream",
     "text": [
      "C:\\Users\\Nav\\AppData\\Local\\Temp\\ipykernel_1256\\1481661842.py:17: SettingWithCopyWarning:\n",
      "\n",
      "\n",
      "A value is trying to be set on a copy of a slice from a DataFrame.\n",
      "Try using .loc[row_indexer,col_indexer] = value instead\n",
      "\n",
      "See the caveats in the documentation: https://pandas.pydata.org/pandas-docs/stable/user_guide/indexing.html#returning-a-view-versus-a-copy\n",
      "\n",
      "C:\\Users\\Nav\\AppData\\Local\\Temp\\ipykernel_1256\\1481661842.py:18: SettingWithCopyWarning:\n",
      "\n",
      "\n",
      "A value is trying to be set on a copy of a slice from a DataFrame\n",
      "\n",
      "See the caveats in the documentation: https://pandas.pydata.org/pandas-docs/stable/user_guide/indexing.html#returning-a-view-versus-a-copy\n",
      "\n",
      "C:\\Users\\Nav\\AppData\\Local\\Temp\\ipykernel_1256\\1481661842.py:21: SettingWithCopyWarning:\n",
      "\n",
      "\n",
      "A value is trying to be set on a copy of a slice from a DataFrame.\n",
      "Try using .loc[row_indexer,col_indexer] = value instead\n",
      "\n",
      "See the caveats in the documentation: https://pandas.pydata.org/pandas-docs/stable/user_guide/indexing.html#returning-a-view-versus-a-copy\n",
      "\n",
      "C:\\Users\\Nav\\AppData\\Local\\Temp\\ipykernel_1256\\1481661842.py:22: SettingWithCopyWarning:\n",
      "\n",
      "\n",
      "A value is trying to be set on a copy of a slice from a DataFrame\n",
      "\n",
      "See the caveats in the documentation: https://pandas.pydata.org/pandas-docs/stable/user_guide/indexing.html#returning-a-view-versus-a-copy\n",
      "\n",
      "C:\\Users\\Nav\\AppData\\Local\\Temp\\ipykernel_1256\\1481661842.py:25: SettingWithCopyWarning:\n",
      "\n",
      "\n",
      "A value is trying to be set on a copy of a slice from a DataFrame.\n",
      "Try using .loc[row_indexer,col_indexer] = value instead\n",
      "\n",
      "See the caveats in the documentation: https://pandas.pydata.org/pandas-docs/stable/user_guide/indexing.html#returning-a-view-versus-a-copy\n",
      "\n",
      "C:\\Users\\Nav\\AppData\\Local\\Temp\\ipykernel_1256\\1481661842.py:26: SettingWithCopyWarning:\n",
      "\n",
      "\n",
      "A value is trying to be set on a copy of a slice from a DataFrame\n",
      "\n",
      "See the caveats in the documentation: https://pandas.pydata.org/pandas-docs/stable/user_guide/indexing.html#returning-a-view-versus-a-copy\n",
      "\n",
      "C:\\Users\\Nav\\AppData\\Local\\Temp\\ipykernel_1256\\1481661842.py:33: SettingWithCopyWarning:\n",
      "\n",
      "\n",
      "A value is trying to be set on a copy of a slice from a DataFrame.\n",
      "Try using .loc[row_indexer,col_indexer] = value instead\n",
      "\n",
      "See the caveats in the documentation: https://pandas.pydata.org/pandas-docs/stable/user_guide/indexing.html#returning-a-view-versus-a-copy\n",
      "\n",
      "C:\\Users\\Nav\\AppData\\Local\\Temp\\ipykernel_1256\\1481661842.py:34: SettingWithCopyWarning:\n",
      "\n",
      "\n",
      "A value is trying to be set on a copy of a slice from a DataFrame.\n",
      "Try using .loc[row_indexer,col_indexer] = value instead\n",
      "\n",
      "See the caveats in the documentation: https://pandas.pydata.org/pandas-docs/stable/user_guide/indexing.html#returning-a-view-versus-a-copy\n",
      "\n",
      "C:\\Users\\Nav\\AppData\\Local\\Temp\\ipykernel_1256\\1481661842.py:35: SettingWithCopyWarning:\n",
      "\n",
      "\n",
      "A value is trying to be set on a copy of a slice from a DataFrame\n",
      "\n",
      "See the caveats in the documentation: https://pandas.pydata.org/pandas-docs/stable/user_guide/indexing.html#returning-a-view-versus-a-copy\n",
      "\n"
     ]
    },
    {
     "data": {
      "text/html": [
       "<div>\n",
       "<style scoped>\n",
       "    .dataframe tbody tr th:only-of-type {\n",
       "        vertical-align: middle;\n",
       "    }\n",
       "\n",
       "    .dataframe tbody tr th {\n",
       "        vertical-align: top;\n",
       "    }\n",
       "\n",
       "    .dataframe thead th {\n",
       "        text-align: right;\n",
       "    }\n",
       "</style>\n",
       "<table border=\"1\" class=\"dataframe\">\n",
       "  <thead>\n",
       "    <tr style=\"text-align: right;\">\n",
       "      <th>Frequency</th>\n",
       "      <th>FREQUENCY</th>\n",
       "      <th>BW</th>\n",
       "      <th>Licences</th>\n",
       "      <th>TYPE</th>\n",
       "    </tr>\n",
       "  </thead>\n",
       "  <tbody>\n",
       "    <tr>\n",
       "      <th>0</th>\n",
       "      <td>700</td>\n",
       "      <td>30.0</td>\n",
       "      <td>3.0</td>\n",
       "      <td>UPLINK</td>\n",
       "    </tr>\n",
       "    <tr>\n",
       "      <th>0</th>\n",
       "      <td>700</td>\n",
       "      <td>0.0</td>\n",
       "      <td>0.0</td>\n",
       "      <td>LINK</td>\n",
       "    </tr>\n",
       "    <tr>\n",
       "      <th>0</th>\n",
       "      <td>700</td>\n",
       "      <td>36.0</td>\n",
       "      <td>1.0</td>\n",
       "      <td>UNALLOCATED</td>\n",
       "    </tr>\n",
       "    <tr>\n",
       "      <th>0</th>\n",
       "      <td>700</td>\n",
       "      <td>34.0</td>\n",
       "      <td>5.0</td>\n",
       "      <td>DOWNLINK</td>\n",
       "    </tr>\n",
       "    <tr>\n",
       "      <th>1</th>\n",
       "      <td>800</td>\n",
       "      <td>49.9</td>\n",
       "      <td>7.0</td>\n",
       "      <td>UPLINK</td>\n",
       "    </tr>\n",
       "    <tr>\n",
       "      <th>...</th>\n",
       "      <td>...</td>\n",
       "      <td>...</td>\n",
       "      <td>...</td>\n",
       "      <td>...</td>\n",
       "    </tr>\n",
       "    <tr>\n",
       "      <th>42</th>\n",
       "      <td>4900</td>\n",
       "      <td>NaN</td>\n",
       "      <td>NaN</td>\n",
       "      <td>UPLINK</td>\n",
       "    </tr>\n",
       "    <tr>\n",
       "      <th>43</th>\n",
       "      <td>5000</td>\n",
       "      <td>NaN</td>\n",
       "      <td>NaN</td>\n",
       "      <td>DOWNLINK</td>\n",
       "    </tr>\n",
       "    <tr>\n",
       "      <th>43</th>\n",
       "      <td>5000</td>\n",
       "      <td>NaN</td>\n",
       "      <td>NaN</td>\n",
       "      <td>UPLINK</td>\n",
       "    </tr>\n",
       "    <tr>\n",
       "      <th>43</th>\n",
       "      <td>5000</td>\n",
       "      <td>NaN</td>\n",
       "      <td>NaN</td>\n",
       "      <td>LINK</td>\n",
       "    </tr>\n",
       "    <tr>\n",
       "      <th>43</th>\n",
       "      <td>5000</td>\n",
       "      <td>NaN</td>\n",
       "      <td>1.0</td>\n",
       "      <td>UNALLOCATED</td>\n",
       "    </tr>\n",
       "  </tbody>\n",
       "</table>\n",
       "<p>176 rows × 4 columns</p>\n",
       "</div>"
      ],
      "text/plain": [
       "Frequency  FREQUENCY    BW  Licences         TYPE\n",
       "0                700  30.0       3.0       UPLINK\n",
       "0                700   0.0       0.0         LINK\n",
       "0                700  36.0       1.0  UNALLOCATED\n",
       "0                700  34.0       5.0     DOWNLINK\n",
       "1                800  49.9       7.0       UPLINK\n",
       "..               ...   ...       ...          ...\n",
       "42              4900   NaN       NaN       UPLINK\n",
       "43              5000   NaN       NaN     DOWNLINK\n",
       "43              5000   NaN       NaN       UPLINK\n",
       "43              5000   NaN       NaN         LINK\n",
       "43              5000   NaN       1.0  UNALLOCATED\n",
       "\n",
       "[176 rows x 4 columns]"
      ]
     },
     "execution_count": 79,
     "metadata": {},
     "output_type": "execute_result"
    }
   ],
   "source": [
    "userGen = pd.read_csv('Ofcom Datasets/userGeneratedDataset.csv')\n",
    "userGen = userGen.set_index('Frequency').transpose()\n",
    "userGen.reset_index(inplace=True)\n",
    "\n",
    "# Rename Columns\n",
    "userGen = userGen.rename(columns={'index' : 'FREQUENCY',\n",
    "    'Usage (MHz)' : 'BW', \n",
    "    'Uplink Usage (MHz)' : 'UP_BW',\n",
    "    'Downlink Usage (MHz)' : 'LW_BW',\n",
    "    'Link Usage (MHz)' : 'L_BW'}, inplace=False)\n",
    "\n",
    "#userGen['BW'] = userGen['BW'].fillna(0)\n",
    "userGen['FREE'] = 100 - userGen['BW']\n",
    "\n",
    "# Separate Uplink, Downlink, Total and Free\n",
    "uplink = userGen[['FREQUENCY','UP_BW','Uplinks']]\n",
    "uplink['TYPE'] = 'UPLINK'\n",
    "uplink.rename(columns={'UP_BW':'BW','Uplinks':'Licences'}, inplace=True)\n",
    "\n",
    "downlink = userGen[['FREQUENCY', 'LW_BW', 'Downlinks']]\n",
    "downlink['TYPE'] = 'DOWNLINK'\n",
    "downlink.rename(columns={'LW_BW':'BW','Downlinks':'Licences'}, inplace=True)\n",
    "\n",
    "link = userGen[['FREQUENCY', 'L_BW', 'Links']]\n",
    "link['TYPE'] = 'LINK'\n",
    "link.rename(columns={'L_BW':'BW','Links':'Licences'}, inplace=True)\n",
    "\n",
    "#total = userGen[['FREQUENCY', 'BW', 'Complete Licences']]\n",
    "#total['TYPE'] = 'TOTAL'\n",
    "#total.rename(columns={'Complete Licences':'Licences'}, inplace=True)\n",
    "\n",
    "free = userGen[['FREQUENCY', 'FREE']]\n",
    "free['Licences'] = 1\n",
    "free['TYPE'] = 'UNALLOCATED'\n",
    "free.rename(columns={'FREE':'BW'}, inplace=True)\n",
    "\n",
    "userGenFreq = pd.concat([uplink, downlink, link, free], axis=0)\n",
    "userGenFreq = userGenFreq.astype({'FREQUENCY' : 'int64'})\n",
    "userGenFreq = userGenFreq.sort_values(by=['FREQUENCY'], inplace=False)\n",
    "\n",
    "userGenFreq.to_csv('Ofcom Datasets/userGenFreqList.csv', index=False)\n",
    "userGenFreq"
   ]
  },
  {
   "cell_type": "markdown",
   "metadata": {},
   "source": [
    "# DATA VISUALISATION"
   ]
  },
  {
   "cell_type": "markdown",
   "metadata": {},
   "source": [
    "## User Generated Frequency List"
   ]
  },
  {
   "cell_type": "code",
   "execution_count": 80,
   "metadata": {},
   "outputs": [
    {
     "name": "stderr",
     "output_type": "stream",
     "text": [
      "C:\\Users\\Nav\\AppData\\Local\\Programs\\Python\\Python310\\lib\\site-packages\\plotly\\express\\_core.py:1637: FutureWarning:\n",
      "\n",
      "The frame.append method is deprecated and will be removed from pandas in a future version. Use pandas.concat instead.\n",
      "\n",
      "C:\\Users\\Nav\\AppData\\Local\\Programs\\Python\\Python310\\lib\\site-packages\\plotly\\express\\_core.py:1637: FutureWarning:\n",
      "\n",
      "The frame.append method is deprecated and will be removed from pandas in a future version. Use pandas.concat instead.\n",
      "\n",
      "C:\\Users\\Nav\\AppData\\Local\\Programs\\Python\\Python310\\lib\\site-packages\\plotly\\express\\_core.py:1637: FutureWarning:\n",
      "\n",
      "The frame.append method is deprecated and will be removed from pandas in a future version. Use pandas.concat instead.\n",
      "\n"
     ]
    },
    {
     "data": {
      "application/vnd.plotly.v1+json": {
       "config": {
        "plotlyServerURL": "https://plot.ly"
       },
       "data": [
        {
         "branchvalues": "total",
         "domain": {
          "x": [
           0,
           1
          ],
          "y": [
           0,
           1
          ]
         },
         "hovertemplate": "labels=%{label}<br>BW=%{value}<br>parent=%{parent}<br>id=%{id}<extra></extra>",
         "ids": [
          "1 - 5GHz/700/DOWNLINK",
          "1 - 5GHz/800/DOWNLINK",
          "1 - 5GHz/900/DOWNLINK",
          "1 - 5GHz/1000/DOWNLINK",
          "1 - 5GHz/1100/DOWNLINK",
          "1 - 5GHz/1200/DOWNLINK",
          "1 - 5GHz/1300/DOWNLINK",
          "1 - 5GHz/1400/DOWNLINK",
          "1 - 5GHz/1500/DOWNLINK",
          "1 - 5GHz/1600/DOWNLINK",
          "1 - 5GHz/1700/DOWNLINK",
          "1 - 5GHz/1800/DOWNLINK",
          "1 - 5GHz/1900/DOWNLINK",
          "1 - 5GHz/2000/DOWNLINK",
          "1 - 5GHz/2100/DOWNLINK",
          "1 - 5GHz/2200/DOWNLINK",
          "1 - 5GHz/2300/DOWNLINK",
          "1 - 5GHz/2400/DOWNLINK",
          "1 - 5GHz/2500/DOWNLINK",
          "1 - 5GHz/2600/DOWNLINK",
          "1 - 5GHz/2700/DOWNLINK",
          "1 - 5GHz/2800/DOWNLINK",
          "1 - 5GHz/2900/DOWNLINK",
          "1 - 5GHz/3000/DOWNLINK",
          "1 - 5GHz/3100/DOWNLINK",
          "1 - 5GHz/3200/DOWNLINK",
          "1 - 5GHz/3300/DOWNLINK",
          "1 - 5GHz/3400/DOWNLINK",
          "1 - 5GHz/3500/DOWNLINK",
          "1 - 5GHz/3600/DOWNLINK",
          "1 - 5GHz/3700/DOWNLINK",
          "1 - 5GHz/3800/DOWNLINK",
          "1 - 5GHz/3900/DOWNLINK",
          "1 - 5GHz/4000/DOWNLINK",
          "1 - 5GHz/4100/DOWNLINK",
          "1 - 5GHz/4200/DOWNLINK",
          "1 - 5GHz/4300/DOWNLINK",
          "1 - 5GHz/4400/DOWNLINK",
          "1 - 5GHz/4500/DOWNLINK",
          "1 - 5GHz/4600/DOWNLINK",
          "1 - 5GHz/4700/DOWNLINK",
          "1 - 5GHz/4800/DOWNLINK",
          "1 - 5GHz/4900/DOWNLINK",
          "1 - 5GHz/5000/DOWNLINK",
          "1 - 5GHz/700/LINK",
          "1 - 5GHz/800/LINK",
          "1 - 5GHz/900/LINK",
          "1 - 5GHz/1000/LINK",
          "1 - 5GHz/1100/LINK",
          "1 - 5GHz/1200/LINK",
          "1 - 5GHz/1300/LINK",
          "1 - 5GHz/1400/LINK",
          "1 - 5GHz/1500/LINK",
          "1 - 5GHz/1600/LINK",
          "1 - 5GHz/1700/LINK",
          "1 - 5GHz/1800/LINK",
          "1 - 5GHz/1900/LINK",
          "1 - 5GHz/2000/LINK",
          "1 - 5GHz/2100/LINK",
          "1 - 5GHz/2200/LINK",
          "1 - 5GHz/2300/LINK",
          "1 - 5GHz/2400/LINK",
          "1 - 5GHz/2500/LINK",
          "1 - 5GHz/2600/LINK",
          "1 - 5GHz/2700/LINK",
          "1 - 5GHz/2800/LINK",
          "1 - 5GHz/2900/LINK",
          "1 - 5GHz/3000/LINK",
          "1 - 5GHz/3100/LINK",
          "1 - 5GHz/3200/LINK",
          "1 - 5GHz/3300/LINK",
          "1 - 5GHz/3400/LINK",
          "1 - 5GHz/3500/LINK",
          "1 - 5GHz/3600/LINK",
          "1 - 5GHz/3700/LINK",
          "1 - 5GHz/3800/LINK",
          "1 - 5GHz/3900/LINK",
          "1 - 5GHz/4000/LINK",
          "1 - 5GHz/4100/LINK",
          "1 - 5GHz/4200/LINK",
          "1 - 5GHz/4300/LINK",
          "1 - 5GHz/4400/LINK",
          "1 - 5GHz/4500/LINK",
          "1 - 5GHz/4600/LINK",
          "1 - 5GHz/4700/LINK",
          "1 - 5GHz/4800/LINK",
          "1 - 5GHz/4900/LINK",
          "1 - 5GHz/5000/LINK",
          "1 - 5GHz/700/UNALLOCATED",
          "1 - 5GHz/800/UNALLOCATED",
          "1 - 5GHz/900/UNALLOCATED",
          "1 - 5GHz/1000/UNALLOCATED",
          "1 - 5GHz/1100/UNALLOCATED",
          "1 - 5GHz/1200/UNALLOCATED",
          "1 - 5GHz/1300/UNALLOCATED",
          "1 - 5GHz/1400/UNALLOCATED",
          "1 - 5GHz/1500/UNALLOCATED",
          "1 - 5GHz/1600/UNALLOCATED",
          "1 - 5GHz/1700/UNALLOCATED",
          "1 - 5GHz/1800/UNALLOCATED",
          "1 - 5GHz/1900/UNALLOCATED",
          "1 - 5GHz/2000/UNALLOCATED",
          "1 - 5GHz/2100/UNALLOCATED",
          "1 - 5GHz/2200/UNALLOCATED",
          "1 - 5GHz/2300/UNALLOCATED",
          "1 - 5GHz/2400/UNALLOCATED",
          "1 - 5GHz/2500/UNALLOCATED",
          "1 - 5GHz/2600/UNALLOCATED",
          "1 - 5GHz/2700/UNALLOCATED",
          "1 - 5GHz/2800/UNALLOCATED",
          "1 - 5GHz/2900/UNALLOCATED",
          "1 - 5GHz/3000/UNALLOCATED",
          "1 - 5GHz/3100/UNALLOCATED",
          "1 - 5GHz/3200/UNALLOCATED",
          "1 - 5GHz/3300/UNALLOCATED",
          "1 - 5GHz/3400/UNALLOCATED",
          "1 - 5GHz/3500/UNALLOCATED",
          "1 - 5GHz/3600/UNALLOCATED",
          "1 - 5GHz/3700/UNALLOCATED",
          "1 - 5GHz/3800/UNALLOCATED",
          "1 - 5GHz/3900/UNALLOCATED",
          "1 - 5GHz/4000/UNALLOCATED",
          "1 - 5GHz/4100/UNALLOCATED",
          "1 - 5GHz/4200/UNALLOCATED",
          "1 - 5GHz/4300/UNALLOCATED",
          "1 - 5GHz/4400/UNALLOCATED",
          "1 - 5GHz/4500/UNALLOCATED",
          "1 - 5GHz/4600/UNALLOCATED",
          "1 - 5GHz/4700/UNALLOCATED",
          "1 - 5GHz/4800/UNALLOCATED",
          "1 - 5GHz/4900/UNALLOCATED",
          "1 - 5GHz/5000/UNALLOCATED",
          "1 - 5GHz/700/UPLINK",
          "1 - 5GHz/800/UPLINK",
          "1 - 5GHz/900/UPLINK",
          "1 - 5GHz/1000/UPLINK",
          "1 - 5GHz/1100/UPLINK",
          "1 - 5GHz/1200/UPLINK",
          "1 - 5GHz/1300/UPLINK",
          "1 - 5GHz/1400/UPLINK",
          "1 - 5GHz/1500/UPLINK",
          "1 - 5GHz/1600/UPLINK",
          "1 - 5GHz/1700/UPLINK",
          "1 - 5GHz/1800/UPLINK",
          "1 - 5GHz/1900/UPLINK",
          "1 - 5GHz/2000/UPLINK",
          "1 - 5GHz/2100/UPLINK",
          "1 - 5GHz/2200/UPLINK",
          "1 - 5GHz/2300/UPLINK",
          "1 - 5GHz/2400/UPLINK",
          "1 - 5GHz/2500/UPLINK",
          "1 - 5GHz/2600/UPLINK",
          "1 - 5GHz/2700/UPLINK",
          "1 - 5GHz/2800/UPLINK",
          "1 - 5GHz/2900/UPLINK",
          "1 - 5GHz/3000/UPLINK",
          "1 - 5GHz/3100/UPLINK",
          "1 - 5GHz/3200/UPLINK",
          "1 - 5GHz/3300/UPLINK",
          "1 - 5GHz/3400/UPLINK",
          "1 - 5GHz/3500/UPLINK",
          "1 - 5GHz/3600/UPLINK",
          "1 - 5GHz/3700/UPLINK",
          "1 - 5GHz/3800/UPLINK",
          "1 - 5GHz/3900/UPLINK",
          "1 - 5GHz/4000/UPLINK",
          "1 - 5GHz/4100/UPLINK",
          "1 - 5GHz/4200/UPLINK",
          "1 - 5GHz/4300/UPLINK",
          "1 - 5GHz/4400/UPLINK",
          "1 - 5GHz/4500/UPLINK",
          "1 - 5GHz/4600/UPLINK",
          "1 - 5GHz/4700/UPLINK",
          "1 - 5GHz/4800/UPLINK",
          "1 - 5GHz/4900/UPLINK",
          "1 - 5GHz/5000/UPLINK",
          "1 - 5GHz/700",
          "1 - 5GHz/800",
          "1 - 5GHz/900",
          "1 - 5GHz/1000",
          "1 - 5GHz/1100",
          "1 - 5GHz/1200",
          "1 - 5GHz/1300",
          "1 - 5GHz/1400",
          "1 - 5GHz/1500",
          "1 - 5GHz/1600",
          "1 - 5GHz/1700",
          "1 - 5GHz/1800",
          "1 - 5GHz/1900",
          "1 - 5GHz/2000",
          "1 - 5GHz/2100",
          "1 - 5GHz/2200",
          "1 - 5GHz/2300",
          "1 - 5GHz/2400",
          "1 - 5GHz/2500",
          "1 - 5GHz/2600",
          "1 - 5GHz/2700",
          "1 - 5GHz/2800",
          "1 - 5GHz/2900",
          "1 - 5GHz/3000",
          "1 - 5GHz/3100",
          "1 - 5GHz/3200",
          "1 - 5GHz/3300",
          "1 - 5GHz/3400",
          "1 - 5GHz/3500",
          "1 - 5GHz/3600",
          "1 - 5GHz/3700",
          "1 - 5GHz/3800",
          "1 - 5GHz/3900",
          "1 - 5GHz/4000",
          "1 - 5GHz/4100",
          "1 - 5GHz/4200",
          "1 - 5GHz/4300",
          "1 - 5GHz/4400",
          "1 - 5GHz/4500",
          "1 - 5GHz/4600",
          "1 - 5GHz/4700",
          "1 - 5GHz/4800",
          "1 - 5GHz/4900",
          "1 - 5GHz/5000",
          "1 - 5GHz"
         ],
         "labels": [
          "DOWNLINK",
          "DOWNLINK",
          "DOWNLINK",
          "DOWNLINK",
          "DOWNLINK",
          "DOWNLINK",
          "DOWNLINK",
          "DOWNLINK",
          "DOWNLINK",
          "DOWNLINK",
          "DOWNLINK",
          "DOWNLINK",
          "DOWNLINK",
          "DOWNLINK",
          "DOWNLINK",
          "DOWNLINK",
          "DOWNLINK",
          "DOWNLINK",
          "DOWNLINK",
          "DOWNLINK",
          "DOWNLINK",
          "DOWNLINK",
          "DOWNLINK",
          "DOWNLINK",
          "DOWNLINK",
          "DOWNLINK",
          "DOWNLINK",
          "DOWNLINK",
          "DOWNLINK",
          "DOWNLINK",
          "DOWNLINK",
          "DOWNLINK",
          "DOWNLINK",
          "DOWNLINK",
          "DOWNLINK",
          "DOWNLINK",
          "DOWNLINK",
          "DOWNLINK",
          "DOWNLINK",
          "DOWNLINK",
          "DOWNLINK",
          "DOWNLINK",
          "DOWNLINK",
          "DOWNLINK",
          "LINK",
          "LINK",
          "LINK",
          "LINK",
          "LINK",
          "LINK",
          "LINK",
          "LINK",
          "LINK",
          "LINK",
          "LINK",
          "LINK",
          "LINK",
          "LINK",
          "LINK",
          "LINK",
          "LINK",
          "LINK",
          "LINK",
          "LINK",
          "LINK",
          "LINK",
          "LINK",
          "LINK",
          "LINK",
          "LINK",
          "LINK",
          "LINK",
          "LINK",
          "LINK",
          "LINK",
          "LINK",
          "LINK",
          "LINK",
          "LINK",
          "LINK",
          "LINK",
          "LINK",
          "LINK",
          "LINK",
          "LINK",
          "LINK",
          "LINK",
          "LINK",
          "UNALLOCATED",
          "UNALLOCATED",
          "UNALLOCATED",
          "UNALLOCATED",
          "UNALLOCATED",
          "UNALLOCATED",
          "UNALLOCATED",
          "UNALLOCATED",
          "UNALLOCATED",
          "UNALLOCATED",
          "UNALLOCATED",
          "UNALLOCATED",
          "UNALLOCATED",
          "UNALLOCATED",
          "UNALLOCATED",
          "UNALLOCATED",
          "UNALLOCATED",
          "UNALLOCATED",
          "UNALLOCATED",
          "UNALLOCATED",
          "UNALLOCATED",
          "UNALLOCATED",
          "UNALLOCATED",
          "UNALLOCATED",
          "UNALLOCATED",
          "UNALLOCATED",
          "UNALLOCATED",
          "UNALLOCATED",
          "UNALLOCATED",
          "UNALLOCATED",
          "UNALLOCATED",
          "UNALLOCATED",
          "UNALLOCATED",
          "UNALLOCATED",
          "UNALLOCATED",
          "UNALLOCATED",
          "UNALLOCATED",
          "UNALLOCATED",
          "UNALLOCATED",
          "UNALLOCATED",
          "UNALLOCATED",
          "UNALLOCATED",
          "UNALLOCATED",
          "UNALLOCATED",
          "UPLINK",
          "UPLINK",
          "UPLINK",
          "UPLINK",
          "UPLINK",
          "UPLINK",
          "UPLINK",
          "UPLINK",
          "UPLINK",
          "UPLINK",
          "UPLINK",
          "UPLINK",
          "UPLINK",
          "UPLINK",
          "UPLINK",
          "UPLINK",
          "UPLINK",
          "UPLINK",
          "UPLINK",
          "UPLINK",
          "UPLINK",
          "UPLINK",
          "UPLINK",
          "UPLINK",
          "UPLINK",
          "UPLINK",
          "UPLINK",
          "UPLINK",
          "UPLINK",
          "UPLINK",
          "UPLINK",
          "UPLINK",
          "UPLINK",
          "UPLINK",
          "UPLINK",
          "UPLINK",
          "UPLINK",
          "UPLINK",
          "UPLINK",
          "UPLINK",
          "UPLINK",
          "UPLINK",
          "UPLINK",
          "UPLINK",
          "700",
          "800",
          "900",
          "1000",
          "1100",
          "1200",
          "1300",
          "1400",
          "1500",
          "1600",
          "1700",
          "1800",
          "1900",
          "2000",
          "2100",
          "2200",
          "2300",
          "2400",
          "2500",
          "2600",
          "2700",
          "2800",
          "2900",
          "3000",
          "3100",
          "3200",
          "3300",
          "3400",
          "3500",
          "3600",
          "3700",
          "3800",
          "3900",
          "4000",
          "4100",
          "4200",
          "4300",
          "4400",
          "4500",
          "4600",
          "4700",
          "4800",
          "4900",
          "5000",
          "1 - 5GHz"
         ],
         "name": "",
         "parents": [
          "1 - 5GHz/700",
          "1 - 5GHz/800",
          "1 - 5GHz/900",
          "1 - 5GHz/1000",
          "1 - 5GHz/1100",
          "1 - 5GHz/1200",
          "1 - 5GHz/1300",
          "1 - 5GHz/1400",
          "1 - 5GHz/1500",
          "1 - 5GHz/1600",
          "1 - 5GHz/1700",
          "1 - 5GHz/1800",
          "1 - 5GHz/1900",
          "1 - 5GHz/2000",
          "1 - 5GHz/2100",
          "1 - 5GHz/2200",
          "1 - 5GHz/2300",
          "1 - 5GHz/2400",
          "1 - 5GHz/2500",
          "1 - 5GHz/2600",
          "1 - 5GHz/2700",
          "1 - 5GHz/2800",
          "1 - 5GHz/2900",
          "1 - 5GHz/3000",
          "1 - 5GHz/3100",
          "1 - 5GHz/3200",
          "1 - 5GHz/3300",
          "1 - 5GHz/3400",
          "1 - 5GHz/3500",
          "1 - 5GHz/3600",
          "1 - 5GHz/3700",
          "1 - 5GHz/3800",
          "1 - 5GHz/3900",
          "1 - 5GHz/4000",
          "1 - 5GHz/4100",
          "1 - 5GHz/4200",
          "1 - 5GHz/4300",
          "1 - 5GHz/4400",
          "1 - 5GHz/4500",
          "1 - 5GHz/4600",
          "1 - 5GHz/4700",
          "1 - 5GHz/4800",
          "1 - 5GHz/4900",
          "1 - 5GHz/5000",
          "1 - 5GHz/700",
          "1 - 5GHz/800",
          "1 - 5GHz/900",
          "1 - 5GHz/1000",
          "1 - 5GHz/1100",
          "1 - 5GHz/1200",
          "1 - 5GHz/1300",
          "1 - 5GHz/1400",
          "1 - 5GHz/1500",
          "1 - 5GHz/1600",
          "1 - 5GHz/1700",
          "1 - 5GHz/1800",
          "1 - 5GHz/1900",
          "1 - 5GHz/2000",
          "1 - 5GHz/2100",
          "1 - 5GHz/2200",
          "1 - 5GHz/2300",
          "1 - 5GHz/2400",
          "1 - 5GHz/2500",
          "1 - 5GHz/2600",
          "1 - 5GHz/2700",
          "1 - 5GHz/2800",
          "1 - 5GHz/2900",
          "1 - 5GHz/3000",
          "1 - 5GHz/3100",
          "1 - 5GHz/3200",
          "1 - 5GHz/3300",
          "1 - 5GHz/3400",
          "1 - 5GHz/3500",
          "1 - 5GHz/3600",
          "1 - 5GHz/3700",
          "1 - 5GHz/3800",
          "1 - 5GHz/3900",
          "1 - 5GHz/4000",
          "1 - 5GHz/4100",
          "1 - 5GHz/4200",
          "1 - 5GHz/4300",
          "1 - 5GHz/4400",
          "1 - 5GHz/4500",
          "1 - 5GHz/4600",
          "1 - 5GHz/4700",
          "1 - 5GHz/4800",
          "1 - 5GHz/4900",
          "1 - 5GHz/5000",
          "1 - 5GHz/700",
          "1 - 5GHz/800",
          "1 - 5GHz/900",
          "1 - 5GHz/1000",
          "1 - 5GHz/1100",
          "1 - 5GHz/1200",
          "1 - 5GHz/1300",
          "1 - 5GHz/1400",
          "1 - 5GHz/1500",
          "1 - 5GHz/1600",
          "1 - 5GHz/1700",
          "1 - 5GHz/1800",
          "1 - 5GHz/1900",
          "1 - 5GHz/2000",
          "1 - 5GHz/2100",
          "1 - 5GHz/2200",
          "1 - 5GHz/2300",
          "1 - 5GHz/2400",
          "1 - 5GHz/2500",
          "1 - 5GHz/2600",
          "1 - 5GHz/2700",
          "1 - 5GHz/2800",
          "1 - 5GHz/2900",
          "1 - 5GHz/3000",
          "1 - 5GHz/3100",
          "1 - 5GHz/3200",
          "1 - 5GHz/3300",
          "1 - 5GHz/3400",
          "1 - 5GHz/3500",
          "1 - 5GHz/3600",
          "1 - 5GHz/3700",
          "1 - 5GHz/3800",
          "1 - 5GHz/3900",
          "1 - 5GHz/4000",
          "1 - 5GHz/4100",
          "1 - 5GHz/4200",
          "1 - 5GHz/4300",
          "1 - 5GHz/4400",
          "1 - 5GHz/4500",
          "1 - 5GHz/4600",
          "1 - 5GHz/4700",
          "1 - 5GHz/4800",
          "1 - 5GHz/4900",
          "1 - 5GHz/5000",
          "1 - 5GHz/700",
          "1 - 5GHz/800",
          "1 - 5GHz/900",
          "1 - 5GHz/1000",
          "1 - 5GHz/1100",
          "1 - 5GHz/1200",
          "1 - 5GHz/1300",
          "1 - 5GHz/1400",
          "1 - 5GHz/1500",
          "1 - 5GHz/1600",
          "1 - 5GHz/1700",
          "1 - 5GHz/1800",
          "1 - 5GHz/1900",
          "1 - 5GHz/2000",
          "1 - 5GHz/2100",
          "1 - 5GHz/2200",
          "1 - 5GHz/2300",
          "1 - 5GHz/2400",
          "1 - 5GHz/2500",
          "1 - 5GHz/2600",
          "1 - 5GHz/2700",
          "1 - 5GHz/2800",
          "1 - 5GHz/2900",
          "1 - 5GHz/3000",
          "1 - 5GHz/3100",
          "1 - 5GHz/3200",
          "1 - 5GHz/3300",
          "1 - 5GHz/3400",
          "1 - 5GHz/3500",
          "1 - 5GHz/3600",
          "1 - 5GHz/3700",
          "1 - 5GHz/3800",
          "1 - 5GHz/3900",
          "1 - 5GHz/4000",
          "1 - 5GHz/4100",
          "1 - 5GHz/4200",
          "1 - 5GHz/4300",
          "1 - 5GHz/4400",
          "1 - 5GHz/4500",
          "1 - 5GHz/4600",
          "1 - 5GHz/4700",
          "1 - 5GHz/4800",
          "1 - 5GHz/4900",
          "1 - 5GHz/5000",
          "1 - 5GHz",
          "1 - 5GHz",
          "1 - 5GHz",
          "1 - 5GHz",
          "1 - 5GHz",
          "1 - 5GHz",
          "1 - 5GHz",
          "1 - 5GHz",
          "1 - 5GHz",
          "1 - 5GHz",
          "1 - 5GHz",
          "1 - 5GHz",
          "1 - 5GHz",
          "1 - 5GHz",
          "1 - 5GHz",
          "1 - 5GHz",
          "1 - 5GHz",
          "1 - 5GHz",
          "1 - 5GHz",
          "1 - 5GHz",
          "1 - 5GHz",
          "1 - 5GHz",
          "1 - 5GHz",
          "1 - 5GHz",
          "1 - 5GHz",
          "1 - 5GHz",
          "1 - 5GHz",
          "1 - 5GHz",
          "1 - 5GHz",
          "1 - 5GHz",
          "1 - 5GHz",
          "1 - 5GHz",
          "1 - 5GHz",
          "1 - 5GHz",
          "1 - 5GHz",
          "1 - 5GHz",
          "1 - 5GHz",
          "1 - 5GHz",
          "1 - 5GHz",
          "1 - 5GHz",
          "1 - 5GHz",
          "1 - 5GHz",
          "1 - 5GHz",
          "1 - 5GHz",
          ""
         ],
         "root": {
          "color": "lightgrey"
         },
         "type": "treemap",
         "values": [
          34,
          21,
          34.8,
          0,
          0,
          0,
          0,
          40,
          0,
          0,
          0,
          74.9,
          0,
          0,
          59.4,
          0,
          0,
          0,
          0,
          70,
          0,
          0,
          0,
          0,
          0,
          0,
          0,
          0,
          0,
          0,
          0,
          0,
          0,
          0,
          0,
          0,
          0,
          0,
          0,
          0,
          0,
          0,
          0,
          0,
          0,
          0,
          0,
          0,
          0,
          0,
          0,
          0,
          0,
          0,
          0,
          20,
          20.1,
          0,
          0,
          0,
          40,
          0,
          30,
          20,
          0,
          0,
          0,
          0,
          0,
          0,
          0,
          90,
          100,
          100,
          100,
          0,
          75,
          9,
          0,
          0,
          0,
          0,
          0,
          0,
          0,
          0,
          0,
          0,
          36,
          29.099999999999994,
          50.3,
          0,
          0,
          0,
          0,
          60,
          0,
          0,
          25.099999999999994,
          5.099999999999994,
          20.200000000000003,
          0,
          40.6,
          0,
          60,
          0,
          0,
          10,
          0,
          0,
          0,
          0,
          0,
          0,
          0,
          10,
          0,
          0,
          0,
          0,
          25,
          91,
          0,
          0,
          0,
          0,
          0,
          0,
          0,
          0,
          0,
          0,
          30,
          49.9,
          14.9,
          0,
          0,
          0,
          0,
          0,
          0,
          0,
          74.9,
          0,
          59.7,
          0,
          0,
          0,
          0,
          0,
          70,
          0,
          0,
          0,
          0,
          0,
          0,
          0,
          0,
          0,
          0,
          0,
          0,
          0,
          0,
          0,
          0,
          0,
          0,
          0,
          0,
          0,
          0,
          0,
          0,
          0,
          100,
          100,
          100,
          0,
          0,
          0,
          0,
          100,
          0,
          0,
          100,
          100,
          100,
          0,
          100,
          0,
          100,
          0,
          100,
          100,
          0,
          0,
          0,
          0,
          0,
          0,
          0,
          100,
          100,
          100,
          100,
          0,
          100,
          100,
          0,
          0,
          0,
          0,
          0,
          0,
          0,
          0,
          0,
          0,
          1700
         ]
        }
       ],
       "layout": {
        "legend": {
         "tracegroupgap": 0
        },
        "margin": {
         "b": 25,
         "l": 25,
         "r": 25,
         "t": 50
        },
        "template": {
         "data": {
          "bar": [
           {
            "error_x": {
             "color": "#2a3f5f"
            },
            "error_y": {
             "color": "#2a3f5f"
            },
            "marker": {
             "line": {
              "color": "#E5ECF6",
              "width": 0.5
             },
             "pattern": {
              "fillmode": "overlay",
              "size": 10,
              "solidity": 0.2
             }
            },
            "type": "bar"
           }
          ],
          "barpolar": [
           {
            "marker": {
             "line": {
              "color": "#E5ECF6",
              "width": 0.5
             },
             "pattern": {
              "fillmode": "overlay",
              "size": 10,
              "solidity": 0.2
             }
            },
            "type": "barpolar"
           }
          ],
          "carpet": [
           {
            "aaxis": {
             "endlinecolor": "#2a3f5f",
             "gridcolor": "white",
             "linecolor": "white",
             "minorgridcolor": "white",
             "startlinecolor": "#2a3f5f"
            },
            "baxis": {
             "endlinecolor": "#2a3f5f",
             "gridcolor": "white",
             "linecolor": "white",
             "minorgridcolor": "white",
             "startlinecolor": "#2a3f5f"
            },
            "type": "carpet"
           }
          ],
          "choropleth": [
           {
            "colorbar": {
             "outlinewidth": 0,
             "ticks": ""
            },
            "type": "choropleth"
           }
          ],
          "contour": [
           {
            "colorbar": {
             "outlinewidth": 0,
             "ticks": ""
            },
            "colorscale": [
             [
              0,
              "#0d0887"
             ],
             [
              0.1111111111111111,
              "#46039f"
             ],
             [
              0.2222222222222222,
              "#7201a8"
             ],
             [
              0.3333333333333333,
              "#9c179e"
             ],
             [
              0.4444444444444444,
              "#bd3786"
             ],
             [
              0.5555555555555556,
              "#d8576b"
             ],
             [
              0.6666666666666666,
              "#ed7953"
             ],
             [
              0.7777777777777778,
              "#fb9f3a"
             ],
             [
              0.8888888888888888,
              "#fdca26"
             ],
             [
              1,
              "#f0f921"
             ]
            ],
            "type": "contour"
           }
          ],
          "contourcarpet": [
           {
            "colorbar": {
             "outlinewidth": 0,
             "ticks": ""
            },
            "type": "contourcarpet"
           }
          ],
          "heatmap": [
           {
            "colorbar": {
             "outlinewidth": 0,
             "ticks": ""
            },
            "colorscale": [
             [
              0,
              "#0d0887"
             ],
             [
              0.1111111111111111,
              "#46039f"
             ],
             [
              0.2222222222222222,
              "#7201a8"
             ],
             [
              0.3333333333333333,
              "#9c179e"
             ],
             [
              0.4444444444444444,
              "#bd3786"
             ],
             [
              0.5555555555555556,
              "#d8576b"
             ],
             [
              0.6666666666666666,
              "#ed7953"
             ],
             [
              0.7777777777777778,
              "#fb9f3a"
             ],
             [
              0.8888888888888888,
              "#fdca26"
             ],
             [
              1,
              "#f0f921"
             ]
            ],
            "type": "heatmap"
           }
          ],
          "heatmapgl": [
           {
            "colorbar": {
             "outlinewidth": 0,
             "ticks": ""
            },
            "colorscale": [
             [
              0,
              "#0d0887"
             ],
             [
              0.1111111111111111,
              "#46039f"
             ],
             [
              0.2222222222222222,
              "#7201a8"
             ],
             [
              0.3333333333333333,
              "#9c179e"
             ],
             [
              0.4444444444444444,
              "#bd3786"
             ],
             [
              0.5555555555555556,
              "#d8576b"
             ],
             [
              0.6666666666666666,
              "#ed7953"
             ],
             [
              0.7777777777777778,
              "#fb9f3a"
             ],
             [
              0.8888888888888888,
              "#fdca26"
             ],
             [
              1,
              "#f0f921"
             ]
            ],
            "type": "heatmapgl"
           }
          ],
          "histogram": [
           {
            "marker": {
             "pattern": {
              "fillmode": "overlay",
              "size": 10,
              "solidity": 0.2
             }
            },
            "type": "histogram"
           }
          ],
          "histogram2d": [
           {
            "colorbar": {
             "outlinewidth": 0,
             "ticks": ""
            },
            "colorscale": [
             [
              0,
              "#0d0887"
             ],
             [
              0.1111111111111111,
              "#46039f"
             ],
             [
              0.2222222222222222,
              "#7201a8"
             ],
             [
              0.3333333333333333,
              "#9c179e"
             ],
             [
              0.4444444444444444,
              "#bd3786"
             ],
             [
              0.5555555555555556,
              "#d8576b"
             ],
             [
              0.6666666666666666,
              "#ed7953"
             ],
             [
              0.7777777777777778,
              "#fb9f3a"
             ],
             [
              0.8888888888888888,
              "#fdca26"
             ],
             [
              1,
              "#f0f921"
             ]
            ],
            "type": "histogram2d"
           }
          ],
          "histogram2dcontour": [
           {
            "colorbar": {
             "outlinewidth": 0,
             "ticks": ""
            },
            "colorscale": [
             [
              0,
              "#0d0887"
             ],
             [
              0.1111111111111111,
              "#46039f"
             ],
             [
              0.2222222222222222,
              "#7201a8"
             ],
             [
              0.3333333333333333,
              "#9c179e"
             ],
             [
              0.4444444444444444,
              "#bd3786"
             ],
             [
              0.5555555555555556,
              "#d8576b"
             ],
             [
              0.6666666666666666,
              "#ed7953"
             ],
             [
              0.7777777777777778,
              "#fb9f3a"
             ],
             [
              0.8888888888888888,
              "#fdca26"
             ],
             [
              1,
              "#f0f921"
             ]
            ],
            "type": "histogram2dcontour"
           }
          ],
          "mesh3d": [
           {
            "colorbar": {
             "outlinewidth": 0,
             "ticks": ""
            },
            "type": "mesh3d"
           }
          ],
          "parcoords": [
           {
            "line": {
             "colorbar": {
              "outlinewidth": 0,
              "ticks": ""
             }
            },
            "type": "parcoords"
           }
          ],
          "pie": [
           {
            "automargin": true,
            "type": "pie"
           }
          ],
          "scatter": [
           {
            "marker": {
             "colorbar": {
              "outlinewidth": 0,
              "ticks": ""
             }
            },
            "type": "scatter"
           }
          ],
          "scatter3d": [
           {
            "line": {
             "colorbar": {
              "outlinewidth": 0,
              "ticks": ""
             }
            },
            "marker": {
             "colorbar": {
              "outlinewidth": 0,
              "ticks": ""
             }
            },
            "type": "scatter3d"
           }
          ],
          "scattercarpet": [
           {
            "marker": {
             "colorbar": {
              "outlinewidth": 0,
              "ticks": ""
             }
            },
            "type": "scattercarpet"
           }
          ],
          "scattergeo": [
           {
            "marker": {
             "colorbar": {
              "outlinewidth": 0,
              "ticks": ""
             }
            },
            "type": "scattergeo"
           }
          ],
          "scattergl": [
           {
            "marker": {
             "colorbar": {
              "outlinewidth": 0,
              "ticks": ""
             }
            },
            "type": "scattergl"
           }
          ],
          "scattermapbox": [
           {
            "marker": {
             "colorbar": {
              "outlinewidth": 0,
              "ticks": ""
             }
            },
            "type": "scattermapbox"
           }
          ],
          "scatterpolar": [
           {
            "marker": {
             "colorbar": {
              "outlinewidth": 0,
              "ticks": ""
             }
            },
            "type": "scatterpolar"
           }
          ],
          "scatterpolargl": [
           {
            "marker": {
             "colorbar": {
              "outlinewidth": 0,
              "ticks": ""
             }
            },
            "type": "scatterpolargl"
           }
          ],
          "scatterternary": [
           {
            "marker": {
             "colorbar": {
              "outlinewidth": 0,
              "ticks": ""
             }
            },
            "type": "scatterternary"
           }
          ],
          "surface": [
           {
            "colorbar": {
             "outlinewidth": 0,
             "ticks": ""
            },
            "colorscale": [
             [
              0,
              "#0d0887"
             ],
             [
              0.1111111111111111,
              "#46039f"
             ],
             [
              0.2222222222222222,
              "#7201a8"
             ],
             [
              0.3333333333333333,
              "#9c179e"
             ],
             [
              0.4444444444444444,
              "#bd3786"
             ],
             [
              0.5555555555555556,
              "#d8576b"
             ],
             [
              0.6666666666666666,
              "#ed7953"
             ],
             [
              0.7777777777777778,
              "#fb9f3a"
             ],
             [
              0.8888888888888888,
              "#fdca26"
             ],
             [
              1,
              "#f0f921"
             ]
            ],
            "type": "surface"
           }
          ],
          "table": [
           {
            "cells": {
             "fill": {
              "color": "#EBF0F8"
             },
             "line": {
              "color": "white"
             }
            },
            "header": {
             "fill": {
              "color": "#C8D4E3"
             },
             "line": {
              "color": "white"
             }
            },
            "type": "table"
           }
          ]
         },
         "layout": {
          "annotationdefaults": {
           "arrowcolor": "#2a3f5f",
           "arrowhead": 0,
           "arrowwidth": 1
          },
          "autotypenumbers": "strict",
          "coloraxis": {
           "colorbar": {
            "outlinewidth": 0,
            "ticks": ""
           }
          },
          "colorscale": {
           "diverging": [
            [
             0,
             "#8e0152"
            ],
            [
             0.1,
             "#c51b7d"
            ],
            [
             0.2,
             "#de77ae"
            ],
            [
             0.3,
             "#f1b6da"
            ],
            [
             0.4,
             "#fde0ef"
            ],
            [
             0.5,
             "#f7f7f7"
            ],
            [
             0.6,
             "#e6f5d0"
            ],
            [
             0.7,
             "#b8e186"
            ],
            [
             0.8,
             "#7fbc41"
            ],
            [
             0.9,
             "#4d9221"
            ],
            [
             1,
             "#276419"
            ]
           ],
           "sequential": [
            [
             0,
             "#0d0887"
            ],
            [
             0.1111111111111111,
             "#46039f"
            ],
            [
             0.2222222222222222,
             "#7201a8"
            ],
            [
             0.3333333333333333,
             "#9c179e"
            ],
            [
             0.4444444444444444,
             "#bd3786"
            ],
            [
             0.5555555555555556,
             "#d8576b"
            ],
            [
             0.6666666666666666,
             "#ed7953"
            ],
            [
             0.7777777777777778,
             "#fb9f3a"
            ],
            [
             0.8888888888888888,
             "#fdca26"
            ],
            [
             1,
             "#f0f921"
            ]
           ],
           "sequentialminus": [
            [
             0,
             "#0d0887"
            ],
            [
             0.1111111111111111,
             "#46039f"
            ],
            [
             0.2222222222222222,
             "#7201a8"
            ],
            [
             0.3333333333333333,
             "#9c179e"
            ],
            [
             0.4444444444444444,
             "#bd3786"
            ],
            [
             0.5555555555555556,
             "#d8576b"
            ],
            [
             0.6666666666666666,
             "#ed7953"
            ],
            [
             0.7777777777777778,
             "#fb9f3a"
            ],
            [
             0.8888888888888888,
             "#fdca26"
            ],
            [
             1,
             "#f0f921"
            ]
           ]
          },
          "colorway": [
           "#636efa",
           "#EF553B",
           "#00cc96",
           "#ab63fa",
           "#FFA15A",
           "#19d3f3",
           "#FF6692",
           "#B6E880",
           "#FF97FF",
           "#FECB52"
          ],
          "font": {
           "color": "#2a3f5f"
          },
          "geo": {
           "bgcolor": "white",
           "lakecolor": "white",
           "landcolor": "#E5ECF6",
           "showlakes": true,
           "showland": true,
           "subunitcolor": "white"
          },
          "hoverlabel": {
           "align": "left"
          },
          "hovermode": "closest",
          "mapbox": {
           "style": "light"
          },
          "paper_bgcolor": "white",
          "plot_bgcolor": "#E5ECF6",
          "polar": {
           "angularaxis": {
            "gridcolor": "white",
            "linecolor": "white",
            "ticks": ""
           },
           "bgcolor": "#E5ECF6",
           "radialaxis": {
            "gridcolor": "white",
            "linecolor": "white",
            "ticks": ""
           }
          },
          "scene": {
           "xaxis": {
            "backgroundcolor": "#E5ECF6",
            "gridcolor": "white",
            "gridwidth": 2,
            "linecolor": "white",
            "showbackground": true,
            "ticks": "",
            "zerolinecolor": "white"
           },
           "yaxis": {
            "backgroundcolor": "#E5ECF6",
            "gridcolor": "white",
            "gridwidth": 2,
            "linecolor": "white",
            "showbackground": true,
            "ticks": "",
            "zerolinecolor": "white"
           },
           "zaxis": {
            "backgroundcolor": "#E5ECF6",
            "gridcolor": "white",
            "gridwidth": 2,
            "linecolor": "white",
            "showbackground": true,
            "ticks": "",
            "zerolinecolor": "white"
           }
          },
          "shapedefaults": {
           "line": {
            "color": "#2a3f5f"
           }
          },
          "ternary": {
           "aaxis": {
            "gridcolor": "white",
            "linecolor": "white",
            "ticks": ""
           },
           "baxis": {
            "gridcolor": "white",
            "linecolor": "white",
            "ticks": ""
           },
           "bgcolor": "#E5ECF6",
           "caxis": {
            "gridcolor": "white",
            "linecolor": "white",
            "ticks": ""
           }
          },
          "title": {
           "x": 0.05
          },
          "xaxis": {
           "automargin": true,
           "gridcolor": "white",
           "linecolor": "white",
           "ticks": "",
           "title": {
            "standoff": 15
           },
           "zerolinecolor": "white",
           "zerolinewidth": 2
          },
          "yaxis": {
           "automargin": true,
           "gridcolor": "white",
           "linecolor": "white",
           "ticks": "",
           "title": {
            "standoff": 15
           },
           "zerolinecolor": "white",
           "zerolinewidth": 2
          }
         }
        }
       }
      }
     },
     "metadata": {},
     "output_type": "display_data"
    }
   ],
   "source": [
    "import plotly_express as px\n",
    "\n",
    "fig = px.treemap(userGenFreq, path=[px.Constant('1 - 5GHz'), 'FREQUENCY', 'TYPE'], values='BW')\n",
    "fig.update_traces(root_color=\"lightgrey\")\n",
    "fig.update_layout(margin = dict(t=50, l=25, r=25, b=25))\n",
    "fig.write_html('Ofcom Treemaps/userGenFreqTreemap.html')\n",
    "fig.show()"
   ]
  },
  {
   "cell_type": "code",
   "execution_count": null,
   "metadata": {},
   "outputs": [],
   "source": []
  }
 ],
 "metadata": {
  "interpreter": {
   "hash": "cca67527604eeadd1b822e163783aa5673f145238baf20e2ba20176c0e708a3a"
  },
  "kernelspec": {
   "display_name": "Python 3.10.2 64-bit",
   "language": "python",
   "name": "python3"
  },
  "language_info": {
   "codemirror_mode": {
    "name": "ipython",
    "version": 3
   },
   "file_extension": ".py",
   "mimetype": "text/x-python",
   "name": "python",
   "nbconvert_exporter": "python",
   "pygments_lexer": "ipython3",
   "version": "3.10.2"
  },
  "orig_nbformat": 4
 },
 "nbformat": 4,
 "nbformat_minor": 2
}
