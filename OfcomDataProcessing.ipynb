{
 "cells": [
  {
   "cell_type": "markdown",
   "metadata": {},
   "source": [
    "# Filtering Ofcom Wireless Telegraphy Register\n",
    "\n",
    "The Wireless Telegraphy Register (WTR) is a publicly available database containing all of the UK's licencing information. The WTR contains information such as licence number, issue date, coordinates and licence holder among many others. The scope of the WTR is much larger than is required to visualise released spectrum in for Wireless Broad Access and will require extensive filtering and conditional formatting.\n",
    "\n",
    "The WTR contains every licence, over all of the UK's spectrum. Filters must be developed to isolate mid-band licences used exclusively for WBA and must exclude extraneous information such as antenna specifications and device location.\n",
    "\n",
    "## WTR Complications\n",
    "\n",
    "This notebook will not compile with the source WTR.csv file which is available on the Ofcom website. In order to compile this notebook on a local machine, be sure to download the source data and place it in the project folder.\n",
    "\n",
    "Unlike the RRL, the required data exists in a single CSV file, however, there aren't any Ofcom classifications for WBA licences which means that filter criteria need developed very carefully to ensure all non-WBA licences are excluded.\n",
    "\n",
    "> After further investigating, the WTR does not contain complete information of the UKs WBA allocation. The appropriate information can be found in UK Spectrum Map table."
   ]
  },
  {
   "cell_type": "code",
   "execution_count": 13,
   "metadata": {},
   "outputs": [
    {
     "data": {
      "text/html": [
       "<div>\n",
       "<style scoped>\n",
       "    .dataframe tbody tr th:only-of-type {\n",
       "        vertical-align: middle;\n",
       "    }\n",
       "\n",
       "    .dataframe tbody tr th {\n",
       "        vertical-align: top;\n",
       "    }\n",
       "\n",
       "    .dataframe thead th {\n",
       "        text-align: right;\n",
       "    }\n",
       "</style>\n",
       "<table border=\"1\" class=\"dataframe\">\n",
       "  <thead>\n",
       "    <tr style=\"text-align: right;\">\n",
       "      <th></th>\n",
       "      <th>LICENCE_NO</th>\n",
       "      <th>FREQUENCY</th>\n",
       "      <th>STATION_TYPE</th>\n",
       "      <th>BW</th>\n",
       "      <th>CATEGORY</th>\n",
       "    </tr>\n",
       "  </thead>\n",
       "  <tbody>\n",
       "    <tr>\n",
       "      <th>0</th>\n",
       "      <td>0926980/1</td>\n",
       "      <td>1164.0</td>\n",
       "      <td>T</td>\n",
       "      <td>NaN</td>\n",
       "      <td>GNSS Repeater</td>\n",
       "    </tr>\n",
       "    <tr>\n",
       "      <th>1</th>\n",
       "      <td>0926980/1</td>\n",
       "      <td>1164.0</td>\n",
       "      <td>T</td>\n",
       "      <td>NaN</td>\n",
       "      <td>GNSS Repeater</td>\n",
       "    </tr>\n",
       "    <tr>\n",
       "      <th>2</th>\n",
       "      <td>0926980/1</td>\n",
       "      <td>1164.0</td>\n",
       "      <td>T</td>\n",
       "      <td>NaN</td>\n",
       "      <td>GNSS Repeater</td>\n",
       "    </tr>\n",
       "    <tr>\n",
       "      <th>3</th>\n",
       "      <td>0929062/1</td>\n",
       "      <td>1164.0</td>\n",
       "      <td>T</td>\n",
       "      <td>NaN</td>\n",
       "      <td>GNSS Repeater</td>\n",
       "    </tr>\n",
       "    <tr>\n",
       "      <th>4</th>\n",
       "      <td>0929080/1</td>\n",
       "      <td>1164.0</td>\n",
       "      <td>T</td>\n",
       "      <td>NaN</td>\n",
       "      <td>GNSS Repeater</td>\n",
       "    </tr>\n",
       "    <tr>\n",
       "      <th>...</th>\n",
       "      <td>...</td>\n",
       "      <td>...</td>\n",
       "      <td>...</td>\n",
       "      <td>...</td>\n",
       "      <td>...</td>\n",
       "    </tr>\n",
       "    <tr>\n",
       "      <th>8716</th>\n",
       "      <td>1245331/3</td>\n",
       "      <td>6980.0</td>\n",
       "      <td>R</td>\n",
       "      <td>30.0</td>\n",
       "      <td>Fixed Links</td>\n",
       "    </tr>\n",
       "    <tr>\n",
       "      <th>8717</th>\n",
       "      <td>1256067/1</td>\n",
       "      <td>6980.0</td>\n",
       "      <td>R</td>\n",
       "      <td>30.0</td>\n",
       "      <td>Fixed Links</td>\n",
       "    </tr>\n",
       "    <tr>\n",
       "      <th>8718</th>\n",
       "      <td>1256067/1</td>\n",
       "      <td>6980.0</td>\n",
       "      <td>T</td>\n",
       "      <td>30.0</td>\n",
       "      <td>Fixed Links</td>\n",
       "    </tr>\n",
       "    <tr>\n",
       "      <th>8719</th>\n",
       "      <td>1270272/1</td>\n",
       "      <td>6980.0</td>\n",
       "      <td>R</td>\n",
       "      <td>30.0</td>\n",
       "      <td>Fixed Links</td>\n",
       "    </tr>\n",
       "    <tr>\n",
       "      <th>8720</th>\n",
       "      <td>1270272/1</td>\n",
       "      <td>6980.0</td>\n",
       "      <td>T</td>\n",
       "      <td>30.0</td>\n",
       "      <td>Fixed Links</td>\n",
       "    </tr>\n",
       "  </tbody>\n",
       "</table>\n",
       "<p>8721 rows × 5 columns</p>\n",
       "</div>"
      ],
      "text/plain": [
       "     LICENCE_NO  FREQUENCY STATION_TYPE    BW       CATEGORY\n",
       "0     0926980/1     1164.0            T   NaN  GNSS Repeater\n",
       "1     0926980/1     1164.0            T   NaN  GNSS Repeater\n",
       "2     0926980/1     1164.0            T   NaN  GNSS Repeater\n",
       "3     0929062/1     1164.0            T   NaN  GNSS Repeater\n",
       "4     0929080/1     1164.0            T   NaN  GNSS Repeater\n",
       "...         ...        ...          ...   ...            ...\n",
       "8716  1245331/3     6980.0            R  30.0    Fixed Links\n",
       "8717  1256067/1     6980.0            R  30.0    Fixed Links\n",
       "8718  1256067/1     6980.0            T  30.0    Fixed Links\n",
       "8719  1270272/1     6980.0            R  30.0    Fixed Links\n",
       "8720  1270272/1     6980.0            T  30.0    Fixed Links\n",
       "\n",
       "[8721 rows x 5 columns]"
      ]
     },
     "execution_count": 13,
     "metadata": {},
     "output_type": "execute_result"
    }
   ],
   "source": [
    "import pandas as pd\n",
    "import numpy as np\n",
    "\n",
    "wtr = pd.read_csv('WTR.csv')\n",
    "\n",
    "# Remove unnecessary columns\n",
    "wtr = wtr[['Licence Number', \n",
    "    'Frequency (Hz)', \n",
    "    'Station Type', \n",
    "    'Channel Width (Hz)', \n",
    "    'Product Description']]\n",
    "\n",
    "# Convert Hz to MHz\n",
    "wtr['Frequency (Hz)'] = (wtr['Frequency (Hz)'] / 1000000).round(5)\n",
    "wtr['Channel Width (Hz)'] = (wtr['Channel Width (Hz)'] / 1000000).round(5)\n",
    "\n",
    "# Change column names\n",
    "wtr.rename(columns={'Frequency (Hz)' : 'FREQUENCY',\n",
    "    'Channel Width (Hz)' : 'BW',\n",
    "    'Licence Number' : 'LICENCE_NO',\n",
    "    'Station Type' : 'STATION_TYPE',\n",
    "    'Product Description' : 'CATEGORY'}, inplace=True)\n",
    "\n",
    "# Isolate mid-band frequencies\n",
    "wtr = wtr[wtr['FREQUENCY'] < 7000]\n",
    "wtr = wtr[wtr['FREQUENCY'] > 700]\n",
    "wtr.sort_values(by=['FREQUENCY','LICENCE_NO'], inplace=True)\n",
    "wtr.reset_index(drop=True, inplace=True)\n",
    "\n",
    "# Save dataset to CSV\n",
    "wtr.to_csv('Ofcom Datasets/spectrumLicences.csv', index=False)\n",
    "wtr"
   ]
  },
  {
   "cell_type": "markdown",
   "metadata": {},
   "source": [
    "## UK Spectrum Map Dataset\n",
    "\n",
    "Ofcom provides a spectrum map on their website which has access to a database of spectrum licences which include WBA licences that are not found in the WTR. The spectrum source data has been downloaded but requires filtering to remove all licences which are not WBA.\n",
    "\n",
    "> NOTE: There are two WBA licence categories in the spectrum map, 'Mobile and Wireless Broadband' (capital B) has been excluded due extensive overlap.\n",
    "\n",
    "### Acquiring Spectrum Map Source Data\n",
    "\n",
    "The Spectrum Map source can be found at:\n",
    "\n",
    "http://static.ofcom.org.uk/static/spectrum/map.html\n",
    "\n",
    "Scroll down to the bottom left of the page and click on the 'Download Source Data' prompt. The page will then load a JSON file containing all relevant licences. Be sure to remove the 'terms_of_use' and 'date_updated' attributes so that JSON to CSV conversion will not be negatively impacted.\n",
    "\n",
    "The resulting JSON file can be converted to CSV at:\n",
    "\n",
    "https://www.convertcsv.com/json-to-csv.htm\n",
    "\n",
    "Be sure to name the resulting csv file 'spectrumMap.csv' and place it in the project folder. Failing to do so will prevent the notebook from compiling correctly."
   ]
  },
  {
   "cell_type": "code",
   "execution_count": 24,
   "metadata": {},
   "outputs": [
    {
     "data": {
      "text/html": [
       "<div>\n",
       "<style scoped>\n",
       "    .dataframe tbody tr th:only-of-type {\n",
       "        vertical-align: middle;\n",
       "    }\n",
       "\n",
       "    .dataframe tbody tr th {\n",
       "        vertical-align: top;\n",
       "    }\n",
       "\n",
       "    .dataframe thead th {\n",
       "        text-align: right;\n",
       "    }\n",
       "</style>\n",
       "<table border=\"1\" class=\"dataframe\">\n",
       "  <thead>\n",
       "    <tr style=\"text-align: right;\">\n",
       "      <th></th>\n",
       "      <th>bands/lf</th>\n",
       "      <th>bands/uf</th>\n",
       "      <th>bands/s</th>\n",
       "      <th>bands/u</th>\n",
       "      <th>bands/v</th>\n",
       "      <th>bw</th>\n",
       "      <th>range</th>\n",
       "    </tr>\n",
       "  </thead>\n",
       "  <tbody>\n",
       "    <tr>\n",
       "      <th>0</th>\n",
       "      <td>703.0</td>\n",
       "      <td>713.0</td>\n",
       "      <td>Mobile and Wireless broadband</td>\n",
       "      <td>Spectrum Access Telefonica (Uplink)</td>\n",
       "      <td>1</td>\n",
       "      <td>10.0</td>\n",
       "      <td>700.0</td>\n",
       "    </tr>\n",
       "    <tr>\n",
       "      <th>1</th>\n",
       "      <td>713.0</td>\n",
       "      <td>723.0</td>\n",
       "      <td>Mobile and Wireless broadband</td>\n",
       "      <td>Spectrum Access Hutchison 3G (Uplink)</td>\n",
       "      <td>1</td>\n",
       "      <td>10.0</td>\n",
       "      <td>700.0</td>\n",
       "    </tr>\n",
       "    <tr>\n",
       "      <th>2</th>\n",
       "      <td>723.0</td>\n",
       "      <td>733.0</td>\n",
       "      <td>Mobile and Wireless broadband</td>\n",
       "      <td>Spectrum Access EE (Uplink)</td>\n",
       "      <td>1</td>\n",
       "      <td>10.0</td>\n",
       "      <td>700.0</td>\n",
       "    </tr>\n",
       "    <tr>\n",
       "      <th>3</th>\n",
       "      <td>758.0</td>\n",
       "      <td>768.0</td>\n",
       "      <td>Mobile and Wireless broadband</td>\n",
       "      <td>Spectrum Access Telefonica (Downlink)</td>\n",
       "      <td>1</td>\n",
       "      <td>10.0</td>\n",
       "      <td>700.0</td>\n",
       "    </tr>\n",
       "    <tr>\n",
       "      <th>4</th>\n",
       "      <td>778.0</td>\n",
       "      <td>788.0</td>\n",
       "      <td>Mobile and Wireless broadband</td>\n",
       "      <td>Spectrum Access EE (Downlink)</td>\n",
       "      <td>1</td>\n",
       "      <td>10.0</td>\n",
       "      <td>700.0</td>\n",
       "    </tr>\n",
       "    <tr>\n",
       "      <th>...</th>\n",
       "      <td>...</td>\n",
       "      <td>...</td>\n",
       "      <td>...</td>\n",
       "      <td>...</td>\n",
       "      <td>...</td>\n",
       "      <td>...</td>\n",
       "      <td>...</td>\n",
       "    </tr>\n",
       "    <tr>\n",
       "      <th>75</th>\n",
       "      <td>3760.0</td>\n",
       "      <td>3800.0</td>\n",
       "      <td>Mobile and Wireless broadband</td>\n",
       "      <td>Spectrum Access Telefonica</td>\n",
       "      <td>1</td>\n",
       "      <td>40.0</td>\n",
       "      <td>3700.0</td>\n",
       "    </tr>\n",
       "    <tr>\n",
       "      <th>76</th>\n",
       "      <td>3800.0</td>\n",
       "      <td>4200.0</td>\n",
       "      <td>Mobile and Wireless broadband</td>\n",
       "      <td>Shared Access (Low Power)</td>\n",
       "      <td>1</td>\n",
       "      <td>400.0</td>\n",
       "      <td>3800.0</td>\n",
       "    </tr>\n",
       "    <tr>\n",
       "      <th>77</th>\n",
       "      <td>3800.0</td>\n",
       "      <td>4200.0</td>\n",
       "      <td>Mobile and Wireless broadband</td>\n",
       "      <td>Shared Access (Medium Power)</td>\n",
       "      <td>1</td>\n",
       "      <td>400.0</td>\n",
       "      <td>3800.0</td>\n",
       "    </tr>\n",
       "    <tr>\n",
       "      <th>78</th>\n",
       "      <td>3925.0</td>\n",
       "      <td>4009.0</td>\n",
       "      <td>Mobile and Wireless broadband</td>\n",
       "      <td>Spectrum Access UK Broadband</td>\n",
       "      <td>1</td>\n",
       "      <td>84.0</td>\n",
       "      <td>3900.0</td>\n",
       "    </tr>\n",
       "    <tr>\n",
       "      <th>79</th>\n",
       "      <td>5725.0</td>\n",
       "      <td>5850.0</td>\n",
       "      <td>Mobile and Wireless broadband</td>\n",
       "      <td>Fixed Wireless Access (5.8 GHz band)</td>\n",
       "      <td>1</td>\n",
       "      <td>125.0</td>\n",
       "      <td>5700.0</td>\n",
       "    </tr>\n",
       "  </tbody>\n",
       "</table>\n",
       "<p>80 rows × 7 columns</p>\n",
       "</div>"
      ],
      "text/plain": [
       "    bands/lf  bands/uf                        bands/s  \\\n",
       "0      703.0     713.0  Mobile and Wireless broadband   \n",
       "1      713.0     723.0  Mobile and Wireless broadband   \n",
       "2      723.0     733.0  Mobile and Wireless broadband   \n",
       "3      758.0     768.0  Mobile and Wireless broadband   \n",
       "4      778.0     788.0  Mobile and Wireless broadband   \n",
       "..       ...       ...                            ...   \n",
       "75    3760.0    3800.0  Mobile and Wireless broadband   \n",
       "76    3800.0    4200.0  Mobile and Wireless broadband   \n",
       "77    3800.0    4200.0  Mobile and Wireless broadband   \n",
       "78    3925.0    4009.0  Mobile and Wireless broadband   \n",
       "79    5725.0    5850.0  Mobile and Wireless broadband   \n",
       "\n",
       "                                  bands/u  bands/v     bw   range  \n",
       "0     Spectrum Access Telefonica (Uplink)        1   10.0   700.0  \n",
       "1   Spectrum Access Hutchison 3G (Uplink)        1   10.0   700.0  \n",
       "2             Spectrum Access EE (Uplink)        1   10.0   700.0  \n",
       "3   Spectrum Access Telefonica (Downlink)        1   10.0   700.0  \n",
       "4           Spectrum Access EE (Downlink)        1   10.0   700.0  \n",
       "..                                    ...      ...    ...     ...  \n",
       "75             Spectrum Access Telefonica        1   40.0  3700.0  \n",
       "76              Shared Access (Low Power)        1  400.0  3800.0  \n",
       "77           Shared Access (Medium Power)        1  400.0  3800.0  \n",
       "78           Spectrum Access UK Broadband        1   84.0  3900.0  \n",
       "79   Fixed Wireless Access (5.8 GHz band)        1  125.0  5700.0  \n",
       "\n",
       "[80 rows x 7 columns]"
      ]
     },
     "execution_count": 24,
     "metadata": {},
     "output_type": "execute_result"
    }
   ],
   "source": [
    "import numpy as np\n",
    "\n",
    "spectrumMap = pd.read_csv('spectrumMap.csv')\n",
    "\n",
    "# Isolate wireless broadband entries\n",
    "spectrumMap = spectrumMap[spectrumMap['bands/s'] == 'Mobile and Wireless broadband']\n",
    "spectrumMap = spectrumMap[spectrumMap['bands/s'] == 'Mobile and Wireless broadband']\n",
    "\n",
    "# Convert Hz to MHz\n",
    "spectrumMap['bands/lf'] = (spectrumMap['bands/lf'] / 1000000).round(5)\n",
    "spectrumMap['bands/uf'] = (spectrumMap['bands/uf'] / 1000000).round(5)\n",
    "spectrumMap['bw'] = spectrumMap['bands/uf'] - spectrumMap['bands/lf']\n",
    "\n",
    "# Isolate midband licences\n",
    "spectrumMap = spectrumMap[spectrumMap['bands/lf'] <= 7000]\n",
    "spectrumMap = spectrumMap[spectrumMap['bands/lf'] >= 700]\n",
    "\n",
    "# Create 100 MHz categories\n",
    "spectrumMap['range'] = (np.trunc((spectrumMap['bands/lf'] / 100))*100)\n",
    "\n",
    "spectrumMap.sort_values(by=['bands/lf'])\n",
    "spectrumMap.reset_index(drop=True, inplace=True)\n",
    "spectrumMap.to_csv('Ofcom Datasets/spectrumMap.csv')\n",
    "spectrumMap"
   ]
  },
  {
   "cell_type": "markdown",
   "metadata": {},
   "source": [
    "## User Generated Dataframe\n",
    "\n",
    "There is a user generated dataset containing 100 MHz frequency summaries for mid-band wireless broadband licences below 5 GHz.\n",
    "\n",
    "> NOTE: Using the transpose functions breaks indexing, ignore strange index name"
   ]
  },
  {
   "cell_type": "code",
   "execution_count": 3,
   "metadata": {},
   "outputs": [
    {
     "name": "stderr",
     "output_type": "stream",
     "text": [
      "C:\\Users\\Nav\\AppData\\Local\\Temp\\ipykernel_11900\\1481661842.py:17: SettingWithCopyWarning: \n",
      "A value is trying to be set on a copy of a slice from a DataFrame.\n",
      "Try using .loc[row_indexer,col_indexer] = value instead\n",
      "\n",
      "See the caveats in the documentation: https://pandas.pydata.org/pandas-docs/stable/user_guide/indexing.html#returning-a-view-versus-a-copy\n",
      "  uplink['TYPE'] = 'UPLINK'\n",
      "C:\\Users\\Nav\\AppData\\Local\\Temp\\ipykernel_11900\\1481661842.py:18: SettingWithCopyWarning: \n",
      "A value is trying to be set on a copy of a slice from a DataFrame\n",
      "\n",
      "See the caveats in the documentation: https://pandas.pydata.org/pandas-docs/stable/user_guide/indexing.html#returning-a-view-versus-a-copy\n",
      "  uplink.rename(columns={'UP_BW':'BW','Uplinks':'Licences'}, inplace=True)\n",
      "C:\\Users\\Nav\\AppData\\Local\\Temp\\ipykernel_11900\\1481661842.py:21: SettingWithCopyWarning: \n",
      "A value is trying to be set on a copy of a slice from a DataFrame.\n",
      "Try using .loc[row_indexer,col_indexer] = value instead\n",
      "\n",
      "See the caveats in the documentation: https://pandas.pydata.org/pandas-docs/stable/user_guide/indexing.html#returning-a-view-versus-a-copy\n",
      "  downlink['TYPE'] = 'DOWNLINK'\n",
      "C:\\Users\\Nav\\AppData\\Local\\Temp\\ipykernel_11900\\1481661842.py:22: SettingWithCopyWarning: \n",
      "A value is trying to be set on a copy of a slice from a DataFrame\n",
      "\n",
      "See the caveats in the documentation: https://pandas.pydata.org/pandas-docs/stable/user_guide/indexing.html#returning-a-view-versus-a-copy\n",
      "  downlink.rename(columns={'LW_BW':'BW','Downlinks':'Licences'}, inplace=True)\n",
      "C:\\Users\\Nav\\AppData\\Local\\Temp\\ipykernel_11900\\1481661842.py:25: SettingWithCopyWarning: \n",
      "A value is trying to be set on a copy of a slice from a DataFrame.\n",
      "Try using .loc[row_indexer,col_indexer] = value instead\n",
      "\n",
      "See the caveats in the documentation: https://pandas.pydata.org/pandas-docs/stable/user_guide/indexing.html#returning-a-view-versus-a-copy\n",
      "  link['TYPE'] = 'LINK'\n",
      "C:\\Users\\Nav\\AppData\\Local\\Temp\\ipykernel_11900\\1481661842.py:26: SettingWithCopyWarning: \n",
      "A value is trying to be set on a copy of a slice from a DataFrame\n",
      "\n",
      "See the caveats in the documentation: https://pandas.pydata.org/pandas-docs/stable/user_guide/indexing.html#returning-a-view-versus-a-copy\n",
      "  link.rename(columns={'L_BW':'BW','Links':'Licences'}, inplace=True)\n",
      "C:\\Users\\Nav\\AppData\\Local\\Temp\\ipykernel_11900\\1481661842.py:33: SettingWithCopyWarning: \n",
      "A value is trying to be set on a copy of a slice from a DataFrame.\n",
      "Try using .loc[row_indexer,col_indexer] = value instead\n",
      "\n",
      "See the caveats in the documentation: https://pandas.pydata.org/pandas-docs/stable/user_guide/indexing.html#returning-a-view-versus-a-copy\n",
      "  free['Licences'] = 1\n",
      "C:\\Users\\Nav\\AppData\\Local\\Temp\\ipykernel_11900\\1481661842.py:34: SettingWithCopyWarning: \n",
      "A value is trying to be set on a copy of a slice from a DataFrame.\n",
      "Try using .loc[row_indexer,col_indexer] = value instead\n",
      "\n",
      "See the caveats in the documentation: https://pandas.pydata.org/pandas-docs/stable/user_guide/indexing.html#returning-a-view-versus-a-copy\n",
      "  free['TYPE'] = 'UNALLOCATED'\n",
      "C:\\Users\\Nav\\AppData\\Local\\Temp\\ipykernel_11900\\1481661842.py:35: SettingWithCopyWarning: \n",
      "A value is trying to be set on a copy of a slice from a DataFrame\n",
      "\n",
      "See the caveats in the documentation: https://pandas.pydata.org/pandas-docs/stable/user_guide/indexing.html#returning-a-view-versus-a-copy\n",
      "  free.rename(columns={'FREE':'BW'}, inplace=True)\n"
     ]
    },
    {
     "data": {
      "text/html": [
       "<div>\n",
       "<style scoped>\n",
       "    .dataframe tbody tr th:only-of-type {\n",
       "        vertical-align: middle;\n",
       "    }\n",
       "\n",
       "    .dataframe tbody tr th {\n",
       "        vertical-align: top;\n",
       "    }\n",
       "\n",
       "    .dataframe thead th {\n",
       "        text-align: right;\n",
       "    }\n",
       "</style>\n",
       "<table border=\"1\" class=\"dataframe\">\n",
       "  <thead>\n",
       "    <tr style=\"text-align: right;\">\n",
       "      <th>Frequency</th>\n",
       "      <th>FREQUENCY</th>\n",
       "      <th>BW</th>\n",
       "      <th>Licences</th>\n",
       "      <th>TYPE</th>\n",
       "    </tr>\n",
       "  </thead>\n",
       "  <tbody>\n",
       "    <tr>\n",
       "      <th>0</th>\n",
       "      <td>700</td>\n",
       "      <td>30.0</td>\n",
       "      <td>3.0</td>\n",
       "      <td>UPLINK</td>\n",
       "    </tr>\n",
       "    <tr>\n",
       "      <th>0</th>\n",
       "      <td>700</td>\n",
       "      <td>0.0</td>\n",
       "      <td>0.0</td>\n",
       "      <td>LINK</td>\n",
       "    </tr>\n",
       "    <tr>\n",
       "      <th>0</th>\n",
       "      <td>700</td>\n",
       "      <td>36.0</td>\n",
       "      <td>1.0</td>\n",
       "      <td>UNALLOCATED</td>\n",
       "    </tr>\n",
       "    <tr>\n",
       "      <th>0</th>\n",
       "      <td>700</td>\n",
       "      <td>34.0</td>\n",
       "      <td>5.0</td>\n",
       "      <td>DOWNLINK</td>\n",
       "    </tr>\n",
       "    <tr>\n",
       "      <th>1</th>\n",
       "      <td>800</td>\n",
       "      <td>49.9</td>\n",
       "      <td>7.0</td>\n",
       "      <td>UPLINK</td>\n",
       "    </tr>\n",
       "    <tr>\n",
       "      <th>...</th>\n",
       "      <td>...</td>\n",
       "      <td>...</td>\n",
       "      <td>...</td>\n",
       "      <td>...</td>\n",
       "    </tr>\n",
       "    <tr>\n",
       "      <th>42</th>\n",
       "      <td>4900</td>\n",
       "      <td>NaN</td>\n",
       "      <td>NaN</td>\n",
       "      <td>UPLINK</td>\n",
       "    </tr>\n",
       "    <tr>\n",
       "      <th>43</th>\n",
       "      <td>5000</td>\n",
       "      <td>NaN</td>\n",
       "      <td>NaN</td>\n",
       "      <td>DOWNLINK</td>\n",
       "    </tr>\n",
       "    <tr>\n",
       "      <th>43</th>\n",
       "      <td>5000</td>\n",
       "      <td>NaN</td>\n",
       "      <td>NaN</td>\n",
       "      <td>UPLINK</td>\n",
       "    </tr>\n",
       "    <tr>\n",
       "      <th>43</th>\n",
       "      <td>5000</td>\n",
       "      <td>NaN</td>\n",
       "      <td>NaN</td>\n",
       "      <td>LINK</td>\n",
       "    </tr>\n",
       "    <tr>\n",
       "      <th>43</th>\n",
       "      <td>5000</td>\n",
       "      <td>NaN</td>\n",
       "      <td>1.0</td>\n",
       "      <td>UNALLOCATED</td>\n",
       "    </tr>\n",
       "  </tbody>\n",
       "</table>\n",
       "<p>176 rows × 4 columns</p>\n",
       "</div>"
      ],
      "text/plain": [
       "Frequency  FREQUENCY    BW  Licences         TYPE\n",
       "0                700  30.0       3.0       UPLINK\n",
       "0                700   0.0       0.0         LINK\n",
       "0                700  36.0       1.0  UNALLOCATED\n",
       "0                700  34.0       5.0     DOWNLINK\n",
       "1                800  49.9       7.0       UPLINK\n",
       "..               ...   ...       ...          ...\n",
       "42              4900   NaN       NaN       UPLINK\n",
       "43              5000   NaN       NaN     DOWNLINK\n",
       "43              5000   NaN       NaN       UPLINK\n",
       "43              5000   NaN       NaN         LINK\n",
       "43              5000   NaN       1.0  UNALLOCATED\n",
       "\n",
       "[176 rows x 4 columns]"
      ]
     },
     "execution_count": 3,
     "metadata": {},
     "output_type": "execute_result"
    }
   ],
   "source": [
    "userGen = pd.read_csv('Ofcom Datasets/userGeneratedDataset.csv')\n",
    "userGen = userGen.set_index('Frequency').transpose()\n",
    "userGen.reset_index(inplace=True)\n",
    "\n",
    "# Rename Columns\n",
    "userGen = userGen.rename(columns={'index' : 'FREQUENCY',\n",
    "    'Usage (MHz)' : 'BW', \n",
    "    'Uplink Usage (MHz)' : 'UP_BW',\n",
    "    'Downlink Usage (MHz)' : 'LW_BW',\n",
    "    'Link Usage (MHz)' : 'L_BW'}, inplace=False)\n",
    "\n",
    "#userGen['BW'] = userGen['BW'].fillna(0)\n",
    "userGen['FREE'] = 100 - userGen['BW']\n",
    "\n",
    "# Separate Uplink, Downlink, Total and Free\n",
    "uplink = userGen[['FREQUENCY','UP_BW','Uplinks']]\n",
    "uplink['TYPE'] = 'UPLINK'\n",
    "uplink.rename(columns={'UP_BW':'BW','Uplinks':'Licences'}, inplace=True)\n",
    "\n",
    "downlink = userGen[['FREQUENCY', 'LW_BW', 'Downlinks']]\n",
    "downlink['TYPE'] = 'DOWNLINK'\n",
    "downlink.rename(columns={'LW_BW':'BW','Downlinks':'Licences'}, inplace=True)\n",
    "\n",
    "link = userGen[['FREQUENCY', 'L_BW', 'Links']]\n",
    "link['TYPE'] = 'LINK'\n",
    "link.rename(columns={'L_BW':'BW','Links':'Licences'}, inplace=True)\n",
    "\n",
    "#total = userGen[['FREQUENCY', 'BW', 'Complete Licences']]\n",
    "#total['TYPE'] = 'TOTAL'\n",
    "#total.rename(columns={'Complete Licences':'Licences'}, inplace=True)\n",
    "\n",
    "free = userGen[['FREQUENCY', 'FREE']]\n",
    "free['Licences'] = 1\n",
    "free['TYPE'] = 'UNALLOCATED'\n",
    "free.rename(columns={'FREE':'BW'}, inplace=True)\n",
    "\n",
    "userGenFreq = pd.concat([uplink, downlink, link, free], axis=0)\n",
    "userGenFreq = userGenFreq.astype({'FREQUENCY' : 'int64'})\n",
    "userGenFreq = userGenFreq.sort_values(by=['FREQUENCY'], inplace=False)\n",
    "\n",
    "userGenFreq.to_csv('Ofcom Datasets/userGenFreqList.csv', index=False)\n",
    "userGenFreq"
   ]
  },
  {
   "cell_type": "markdown",
   "metadata": {},
   "source": [
    "# DATA VISUALISATION"
   ]
  },
  {
   "cell_type": "markdown",
   "metadata": {},
   "source": [
    "## User Generated Frequency List"
   ]
  },
  {
   "cell_type": "code",
   "execution_count": 9,
   "metadata": {},
   "outputs": [
    {
     "name": "stderr",
     "output_type": "stream",
     "text": [
      "C:\\Users\\Nav\\AppData\\Local\\Programs\\Python\\Python310\\lib\\site-packages\\plotly\\express\\_core.py:1637: FutureWarning:\n",
      "\n",
      "The frame.append method is deprecated and will be removed from pandas in a future version. Use pandas.concat instead.\n",
      "\n",
      "C:\\Users\\Nav\\AppData\\Local\\Programs\\Python\\Python310\\lib\\site-packages\\plotly\\express\\_core.py:1637: FutureWarning:\n",
      "\n",
      "The frame.append method is deprecated and will be removed from pandas in a future version. Use pandas.concat instead.\n",
      "\n",
      "C:\\Users\\Nav\\AppData\\Local\\Programs\\Python\\Python310\\lib\\site-packages\\plotly\\express\\_core.py:1637: FutureWarning:\n",
      "\n",
      "The frame.append method is deprecated and will be removed from pandas in a future version. Use pandas.concat instead.\n",
      "\n"
     ]
    },
    {
     "data": {
      "application/vnd.plotly.v1+json": {
       "config": {
        "plotlyServerURL": "https://plot.ly"
       },
       "data": [
        {
         "branchvalues": "total",
         "customdata": [
          [
           "UNALLOCATED"
          ],
          [
           "DOWNLINK"
          ],
          [
           "UPLINK"
          ],
          [
           "DOWNLINK"
          ],
          [
           "UNALLOCATED"
          ],
          [
           "DOWNLINK"
          ],
          [
           "LINK"
          ],
          [
           "LINK"
          ],
          [
           "UPLINK"
          ],
          [
           "LINK"
          ],
          [
           "LINK"
          ],
          [
           "LINK"
          ],
          [
           "UPLINK"
          ],
          [
           "UNALLOCATED"
          ],
          [
           "LINK"
          ],
          [
           "UPLINK"
          ],
          [
           "LINK"
          ],
          [
           "UNALLOCATED"
          ],
          [
           "LINK"
          ],
          [
           "LINK"
          ],
          [
           "LINK"
          ],
          [
           "UNALLOCATED"
          ],
          [
           "LINK"
          ],
          [
           "UNALLOCATED"
          ],
          [
           "UPLINK"
          ],
          [
           "UPLINK"
          ],
          [
           "UNALLOCATED"
          ],
          [
           "UNALLOCATED"
          ],
          [
           "UNALLOCATED"
          ],
          [
           "DOWNLINK"
          ],
          [
           "UNALLOCATED"
          ],
          [
           "DOWNLINK"
          ],
          [
           "DOWNLINK"
          ],
          [
           "UPLINK"
          ],
          [
           "DOWNLINK"
          ],
          [
           "DOWNLINK"
          ],
          [
           "DOWNLINK"
          ],
          [
           "UNALLOCATED"
          ],
          [
           "UPLINK"
          ],
          [
           "UPLINK"
          ],
          [
           "UPLINK"
          ],
          [
           "UPLINK"
          ],
          [
           "DOWNLINK"
          ],
          [
           "DOWNLINK"
          ],
          [
           "LINK"
          ],
          [
           "UPLINK"
          ],
          [
           "UNALLOCATED"
          ],
          [
           "LINK"
          ],
          [
           "UPLINK"
          ],
          [
           "LINK"
          ],
          [
           "DOWNLINK"
          ],
          [
           "LINK"
          ],
          [
           "DOWNLINK"
          ],
          [
           "UNALLOCATED"
          ],
          [
           "LINK"
          ],
          [
           "UPLINK"
          ],
          [
           "UNALLOCATED"
          ],
          [
           "DOWNLINK"
          ],
          [
           "UNALLOCATED"
          ],
          [
           "UPLINK"
          ],
          [
           "UNALLOCATED"
          ],
          [
           "DOWNLINK"
          ],
          [
           "UPLINK"
          ],
          [
           "UPLINK"
          ],
          [
           "DOWNLINK"
          ],
          [
           "LINK"
          ],
          [
           "DOWNLINK"
          ],
          [
           "DOWNLINK"
          ],
          [
           "UPLINK"
          ],
          [
           "DOWNLINK"
          ],
          [
           "UPLINK"
          ],
          [
           "UNALLOCATED"
          ],
          [
           "DOWNLINK"
          ],
          [
           "UPLINK"
          ],
          [
           "UNALLOCATED"
          ],
          [
           "DOWNLINK"
          ],
          [
           "DOWNLINK"
          ],
          [
           "LINK"
          ],
          [
           "LINK"
          ],
          [
           "UPLINK"
          ],
          [
           "UNALLOCATED"
          ],
          [
           "LINK"
          ],
          [
           "LINK"
          ],
          [
           "UPLINK"
          ],
          [
           "UNALLOCATED"
          ],
          [
           "LINK"
          ],
          [
           "UNALLOCATED"
          ],
          [
           "UNALLOCATED"
          ],
          [
           "UNALLOCATED"
          ],
          [
           "UNALLOCATED"
          ],
          [
           "UPLINK"
          ],
          [
           "UNALLOCATED"
          ],
          [
           "UPLINK"
          ],
          [
           "UNALLOCATED"
          ],
          [
           "UPLINK"
          ],
          [
           "UNALLOCATED"
          ],
          [
           "UNALLOCATED"
          ],
          [
           "UPLINK"
          ],
          [
           "UNALLOCATED"
          ],
          [
           "UPLINK"
          ],
          [
           "LINK"
          ],
          [
           "UNALLOCATED"
          ],
          [
           "DOWNLINK"
          ],
          [
           "DOWNLINK"
          ],
          [
           "DOWNLINK"
          ],
          [
           "DOWNLINK"
          ],
          [
           "DOWNLINK"
          ],
          [
           "DOWNLINK"
          ],
          [
           "UPLINK"
          ],
          [
           "DOWNLINK"
          ],
          [
           "DOWNLINK"
          ],
          [
           "DOWNLINK"
          ],
          [
           "DOWNLINK"
          ],
          [
           "UPLINK"
          ],
          [
           "DOWNLINK"
          ],
          [
           "UPLINK"
          ],
          [
           "UNALLOCATED"
          ],
          [
           "LINK"
          ],
          [
           "LINK"
          ],
          [
           "UNALLOCATED"
          ],
          [
           "UNALLOCATED"
          ],
          [
           "LINK"
          ],
          [
           "UPLINK"
          ],
          [
           "LINK"
          ],
          [
           "LINK"
          ],
          [
           "LINK"
          ],
          [
           "UPLINK"
          ],
          [
           "LINK"
          ],
          [
           "LINK"
          ],
          [
           "LINK"
          ],
          [
           "LINK"
          ],
          [
           "UPLINK"
          ],
          [
           "UPLINK"
          ],
          [
           "UPLINK"
          ],
          [
           "UPLINK"
          ],
          [
           "UPLINK"
          ],
          [
           "UPLINK"
          ],
          [
           "UPLINK"
          ],
          [
           "UPLINK"
          ],
          [
           "UPLINK"
          ],
          [
           "UPLINK"
          ],
          [
           "DOWNLINK"
          ],
          [
           "UPLINK"
          ],
          [
           "DOWNLINK"
          ],
          [
           "DOWNLINK"
          ],
          [
           "DOWNLINK"
          ],
          [
           "DOWNLINK"
          ],
          [
           "DOWNLINK"
          ],
          [
           "DOWNLINK"
          ],
          [
           "DOWNLINK"
          ],
          [
           "DOWNLINK"
          ],
          [
           "DOWNLINK"
          ],
          [
           "DOWNLINK"
          ],
          [
           "LINK"
          ],
          [
           "LINK"
          ],
          [
           "LINK"
          ],
          [
           "LINK"
          ],
          [
           "LINK"
          ],
          [
           "LINK"
          ],
          [
           "LINK"
          ],
          [
           "UNALLOCATED"
          ],
          [
           "UNALLOCATED"
          ],
          [
           "UNALLOCATED"
          ],
          [
           "UNALLOCATED"
          ],
          [
           "UNALLOCATED"
          ],
          [
           "UNALLOCATED"
          ],
          [
           "UPLINK"
          ],
          [
           "UNALLOCATED"
          ],
          [
           "UNALLOCATED"
          ],
          [
           "UNALLOCATED"
          ],
          [
           "UNALLOCATED"
          ],
          [
           "LINK"
          ],
          [
           "LINK"
          ],
          [
           "LINK"
          ],
          [
           "UNALLOCATED"
          ],
          [
           "LINK"
          ],
          [
           "(?)"
          ],
          [
           "(?)"
          ],
          [
           "(?)"
          ],
          [
           "(?)"
          ],
          [
           "(?)"
          ],
          [
           "(?)"
          ],
          [
           "(?)"
          ],
          [
           "(?)"
          ],
          [
           "(?)"
          ],
          [
           "(?)"
          ],
          [
           "(?)"
          ],
          [
           "(?)"
          ],
          [
           "(?)"
          ],
          [
           "(?)"
          ],
          [
           "(?)"
          ],
          [
           "(?)"
          ],
          [
           "(?)"
          ],
          [
           "(?)"
          ],
          [
           "(?)"
          ],
          [
           "(?)"
          ],
          [
           "(?)"
          ],
          [
           "(?)"
          ],
          [
           "(?)"
          ],
          [
           "(?)"
          ],
          [
           "(?)"
          ],
          [
           "(?)"
          ],
          [
           "(?)"
          ],
          [
           "(?)"
          ],
          [
           "(?)"
          ],
          [
           "(?)"
          ],
          [
           "(?)"
          ],
          [
           "(?)"
          ],
          [
           "(?)"
          ],
          [
           "(?)"
          ],
          [
           "(?)"
          ],
          [
           "(?)"
          ],
          [
           "(?)"
          ],
          [
           "(?)"
          ],
          [
           "(?)"
          ],
          [
           "(?)"
          ],
          [
           "(?)"
          ],
          [
           "(?)"
          ],
          [
           "(?)"
          ],
          [
           "(?)"
          ],
          [
           "(?)"
          ]
         ],
         "domain": {
          "x": [
           0,
           1
          ],
          "y": [
           0,
           1
          ]
         },
         "hovertemplate": "labels=%{label}<br>BW=%{value}<br>parent=%{parent}<br>id=%{id}<br>TYPE=%{customdata[0]}<extra></extra>",
         "ids": [
          "1 - 5GHz/3700/UNALLOCATED",
          "1 - 5GHz/4100/DOWNLINK",
          "1 - 5GHz/1900/UPLINK",
          "1 - 5GHz/4300/DOWNLINK",
          "1 - 5GHz/4200/UNALLOCATED",
          "1 - 5GHz/4900/DOWNLINK",
          "1 - 5GHz/700/LINK",
          "1 - 5GHz/1300/LINK",
          "1 - 5GHz/3600/UPLINK",
          "1 - 5GHz/1700/LINK",
          "1 - 5GHz/2100/LINK",
          "1 - 5GHz/2500/LINK",
          "1 - 5GHz/3300/UPLINK",
          "1 - 5GHz/3100/UNALLOCATED",
          "1 - 5GHz/3000/LINK",
          "1 - 5GHz/1600/UPLINK",
          "1 - 5GHz/3400/LINK",
          "1 - 5GHz/2800/UNALLOCATED",
          "1 - 5GHz/3800/LINK",
          "1 - 5GHz/4200/LINK",
          "1 - 5GHz/4400/LINK",
          "1 - 5GHz/2500/UNALLOCATED",
          "1 - 5GHz/4800/LINK",
          "1 - 5GHz/800/UNALLOCATED",
          "1 - 5GHz/2800/UPLINK",
          "1 - 5GHz/2500/UPLINK",
          "1 - 5GHz/1300/UNALLOCATED",
          "1 - 5GHz/2000/UNALLOCATED",
          "1 - 5GHz/4500/UNALLOCATED",
          "1 - 5GHz/3800/DOWNLINK",
          "1 - 5GHz/1800/UNALLOCATED",
          "1 - 5GHz/2200/DOWNLINK",
          "1 - 5GHz/1700/DOWNLINK",
          "1 - 5GHz/4700/UPLINK",
          "1 - 5GHz/2600/DOWNLINK",
          "1 - 5GHz/1300/DOWNLINK",
          "1 - 5GHz/3100/DOWNLINK",
          "1 - 5GHz/5000/UNALLOCATED",
          "1 - 5GHz/1200/UPLINK",
          "1 - 5GHz/800/UPLINK",
          "1 - 5GHz/4500/UPLINK",
          "1 - 5GHz/4200/UPLINK",
          "1 - 5GHz/1000/DOWNLINK",
          "1 - 5GHz/2800/DOWNLINK",
          "1 - 5GHz/4000/LINK",
          "1 - 5GHz/900/UPLINK",
          "1 - 5GHz/3000/UNALLOCATED",
          "1 - 5GHz/3600/LINK",
          "1 - 5GHz/3200/UPLINK",
          "1 - 5GHz/3100/LINK",
          "1 - 5GHz/3600/DOWNLINK",
          "1 - 5GHz/4300/LINK",
          "1 - 5GHz/2100/DOWNLINK",
          "1 - 5GHz/2600/UNALLOCATED",
          "1 - 5GHz/4700/LINK",
          "1 - 5GHz/4900/UPLINK",
          "1 - 5GHz/700/UNALLOCATED",
          "1 - 5GHz/1200/DOWNLINK",
          "1 - 5GHz/1100/UNALLOCATED",
          "1 - 5GHz/1300/UPLINK",
          "1 - 5GHz/2100/UNALLOCATED",
          "1 - 5GHz/800/DOWNLINK",
          "1 - 5GHz/2600/UPLINK",
          "1 - 5GHz/3000/UPLINK",
          "1 - 5GHz/1500/DOWNLINK",
          "1 - 5GHz/2800/LINK",
          "1 - 5GHz/2300/DOWNLINK",
          "1 - 5GHz/4000/DOWNLINK",
          "1 - 5GHz/1800/UPLINK",
          "1 - 5GHz/3300/DOWNLINK",
          "1 - 5GHz/4300/UPLINK",
          "1 - 5GHz/4300/UNALLOCATED",
          "1 - 5GHz/4500/DOWNLINK",
          "1 - 5GHz/3900/UPLINK",
          "1 - 5GHz/4100/UNALLOCATED",
          "1 - 5GHz/3000/DOWNLINK",
          "1 - 5GHz/5000/DOWNLINK",
          "1 - 5GHz/1000/LINK",
          "1 - 5GHz/1100/LINK",
          "1 - 5GHz/2000/UPLINK",
          "1 - 5GHz/1700/UNALLOCATED",
          "1 - 5GHz/2400/LINK",
          "1 - 5GHz/2200/LINK",
          "1 - 5GHz/3500/UPLINK",
          "1 - 5GHz/3400/UNALLOCATED",
          "1 - 5GHz/1500/LINK",
          "1 - 5GHz/4900/UNALLOCATED",
          "1 - 5GHz/3600/UNALLOCATED",
          "1 - 5GHz/2700/UNALLOCATED",
          "1 - 5GHz/4800/UNALLOCATED",
          "1 - 5GHz/1000/UPLINK",
          "1 - 5GHz/3500/UNALLOCATED",
          "1 - 5GHz/2400/UPLINK",
          "1 - 5GHz/4000/UNALLOCATED",
          "1 - 5GHz/1100/UPLINK",
          "1 - 5GHz/4600/UNALLOCATED",
          "1 - 5GHz/3300/UNALLOCATED",
          "1 - 5GHz/2200/UPLINK",
          "1 - 5GHz/2400/UNALLOCATED",
          "1 - 5GHz/5000/UPLINK",
          "1 - 5GHz/3300/LINK",
          "1 - 5GHz/1500/UNALLOCATED",
          "1 - 5GHz/900/DOWNLINK",
          "1 - 5GHz/1400/DOWNLINK",
          "1 - 5GHz/1600/DOWNLINK",
          "1 - 5GHz/2000/DOWNLINK",
          "1 - 5GHz/2500/DOWNLINK",
          "1 - 5GHz/2700/DOWNLINK",
          "1 - 5GHz/4400/UPLINK",
          "1 - 5GHz/3400/DOWNLINK",
          "1 - 5GHz/3700/DOWNLINK",
          "1 - 5GHz/3900/DOWNLINK",
          "1 - 5GHz/4400/DOWNLINK",
          "1 - 5GHz/4000/UPLINK",
          "1 - 5GHz/4800/DOWNLINK",
          "1 - 5GHz/3800/UPLINK",
          "1 - 5GHz/1900/UNALLOCATED",
          "1 - 5GHz/900/LINK",
          "1 - 5GHz/3900/LINK",
          "1 - 5GHz/1200/UNALLOCATED",
          "1 - 5GHz/1000/UNALLOCATED",
          "1 - 5GHz/4900/LINK",
          "1 - 5GHz/2900/UPLINK",
          "1 - 5GHz/4500/LINK",
          "1 - 5GHz/1400/LINK",
          "1 - 5GHz/3700/LINK",
          "1 - 5GHz/1500/UPLINK",
          "1 - 5GHz/2900/LINK",
          "1 - 5GHz/2300/LINK",
          "1 - 5GHz/1900/LINK",
          "1 - 5GHz/1800/LINK",
          "1 - 5GHz/3100/UPLINK",
          "1 - 5GHz/2300/UPLINK",
          "1 - 5GHz/4100/UPLINK",
          "1 - 5GHz/3400/UPLINK",
          "1 - 5GHz/1700/UPLINK",
          "1 - 5GHz/4600/UPLINK",
          "1 - 5GHz/2100/UPLINK",
          "1 - 5GHz/4800/UPLINK",
          "1 - 5GHz/2700/UPLINK",
          "1 - 5GHz/3700/UPLINK",
          "1 - 5GHz/700/DOWNLINK",
          "1 - 5GHz/700/UPLINK",
          "1 - 5GHz/1100/DOWNLINK",
          "1 - 5GHz/1800/DOWNLINK",
          "1 - 5GHz/1900/DOWNLINK",
          "1 - 5GHz/2400/DOWNLINK",
          "1 - 5GHz/2900/DOWNLINK",
          "1 - 5GHz/3200/DOWNLINK",
          "1 - 5GHz/3500/DOWNLINK",
          "1 - 5GHz/4200/DOWNLINK",
          "1 - 5GHz/4600/DOWNLINK",
          "1 - 5GHz/4700/DOWNLINK",
          "1 - 5GHz/800/LINK",
          "1 - 5GHz/1200/LINK",
          "1 - 5GHz/1600/LINK",
          "1 - 5GHz/2000/LINK",
          "1 - 5GHz/2600/LINK",
          "1 - 5GHz/2700/LINK",
          "1 - 5GHz/3200/LINK",
          "1 - 5GHz/4700/UNALLOCATED",
          "1 - 5GHz/4400/UNALLOCATED",
          "1 - 5GHz/3900/UNALLOCATED",
          "1 - 5GHz/3800/UNALLOCATED",
          "1 - 5GHz/3200/UNALLOCATED",
          "1 - 5GHz/2900/UNALLOCATED",
          "1 - 5GHz/1400/UPLINK",
          "1 - 5GHz/2300/UNALLOCATED",
          "1 - 5GHz/1600/UNALLOCATED",
          "1 - 5GHz/1400/UNALLOCATED",
          "1 - 5GHz/900/UNALLOCATED",
          "1 - 5GHz/4600/LINK",
          "1 - 5GHz/4100/LINK",
          "1 - 5GHz/3500/LINK",
          "1 - 5GHz/2200/UNALLOCATED",
          "1 - 5GHz/5000/LINK",
          "1 - 5GHz/700",
          "1 - 5GHz/800",
          "1 - 5GHz/900",
          "1 - 5GHz/1000",
          "1 - 5GHz/1100",
          "1 - 5GHz/1200",
          "1 - 5GHz/1300",
          "1 - 5GHz/1400",
          "1 - 5GHz/1500",
          "1 - 5GHz/1600",
          "1 - 5GHz/1700",
          "1 - 5GHz/1800",
          "1 - 5GHz/1900",
          "1 - 5GHz/2000",
          "1 - 5GHz/2100",
          "1 - 5GHz/2200",
          "1 - 5GHz/2300",
          "1 - 5GHz/2400",
          "1 - 5GHz/2500",
          "1 - 5GHz/2600",
          "1 - 5GHz/2700",
          "1 - 5GHz/2800",
          "1 - 5GHz/2900",
          "1 - 5GHz/3000",
          "1 - 5GHz/3100",
          "1 - 5GHz/3200",
          "1 - 5GHz/3300",
          "1 - 5GHz/3400",
          "1 - 5GHz/3500",
          "1 - 5GHz/3600",
          "1 - 5GHz/3700",
          "1 - 5GHz/3800",
          "1 - 5GHz/3900",
          "1 - 5GHz/4000",
          "1 - 5GHz/4100",
          "1 - 5GHz/4200",
          "1 - 5GHz/4300",
          "1 - 5GHz/4400",
          "1 - 5GHz/4500",
          "1 - 5GHz/4600",
          "1 - 5GHz/4700",
          "1 - 5GHz/4800",
          "1 - 5GHz/4900",
          "1 - 5GHz/5000",
          "1 - 5GHz"
         ],
         "labels": [
          "UNALLOCATED",
          "DOWNLINK",
          "UPLINK",
          "DOWNLINK",
          "UNALLOCATED",
          "DOWNLINK",
          "LINK",
          "LINK",
          "UPLINK",
          "LINK",
          "LINK",
          "LINK",
          "UPLINK",
          "UNALLOCATED",
          "LINK",
          "UPLINK",
          "LINK",
          "UNALLOCATED",
          "LINK",
          "LINK",
          "LINK",
          "UNALLOCATED",
          "LINK",
          "UNALLOCATED",
          "UPLINK",
          "UPLINK",
          "UNALLOCATED",
          "UNALLOCATED",
          "UNALLOCATED",
          "DOWNLINK",
          "UNALLOCATED",
          "DOWNLINK",
          "DOWNLINK",
          "UPLINK",
          "DOWNLINK",
          "DOWNLINK",
          "DOWNLINK",
          "UNALLOCATED",
          "UPLINK",
          "UPLINK",
          "UPLINK",
          "UPLINK",
          "DOWNLINK",
          "DOWNLINK",
          "LINK",
          "UPLINK",
          "UNALLOCATED",
          "LINK",
          "UPLINK",
          "LINK",
          "DOWNLINK",
          "LINK",
          "DOWNLINK",
          "UNALLOCATED",
          "LINK",
          "UPLINK",
          "UNALLOCATED",
          "DOWNLINK",
          "UNALLOCATED",
          "UPLINK",
          "UNALLOCATED",
          "DOWNLINK",
          "UPLINK",
          "UPLINK",
          "DOWNLINK",
          "LINK",
          "DOWNLINK",
          "DOWNLINK",
          "UPLINK",
          "DOWNLINK",
          "UPLINK",
          "UNALLOCATED",
          "DOWNLINK",
          "UPLINK",
          "UNALLOCATED",
          "DOWNLINK",
          "DOWNLINK",
          "LINK",
          "LINK",
          "UPLINK",
          "UNALLOCATED",
          "LINK",
          "LINK",
          "UPLINK",
          "UNALLOCATED",
          "LINK",
          "UNALLOCATED",
          "UNALLOCATED",
          "UNALLOCATED",
          "UNALLOCATED",
          "UPLINK",
          "UNALLOCATED",
          "UPLINK",
          "UNALLOCATED",
          "UPLINK",
          "UNALLOCATED",
          "UNALLOCATED",
          "UPLINK",
          "UNALLOCATED",
          "UPLINK",
          "LINK",
          "UNALLOCATED",
          "DOWNLINK",
          "DOWNLINK",
          "DOWNLINK",
          "DOWNLINK",
          "DOWNLINK",
          "DOWNLINK",
          "UPLINK",
          "DOWNLINK",
          "DOWNLINK",
          "DOWNLINK",
          "DOWNLINK",
          "UPLINK",
          "DOWNLINK",
          "UPLINK",
          "UNALLOCATED",
          "LINK",
          "LINK",
          "UNALLOCATED",
          "UNALLOCATED",
          "LINK",
          "UPLINK",
          "LINK",
          "LINK",
          "LINK",
          "UPLINK",
          "LINK",
          "LINK",
          "LINK",
          "LINK",
          "UPLINK",
          "UPLINK",
          "UPLINK",
          "UPLINK",
          "UPLINK",
          "UPLINK",
          "UPLINK",
          "UPLINK",
          "UPLINK",
          "UPLINK",
          "DOWNLINK",
          "UPLINK",
          "DOWNLINK",
          "DOWNLINK",
          "DOWNLINK",
          "DOWNLINK",
          "DOWNLINK",
          "DOWNLINK",
          "DOWNLINK",
          "DOWNLINK",
          "DOWNLINK",
          "DOWNLINK",
          "LINK",
          "LINK",
          "LINK",
          "LINK",
          "LINK",
          "LINK",
          "LINK",
          "UNALLOCATED",
          "UNALLOCATED",
          "UNALLOCATED",
          "UNALLOCATED",
          "UNALLOCATED",
          "UNALLOCATED",
          "UPLINK",
          "UNALLOCATED",
          "UNALLOCATED",
          "UNALLOCATED",
          "UNALLOCATED",
          "LINK",
          "LINK",
          "LINK",
          "UNALLOCATED",
          "LINK",
          "700",
          "800",
          "900",
          "1000",
          "1100",
          "1200",
          "1300",
          "1400",
          "1500",
          "1600",
          "1700",
          "1800",
          "1900",
          "2000",
          "2100",
          "2200",
          "2300",
          "2400",
          "2500",
          "2600",
          "2700",
          "2800",
          "2900",
          "3000",
          "3100",
          "3200",
          "3300",
          "3400",
          "3500",
          "3600",
          "3700",
          "3800",
          "3900",
          "4000",
          "4100",
          "4200",
          "4300",
          "4400",
          "4500",
          "4600",
          "4700",
          "4800",
          "4900",
          "5000",
          "1 - 5GHz"
         ],
         "marker": {
          "colors": [
           "grey",
           "#00cc96",
           "#ab63fa",
           "#00cc96",
           "grey",
           "#00cc96",
           "#FFA15A",
           "#FFA15A",
           "#ab63fa",
           "#FFA15A",
           "#FFA15A",
           "#FFA15A",
           "#ab63fa",
           "grey",
           "#FFA15A",
           "#ab63fa",
           "#FFA15A",
           "grey",
           "#FFA15A",
           "#FFA15A",
           "#FFA15A",
           "grey",
           "#FFA15A",
           "grey",
           "#ab63fa",
           "#ab63fa",
           "grey",
           "grey",
           "grey",
           "#00cc96",
           "grey",
           "#00cc96",
           "#00cc96",
           "#ab63fa",
           "#00cc96",
           "#00cc96",
           "#00cc96",
           "grey",
           "#ab63fa",
           "#ab63fa",
           "#ab63fa",
           "#ab63fa",
           "#00cc96",
           "#00cc96",
           "#FFA15A",
           "#ab63fa",
           "grey",
           "#FFA15A",
           "#ab63fa",
           "#FFA15A",
           "#00cc96",
           "#FFA15A",
           "#00cc96",
           "grey",
           "#FFA15A",
           "#ab63fa",
           "grey",
           "#00cc96",
           "grey",
           "#ab63fa",
           "grey",
           "#00cc96",
           "#ab63fa",
           "#ab63fa",
           "#00cc96",
           "#FFA15A",
           "#00cc96",
           "#00cc96",
           "#ab63fa",
           "#00cc96",
           "#ab63fa",
           "grey",
           "#00cc96",
           "#ab63fa",
           "grey",
           "#00cc96",
           "#00cc96",
           "#FFA15A",
           "#FFA15A",
           "#ab63fa",
           "grey",
           "#FFA15A",
           "#FFA15A",
           "#ab63fa",
           "grey",
           "#FFA15A",
           "grey",
           "grey",
           "grey",
           "grey",
           "#ab63fa",
           "grey",
           "#ab63fa",
           "grey",
           "#ab63fa",
           "grey",
           "grey",
           "#ab63fa",
           "grey",
           "#ab63fa",
           "#FFA15A",
           "grey",
           "#00cc96",
           "#00cc96",
           "#00cc96",
           "#00cc96",
           "#00cc96",
           "#00cc96",
           "#ab63fa",
           "#00cc96",
           "#00cc96",
           "#00cc96",
           "#00cc96",
           "#ab63fa",
           "#00cc96",
           "#ab63fa",
           "grey",
           "#FFA15A",
           "#FFA15A",
           "grey",
           "grey",
           "#FFA15A",
           "#ab63fa",
           "#FFA15A",
           "#FFA15A",
           "#FFA15A",
           "#ab63fa",
           "#FFA15A",
           "#FFA15A",
           "#FFA15A",
           "#FFA15A",
           "#ab63fa",
           "#ab63fa",
           "#ab63fa",
           "#ab63fa",
           "#ab63fa",
           "#ab63fa",
           "#ab63fa",
           "#ab63fa",
           "#ab63fa",
           "#ab63fa",
           "#00cc96",
           "#ab63fa",
           "#00cc96",
           "#00cc96",
           "#00cc96",
           "#00cc96",
           "#00cc96",
           "#00cc96",
           "#00cc96",
           "#00cc96",
           "#00cc96",
           "#00cc96",
           "#FFA15A",
           "#FFA15A",
           "#FFA15A",
           "#FFA15A",
           "#FFA15A",
           "#FFA15A",
           "#FFA15A",
           "grey",
           "grey",
           "grey",
           "grey",
           "grey",
           "grey",
           "#ab63fa",
           "grey",
           "grey",
           "grey",
           "grey",
           "#FFA15A",
           "#FFA15A",
           "#FFA15A",
           "grey",
           "#FFA15A",
           "lightgrey",
           "lightgrey",
           "lightgrey",
           "lightgrey",
           "lightgrey",
           "lightgrey",
           "lightgrey",
           "lightgrey",
           "lightgrey",
           "lightgrey",
           "lightgrey",
           "lightgrey",
           "lightgrey",
           "lightgrey",
           "lightgrey",
           "lightgrey",
           "lightgrey",
           "lightgrey",
           "lightgrey",
           "lightgrey",
           "lightgrey",
           "lightgrey",
           "lightgrey",
           "lightgrey",
           "lightgrey",
           "lightgrey",
           "lightgrey",
           "lightgrey",
           "lightgrey",
           "lightgrey",
           "lightgrey",
           "lightgrey",
           "lightgrey",
           "lightgrey",
           "lightgrey",
           "lightgrey",
           "lightgrey",
           "lightgrey",
           "lightgrey",
           "lightgrey",
           "lightgrey",
           "lightgrey",
           "lightgrey",
           "lightgrey",
           "lightgrey"
          ]
         },
         "name": "",
         "parents": [
          "1 - 5GHz/3700",
          "1 - 5GHz/4100",
          "1 - 5GHz/1900",
          "1 - 5GHz/4300",
          "1 - 5GHz/4200",
          "1 - 5GHz/4900",
          "1 - 5GHz/700",
          "1 - 5GHz/1300",
          "1 - 5GHz/3600",
          "1 - 5GHz/1700",
          "1 - 5GHz/2100",
          "1 - 5GHz/2500",
          "1 - 5GHz/3300",
          "1 - 5GHz/3100",
          "1 - 5GHz/3000",
          "1 - 5GHz/1600",
          "1 - 5GHz/3400",
          "1 - 5GHz/2800",
          "1 - 5GHz/3800",
          "1 - 5GHz/4200",
          "1 - 5GHz/4400",
          "1 - 5GHz/2500",
          "1 - 5GHz/4800",
          "1 - 5GHz/800",
          "1 - 5GHz/2800",
          "1 - 5GHz/2500",
          "1 - 5GHz/1300",
          "1 - 5GHz/2000",
          "1 - 5GHz/4500",
          "1 - 5GHz/3800",
          "1 - 5GHz/1800",
          "1 - 5GHz/2200",
          "1 - 5GHz/1700",
          "1 - 5GHz/4700",
          "1 - 5GHz/2600",
          "1 - 5GHz/1300",
          "1 - 5GHz/3100",
          "1 - 5GHz/5000",
          "1 - 5GHz/1200",
          "1 - 5GHz/800",
          "1 - 5GHz/4500",
          "1 - 5GHz/4200",
          "1 - 5GHz/1000",
          "1 - 5GHz/2800",
          "1 - 5GHz/4000",
          "1 - 5GHz/900",
          "1 - 5GHz/3000",
          "1 - 5GHz/3600",
          "1 - 5GHz/3200",
          "1 - 5GHz/3100",
          "1 - 5GHz/3600",
          "1 - 5GHz/4300",
          "1 - 5GHz/2100",
          "1 - 5GHz/2600",
          "1 - 5GHz/4700",
          "1 - 5GHz/4900",
          "1 - 5GHz/700",
          "1 - 5GHz/1200",
          "1 - 5GHz/1100",
          "1 - 5GHz/1300",
          "1 - 5GHz/2100",
          "1 - 5GHz/800",
          "1 - 5GHz/2600",
          "1 - 5GHz/3000",
          "1 - 5GHz/1500",
          "1 - 5GHz/2800",
          "1 - 5GHz/2300",
          "1 - 5GHz/4000",
          "1 - 5GHz/1800",
          "1 - 5GHz/3300",
          "1 - 5GHz/4300",
          "1 - 5GHz/4300",
          "1 - 5GHz/4500",
          "1 - 5GHz/3900",
          "1 - 5GHz/4100",
          "1 - 5GHz/3000",
          "1 - 5GHz/5000",
          "1 - 5GHz/1000",
          "1 - 5GHz/1100",
          "1 - 5GHz/2000",
          "1 - 5GHz/1700",
          "1 - 5GHz/2400",
          "1 - 5GHz/2200",
          "1 - 5GHz/3500",
          "1 - 5GHz/3400",
          "1 - 5GHz/1500",
          "1 - 5GHz/4900",
          "1 - 5GHz/3600",
          "1 - 5GHz/2700",
          "1 - 5GHz/4800",
          "1 - 5GHz/1000",
          "1 - 5GHz/3500",
          "1 - 5GHz/2400",
          "1 - 5GHz/4000",
          "1 - 5GHz/1100",
          "1 - 5GHz/4600",
          "1 - 5GHz/3300",
          "1 - 5GHz/2200",
          "1 - 5GHz/2400",
          "1 - 5GHz/5000",
          "1 - 5GHz/3300",
          "1 - 5GHz/1500",
          "1 - 5GHz/900",
          "1 - 5GHz/1400",
          "1 - 5GHz/1600",
          "1 - 5GHz/2000",
          "1 - 5GHz/2500",
          "1 - 5GHz/2700",
          "1 - 5GHz/4400",
          "1 - 5GHz/3400",
          "1 - 5GHz/3700",
          "1 - 5GHz/3900",
          "1 - 5GHz/4400",
          "1 - 5GHz/4000",
          "1 - 5GHz/4800",
          "1 - 5GHz/3800",
          "1 - 5GHz/1900",
          "1 - 5GHz/900",
          "1 - 5GHz/3900",
          "1 - 5GHz/1200",
          "1 - 5GHz/1000",
          "1 - 5GHz/4900",
          "1 - 5GHz/2900",
          "1 - 5GHz/4500",
          "1 - 5GHz/1400",
          "1 - 5GHz/3700",
          "1 - 5GHz/1500",
          "1 - 5GHz/2900",
          "1 - 5GHz/2300",
          "1 - 5GHz/1900",
          "1 - 5GHz/1800",
          "1 - 5GHz/3100",
          "1 - 5GHz/2300",
          "1 - 5GHz/4100",
          "1 - 5GHz/3400",
          "1 - 5GHz/1700",
          "1 - 5GHz/4600",
          "1 - 5GHz/2100",
          "1 - 5GHz/4800",
          "1 - 5GHz/2700",
          "1 - 5GHz/3700",
          "1 - 5GHz/700",
          "1 - 5GHz/700",
          "1 - 5GHz/1100",
          "1 - 5GHz/1800",
          "1 - 5GHz/1900",
          "1 - 5GHz/2400",
          "1 - 5GHz/2900",
          "1 - 5GHz/3200",
          "1 - 5GHz/3500",
          "1 - 5GHz/4200",
          "1 - 5GHz/4600",
          "1 - 5GHz/4700",
          "1 - 5GHz/800",
          "1 - 5GHz/1200",
          "1 - 5GHz/1600",
          "1 - 5GHz/2000",
          "1 - 5GHz/2600",
          "1 - 5GHz/2700",
          "1 - 5GHz/3200",
          "1 - 5GHz/4700",
          "1 - 5GHz/4400",
          "1 - 5GHz/3900",
          "1 - 5GHz/3800",
          "1 - 5GHz/3200",
          "1 - 5GHz/2900",
          "1 - 5GHz/1400",
          "1 - 5GHz/2300",
          "1 - 5GHz/1600",
          "1 - 5GHz/1400",
          "1 - 5GHz/900",
          "1 - 5GHz/4600",
          "1 - 5GHz/4100",
          "1 - 5GHz/3500",
          "1 - 5GHz/2200",
          "1 - 5GHz/5000",
          "1 - 5GHz",
          "1 - 5GHz",
          "1 - 5GHz",
          "1 - 5GHz",
          "1 - 5GHz",
          "1 - 5GHz",
          "1 - 5GHz",
          "1 - 5GHz",
          "1 - 5GHz",
          "1 - 5GHz",
          "1 - 5GHz",
          "1 - 5GHz",
          "1 - 5GHz",
          "1 - 5GHz",
          "1 - 5GHz",
          "1 - 5GHz",
          "1 - 5GHz",
          "1 - 5GHz",
          "1 - 5GHz",
          "1 - 5GHz",
          "1 - 5GHz",
          "1 - 5GHz",
          "1 - 5GHz",
          "1 - 5GHz",
          "1 - 5GHz",
          "1 - 5GHz",
          "1 - 5GHz",
          "1 - 5GHz",
          "1 - 5GHz",
          "1 - 5GHz",
          "1 - 5GHz",
          "1 - 5GHz",
          "1 - 5GHz",
          "1 - 5GHz",
          "1 - 5GHz",
          "1 - 5GHz",
          "1 - 5GHz",
          "1 - 5GHz",
          "1 - 5GHz",
          "1 - 5GHz",
          "1 - 5GHz",
          "1 - 5GHz",
          "1 - 5GHz",
          "1 - 5GHz",
          ""
         ],
         "root": {
          "color": "lightgrey"
         },
         "tiling": {
          "packing": "slice-dice"
         },
         "type": "treemap",
         "values": [
          0,
          0,
          59.7,
          0,
          0,
          0,
          0,
          0,
          0,
          0,
          0,
          30,
          0,
          0,
          0,
          0,
          90,
          0,
          0,
          0,
          0,
          0,
          0,
          29.099999999999994,
          0,
          70,
          0,
          0,
          0,
          0,
          5.099999999999994,
          0,
          0,
          0,
          70,
          0,
          0,
          0,
          0,
          49.9,
          0,
          0,
          0,
          0,
          9,
          14.9,
          0,
          100,
          0,
          0,
          0,
          0,
          59.4,
          10,
          0,
          0,
          36,
          0,
          0,
          0,
          40.6,
          21,
          0,
          0,
          0,
          0,
          0,
          0,
          0,
          0,
          0,
          0,
          0,
          0,
          0,
          0,
          0,
          0,
          0,
          0,
          25.099999999999994,
          0,
          0,
          0,
          10,
          0,
          0,
          0,
          0,
          0,
          0,
          0,
          0,
          91,
          0,
          0,
          0,
          0,
          0,
          0,
          0,
          0,
          34.8,
          40,
          0,
          0,
          0,
          0,
          0,
          0,
          0,
          0,
          0,
          0,
          0,
          0,
          20.200000000000003,
          0,
          75,
          0,
          0,
          0,
          0,
          0,
          0,
          100,
          0,
          0,
          40,
          20.1,
          20,
          0,
          0,
          0,
          0,
          74.9,
          0,
          0,
          0,
          0,
          0,
          34,
          30,
          0,
          74.9,
          0,
          0,
          0,
          0,
          0,
          0,
          0,
          0,
          0,
          0,
          0,
          0,
          20,
          0,
          0,
          0,
          0,
          25,
          0,
          0,
          0,
          0,
          60,
          0,
          60,
          50.3,
          0,
          0,
          100,
          0,
          0,
          100,
          100,
          100,
          0,
          0,
          0,
          0,
          100,
          0,
          0,
          100,
          100,
          100,
          0,
          100,
          0,
          100,
          0,
          100,
          100,
          0,
          0,
          0,
          0,
          0,
          0,
          0,
          100,
          100,
          100,
          100,
          0,
          100,
          100,
          0,
          0,
          0,
          0,
          0,
          0,
          0,
          0,
          0,
          0,
          1700
         ]
        }
       ],
       "layout": {
        "legend": {
         "tracegroupgap": 0
        },
        "margin": {
         "b": 25,
         "l": 25,
         "r": 25,
         "t": 50
        },
        "template": {
         "data": {
          "bar": [
           {
            "error_x": {
             "color": "#2a3f5f"
            },
            "error_y": {
             "color": "#2a3f5f"
            },
            "marker": {
             "line": {
              "color": "#E5ECF6",
              "width": 0.5
             },
             "pattern": {
              "fillmode": "overlay",
              "size": 10,
              "solidity": 0.2
             }
            },
            "type": "bar"
           }
          ],
          "barpolar": [
           {
            "marker": {
             "line": {
              "color": "#E5ECF6",
              "width": 0.5
             },
             "pattern": {
              "fillmode": "overlay",
              "size": 10,
              "solidity": 0.2
             }
            },
            "type": "barpolar"
           }
          ],
          "carpet": [
           {
            "aaxis": {
             "endlinecolor": "#2a3f5f",
             "gridcolor": "white",
             "linecolor": "white",
             "minorgridcolor": "white",
             "startlinecolor": "#2a3f5f"
            },
            "baxis": {
             "endlinecolor": "#2a3f5f",
             "gridcolor": "white",
             "linecolor": "white",
             "minorgridcolor": "white",
             "startlinecolor": "#2a3f5f"
            },
            "type": "carpet"
           }
          ],
          "choropleth": [
           {
            "colorbar": {
             "outlinewidth": 0,
             "ticks": ""
            },
            "type": "choropleth"
           }
          ],
          "contour": [
           {
            "colorbar": {
             "outlinewidth": 0,
             "ticks": ""
            },
            "colorscale": [
             [
              0,
              "#0d0887"
             ],
             [
              0.1111111111111111,
              "#46039f"
             ],
             [
              0.2222222222222222,
              "#7201a8"
             ],
             [
              0.3333333333333333,
              "#9c179e"
             ],
             [
              0.4444444444444444,
              "#bd3786"
             ],
             [
              0.5555555555555556,
              "#d8576b"
             ],
             [
              0.6666666666666666,
              "#ed7953"
             ],
             [
              0.7777777777777778,
              "#fb9f3a"
             ],
             [
              0.8888888888888888,
              "#fdca26"
             ],
             [
              1,
              "#f0f921"
             ]
            ],
            "type": "contour"
           }
          ],
          "contourcarpet": [
           {
            "colorbar": {
             "outlinewidth": 0,
             "ticks": ""
            },
            "type": "contourcarpet"
           }
          ],
          "heatmap": [
           {
            "colorbar": {
             "outlinewidth": 0,
             "ticks": ""
            },
            "colorscale": [
             [
              0,
              "#0d0887"
             ],
             [
              0.1111111111111111,
              "#46039f"
             ],
             [
              0.2222222222222222,
              "#7201a8"
             ],
             [
              0.3333333333333333,
              "#9c179e"
             ],
             [
              0.4444444444444444,
              "#bd3786"
             ],
             [
              0.5555555555555556,
              "#d8576b"
             ],
             [
              0.6666666666666666,
              "#ed7953"
             ],
             [
              0.7777777777777778,
              "#fb9f3a"
             ],
             [
              0.8888888888888888,
              "#fdca26"
             ],
             [
              1,
              "#f0f921"
             ]
            ],
            "type": "heatmap"
           }
          ],
          "heatmapgl": [
           {
            "colorbar": {
             "outlinewidth": 0,
             "ticks": ""
            },
            "colorscale": [
             [
              0,
              "#0d0887"
             ],
             [
              0.1111111111111111,
              "#46039f"
             ],
             [
              0.2222222222222222,
              "#7201a8"
             ],
             [
              0.3333333333333333,
              "#9c179e"
             ],
             [
              0.4444444444444444,
              "#bd3786"
             ],
             [
              0.5555555555555556,
              "#d8576b"
             ],
             [
              0.6666666666666666,
              "#ed7953"
             ],
             [
              0.7777777777777778,
              "#fb9f3a"
             ],
             [
              0.8888888888888888,
              "#fdca26"
             ],
             [
              1,
              "#f0f921"
             ]
            ],
            "type": "heatmapgl"
           }
          ],
          "histogram": [
           {
            "marker": {
             "pattern": {
              "fillmode": "overlay",
              "size": 10,
              "solidity": 0.2
             }
            },
            "type": "histogram"
           }
          ],
          "histogram2d": [
           {
            "colorbar": {
             "outlinewidth": 0,
             "ticks": ""
            },
            "colorscale": [
             [
              0,
              "#0d0887"
             ],
             [
              0.1111111111111111,
              "#46039f"
             ],
             [
              0.2222222222222222,
              "#7201a8"
             ],
             [
              0.3333333333333333,
              "#9c179e"
             ],
             [
              0.4444444444444444,
              "#bd3786"
             ],
             [
              0.5555555555555556,
              "#d8576b"
             ],
             [
              0.6666666666666666,
              "#ed7953"
             ],
             [
              0.7777777777777778,
              "#fb9f3a"
             ],
             [
              0.8888888888888888,
              "#fdca26"
             ],
             [
              1,
              "#f0f921"
             ]
            ],
            "type": "histogram2d"
           }
          ],
          "histogram2dcontour": [
           {
            "colorbar": {
             "outlinewidth": 0,
             "ticks": ""
            },
            "colorscale": [
             [
              0,
              "#0d0887"
             ],
             [
              0.1111111111111111,
              "#46039f"
             ],
             [
              0.2222222222222222,
              "#7201a8"
             ],
             [
              0.3333333333333333,
              "#9c179e"
             ],
             [
              0.4444444444444444,
              "#bd3786"
             ],
             [
              0.5555555555555556,
              "#d8576b"
             ],
             [
              0.6666666666666666,
              "#ed7953"
             ],
             [
              0.7777777777777778,
              "#fb9f3a"
             ],
             [
              0.8888888888888888,
              "#fdca26"
             ],
             [
              1,
              "#f0f921"
             ]
            ],
            "type": "histogram2dcontour"
           }
          ],
          "mesh3d": [
           {
            "colorbar": {
             "outlinewidth": 0,
             "ticks": ""
            },
            "type": "mesh3d"
           }
          ],
          "parcoords": [
           {
            "line": {
             "colorbar": {
              "outlinewidth": 0,
              "ticks": ""
             }
            },
            "type": "parcoords"
           }
          ],
          "pie": [
           {
            "automargin": true,
            "type": "pie"
           }
          ],
          "scatter": [
           {
            "marker": {
             "colorbar": {
              "outlinewidth": 0,
              "ticks": ""
             }
            },
            "type": "scatter"
           }
          ],
          "scatter3d": [
           {
            "line": {
             "colorbar": {
              "outlinewidth": 0,
              "ticks": ""
             }
            },
            "marker": {
             "colorbar": {
              "outlinewidth": 0,
              "ticks": ""
             }
            },
            "type": "scatter3d"
           }
          ],
          "scattercarpet": [
           {
            "marker": {
             "colorbar": {
              "outlinewidth": 0,
              "ticks": ""
             }
            },
            "type": "scattercarpet"
           }
          ],
          "scattergeo": [
           {
            "marker": {
             "colorbar": {
              "outlinewidth": 0,
              "ticks": ""
             }
            },
            "type": "scattergeo"
           }
          ],
          "scattergl": [
           {
            "marker": {
             "colorbar": {
              "outlinewidth": 0,
              "ticks": ""
             }
            },
            "type": "scattergl"
           }
          ],
          "scattermapbox": [
           {
            "marker": {
             "colorbar": {
              "outlinewidth": 0,
              "ticks": ""
             }
            },
            "type": "scattermapbox"
           }
          ],
          "scatterpolar": [
           {
            "marker": {
             "colorbar": {
              "outlinewidth": 0,
              "ticks": ""
             }
            },
            "type": "scatterpolar"
           }
          ],
          "scatterpolargl": [
           {
            "marker": {
             "colorbar": {
              "outlinewidth": 0,
              "ticks": ""
             }
            },
            "type": "scatterpolargl"
           }
          ],
          "scatterternary": [
           {
            "marker": {
             "colorbar": {
              "outlinewidth": 0,
              "ticks": ""
             }
            },
            "type": "scatterternary"
           }
          ],
          "surface": [
           {
            "colorbar": {
             "outlinewidth": 0,
             "ticks": ""
            },
            "colorscale": [
             [
              0,
              "#0d0887"
             ],
             [
              0.1111111111111111,
              "#46039f"
             ],
             [
              0.2222222222222222,
              "#7201a8"
             ],
             [
              0.3333333333333333,
              "#9c179e"
             ],
             [
              0.4444444444444444,
              "#bd3786"
             ],
             [
              0.5555555555555556,
              "#d8576b"
             ],
             [
              0.6666666666666666,
              "#ed7953"
             ],
             [
              0.7777777777777778,
              "#fb9f3a"
             ],
             [
              0.8888888888888888,
              "#fdca26"
             ],
             [
              1,
              "#f0f921"
             ]
            ],
            "type": "surface"
           }
          ],
          "table": [
           {
            "cells": {
             "fill": {
              "color": "#EBF0F8"
             },
             "line": {
              "color": "white"
             }
            },
            "header": {
             "fill": {
              "color": "#C8D4E3"
             },
             "line": {
              "color": "white"
             }
            },
            "type": "table"
           }
          ]
         },
         "layout": {
          "annotationdefaults": {
           "arrowcolor": "#2a3f5f",
           "arrowhead": 0,
           "arrowwidth": 1
          },
          "autotypenumbers": "strict",
          "coloraxis": {
           "colorbar": {
            "outlinewidth": 0,
            "ticks": ""
           }
          },
          "colorscale": {
           "diverging": [
            [
             0,
             "#8e0152"
            ],
            [
             0.1,
             "#c51b7d"
            ],
            [
             0.2,
             "#de77ae"
            ],
            [
             0.3,
             "#f1b6da"
            ],
            [
             0.4,
             "#fde0ef"
            ],
            [
             0.5,
             "#f7f7f7"
            ],
            [
             0.6,
             "#e6f5d0"
            ],
            [
             0.7,
             "#b8e186"
            ],
            [
             0.8,
             "#7fbc41"
            ],
            [
             0.9,
             "#4d9221"
            ],
            [
             1,
             "#276419"
            ]
           ],
           "sequential": [
            [
             0,
             "#0d0887"
            ],
            [
             0.1111111111111111,
             "#46039f"
            ],
            [
             0.2222222222222222,
             "#7201a8"
            ],
            [
             0.3333333333333333,
             "#9c179e"
            ],
            [
             0.4444444444444444,
             "#bd3786"
            ],
            [
             0.5555555555555556,
             "#d8576b"
            ],
            [
             0.6666666666666666,
             "#ed7953"
            ],
            [
             0.7777777777777778,
             "#fb9f3a"
            ],
            [
             0.8888888888888888,
             "#fdca26"
            ],
            [
             1,
             "#f0f921"
            ]
           ],
           "sequentialminus": [
            [
             0,
             "#0d0887"
            ],
            [
             0.1111111111111111,
             "#46039f"
            ],
            [
             0.2222222222222222,
             "#7201a8"
            ],
            [
             0.3333333333333333,
             "#9c179e"
            ],
            [
             0.4444444444444444,
             "#bd3786"
            ],
            [
             0.5555555555555556,
             "#d8576b"
            ],
            [
             0.6666666666666666,
             "#ed7953"
            ],
            [
             0.7777777777777778,
             "#fb9f3a"
            ],
            [
             0.8888888888888888,
             "#fdca26"
            ],
            [
             1,
             "#f0f921"
            ]
           ]
          },
          "colorway": [
           "#636efa",
           "#EF553B",
           "#00cc96",
           "#ab63fa",
           "#FFA15A",
           "#19d3f3",
           "#FF6692",
           "#B6E880",
           "#FF97FF",
           "#FECB52"
          ],
          "font": {
           "color": "#2a3f5f"
          },
          "geo": {
           "bgcolor": "white",
           "lakecolor": "white",
           "landcolor": "#E5ECF6",
           "showlakes": true,
           "showland": true,
           "subunitcolor": "white"
          },
          "hoverlabel": {
           "align": "left"
          },
          "hovermode": "closest",
          "mapbox": {
           "style": "light"
          },
          "paper_bgcolor": "white",
          "plot_bgcolor": "#E5ECF6",
          "polar": {
           "angularaxis": {
            "gridcolor": "white",
            "linecolor": "white",
            "ticks": ""
           },
           "bgcolor": "#E5ECF6",
           "radialaxis": {
            "gridcolor": "white",
            "linecolor": "white",
            "ticks": ""
           }
          },
          "scene": {
           "xaxis": {
            "backgroundcolor": "#E5ECF6",
            "gridcolor": "white",
            "gridwidth": 2,
            "linecolor": "white",
            "showbackground": true,
            "ticks": "",
            "zerolinecolor": "white"
           },
           "yaxis": {
            "backgroundcolor": "#E5ECF6",
            "gridcolor": "white",
            "gridwidth": 2,
            "linecolor": "white",
            "showbackground": true,
            "ticks": "",
            "zerolinecolor": "white"
           },
           "zaxis": {
            "backgroundcolor": "#E5ECF6",
            "gridcolor": "white",
            "gridwidth": 2,
            "linecolor": "white",
            "showbackground": true,
            "ticks": "",
            "zerolinecolor": "white"
           }
          },
          "shapedefaults": {
           "line": {
            "color": "#2a3f5f"
           }
          },
          "ternary": {
           "aaxis": {
            "gridcolor": "white",
            "linecolor": "white",
            "ticks": ""
           },
           "baxis": {
            "gridcolor": "white",
            "linecolor": "white",
            "ticks": ""
           },
           "bgcolor": "#E5ECF6",
           "caxis": {
            "gridcolor": "white",
            "linecolor": "white",
            "ticks": ""
           }
          },
          "title": {
           "x": 0.05
          },
          "xaxis": {
           "automargin": true,
           "gridcolor": "white",
           "linecolor": "white",
           "ticks": "",
           "title": {
            "standoff": 15
           },
           "zerolinecolor": "white",
           "zerolinewidth": 2
          },
          "yaxis": {
           "automargin": true,
           "gridcolor": "white",
           "linecolor": "white",
           "ticks": "",
           "title": {
            "standoff": 15
           },
           "zerolinecolor": "white",
           "zerolinewidth": 2
          }
         }
        }
       }
      }
     },
     "metadata": {},
     "output_type": "display_data"
    }
   ],
   "source": [
    "import plotly_express as px\n",
    "\n",
    "fig = px.treemap(userGenFreq, path=[px.Constant('1 - 5GHz'), 'FREQUENCY', 'TYPE'], \n",
    "    values='BW', color='TYPE',\n",
    "    color_discrete_map={'(?)':'lightgrey', 'UNALLOCATED' : 'grey'})\n",
    "fig.update_traces(root_color=\"lightgrey\")\n",
    "fig.update_layout(margin = dict(t=50, l=25, r=25, b=25))\n",
    "fig.update_traces(tiling_packing='slice-dice')\n",
    "fig.write_html('Ofcom Treemaps/userGenFreqTreemap.html')\n",
    "fig.show()"
   ]
  },
  {
   "cell_type": "code",
   "execution_count": null,
   "metadata": {},
   "outputs": [],
   "source": []
  }
 ],
 "metadata": {
  "interpreter": {
   "hash": "cca67527604eeadd1b822e163783aa5673f145238baf20e2ba20176c0e708a3a"
  },
  "kernelspec": {
   "display_name": "Python 3.10.2 64-bit",
   "language": "python",
   "name": "python3"
  },
  "language_info": {
   "codemirror_mode": {
    "name": "ipython",
    "version": 3
   },
   "file_extension": ".py",
   "mimetype": "text/x-python",
   "name": "python",
   "nbconvert_exporter": "python",
   "pygments_lexer": "ipython3",
   "version": "3.10.2"
  },
  "orig_nbformat": 4
 },
 "nbformat": 4,
 "nbformat_minor": 2
}
