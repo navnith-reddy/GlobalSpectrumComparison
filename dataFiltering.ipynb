{
 "cells": [
  {
   "cell_type": "markdown",
   "metadata": {},
   "source": [
    "# Filtering ACMA Register of Radiocommuncation Licences\n",
    "\n",
    "The Register of Radiocommunication Licences (RRL) is the publicly available database of radiocommunication licences, location and frequency ranges. However, the vastness of the available data presents challenges to extracting useful data for any given project.\n",
    "\n",
    "The code below will isolate data relevant to mid-band spectrum usage with a primary focus on Wireless Broadband Access (WBA). Typically, spectrum used for WBA is allocated in a spectrum licence which are multidimensional.\n",
    "\n",
    "### Spectrum Licence Elements:\n",
    "- Frequency range(s)\n",
    "- Geographical location\n",
    "- Client\n",
    "\n",
    "The purpose of the code below is provide data in a format which is compatiable with an interactive treemap using squarify or plotly packages.\n",
    "\n",
    "## RRL Complications\n",
    "\n",
    "The data required for visualisation exists in two files: auth_spectrum_freq.csv and licence.csv. While licence.csv contains information regarding the licence itself, it does not contain geographic or spectrum usage information. The code uses licence.csv to filter out every licence that is not a spectrum licence. \n",
    "\n",
    "> NOTE: There are apparatus licences used by NBN Co. for WBA.\n",
    "\n",
    "The auth_spec_freq.csv file is not compatiable with licence.csv seeing as there are multiple licence number entires whereas licence.csv contains only one unique entry per licence number. As a result, the licence.csv dataset is being used a key data set to the frequency value dataset.\n"
   ]
  },
  {
   "cell_type": "markdown",
   "metadata": {},
   "source": [
    "## Identify Spectrum Licences:"
   ]
  },
  {
   "cell_type": "code",
   "execution_count": 6,
   "metadata": {},
   "outputs": [
    {
     "data": {
      "text/html": [
       "<div>\n",
       "<style scoped>\n",
       "    .dataframe tbody tr th:only-of-type {\n",
       "        vertical-align: middle;\n",
       "    }\n",
       "\n",
       "    .dataframe tbody tr th {\n",
       "        vertical-align: top;\n",
       "    }\n",
       "\n",
       "    .dataframe thead th {\n",
       "        text-align: right;\n",
       "    }\n",
       "</style>\n",
       "<table border=\"1\" class=\"dataframe\">\n",
       "  <thead>\n",
       "    <tr style=\"text-align: right;\">\n",
       "      <th></th>\n",
       "      <th>LICENCE_NO</th>\n",
       "      <th>CLIENT_NO</th>\n",
       "      <th>LICENCE_TYPE_NAME</th>\n",
       "      <th>LICENCE_CATEGORY_NAME</th>\n",
       "    </tr>\n",
       "  </thead>\n",
       "  <tbody>\n",
       "    <tr>\n",
       "      <th>0</th>\n",
       "      <td>10143110</td>\n",
       "      <td>1136980.0</td>\n",
       "      <td>Spectrum</td>\n",
       "      <td>2 GHz Band</td>\n",
       "    </tr>\n",
       "    <tr>\n",
       "      <th>1</th>\n",
       "      <td>10143136</td>\n",
       "      <td>1103274.0</td>\n",
       "      <td>Spectrum</td>\n",
       "      <td>2 GHz Band</td>\n",
       "    </tr>\n",
       "    <tr>\n",
       "      <th>2</th>\n",
       "      <td>10143466</td>\n",
       "      <td>1104504.0</td>\n",
       "      <td>Spectrum</td>\n",
       "      <td>2 GHz Band</td>\n",
       "    </tr>\n",
       "    <tr>\n",
       "      <th>3</th>\n",
       "      <td>10143562</td>\n",
       "      <td>1103276.0</td>\n",
       "      <td>Spectrum</td>\n",
       "      <td>2 GHz Band</td>\n",
       "    </tr>\n",
       "    <tr>\n",
       "      <th>4</th>\n",
       "      <td>10231258</td>\n",
       "      <td>1103276.0</td>\n",
       "      <td>Spectrum</td>\n",
       "      <td>1800 MHz Band</td>\n",
       "    </tr>\n",
       "    <tr>\n",
       "      <th>...</th>\n",
       "      <td>...</td>\n",
       "      <td>...</td>\n",
       "      <td>...</td>\n",
       "      <td>...</td>\n",
       "    </tr>\n",
       "    <tr>\n",
       "      <th>61</th>\n",
       "      <td>9469870</td>\n",
       "      <td>1149289.0</td>\n",
       "      <td>Spectrum</td>\n",
       "      <td>2.5 GHz Band</td>\n",
       "    </tr>\n",
       "    <tr>\n",
       "      <th>62</th>\n",
       "      <td>9469871</td>\n",
       "      <td>1103275.0</td>\n",
       "      <td>Spectrum</td>\n",
       "      <td>2.5 GHz Band</td>\n",
       "    </tr>\n",
       "    <tr>\n",
       "      <th>63</th>\n",
       "      <td>9469878</td>\n",
       "      <td>1103275.0</td>\n",
       "      <td>Spectrum</td>\n",
       "      <td>2.5 GHz Band</td>\n",
       "    </tr>\n",
       "    <tr>\n",
       "      <th>64</th>\n",
       "      <td>9599659</td>\n",
       "      <td>1103275.0</td>\n",
       "      <td>Spectrum</td>\n",
       "      <td>2.3 GHz Band</td>\n",
       "    </tr>\n",
       "    <tr>\n",
       "      <th>65</th>\n",
       "      <td>9619844</td>\n",
       "      <td>1136980.0</td>\n",
       "      <td>Spectrum</td>\n",
       "      <td>1800 MHz Band</td>\n",
       "    </tr>\n",
       "  </tbody>\n",
       "</table>\n",
       "<p>66 rows × 4 columns</p>\n",
       "</div>"
      ],
      "text/plain": [
       "    LICENCE_NO  CLIENT_NO LICENCE_TYPE_NAME LICENCE_CATEGORY_NAME\n",
       "0     10143110  1136980.0          Spectrum            2 GHz Band\n",
       "1     10143136  1103274.0          Spectrum            2 GHz Band\n",
       "2     10143466  1104504.0          Spectrum            2 GHz Band\n",
       "3     10143562  1103276.0          Spectrum            2 GHz Band\n",
       "4     10231258  1103276.0          Spectrum         1800 MHz Band\n",
       "..         ...        ...               ...                   ...\n",
       "61     9469870  1149289.0          Spectrum          2.5 GHz Band\n",
       "62     9469871  1103275.0          Spectrum          2.5 GHz Band\n",
       "63     9469878  1103275.0          Spectrum          2.5 GHz Band\n",
       "64     9599659  1103275.0          Spectrum          2.3 GHz Band\n",
       "65     9619844  1136980.0          Spectrum         1800 MHz Band\n",
       "\n",
       "[66 rows x 4 columns]"
      ]
     },
     "execution_count": 6,
     "metadata": {},
     "output_type": "execute_result"
    }
   ],
   "source": [
    "import pandas as pd\n",
    "import numpy as np\n",
    "\n",
    "lic = pd.read_csv('licence.csv')\n",
    "\n",
    "# Remove unecessary columns\n",
    "lic = lic.drop(columns=['SV_ID', 'SS_ID', 'DATE_ISSUED', 'DATE_OF_EFFECT', 'DATE_OF_EXPIRY', 'STATUS', 'STATUS_TEXT', 'AP_ID', 'SHIP_NAME', 'BSL_NO', 'AP_PRJ_IDENT'])\n",
    "\n",
    "# Isolate spectrum licences and reset index\n",
    "lic = lic.loc[lic['LICENCE_TYPE_NAME'] == 'Spectrum']\n",
    "specLic = lic.reset_index(drop=True, inplace=False)\n",
    "\n",
    "# Create a series of Spectrum Licence IDs\n",
    "specLicID = specLic['LICENCE_NO']\n",
    "\n",
    "# Change column type from object to 64 bit integer\n",
    "specLic = specLic.astype({'LICENCE_NO':'int64'})\n",
    "\n",
    "# Filter out non-mid-band licences\n",
    "specLic = specLic[~(specLic['LICENCE_CATEGORY_NAME'] == 'AWL - FSS Only')]\n",
    "specLic = specLic[~(specLic['LICENCE_CATEGORY_NAME'] == 'AWL - Standard')]\n",
    "specLic = specLic[~(specLic['LICENCE_CATEGORY_NAME'] == '26 GHz Band')]\n",
    "specLic = specLic[~(specLic['LICENCE_CATEGORY_NAME'] == '20 GHz Defence Band')]\n",
    "specLic = specLic[~(specLic['LICENCE_CATEGORY_NAME'] == '30 GHz Defence Band')]\n",
    "specLic = specLic.reset_index(drop=True, inplace=False)\n",
    "\n",
    "# Save to file\n",
    "specLic.to_csv('ds/spectrumLicences.csv', index=False)\n",
    "specLic"
   ]
  },
  {
   "cell_type": "markdown",
   "metadata": {},
   "source": [
    "## Identify Frequency Ranges and Locations:"
   ]
  },
  {
   "cell_type": "code",
   "execution_count": 7,
   "metadata": {},
   "outputs": [
    {
     "data": {
      "text/html": [
       "<div>\n",
       "<style scoped>\n",
       "    .dataframe tbody tr th:only-of-type {\n",
       "        vertical-align: middle;\n",
       "    }\n",
       "\n",
       "    .dataframe tbody tr th {\n",
       "        vertical-align: top;\n",
       "    }\n",
       "\n",
       "    .dataframe thead th {\n",
       "        text-align: right;\n",
       "    }\n",
       "</style>\n",
       "<table border=\"1\" class=\"dataframe\">\n",
       "  <thead>\n",
       "    <tr style=\"text-align: right;\">\n",
       "      <th></th>\n",
       "      <th>LICENCE_NO</th>\n",
       "      <th>AREA_NAME</th>\n",
       "      <th>LW_FREQUENCY_START</th>\n",
       "      <th>LW_FREQUENCY_END</th>\n",
       "      <th>UP_FREQUENCY_START</th>\n",
       "      <th>UP_FREQUENCY_END</th>\n",
       "    </tr>\n",
       "  </thead>\n",
       "  <tbody>\n",
       "    <tr>\n",
       "      <th>0</th>\n",
       "      <td>10006309</td>\n",
       "      <td>Regional South Australia</td>\n",
       "      <td>1710.0</td>\n",
       "      <td>1712.5</td>\n",
       "      <td>1805.0</td>\n",
       "      <td>1807.5</td>\n",
       "    </tr>\n",
       "    <tr>\n",
       "      <th>1</th>\n",
       "      <td>10143110</td>\n",
       "      <td>Perth</td>\n",
       "      <td>1960.0</td>\n",
       "      <td>1970.0</td>\n",
       "      <td>2150.0</td>\n",
       "      <td>2160.0</td>\n",
       "    </tr>\n",
       "    <tr>\n",
       "      <th>2</th>\n",
       "      <td>10143110</td>\n",
       "      <td>Sydney</td>\n",
       "      <td>1920.0</td>\n",
       "      <td>1935.0</td>\n",
       "      <td>2110.0</td>\n",
       "      <td>2125.0</td>\n",
       "    </tr>\n",
       "    <tr>\n",
       "      <th>3</th>\n",
       "      <td>10143110</td>\n",
       "      <td>Adelaide</td>\n",
       "      <td>1960.0</td>\n",
       "      <td>1970.0</td>\n",
       "      <td>2150.0</td>\n",
       "      <td>2160.0</td>\n",
       "    </tr>\n",
       "    <tr>\n",
       "      <th>4</th>\n",
       "      <td>10143110</td>\n",
       "      <td>Melbourne</td>\n",
       "      <td>1920.0</td>\n",
       "      <td>1935.0</td>\n",
       "      <td>2110.0</td>\n",
       "      <td>2125.0</td>\n",
       "    </tr>\n",
       "    <tr>\n",
       "      <th>...</th>\n",
       "      <td>...</td>\n",
       "      <td>...</td>\n",
       "      <td>...</td>\n",
       "      <td>...</td>\n",
       "      <td>...</td>\n",
       "      <td>...</td>\n",
       "    </tr>\n",
       "    <tr>\n",
       "      <th>1440</th>\n",
       "      <td>9599659</td>\n",
       "      <td>2.3 GHz Band</td>\n",
       "      <td>2302.0</td>\n",
       "      <td>2337.0</td>\n",
       "      <td>NaN</td>\n",
       "      <td>NaN</td>\n",
       "    </tr>\n",
       "    <tr>\n",
       "      <th>1441</th>\n",
       "      <td>9619844</td>\n",
       "      <td>Sydney</td>\n",
       "      <td>1740.0</td>\n",
       "      <td>1755.0</td>\n",
       "      <td>1835.0</td>\n",
       "      <td>1850.0</td>\n",
       "    </tr>\n",
       "    <tr>\n",
       "      <th>1442</th>\n",
       "      <td>9619844</td>\n",
       "      <td>Merge: Brisbane + Merge: Adelaide + Perth</td>\n",
       "      <td>1745.0</td>\n",
       "      <td>1755.0</td>\n",
       "      <td>1840.0</td>\n",
       "      <td>1850.0</td>\n",
       "    </tr>\n",
       "    <tr>\n",
       "      <th>1443</th>\n",
       "      <td>9619844</td>\n",
       "      <td>Melbourne</td>\n",
       "      <td>1740.0</td>\n",
       "      <td>1755.0</td>\n",
       "      <td>1835.0</td>\n",
       "      <td>1850.0</td>\n",
       "    </tr>\n",
       "    <tr>\n",
       "      <th>1444</th>\n",
       "      <td>9998087</td>\n",
       "      <td>North Queensland (Cairns/Townsville)</td>\n",
       "      <td>1710.0</td>\n",
       "      <td>1712.5</td>\n",
       "      <td>1805.0</td>\n",
       "      <td>1807.5</td>\n",
       "    </tr>\n",
       "  </tbody>\n",
       "</table>\n",
       "<p>1445 rows × 6 columns</p>\n",
       "</div>"
      ],
      "text/plain": [
       "      LICENCE_NO                                  AREA_NAME  \\\n",
       "0       10006309                   Regional South Australia   \n",
       "1       10143110                                      Perth   \n",
       "2       10143110                                     Sydney   \n",
       "3       10143110                                   Adelaide   \n",
       "4       10143110                                  Melbourne   \n",
       "...          ...                                        ...   \n",
       "1440     9599659                               2.3 GHz Band   \n",
       "1441     9619844                                     Sydney   \n",
       "1442     9619844  Merge: Brisbane + Merge: Adelaide + Perth   \n",
       "1443     9619844                                  Melbourne   \n",
       "1444     9998087       North Queensland (Cairns/Townsville)   \n",
       "\n",
       "      LW_FREQUENCY_START  LW_FREQUENCY_END  UP_FREQUENCY_START  \\\n",
       "0                 1710.0            1712.5              1805.0   \n",
       "1                 1960.0            1970.0              2150.0   \n",
       "2                 1920.0            1935.0              2110.0   \n",
       "3                 1960.0            1970.0              2150.0   \n",
       "4                 1920.0            1935.0              2110.0   \n",
       "...                  ...               ...                 ...   \n",
       "1440              2302.0            2337.0                 NaN   \n",
       "1441              1740.0            1755.0              1835.0   \n",
       "1442              1745.0            1755.0              1840.0   \n",
       "1443              1740.0            1755.0              1835.0   \n",
       "1444              1710.0            1712.5              1805.0   \n",
       "\n",
       "      UP_FREQUENCY_END  \n",
       "0               1807.5  \n",
       "1               2160.0  \n",
       "2               2125.0  \n",
       "3               2160.0  \n",
       "4               2125.0  \n",
       "...                ...  \n",
       "1440               NaN  \n",
       "1441            1850.0  \n",
       "1442            1850.0  \n",
       "1443            1850.0  \n",
       "1444            1807.5  \n",
       "\n",
       "[1445 rows x 6 columns]"
      ]
     },
     "execution_count": 7,
     "metadata": {},
     "output_type": "execute_result"
    }
   ],
   "source": [
    "freq = pd.read_csv('auth_spectrum_freq.csv')\n",
    "\n",
    "# Remove irrelevant data\n",
    "freq = freq.drop(columns=['AREA_CODE'])\n",
    "\n",
    "# Convert Hz to MHz\n",
    "#freq = freq.div(10000000, axis=['LW_FREQUENCY_START', 'LW_FREQUENCY_END', 'UP_FREQUENCY_START', 'UP_FREQUENCY_END'])\n",
    "freq['LW_FREQUENCY_START'] = (freq['LW_FREQUENCY_START'] / 1000000).round(3)\n",
    "freq['LW_FREQUENCY_END'] = (freq['LW_FREQUENCY_END'] / 1000000).round(3)\n",
    "freq['UP_FREQUENCY_START'] = (freq['UP_FREQUENCY_START'] / 1000000).round(3)\n",
    "freq['UP_FREQUENCY_END'] = (freq['UP_FREQUENCY_END'] / 1000000).round(3)\n",
    "\n",
    "# Save to file\n",
    "freq.to_csv('ds/frequencyList.csv', index='False')\n",
    "freq"
   ]
  },
  {
   "cell_type": "markdown",
   "metadata": {},
   "source": [
    "## Combine and Filter Datasets"
   ]
  },
  {
   "cell_type": "code",
   "execution_count": 10,
   "metadata": {},
   "outputs": [
    {
     "data": {
      "text/html": [
       "<div>\n",
       "<style scoped>\n",
       "    .dataframe tbody tr th:only-of-type {\n",
       "        vertical-align: middle;\n",
       "    }\n",
       "\n",
       "    .dataframe tbody tr th {\n",
       "        vertical-align: top;\n",
       "    }\n",
       "\n",
       "    .dataframe thead th {\n",
       "        text-align: right;\n",
       "    }\n",
       "</style>\n",
       "<table border=\"1\" class=\"dataframe\">\n",
       "  <thead>\n",
       "    <tr style=\"text-align: right;\">\n",
       "      <th></th>\n",
       "      <th>LICENCE_NO</th>\n",
       "      <th>AREA_NAME</th>\n",
       "      <th>LW_FREQUENCY_START</th>\n",
       "      <th>LW_FREQUENCY_END</th>\n",
       "      <th>LW_BW</th>\n",
       "      <th>UP_FREQUENCY_START</th>\n",
       "      <th>UP_FREQUENCY_END</th>\n",
       "      <th>UP_BW</th>\n",
       "      <th>USAGE</th>\n",
       "      <th>BAND</th>\n",
       "    </tr>\n",
       "  </thead>\n",
       "  <tbody>\n",
       "    <tr>\n",
       "      <th>0</th>\n",
       "      <td>10143110</td>\n",
       "      <td>Perth</td>\n",
       "      <td>1960.0</td>\n",
       "      <td>1970.0</td>\n",
       "      <td>10.0</td>\n",
       "      <td>2150.0</td>\n",
       "      <td>2160.0</td>\n",
       "      <td>10.0</td>\n",
       "      <td>20.0</td>\n",
       "      <td>2.0</td>\n",
       "    </tr>\n",
       "    <tr>\n",
       "      <th>1</th>\n",
       "      <td>10143110</td>\n",
       "      <td>Sydney</td>\n",
       "      <td>1920.0</td>\n",
       "      <td>1935.0</td>\n",
       "      <td>15.0</td>\n",
       "      <td>2110.0</td>\n",
       "      <td>2125.0</td>\n",
       "      <td>15.0</td>\n",
       "      <td>30.0</td>\n",
       "      <td>1.9</td>\n",
       "    </tr>\n",
       "    <tr>\n",
       "      <th>2</th>\n",
       "      <td>10143110</td>\n",
       "      <td>Adelaide</td>\n",
       "      <td>1960.0</td>\n",
       "      <td>1970.0</td>\n",
       "      <td>10.0</td>\n",
       "      <td>2150.0</td>\n",
       "      <td>2160.0</td>\n",
       "      <td>10.0</td>\n",
       "      <td>20.0</td>\n",
       "      <td>2.0</td>\n",
       "    </tr>\n",
       "    <tr>\n",
       "      <th>3</th>\n",
       "      <td>10143110</td>\n",
       "      <td>Melbourne</td>\n",
       "      <td>1920.0</td>\n",
       "      <td>1935.0</td>\n",
       "      <td>15.0</td>\n",
       "      <td>2110.0</td>\n",
       "      <td>2125.0</td>\n",
       "      <td>15.0</td>\n",
       "      <td>30.0</td>\n",
       "      <td>1.9</td>\n",
       "    </tr>\n",
       "    <tr>\n",
       "      <th>4</th>\n",
       "      <td>10143110</td>\n",
       "      <td>Brisbane</td>\n",
       "      <td>1960.0</td>\n",
       "      <td>1970.0</td>\n",
       "      <td>10.0</td>\n",
       "      <td>2150.0</td>\n",
       "      <td>2160.0</td>\n",
       "      <td>10.0</td>\n",
       "      <td>20.0</td>\n",
       "      <td>2.0</td>\n",
       "    </tr>\n",
       "    <tr>\n",
       "      <th>...</th>\n",
       "      <td>...</td>\n",
       "      <td>...</td>\n",
       "      <td>...</td>\n",
       "      <td>...</td>\n",
       "      <td>...</td>\n",
       "      <td>...</td>\n",
       "      <td>...</td>\n",
       "      <td>...</td>\n",
       "      <td>...</td>\n",
       "      <td>...</td>\n",
       "    </tr>\n",
       "    <tr>\n",
       "      <th>294</th>\n",
       "      <td>9599659</td>\n",
       "      <td>2.3 GHz Band</td>\n",
       "      <td>2365.0</td>\n",
       "      <td>2400.0</td>\n",
       "      <td>35.0</td>\n",
       "      <td>NaN</td>\n",
       "      <td>NaN</td>\n",
       "      <td>NaN</td>\n",
       "      <td>NaN</td>\n",
       "      <td>2.4</td>\n",
       "    </tr>\n",
       "    <tr>\n",
       "      <th>295</th>\n",
       "      <td>9599659</td>\n",
       "      <td>2.3 GHz Band</td>\n",
       "      <td>2302.0</td>\n",
       "      <td>2337.0</td>\n",
       "      <td>35.0</td>\n",
       "      <td>NaN</td>\n",
       "      <td>NaN</td>\n",
       "      <td>NaN</td>\n",
       "      <td>NaN</td>\n",
       "      <td>2.3</td>\n",
       "    </tr>\n",
       "    <tr>\n",
       "      <th>296</th>\n",
       "      <td>9619844</td>\n",
       "      <td>Sydney</td>\n",
       "      <td>1740.0</td>\n",
       "      <td>1755.0</td>\n",
       "      <td>15.0</td>\n",
       "      <td>1835.0</td>\n",
       "      <td>1850.0</td>\n",
       "      <td>15.0</td>\n",
       "      <td>30.0</td>\n",
       "      <td>1.7</td>\n",
       "    </tr>\n",
       "    <tr>\n",
       "      <th>297</th>\n",
       "      <td>9619844</td>\n",
       "      <td>Merge: Brisbane + Merge: Adelaide + Perth</td>\n",
       "      <td>1745.0</td>\n",
       "      <td>1755.0</td>\n",
       "      <td>10.0</td>\n",
       "      <td>1840.0</td>\n",
       "      <td>1850.0</td>\n",
       "      <td>10.0</td>\n",
       "      <td>20.0</td>\n",
       "      <td>1.7</td>\n",
       "    </tr>\n",
       "    <tr>\n",
       "      <th>298</th>\n",
       "      <td>9619844</td>\n",
       "      <td>Melbourne</td>\n",
       "      <td>1740.0</td>\n",
       "      <td>1755.0</td>\n",
       "      <td>15.0</td>\n",
       "      <td>1835.0</td>\n",
       "      <td>1850.0</td>\n",
       "      <td>15.0</td>\n",
       "      <td>30.0</td>\n",
       "      <td>1.7</td>\n",
       "    </tr>\n",
       "  </tbody>\n",
       "</table>\n",
       "<p>299 rows × 10 columns</p>\n",
       "</div>"
      ],
      "text/plain": [
       "     LICENCE_NO                                  AREA_NAME  \\\n",
       "0      10143110                                      Perth   \n",
       "1      10143110                                     Sydney   \n",
       "2      10143110                                   Adelaide   \n",
       "3      10143110                                  Melbourne   \n",
       "4      10143110                                   Brisbane   \n",
       "..          ...                                        ...   \n",
       "294     9599659                               2.3 GHz Band   \n",
       "295     9599659                               2.3 GHz Band   \n",
       "296     9619844                                     Sydney   \n",
       "297     9619844  Merge: Brisbane + Merge: Adelaide + Perth   \n",
       "298     9619844                                  Melbourne   \n",
       "\n",
       "     LW_FREQUENCY_START  LW_FREQUENCY_END  LW_BW  UP_FREQUENCY_START  \\\n",
       "0                1960.0            1970.0   10.0              2150.0   \n",
       "1                1920.0            1935.0   15.0              2110.0   \n",
       "2                1960.0            1970.0   10.0              2150.0   \n",
       "3                1920.0            1935.0   15.0              2110.0   \n",
       "4                1960.0            1970.0   10.0              2150.0   \n",
       "..                  ...               ...    ...                 ...   \n",
       "294              2365.0            2400.0   35.0                 NaN   \n",
       "295              2302.0            2337.0   35.0                 NaN   \n",
       "296              1740.0            1755.0   15.0              1835.0   \n",
       "297              1745.0            1755.0   10.0              1840.0   \n",
       "298              1740.0            1755.0   15.0              1835.0   \n",
       "\n",
       "     UP_FREQUENCY_END  UP_BW  USAGE  BAND  \n",
       "0              2160.0   10.0   20.0   2.0  \n",
       "1              2125.0   15.0   30.0   1.9  \n",
       "2              2160.0   10.0   20.0   2.0  \n",
       "3              2125.0   15.0   30.0   1.9  \n",
       "4              2160.0   10.0   20.0   2.0  \n",
       "..                ...    ...    ...   ...  \n",
       "294               NaN    NaN    NaN   2.4  \n",
       "295               NaN    NaN    NaN   2.3  \n",
       "296            1850.0   15.0   30.0   1.7  \n",
       "297            1850.0   10.0   20.0   1.7  \n",
       "298            1850.0   15.0   30.0   1.7  \n",
       "\n",
       "[299 rows x 10 columns]"
      ]
     },
     "execution_count": 10,
     "metadata": {},
     "output_type": "execute_result"
    }
   ],
   "source": [
    "# Isolate frequency and location data for spectrum licences\n",
    "specFreq = freq[freq['LICENCE_NO'].isin(specLic['LICENCE_NO'])]\n",
    "specFreq = specFreq.reset_index(drop=True, inplace=False)\n",
    "\n",
    "# Add bandwidth values\n",
    "specFreq['LW_BW'] = specFreq['LW_FREQUENCY_END'] - specFreq['LW_FREQUENCY_START']\n",
    "specFreq['UP_BW'] = specFreq['UP_FREQUENCY_END'] - specFreq['UP_FREQUENCY_START']\n",
    "specFreq['USAGE'] = specFreq['LW_BW'] + specFreq['UP_BW']\n",
    "\n",
    "# Move LW_BW column\n",
    "names = ['LICENCE_NO', 'AREA_NAME', 'LW_FREQUENCY_START', 'LW_FREQUENCY_END', 'LW_BW', 'UP_FREQUENCY_START', 'UP_FREQUENCY_END', 'UP_BW', 'USAGE']\n",
    "specFreq = specFreq.reindex(columns=names)\n",
    "\n",
    "# Add band categories\n",
    "specFreq['BAND'] = (specFreq['LW_FREQUENCY_START'] / 1000).round(1)\n",
    "\n",
    "# Save to file\n",
    "specFreq.to_csv('ds/spectrumLicencesFreq.csv', index=False)\n",
    "specFreq"
   ]
  },
  {
   "cell_type": "markdown",
   "metadata": {},
   "source": [
    "## Visualise dataset:"
   ]
  },
  {
   "cell_type": "code",
   "execution_count": 11,
   "metadata": {},
   "outputs": [
    {
     "name": "stderr",
     "output_type": "stream",
     "text": [
      "C:\\Users\\Nav\\AppData\\Local\\Programs\\Python\\Python310\\lib\\site-packages\\plotly\\express\\_core.py:1637: FutureWarning:\n",
      "\n",
      "The frame.append method is deprecated and will be removed from pandas in a future version. Use pandas.concat instead.\n",
      "\n",
      "C:\\Users\\Nav\\AppData\\Local\\Programs\\Python\\Python310\\lib\\site-packages\\plotly\\express\\_core.py:1637: FutureWarning:\n",
      "\n",
      "The frame.append method is deprecated and will be removed from pandas in a future version. Use pandas.concat instead.\n",
      "\n",
      "C:\\Users\\Nav\\AppData\\Local\\Programs\\Python\\Python310\\lib\\site-packages\\plotly\\express\\_core.py:1637: FutureWarning:\n",
      "\n",
      "The frame.append method is deprecated and will be removed from pandas in a future version. Use pandas.concat instead.\n",
      "\n"
     ]
    },
    {
     "data": {
      "application/vnd.plotly.v1+json": {
       "config": {
        "plotlyServerURL": "https://plot.ly"
       },
       "data": [
        {
         "branchvalues": "total",
         "domain": {
          "x": [
           0,
           1
          ],
          "y": [
           0,
           1
          ]
         },
         "hovertemplate": "labels=%{label}<br>USAGE=%{value}<br>parent=%{parent}<br>id=%{id}<extra></extra>",
         "ids": [
          "all/Area 1/0.7",
          "all/National/0.7",
          "all/Adelaide/0.8",
          "all/Brisbane/0.8",
          "all/Melbourne/0.8",
          "all/Perth/0.8",
          "all/Reg_Remote_Aus/0.8",
          "all/Sydney/0.8",
          "all/ACT and South Coast NSW/1.7",
          "all/Adelaide/1.7",
          "all/Brisbane/1.7",
          "all/Canberra/1.7",
          "all/Canberra (including south coast of NSW)/1.7",
          "all/Darwin/1.7",
          "all/Melbourne/1.7",
          "all/Merge: Brisbane + Merge: Adelaide + Perth/1.7",
          "all/Merge: North East and South Central NSW + Merge: South Queensland + North and Central Queensland/1.7",
          "all/Perth/1.7",
          "all/Regional South Australia/1.7",
          "all/Regional Victoria/1.7",
          "all/Regional Western Australia/1.7",
          "all/Sydney/1.7",
          "all/Tasmania/1.7",
          "all/Adelaide/1.8",
          "all/Brisbane/1.8",
          "all/Canberra (including south coast of NSW)/1.8",
          "all/Darwin/1.8",
          "all/Dubbo/1.8",
          "all/Mackay/1.8",
          "all/Melbourne/1.8",
          "all/North Queensland (Cairns/Townsville)/1.8",
          "all/North Queensland (Cairns/Townsville) + Central Queensland (Mackay)/1.8",
          "all/Northern New South Wales (Grafton) + Western New South Wales (Dubbo)/1.8",
          "all/Perth/1.8",
          "all/Regional South Australia/1.8",
          "all/Regional Victoria/1.8",
          "all/Regional WA/1.8",
          "all/Regional Western Australia/1.8",
          "all/South Queensland (Maryborough)/1.8",
          "all/South Queensland (Maryborough) + Northern New South Wales (Grafton)/1.8",
          "all/Southern New South Wales/Riverina (Albury)/1.8",
          "all/Sydney/1.8",
          "all/Tasmania/1.8",
          "all/Western New South Wales (Dubbo)/1.8",
          "all/Adelaide/1.9",
          "all/Brisbane/1.9",
          "all/Brisbane A/1.9",
          "all/Canberra/1.9",
          "all/Canberra A/1.9",
          "all/Canberra B/1.9",
          "all/Darwin/1.9",
          "all/Hobart/1.9",
          "all/Melbourne/1.9",
          "all/Perth/1.9",
          "all/Sydney/1.9",
          "all/Adelaide/2.0",
          "all/Brisbane/2.0",
          "all/Canberra/2.0",
          "all/Darwin/2.0",
          "all/Hobart/2.0",
          "all/Melbourne/2.0",
          "all/Perth/2.0",
          "all/Regional South East Australia/2.0",
          "all/Regional Western Australia/2.0",
          "all/Sydney/2.0",
          "all/2.3 GHz Band/2.3",
          "all/Area 1/2.3",
          "all/Area 2/2.3",
          "all/Area 3/2.3",
          "all/Area 4/2.3",
          "all/Area 5/2.3",
          "all/Area 6/2.3",
          "all/Area 7/2.3",
          "all/Central Australia/2.3",
          "all/Delamere/2.3",
          "all/Gold Fields/2.3",
          "all/Merge: 2.3 GHz Band + 2.3 GHz Band/2.3",
          "all/Merge: 2.3 GHz Band + Merge: 2.3 GHz Band + 2.3 GHz Band/2.3",
          "all/Midwest RQZ/2.3",
          "all/Outer ACT 1/2.3",
          "all/Outer ACT 2/2.3",
          "all/Outer ACT 3/2.3",
          "all/Telfer Mine/2.3",
          "all/2.3 GHz Band/2.4",
          "all/2.3 GHz Band Perth/2.4",
          "all/Cameron Corner/2.4",
          "all/Geraldton/Kalgoorlie/2.4",
          "all/Kimberley/2.4",
          "all/Melbourne/2.4",
          "all/Merge: 2.3 GHz Band Adelaide + 2.3 GHz Band/2.4",
          "all/NSW EAST/2.4",
          "all/Area 1/2.5",
          "all/Area 1/2.6",
          "all/National/2.6",
          "all/Merge: Merge: ma002 + ma003 + Merge: ma004 + ma037/3.4",
          "all/Merge: Merge: ma010 + ma038 + Merge: ma051 + Merge: ma008 + ma009/3.4",
          "all/Merge: Merge: ma034 + Merge: ma016 + ma018 + Merge: Merge: ma033 + Merge: ma030 + ma031 + Merge: ma035 + Merge: ma032 + Merge: ma017 + Merge: ma015 + Merge: ma014 + ma040/3.4",
          "all/Merge: Merge: ma036 + Merge: ma023 + ma039 + Merge: Merge: ma022 + ma046 + Merge: ma024 + Merge: ma020 + ma021/3.4",
          "all/Merge: ma041 + ma053/3.4",
          "all/Merge: ma044 + Merge: ma026 + ma043/3.4",
          "all/ma042/3.4",
          "all/ma045/3.4",
          "all/ma047/3.4",
          "all/ma048/3.4",
          "all/ma049/3.4",
          "all/ma050/3.4",
          "all/ma052/3.4",
          "all/Adelaide/3.5",
          "all/Adelaide Rim NE/3.5",
          "all/Adelaide Rim S/3.5",
          "all/Ballarat-Bendigo/3.5",
          "all/Brisbane B/3.5",
          "all/Cairns/3.5",
          "all/Canberra/3.5",
          "all/Canberra A/3.5",
          "all/Hobart/3.5",
          "all/Launceston/3.5",
          "all/Merge: Merge: ma006 + ma009 + Merge: ma051 + Merge: ma007 + ma010/3.5",
          "all/Merge: Merge: ma008 + ma009 + Merge: Merge: ma005 + ma006 + Merge: ma007 + ma010/3.5",
          "all/Merge: Merge: ma016 + ma018 + Merge: Merge: ma013 + ma014 + Merge: ma017 + Merge: ma015 + Merge: ma011 + ma012/3.5",
          "all/Merge: ma001 + ma002/3.5",
          "all/Merge: ma005 + ma008/3.5",
          "all/Merge: ma011 + ma018/3.5",
          "all/Merge: ma017 + Merge: ma015 + Merge: ma013 + Merge: ma012 + ma014/3.5",
          "all/Merge: ma019 + ma020/3.5",
          "all/Merge: ma025 + ma026/3.5",
          "all/Merge: ma028 + ma031/3.5",
          "all/Merge: ma029 + Merge: ma027 + ma030/3.5",
          "all/Merge: ma041 + ma053/3.5",
          "all/Perth/3.5",
          "all/Rockhampton/3.5",
          "all/Toowoomba/3.5",
          "all/Townsville/3.5",
          "all/Wodonga/3.5",
          "all/ma003/3.5",
          "all/ma004/3.5",
          "all/ma016/3.5",
          "all/ma021/3.5",
          "all/ma022/3.5",
          "all/ma023/3.5",
          "all/ma024/3.5",
          "all/ma032/3.5",
          "all/ma033/3.5",
          "all/ma034/3.5",
          "all/ma035/3.5",
          "all/ma036/3.5",
          "all/ma037/3.5",
          "all/ma038/3.5",
          "all/ma039/3.5",
          "all/ma040/3.5",
          "all/ma042/3.5",
          "all/ma043/3.5",
          "all/ma045/3.5",
          "all/ma046/3.5",
          "all/ma047/3.5",
          "all/ma048/3.5",
          "all/ma049/3.5",
          "all/ma050/3.5",
          "all/ma051/3.5",
          "all/ma052/3.5",
          "all/Adelaide/3.6",
          "all/Brisbane/3.6",
          "all/Canberra/3.6",
          "all/Melbourne/3.6",
          "all/Merge: Merge: ma031 + Merge: ma027 + ma028 + Merge: ma033 + Merge: ma032 + Merge: ma029 + ma030/3.6",
          "all/Merge: Regional Northern NSW/Southern Queensland + Merge: North Queensland + Central Queensland/3.6",
          "all/Merge: Regional Victoria + Tasmania/3.6",
          "all/Perth - lower/upper/3.6",
          "all/Regional South Australia/3.6",
          "all/Regional Southern/Western NSW/3.6",
          "all/Regional Western Australia/3.6",
          "all/Sydney/3.6",
          "all/Adelaide/3.7",
          "all/Brisbane/3.7",
          "all/Melbourne/3.7",
          "all/Merge: Regional Northern NSW/Southern Queensland + Merge: North Queensland + Central Queensland/3.7",
          "all/Merge: Regional Southern/Western NSW + Regional South Australia/3.7",
          "all/Merge: Regional Victoria + Tasmania/3.7",
          "all/Regional Western Australia/3.7",
          "all/2.3 GHz Band",
          "all/2.3 GHz Band Perth",
          "all/ACT and South Coast NSW",
          "all/Adelaide",
          "all/Adelaide Rim NE",
          "all/Adelaide Rim S",
          "all/Area 1",
          "all/Area 2",
          "all/Area 3",
          "all/Area 4",
          "all/Area 5",
          "all/Area 6",
          "all/Area 7",
          "all/Ballarat-Bendigo",
          "all/Brisbane",
          "all/Brisbane A",
          "all/Brisbane B",
          "all/Cairns",
          "all/Cameron Corner",
          "all/Canberra",
          "all/Canberra (including south coast of NSW)",
          "all/Canberra A",
          "all/Canberra B",
          "all/Central Australia",
          "all/Darwin",
          "all/Delamere",
          "all/Dubbo",
          "all/Geraldton/Kalgoorlie",
          "all/Gold Fields",
          "all/Hobart",
          "all/Kimberley",
          "all/Launceston",
          "all/Mackay",
          "all/Melbourne",
          "all/Merge: 2.3 GHz Band + 2.3 GHz Band",
          "all/Merge: 2.3 GHz Band + Merge: 2.3 GHz Band + 2.3 GHz Band",
          "all/Merge: 2.3 GHz Band Adelaide + 2.3 GHz Band",
          "all/Merge: Brisbane + Merge: Adelaide + Perth",
          "all/Merge: Merge: ma002 + ma003 + Merge: ma004 + ma037",
          "all/Merge: Merge: ma006 + ma009 + Merge: ma051 + Merge: ma007 + ma010",
          "all/Merge: Merge: ma008 + ma009 + Merge: Merge: ma005 + ma006 + Merge: ma007 + ma010",
          "all/Merge: Merge: ma010 + ma038 + Merge: ma051 + Merge: ma008 + ma009",
          "all/Merge: Merge: ma016 + ma018 + Merge: Merge: ma013 + ma014 + Merge: ma017 + Merge: ma015 + Merge: ma011 + ma012",
          "all/Merge: Merge: ma031 + Merge: ma027 + ma028 + Merge: ma033 + Merge: ma032 + Merge: ma029 + ma030",
          "all/Merge: Merge: ma034 + Merge: ma016 + ma018 + Merge: Merge: ma033 + Merge: ma030 + ma031 + Merge: ma035 + Merge: ma032 + Merge: ma017 + Merge: ma015 + Merge: ma014 + ma040",
          "all/Merge: Merge: ma036 + Merge: ma023 + ma039 + Merge: Merge: ma022 + ma046 + Merge: ma024 + Merge: ma020 + ma021",
          "all/Merge: North East and South Central NSW + Merge: South Queensland + North and Central Queensland",
          "all/Merge: Regional Northern NSW/Southern Queensland + Merge: North Queensland + Central Queensland",
          "all/Merge: Regional Southern/Western NSW + Regional South Australia",
          "all/Merge: Regional Victoria + Tasmania",
          "all/Merge: ma001 + ma002",
          "all/Merge: ma005 + ma008",
          "all/Merge: ma011 + ma018",
          "all/Merge: ma017 + Merge: ma015 + Merge: ma013 + Merge: ma012 + ma014",
          "all/Merge: ma019 + ma020",
          "all/Merge: ma025 + ma026",
          "all/Merge: ma028 + ma031",
          "all/Merge: ma029 + Merge: ma027 + ma030",
          "all/Merge: ma041 + ma053",
          "all/Merge: ma044 + Merge: ma026 + ma043",
          "all/Midwest RQZ",
          "all/NSW EAST",
          "all/National",
          "all/North Queensland (Cairns/Townsville)",
          "all/North Queensland (Cairns/Townsville) + Central Queensland (Mackay)",
          "all/Northern New South Wales (Grafton) + Western New South Wales (Dubbo)",
          "all/Outer ACT 1",
          "all/Outer ACT 2",
          "all/Outer ACT 3",
          "all/Perth",
          "all/Perth - lower/upper",
          "all/Reg_Remote_Aus",
          "all/Regional South Australia",
          "all/Regional South East Australia",
          "all/Regional Southern/Western NSW",
          "all/Regional Victoria",
          "all/Regional WA",
          "all/Regional Western Australia",
          "all/Rockhampton",
          "all/South Queensland (Maryborough)",
          "all/South Queensland (Maryborough) + Northern New South Wales (Grafton)",
          "all/Southern New South Wales/Riverina (Albury)",
          "all/Sydney",
          "all/Tasmania",
          "all/Telfer Mine",
          "all/Toowoomba",
          "all/Townsville",
          "all/Western New South Wales (Dubbo)",
          "all/Wodonga",
          "all/ma003",
          "all/ma004",
          "all/ma016",
          "all/ma021",
          "all/ma022",
          "all/ma023",
          "all/ma024",
          "all/ma032",
          "all/ma033",
          "all/ma034",
          "all/ma035",
          "all/ma036",
          "all/ma037",
          "all/ma038",
          "all/ma039",
          "all/ma040",
          "all/ma042",
          "all/ma043",
          "all/ma045",
          "all/ma046",
          "all/ma047",
          "all/ma048",
          "all/ma049",
          "all/ma050",
          "all/ma051",
          "all/ma052",
          "all"
         ],
         "labels": [
          "0.7",
          "0.7",
          "0.8",
          "0.8",
          "0.8",
          "0.8",
          "0.8",
          "0.8",
          "1.7",
          "1.7",
          "1.7",
          "1.7",
          "1.7",
          "1.7",
          "1.7",
          "1.7",
          "1.7",
          "1.7",
          "1.7",
          "1.7",
          "1.7",
          "1.7",
          "1.7",
          "1.8",
          "1.8",
          "1.8",
          "1.8",
          "1.8",
          "1.8",
          "1.8",
          "1.8",
          "1.8",
          "1.8",
          "1.8",
          "1.8",
          "1.8",
          "1.8",
          "1.8",
          "1.8",
          "1.8",
          "1.8",
          "1.8",
          "1.8",
          "1.8",
          "1.9",
          "1.9",
          "1.9",
          "1.9",
          "1.9",
          "1.9",
          "1.9",
          "1.9",
          "1.9",
          "1.9",
          "1.9",
          "2.0",
          "2.0",
          "2.0",
          "2.0",
          "2.0",
          "2.0",
          "2.0",
          "2.0",
          "2.0",
          "2.0",
          "2.3",
          "2.3",
          "2.3",
          "2.3",
          "2.3",
          "2.3",
          "2.3",
          "2.3",
          "2.3",
          "2.3",
          "2.3",
          "2.3",
          "2.3",
          "2.3",
          "2.3",
          "2.3",
          "2.3",
          "2.3",
          "2.4",
          "2.4",
          "2.4",
          "2.4",
          "2.4",
          "2.4",
          "2.4",
          "2.4",
          "2.5",
          "2.6",
          "2.6",
          "3.4",
          "3.4",
          "3.4",
          "3.4",
          "3.4",
          "3.4",
          "3.4",
          "3.4",
          "3.4",
          "3.4",
          "3.4",
          "3.4",
          "3.4",
          "3.5",
          "3.5",
          "3.5",
          "3.5",
          "3.5",
          "3.5",
          "3.5",
          "3.5",
          "3.5",
          "3.5",
          "3.5",
          "3.5",
          "3.5",
          "3.5",
          "3.5",
          "3.5",
          "3.5",
          "3.5",
          "3.5",
          "3.5",
          "3.5",
          "3.5",
          "3.5",
          "3.5",
          "3.5",
          "3.5",
          "3.5",
          "3.5",
          "3.5",
          "3.5",
          "3.5",
          "3.5",
          "3.5",
          "3.5",
          "3.5",
          "3.5",
          "3.5",
          "3.5",
          "3.5",
          "3.5",
          "3.5",
          "3.5",
          "3.5",
          "3.5",
          "3.5",
          "3.5",
          "3.5",
          "3.5",
          "3.5",
          "3.5",
          "3.5",
          "3.5",
          "3.5",
          "3.6",
          "3.6",
          "3.6",
          "3.6",
          "3.6",
          "3.6",
          "3.6",
          "3.6",
          "3.6",
          "3.6",
          "3.6",
          "3.6",
          "3.7",
          "3.7",
          "3.7",
          "3.7",
          "3.7",
          "3.7",
          "3.7",
          "2.3 GHz Band",
          "2.3 GHz Band Perth",
          "ACT and South Coast NSW",
          "Adelaide",
          "Adelaide Rim NE",
          "Adelaide Rim S",
          "Area 1",
          "Area 2",
          "Area 3",
          "Area 4",
          "Area 5",
          "Area 6",
          "Area 7",
          "Ballarat-Bendigo",
          "Brisbane",
          "Brisbane A",
          "Brisbane B",
          "Cairns",
          "Cameron Corner",
          "Canberra",
          "Canberra (including south coast of NSW)",
          "Canberra A",
          "Canberra B",
          "Central Australia",
          "Darwin",
          "Delamere",
          "Dubbo",
          "Geraldton/Kalgoorlie",
          "Gold Fields",
          "Hobart",
          "Kimberley",
          "Launceston",
          "Mackay",
          "Melbourne",
          "Merge: 2.3 GHz Band + 2.3 GHz Band",
          "Merge: 2.3 GHz Band + Merge: 2.3 GHz Band + 2.3 GHz Band",
          "Merge: 2.3 GHz Band Adelaide + 2.3 GHz Band",
          "Merge: Brisbane + Merge: Adelaide + Perth",
          "Merge: Merge: ma002 + ma003 + Merge: ma004 + ma037",
          "Merge: Merge: ma006 + ma009 + Merge: ma051 + Merge: ma007 + ma010",
          "Merge: Merge: ma008 + ma009 + Merge: Merge: ma005 + ma006 + Merge: ma007 + ma010",
          "Merge: Merge: ma010 + ma038 + Merge: ma051 + Merge: ma008 + ma009",
          "Merge: Merge: ma016 + ma018 + Merge: Merge: ma013 + ma014 + Merge: ma017 + Merge: ma015 + Merge: ma011 + ma012",
          "Merge: Merge: ma031 + Merge: ma027 + ma028 + Merge: ma033 + Merge: ma032 + Merge: ma029 + ma030",
          "Merge: Merge: ma034 + Merge: ma016 + ma018 + Merge: Merge: ma033 + Merge: ma030 + ma031 + Merge: ma035 + Merge: ma032 + Merge: ma017 + Merge: ma015 + Merge: ma014 + ma040",
          "Merge: Merge: ma036 + Merge: ma023 + ma039 + Merge: Merge: ma022 + ma046 + Merge: ma024 + Merge: ma020 + ma021",
          "Merge: North East and South Central NSW + Merge: South Queensland + North and Central Queensland",
          "Merge: Regional Northern NSW/Southern Queensland + Merge: North Queensland + Central Queensland",
          "Merge: Regional Southern/Western NSW + Regional South Australia",
          "Merge: Regional Victoria + Tasmania",
          "Merge: ma001 + ma002",
          "Merge: ma005 + ma008",
          "Merge: ma011 + ma018",
          "Merge: ma017 + Merge: ma015 + Merge: ma013 + Merge: ma012 + ma014",
          "Merge: ma019 + ma020",
          "Merge: ma025 + ma026",
          "Merge: ma028 + ma031",
          "Merge: ma029 + Merge: ma027 + ma030",
          "Merge: ma041 + ma053",
          "Merge: ma044 + Merge: ma026 + ma043",
          "Midwest RQZ",
          "NSW EAST",
          "National",
          "North Queensland (Cairns/Townsville)",
          "North Queensland (Cairns/Townsville) + Central Queensland (Mackay)",
          "Northern New South Wales (Grafton) + Western New South Wales (Dubbo)",
          "Outer ACT 1",
          "Outer ACT 2",
          "Outer ACT 3",
          "Perth",
          "Perth - lower/upper",
          "Reg_Remote_Aus",
          "Regional South Australia",
          "Regional South East Australia",
          "Regional Southern/Western NSW",
          "Regional Victoria",
          "Regional WA",
          "Regional Western Australia",
          "Rockhampton",
          "South Queensland (Maryborough)",
          "South Queensland (Maryborough) + Northern New South Wales (Grafton)",
          "Southern New South Wales/Riverina (Albury)",
          "Sydney",
          "Tasmania",
          "Telfer Mine",
          "Toowoomba",
          "Townsville",
          "Western New South Wales (Dubbo)",
          "Wodonga",
          "ma003",
          "ma004",
          "ma016",
          "ma021",
          "ma022",
          "ma023",
          "ma024",
          "ma032",
          "ma033",
          "ma034",
          "ma035",
          "ma036",
          "ma037",
          "ma038",
          "ma039",
          "ma040",
          "ma042",
          "ma043",
          "ma045",
          "ma046",
          "ma047",
          "ma048",
          "ma049",
          "ma050",
          "ma051",
          "ma052",
          "all"
         ],
         "name": "",
         "parents": [
          "all/Area 1",
          "all/National",
          "all/Adelaide",
          "all/Brisbane",
          "all/Melbourne",
          "all/Perth",
          "all/Reg_Remote_Aus",
          "all/Sydney",
          "all/ACT and South Coast NSW",
          "all/Adelaide",
          "all/Brisbane",
          "all/Canberra",
          "all/Canberra (including south coast of NSW)",
          "all/Darwin",
          "all/Melbourne",
          "all/Merge: Brisbane + Merge: Adelaide + Perth",
          "all/Merge: North East and South Central NSW + Merge: South Queensland + North and Central Queensland",
          "all/Perth",
          "all/Regional South Australia",
          "all/Regional Victoria",
          "all/Regional Western Australia",
          "all/Sydney",
          "all/Tasmania",
          "all/Adelaide",
          "all/Brisbane",
          "all/Canberra (including south coast of NSW)",
          "all/Darwin",
          "all/Dubbo",
          "all/Mackay",
          "all/Melbourne",
          "all/North Queensland (Cairns/Townsville)",
          "all/North Queensland (Cairns/Townsville) + Central Queensland (Mackay)",
          "all/Northern New South Wales (Grafton) + Western New South Wales (Dubbo)",
          "all/Perth",
          "all/Regional South Australia",
          "all/Regional Victoria",
          "all/Regional WA",
          "all/Regional Western Australia",
          "all/South Queensland (Maryborough)",
          "all/South Queensland (Maryborough) + Northern New South Wales (Grafton)",
          "all/Southern New South Wales/Riverina (Albury)",
          "all/Sydney",
          "all/Tasmania",
          "all/Western New South Wales (Dubbo)",
          "all/Adelaide",
          "all/Brisbane",
          "all/Brisbane A",
          "all/Canberra",
          "all/Canberra A",
          "all/Canberra B",
          "all/Darwin",
          "all/Hobart",
          "all/Melbourne",
          "all/Perth",
          "all/Sydney",
          "all/Adelaide",
          "all/Brisbane",
          "all/Canberra",
          "all/Darwin",
          "all/Hobart",
          "all/Melbourne",
          "all/Perth",
          "all/Regional South East Australia",
          "all/Regional Western Australia",
          "all/Sydney",
          "all/2.3 GHz Band",
          "all/Area 1",
          "all/Area 2",
          "all/Area 3",
          "all/Area 4",
          "all/Area 5",
          "all/Area 6",
          "all/Area 7",
          "all/Central Australia",
          "all/Delamere",
          "all/Gold Fields",
          "all/Merge: 2.3 GHz Band + 2.3 GHz Band",
          "all/Merge: 2.3 GHz Band + Merge: 2.3 GHz Band + 2.3 GHz Band",
          "all/Midwest RQZ",
          "all/Outer ACT 1",
          "all/Outer ACT 2",
          "all/Outer ACT 3",
          "all/Telfer Mine",
          "all/2.3 GHz Band",
          "all/2.3 GHz Band Perth",
          "all/Cameron Corner",
          "all/Geraldton/Kalgoorlie",
          "all/Kimberley",
          "all/Melbourne",
          "all/Merge: 2.3 GHz Band Adelaide + 2.3 GHz Band",
          "all/NSW EAST",
          "all/Area 1",
          "all/Area 1",
          "all/National",
          "all/Merge: Merge: ma002 + ma003 + Merge: ma004 + ma037",
          "all/Merge: Merge: ma010 + ma038 + Merge: ma051 + Merge: ma008 + ma009",
          "all/Merge: Merge: ma034 + Merge: ma016 + ma018 + Merge: Merge: ma033 + Merge: ma030 + ma031 + Merge: ma035 + Merge: ma032 + Merge: ma017 + Merge: ma015 + Merge: ma014 + ma040",
          "all/Merge: Merge: ma036 + Merge: ma023 + ma039 + Merge: Merge: ma022 + ma046 + Merge: ma024 + Merge: ma020 + ma021",
          "all/Merge: ma041 + ma053",
          "all/Merge: ma044 + Merge: ma026 + ma043",
          "all/ma042",
          "all/ma045",
          "all/ma047",
          "all/ma048",
          "all/ma049",
          "all/ma050",
          "all/ma052",
          "all/Adelaide",
          "all/Adelaide Rim NE",
          "all/Adelaide Rim S",
          "all/Ballarat-Bendigo",
          "all/Brisbane B",
          "all/Cairns",
          "all/Canberra",
          "all/Canberra A",
          "all/Hobart",
          "all/Launceston",
          "all/Merge: Merge: ma006 + ma009 + Merge: ma051 + Merge: ma007 + ma010",
          "all/Merge: Merge: ma008 + ma009 + Merge: Merge: ma005 + ma006 + Merge: ma007 + ma010",
          "all/Merge: Merge: ma016 + ma018 + Merge: Merge: ma013 + ma014 + Merge: ma017 + Merge: ma015 + Merge: ma011 + ma012",
          "all/Merge: ma001 + ma002",
          "all/Merge: ma005 + ma008",
          "all/Merge: ma011 + ma018",
          "all/Merge: ma017 + Merge: ma015 + Merge: ma013 + Merge: ma012 + ma014",
          "all/Merge: ma019 + ma020",
          "all/Merge: ma025 + ma026",
          "all/Merge: ma028 + ma031",
          "all/Merge: ma029 + Merge: ma027 + ma030",
          "all/Merge: ma041 + ma053",
          "all/Perth",
          "all/Rockhampton",
          "all/Toowoomba",
          "all/Townsville",
          "all/Wodonga",
          "all/ma003",
          "all/ma004",
          "all/ma016",
          "all/ma021",
          "all/ma022",
          "all/ma023",
          "all/ma024",
          "all/ma032",
          "all/ma033",
          "all/ma034",
          "all/ma035",
          "all/ma036",
          "all/ma037",
          "all/ma038",
          "all/ma039",
          "all/ma040",
          "all/ma042",
          "all/ma043",
          "all/ma045",
          "all/ma046",
          "all/ma047",
          "all/ma048",
          "all/ma049",
          "all/ma050",
          "all/ma051",
          "all/ma052",
          "all/Adelaide",
          "all/Brisbane",
          "all/Canberra",
          "all/Melbourne",
          "all/Merge: Merge: ma031 + Merge: ma027 + ma028 + Merge: ma033 + Merge: ma032 + Merge: ma029 + ma030",
          "all/Merge: Regional Northern NSW/Southern Queensland + Merge: North Queensland + Central Queensland",
          "all/Merge: Regional Victoria + Tasmania",
          "all/Perth - lower/upper",
          "all/Regional South Australia",
          "all/Regional Southern/Western NSW",
          "all/Regional Western Australia",
          "all/Sydney",
          "all/Adelaide",
          "all/Brisbane",
          "all/Melbourne",
          "all/Merge: Regional Northern NSW/Southern Queensland + Merge: North Queensland + Central Queensland",
          "all/Merge: Regional Southern/Western NSW + Regional South Australia",
          "all/Merge: Regional Victoria + Tasmania",
          "all/Regional Western Australia",
          "all",
          "all",
          "all",
          "all",
          "all",
          "all",
          "all",
          "all",
          "all",
          "all",
          "all",
          "all",
          "all",
          "all",
          "all",
          "all",
          "all",
          "all",
          "all",
          "all",
          "all",
          "all",
          "all",
          "all",
          "all",
          "all",
          "all",
          "all",
          "all",
          "all",
          "all",
          "all",
          "all",
          "all",
          "all",
          "all",
          "all",
          "all",
          "all",
          "all",
          "all",
          "all",
          "all",
          "all",
          "all",
          "all",
          "all",
          "all",
          "all",
          "all",
          "all",
          "all",
          "all",
          "all",
          "all",
          "all",
          "all",
          "all",
          "all",
          "all",
          "all",
          "all",
          "all",
          "all",
          "all",
          "all",
          "all",
          "all",
          "all",
          "all",
          "all",
          "all",
          "all",
          "all",
          "all",
          "all",
          "all",
          "all",
          "all",
          "all",
          "all",
          "all",
          "all",
          "all",
          "all",
          "all",
          "all",
          "all",
          "all",
          "all",
          "all",
          "all",
          "all",
          "all",
          "all",
          "all",
          "all",
          "all",
          "all",
          "all",
          "all",
          "all",
          "all",
          "all",
          "all",
          "all",
          "all",
          "all",
          "all",
          "all",
          "all",
          "all",
          "all",
          "all",
          "all",
          ""
         ],
         "root": {
          "color": "lightgrey"
         },
         "type": "treemap",
         "values": [
          60,
          30,
          40,
          40,
          40,
          40,
          40,
          40,
          40,
          70,
          70,
          10,
          30,
          80,
          90,
          20,
          80,
          70,
          80,
          90,
          80,
          90,
          80,
          60,
          60,
          70,
          70,
          10,
          20,
          60,
          20,
          50,
          50,
          60,
          70,
          60,
          10,
          60,
          50,
          20,
          70,
          60,
          70,
          10,
          80,
          70,
          10,
          50,
          10,
          20,
          80,
          80,
          80,
          80,
          80,
          40,
          40,
          40,
          40,
          40,
          40,
          40,
          40,
          40,
          40,
          0,
          0,
          0,
          0,
          0,
          0,
          0,
          0,
          0,
          0,
          0,
          0,
          0,
          0,
          0,
          0,
          0,
          0,
          0,
          0,
          0,
          0,
          0,
          0,
          0,
          0,
          200,
          80,
          0,
          0,
          0,
          0,
          0,
          0,
          0,
          0,
          0,
          0,
          0,
          0,
          0,
          0,
          0,
          0,
          0,
          0,
          0,
          0,
          0,
          0,
          0,
          0,
          0,
          0,
          0,
          0,
          0,
          0,
          0,
          0,
          0,
          0,
          0,
          0,
          0,
          0,
          0,
          0,
          0,
          0,
          0,
          0,
          0,
          0,
          0,
          0,
          0,
          0,
          0,
          0,
          0,
          0,
          0,
          0,
          0,
          0,
          0,
          0,
          0,
          0,
          0,
          0,
          0,
          0,
          0,
          0,
          0,
          0,
          0,
          0,
          0,
          0,
          0,
          0,
          0,
          0,
          0,
          0,
          0,
          0,
          0,
          0,
          0,
          0,
          0,
          0,
          40,
          290,
          0,
          0,
          340,
          0,
          0,
          0,
          0,
          0,
          0,
          0,
          280,
          10,
          0,
          0,
          0,
          100,
          100,
          10,
          20,
          0,
          270,
          0,
          10,
          0,
          0,
          120,
          0,
          0,
          20,
          310,
          0,
          0,
          0,
          20,
          0,
          0,
          0,
          0,
          0,
          0,
          0,
          0,
          80,
          0,
          0,
          0,
          0,
          0,
          0,
          0,
          0,
          0,
          0,
          0,
          0,
          0,
          0,
          0,
          30,
          20,
          50,
          50,
          0,
          0,
          0,
          290,
          0,
          40,
          150,
          40,
          0,
          150,
          10,
          180,
          0,
          50,
          20,
          70,
          310,
          150,
          0,
          0,
          0,
          10,
          0,
          0,
          0,
          0,
          0,
          0,
          0,
          0,
          0,
          0,
          0,
          0,
          0,
          0,
          0,
          0,
          0,
          0,
          0,
          0,
          0,
          0,
          0,
          0,
          0,
          0,
          0,
          3640
         ]
        }
       ],
       "layout": {
        "legend": {
         "tracegroupgap": 0
        },
        "margin": {
         "b": 25,
         "l": 25,
         "r": 25,
         "t": 50
        },
        "template": {
         "data": {
          "bar": [
           {
            "error_x": {
             "color": "#2a3f5f"
            },
            "error_y": {
             "color": "#2a3f5f"
            },
            "marker": {
             "line": {
              "color": "#E5ECF6",
              "width": 0.5
             },
             "pattern": {
              "fillmode": "overlay",
              "size": 10,
              "solidity": 0.2
             }
            },
            "type": "bar"
           }
          ],
          "barpolar": [
           {
            "marker": {
             "line": {
              "color": "#E5ECF6",
              "width": 0.5
             },
             "pattern": {
              "fillmode": "overlay",
              "size": 10,
              "solidity": 0.2
             }
            },
            "type": "barpolar"
           }
          ],
          "carpet": [
           {
            "aaxis": {
             "endlinecolor": "#2a3f5f",
             "gridcolor": "white",
             "linecolor": "white",
             "minorgridcolor": "white",
             "startlinecolor": "#2a3f5f"
            },
            "baxis": {
             "endlinecolor": "#2a3f5f",
             "gridcolor": "white",
             "linecolor": "white",
             "minorgridcolor": "white",
             "startlinecolor": "#2a3f5f"
            },
            "type": "carpet"
           }
          ],
          "choropleth": [
           {
            "colorbar": {
             "outlinewidth": 0,
             "ticks": ""
            },
            "type": "choropleth"
           }
          ],
          "contour": [
           {
            "colorbar": {
             "outlinewidth": 0,
             "ticks": ""
            },
            "colorscale": [
             [
              0,
              "#0d0887"
             ],
             [
              0.1111111111111111,
              "#46039f"
             ],
             [
              0.2222222222222222,
              "#7201a8"
             ],
             [
              0.3333333333333333,
              "#9c179e"
             ],
             [
              0.4444444444444444,
              "#bd3786"
             ],
             [
              0.5555555555555556,
              "#d8576b"
             ],
             [
              0.6666666666666666,
              "#ed7953"
             ],
             [
              0.7777777777777778,
              "#fb9f3a"
             ],
             [
              0.8888888888888888,
              "#fdca26"
             ],
             [
              1,
              "#f0f921"
             ]
            ],
            "type": "contour"
           }
          ],
          "contourcarpet": [
           {
            "colorbar": {
             "outlinewidth": 0,
             "ticks": ""
            },
            "type": "contourcarpet"
           }
          ],
          "heatmap": [
           {
            "colorbar": {
             "outlinewidth": 0,
             "ticks": ""
            },
            "colorscale": [
             [
              0,
              "#0d0887"
             ],
             [
              0.1111111111111111,
              "#46039f"
             ],
             [
              0.2222222222222222,
              "#7201a8"
             ],
             [
              0.3333333333333333,
              "#9c179e"
             ],
             [
              0.4444444444444444,
              "#bd3786"
             ],
             [
              0.5555555555555556,
              "#d8576b"
             ],
             [
              0.6666666666666666,
              "#ed7953"
             ],
             [
              0.7777777777777778,
              "#fb9f3a"
             ],
             [
              0.8888888888888888,
              "#fdca26"
             ],
             [
              1,
              "#f0f921"
             ]
            ],
            "type": "heatmap"
           }
          ],
          "heatmapgl": [
           {
            "colorbar": {
             "outlinewidth": 0,
             "ticks": ""
            },
            "colorscale": [
             [
              0,
              "#0d0887"
             ],
             [
              0.1111111111111111,
              "#46039f"
             ],
             [
              0.2222222222222222,
              "#7201a8"
             ],
             [
              0.3333333333333333,
              "#9c179e"
             ],
             [
              0.4444444444444444,
              "#bd3786"
             ],
             [
              0.5555555555555556,
              "#d8576b"
             ],
             [
              0.6666666666666666,
              "#ed7953"
             ],
             [
              0.7777777777777778,
              "#fb9f3a"
             ],
             [
              0.8888888888888888,
              "#fdca26"
             ],
             [
              1,
              "#f0f921"
             ]
            ],
            "type": "heatmapgl"
           }
          ],
          "histogram": [
           {
            "marker": {
             "pattern": {
              "fillmode": "overlay",
              "size": 10,
              "solidity": 0.2
             }
            },
            "type": "histogram"
           }
          ],
          "histogram2d": [
           {
            "colorbar": {
             "outlinewidth": 0,
             "ticks": ""
            },
            "colorscale": [
             [
              0,
              "#0d0887"
             ],
             [
              0.1111111111111111,
              "#46039f"
             ],
             [
              0.2222222222222222,
              "#7201a8"
             ],
             [
              0.3333333333333333,
              "#9c179e"
             ],
             [
              0.4444444444444444,
              "#bd3786"
             ],
             [
              0.5555555555555556,
              "#d8576b"
             ],
             [
              0.6666666666666666,
              "#ed7953"
             ],
             [
              0.7777777777777778,
              "#fb9f3a"
             ],
             [
              0.8888888888888888,
              "#fdca26"
             ],
             [
              1,
              "#f0f921"
             ]
            ],
            "type": "histogram2d"
           }
          ],
          "histogram2dcontour": [
           {
            "colorbar": {
             "outlinewidth": 0,
             "ticks": ""
            },
            "colorscale": [
             [
              0,
              "#0d0887"
             ],
             [
              0.1111111111111111,
              "#46039f"
             ],
             [
              0.2222222222222222,
              "#7201a8"
             ],
             [
              0.3333333333333333,
              "#9c179e"
             ],
             [
              0.4444444444444444,
              "#bd3786"
             ],
             [
              0.5555555555555556,
              "#d8576b"
             ],
             [
              0.6666666666666666,
              "#ed7953"
             ],
             [
              0.7777777777777778,
              "#fb9f3a"
             ],
             [
              0.8888888888888888,
              "#fdca26"
             ],
             [
              1,
              "#f0f921"
             ]
            ],
            "type": "histogram2dcontour"
           }
          ],
          "mesh3d": [
           {
            "colorbar": {
             "outlinewidth": 0,
             "ticks": ""
            },
            "type": "mesh3d"
           }
          ],
          "parcoords": [
           {
            "line": {
             "colorbar": {
              "outlinewidth": 0,
              "ticks": ""
             }
            },
            "type": "parcoords"
           }
          ],
          "pie": [
           {
            "automargin": true,
            "type": "pie"
           }
          ],
          "scatter": [
           {
            "marker": {
             "colorbar": {
              "outlinewidth": 0,
              "ticks": ""
             }
            },
            "type": "scatter"
           }
          ],
          "scatter3d": [
           {
            "line": {
             "colorbar": {
              "outlinewidth": 0,
              "ticks": ""
             }
            },
            "marker": {
             "colorbar": {
              "outlinewidth": 0,
              "ticks": ""
             }
            },
            "type": "scatter3d"
           }
          ],
          "scattercarpet": [
           {
            "marker": {
             "colorbar": {
              "outlinewidth": 0,
              "ticks": ""
             }
            },
            "type": "scattercarpet"
           }
          ],
          "scattergeo": [
           {
            "marker": {
             "colorbar": {
              "outlinewidth": 0,
              "ticks": ""
             }
            },
            "type": "scattergeo"
           }
          ],
          "scattergl": [
           {
            "marker": {
             "colorbar": {
              "outlinewidth": 0,
              "ticks": ""
             }
            },
            "type": "scattergl"
           }
          ],
          "scattermapbox": [
           {
            "marker": {
             "colorbar": {
              "outlinewidth": 0,
              "ticks": ""
             }
            },
            "type": "scattermapbox"
           }
          ],
          "scatterpolar": [
           {
            "marker": {
             "colorbar": {
              "outlinewidth": 0,
              "ticks": ""
             }
            },
            "type": "scatterpolar"
           }
          ],
          "scatterpolargl": [
           {
            "marker": {
             "colorbar": {
              "outlinewidth": 0,
              "ticks": ""
             }
            },
            "type": "scatterpolargl"
           }
          ],
          "scatterternary": [
           {
            "marker": {
             "colorbar": {
              "outlinewidth": 0,
              "ticks": ""
             }
            },
            "type": "scatterternary"
           }
          ],
          "surface": [
           {
            "colorbar": {
             "outlinewidth": 0,
             "ticks": ""
            },
            "colorscale": [
             [
              0,
              "#0d0887"
             ],
             [
              0.1111111111111111,
              "#46039f"
             ],
             [
              0.2222222222222222,
              "#7201a8"
             ],
             [
              0.3333333333333333,
              "#9c179e"
             ],
             [
              0.4444444444444444,
              "#bd3786"
             ],
             [
              0.5555555555555556,
              "#d8576b"
             ],
             [
              0.6666666666666666,
              "#ed7953"
             ],
             [
              0.7777777777777778,
              "#fb9f3a"
             ],
             [
              0.8888888888888888,
              "#fdca26"
             ],
             [
              1,
              "#f0f921"
             ]
            ],
            "type": "surface"
           }
          ],
          "table": [
           {
            "cells": {
             "fill": {
              "color": "#EBF0F8"
             },
             "line": {
              "color": "white"
             }
            },
            "header": {
             "fill": {
              "color": "#C8D4E3"
             },
             "line": {
              "color": "white"
             }
            },
            "type": "table"
           }
          ]
         },
         "layout": {
          "annotationdefaults": {
           "arrowcolor": "#2a3f5f",
           "arrowhead": 0,
           "arrowwidth": 1
          },
          "autotypenumbers": "strict",
          "coloraxis": {
           "colorbar": {
            "outlinewidth": 0,
            "ticks": ""
           }
          },
          "colorscale": {
           "diverging": [
            [
             0,
             "#8e0152"
            ],
            [
             0.1,
             "#c51b7d"
            ],
            [
             0.2,
             "#de77ae"
            ],
            [
             0.3,
             "#f1b6da"
            ],
            [
             0.4,
             "#fde0ef"
            ],
            [
             0.5,
             "#f7f7f7"
            ],
            [
             0.6,
             "#e6f5d0"
            ],
            [
             0.7,
             "#b8e186"
            ],
            [
             0.8,
             "#7fbc41"
            ],
            [
             0.9,
             "#4d9221"
            ],
            [
             1,
             "#276419"
            ]
           ],
           "sequential": [
            [
             0,
             "#0d0887"
            ],
            [
             0.1111111111111111,
             "#46039f"
            ],
            [
             0.2222222222222222,
             "#7201a8"
            ],
            [
             0.3333333333333333,
             "#9c179e"
            ],
            [
             0.4444444444444444,
             "#bd3786"
            ],
            [
             0.5555555555555556,
             "#d8576b"
            ],
            [
             0.6666666666666666,
             "#ed7953"
            ],
            [
             0.7777777777777778,
             "#fb9f3a"
            ],
            [
             0.8888888888888888,
             "#fdca26"
            ],
            [
             1,
             "#f0f921"
            ]
           ],
           "sequentialminus": [
            [
             0,
             "#0d0887"
            ],
            [
             0.1111111111111111,
             "#46039f"
            ],
            [
             0.2222222222222222,
             "#7201a8"
            ],
            [
             0.3333333333333333,
             "#9c179e"
            ],
            [
             0.4444444444444444,
             "#bd3786"
            ],
            [
             0.5555555555555556,
             "#d8576b"
            ],
            [
             0.6666666666666666,
             "#ed7953"
            ],
            [
             0.7777777777777778,
             "#fb9f3a"
            ],
            [
             0.8888888888888888,
             "#fdca26"
            ],
            [
             1,
             "#f0f921"
            ]
           ]
          },
          "colorway": [
           "#636efa",
           "#EF553B",
           "#00cc96",
           "#ab63fa",
           "#FFA15A",
           "#19d3f3",
           "#FF6692",
           "#B6E880",
           "#FF97FF",
           "#FECB52"
          ],
          "font": {
           "color": "#2a3f5f"
          },
          "geo": {
           "bgcolor": "white",
           "lakecolor": "white",
           "landcolor": "#E5ECF6",
           "showlakes": true,
           "showland": true,
           "subunitcolor": "white"
          },
          "hoverlabel": {
           "align": "left"
          },
          "hovermode": "closest",
          "mapbox": {
           "style": "light"
          },
          "paper_bgcolor": "white",
          "plot_bgcolor": "#E5ECF6",
          "polar": {
           "angularaxis": {
            "gridcolor": "white",
            "linecolor": "white",
            "ticks": ""
           },
           "bgcolor": "#E5ECF6",
           "radialaxis": {
            "gridcolor": "white",
            "linecolor": "white",
            "ticks": ""
           }
          },
          "scene": {
           "xaxis": {
            "backgroundcolor": "#E5ECF6",
            "gridcolor": "white",
            "gridwidth": 2,
            "linecolor": "white",
            "showbackground": true,
            "ticks": "",
            "zerolinecolor": "white"
           },
           "yaxis": {
            "backgroundcolor": "#E5ECF6",
            "gridcolor": "white",
            "gridwidth": 2,
            "linecolor": "white",
            "showbackground": true,
            "ticks": "",
            "zerolinecolor": "white"
           },
           "zaxis": {
            "backgroundcolor": "#E5ECF6",
            "gridcolor": "white",
            "gridwidth": 2,
            "linecolor": "white",
            "showbackground": true,
            "ticks": "",
            "zerolinecolor": "white"
           }
          },
          "shapedefaults": {
           "line": {
            "color": "#2a3f5f"
           }
          },
          "ternary": {
           "aaxis": {
            "gridcolor": "white",
            "linecolor": "white",
            "ticks": ""
           },
           "baxis": {
            "gridcolor": "white",
            "linecolor": "white",
            "ticks": ""
           },
           "bgcolor": "#E5ECF6",
           "caxis": {
            "gridcolor": "white",
            "linecolor": "white",
            "ticks": ""
           }
          },
          "title": {
           "x": 0.05
          },
          "xaxis": {
           "automargin": true,
           "gridcolor": "white",
           "linecolor": "white",
           "ticks": "",
           "title": {
            "standoff": 15
           },
           "zerolinecolor": "white",
           "zerolinewidth": 2
          },
          "yaxis": {
           "automargin": true,
           "gridcolor": "white",
           "linecolor": "white",
           "ticks": "",
           "title": {
            "standoff": 15
           },
           "zerolinecolor": "white",
           "zerolinewidth": 2
          }
         }
        }
       }
      }
     },
     "metadata": {},
     "output_type": "display_data"
    }
   ],
   "source": [
    "import plotly.express as px\n",
    "\n",
    "fig = px.treemap(specFreq, path=[px.Constant('all'), 'AREA_NAME', 'BAND'], values='USAGE')\n",
    "fig.update_traces(root_color=\"lightgrey\")\n",
    "fig.update_layout(margin = dict(t=50, l=25, r=25, b=25))\n",
    "fig.write_html('treemap.html')\n",
    "fig.show()"
   ]
  },
  {
   "cell_type": "code",
   "execution_count": null,
   "metadata": {},
   "outputs": [],
   "source": []
  }
 ],
 "metadata": {
  "interpreter": {
   "hash": "cca67527604eeadd1b822e163783aa5673f145238baf20e2ba20176c0e708a3a"
  },
  "kernelspec": {
   "display_name": "Python 3.10.2 64-bit",
   "language": "python",
   "name": "python3"
  },
  "language_info": {
   "codemirror_mode": {
    "name": "ipython",
    "version": 3
   },
   "file_extension": ".py",
   "mimetype": "text/x-python",
   "name": "python",
   "nbconvert_exporter": "python",
   "pygments_lexer": "ipython3",
   "version": "3.10.2"
  },
  "orig_nbformat": 4
 },
 "nbformat": 4,
 "nbformat_minor": 2
}
